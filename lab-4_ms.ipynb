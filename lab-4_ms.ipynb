{
 "cells": [
  {
   "cell_type": "markdown",
   "metadata": {
    "collapsed": false
   },
   "source": [
    "\n",
    "# Лабораторная работа 4\n",
    "\n",
    "## Выполнил: Морозов Алексей, М32071\n",
    "\n",
    "## Вариант: 9, задание: 5\n"
   ]
  },
  {
   "cell_type": "code",
   "execution_count": 56,
   "metadata": {
    "ExecuteTime": {
     "end_time": "2023-05-06T22:43:11.598332Z",
     "start_time": "2023-05-06T22:43:11.255067Z"
    },
    "collapsed": false
   },
   "outputs": [],
   "source": [
    "import numpy as np\n",
    "import scipy as scp\n",
    "import matplotlib as mlt\n",
    "import matplotlib.pyplot as plt\n",
    "import pandas as pd\n",
    "\n",
    "import matplotlib.axes._axes as axes\n",
    "import matplotlib.figure as figure"
   ]
  },
  {
   "cell_type": "markdown",
   "metadata": {
    "collapsed": false
   },
   "source": [
    "В файле $MEN\\_SHOES.csv$ приведены данные о продажах мужской обуви. Для каждого вопроса требуется формализовать задачу и проверить статистическую гипотезу двумя критериями, если не сказано иное"
   ]
  },
  {
   "cell_type": "code",
   "execution_count": 57,
   "metadata": {
    "ExecuteTime": {
     "end_time": "2023-05-06T22:43:11.754650Z",
     "start_time": "2023-05-06T22:43:11.268005Z"
    },
    "collapsed": false
   },
   "outputs": [
    {
     "data": {
      "text/html": [
       "<div>\n",
       "<style scoped>\n",
       "    .dataframe tbody tr th:only-of-type {\n",
       "        vertical-align: middle;\n",
       "    }\n",
       "\n",
       "    .dataframe tbody tr th {\n",
       "        vertical-align: top;\n",
       "    }\n",
       "\n",
       "    .dataframe thead th {\n",
       "        text-align: right;\n",
       "    }\n",
       "</style>\n",
       "<table border=\"1\" class=\"dataframe\">\n",
       "  <thead>\n",
       "    <tr style=\"text-align: right;\">\n",
       "      <th></th>\n",
       "      <th>Brand_Name</th>\n",
       "      <th>How_Many_Sold</th>\n",
       "      <th>Current_Price</th>\n",
       "      <th>Product_details</th>\n",
       "      <th>RATING</th>\n",
       "    </tr>\n",
       "  </thead>\n",
       "  <tbody>\n",
       "    <tr>\n",
       "      <th>0</th>\n",
       "      <td>ASIAN</td>\n",
       "      <td>2242</td>\n",
       "      <td>1098.0</td>\n",
       "      <td>Oxygen-01 Sports Running,Walking &amp; Gym Shoes w...</td>\n",
       "      <td>3.8</td>\n",
       "    </tr>\n",
       "    <tr>\n",
       "      <th>1</th>\n",
       "      <td>ASIAN</td>\n",
       "      <td>240</td>\n",
       "      <td>674.0</td>\n",
       "      <td>Men's Express-08 Sports Running,Walking,Gym,Tr...</td>\n",
       "      <td>4.0</td>\n",
       "    </tr>\n",
       "    <tr>\n",
       "      <th>2</th>\n",
       "      <td>ASIAN</td>\n",
       "      <td>16662</td>\n",
       "      <td>588.0</td>\n",
       "      <td>Men's Cosko Sports Running,Walking,Gym,Trainin...</td>\n",
       "      <td>3.8</td>\n",
       "    </tr>\n",
       "    <tr>\n",
       "      <th>3</th>\n",
       "      <td>ASIAN</td>\n",
       "      <td>135</td>\n",
       "      <td>599.0</td>\n",
       "      <td>Wind-03 Sports Running,Walking &amp; Gym Shoes wit...</td>\n",
       "      <td>4.0</td>\n",
       "    </tr>\n",
       "    <tr>\n",
       "      <th>4</th>\n",
       "      <td>Reebok</td>\n",
       "      <td>240</td>\n",
       "      <td>982.0</td>\n",
       "      <td>Men's Velocity Runner Lp Running Shoe</td>\n",
       "      <td>4.0</td>\n",
       "    </tr>\n",
       "    <tr>\n",
       "      <th>...</th>\n",
       "      <td>...</td>\n",
       "      <td>...</td>\n",
       "      <td>...</td>\n",
       "      <td>...</td>\n",
       "      <td>...</td>\n",
       "    </tr>\n",
       "    <tr>\n",
       "      <th>23935</th>\n",
       "      <td>Campus</td>\n",
       "      <td>198</td>\n",
       "      <td>623.0</td>\n",
       "      <td>Men's HARVEL PRO Running Shoes</td>\n",
       "      <td>4.0</td>\n",
       "    </tr>\n",
       "    <tr>\n",
       "      <th>23936</th>\n",
       "      <td>Wakefield</td>\n",
       "      <td>49</td>\n",
       "      <td>399.0</td>\n",
       "      <td>Stylish Running Sports Shoes for MEN-2010</td>\n",
       "      <td>3.4</td>\n",
       "    </tr>\n",
       "    <tr>\n",
       "      <th>23937</th>\n",
       "      <td>URJO</td>\n",
       "      <td>557</td>\n",
       "      <td>839.0</td>\n",
       "      <td>Mens Running Shoes</td>\n",
       "      <td>4.2</td>\n",
       "    </tr>\n",
       "    <tr>\n",
       "      <th>23938</th>\n",
       "      <td>FEETEES</td>\n",
       "      <td>63</td>\n",
       "      <td>349.0</td>\n",
       "      <td>Nexon Men's Casual Eva Socks Knitted Running S...</td>\n",
       "      <td>3.6</td>\n",
       "    </tr>\n",
       "    <tr>\n",
       "      <th>23939</th>\n",
       "      <td>FURO</td>\n",
       "      <td>2</td>\n",
       "      <td>1299.0</td>\n",
       "      <td>Low Ankle Running Sports Shoes for Men (O-5033)</td>\n",
       "      <td>3.0</td>\n",
       "    </tr>\n",
       "  </tbody>\n",
       "</table>\n",
       "<p>23940 rows × 5 columns</p>\n",
       "</div>"
      ],
      "text/plain": [
       "      Brand_Name  How_Many_Sold  Current_Price  \\\n",
       "0          ASIAN           2242         1098.0   \n",
       "1          ASIAN            240          674.0   \n",
       "2          ASIAN          16662          588.0   \n",
       "3          ASIAN            135          599.0   \n",
       "4         Reebok            240          982.0   \n",
       "...          ...            ...            ...   \n",
       "23935     Campus            198          623.0   \n",
       "23936  Wakefield             49          399.0   \n",
       "23937       URJO            557          839.0   \n",
       "23938    FEETEES             63          349.0   \n",
       "23939       FURO              2         1299.0   \n",
       "\n",
       "                                         Product_details  RATING  \n",
       "0      Oxygen-01 Sports Running,Walking & Gym Shoes w...     3.8  \n",
       "1      Men's Express-08 Sports Running,Walking,Gym,Tr...     4.0  \n",
       "2      Men's Cosko Sports Running,Walking,Gym,Trainin...     3.8  \n",
       "3      Wind-03 Sports Running,Walking & Gym Shoes wit...     4.0  \n",
       "4                Men's Velocity Runner Lp Running Shoe       4.0  \n",
       "...                                                  ...     ...  \n",
       "23935                   Men's HARVEL PRO Running Shoes       4.0  \n",
       "23936        Stylish Running Sports Shoes for MEN-2010       3.4  \n",
       "23937                               Mens Running Shoes       4.2  \n",
       "23938  Nexon Men's Casual Eva Socks Knitted Running S...     3.6  \n",
       "23939  Low Ankle Running Sports Shoes for Men (O-5033)       3.0  \n",
       "\n",
       "[23940 rows x 5 columns]"
      ]
     },
     "execution_count": 57,
     "metadata": {},
     "output_type": "execute_result"
    }
   ],
   "source": [
    "data = pd.read_csv('MEN_SHOES.csv', thousands=',')\n",
    "data['Current_Price'] = data['Current_Price'].str.replace('₹', '', regex=True).replace(',', '', regex=True).astype(float)\n",
    "count = len(data)\n",
    "data"
   ]
  },
  {
   "cell_type": "markdown",
   "metadata": {
    "collapsed": false
   },
   "source": [
    "Для проверки гипотез буду использовать уровень значимости $\\alpha = 0.05$"
   ]
  },
  {
   "cell_type": "code",
   "execution_count": 58,
   "metadata": {
    "ExecuteTime": {
     "end_time": "2023-05-06T22:43:11.754650Z",
     "start_time": "2023-05-06T22:43:11.386104Z"
    },
    "collapsed": false
   },
   "outputs": [],
   "source": [
    "alpha = 0.05"
   ]
  },
  {
   "cell_type": "markdown",
   "metadata": {
    "collapsed": false
   },
   "source": [
    "\n",
    "##  Задача 1\n",
    "\n",
    "### Условие\n",
    "\n",
    "Разумно ли количество проданных экземпляров обуви аппроксимировать распределением Пуассона, а рейтинг – нормальным распределением (по 1 тесту на каждый вопрос)?\n"
   ]
  },
  {
   "cell_type": "markdown",
   "metadata": {
    "collapsed": false
   },
   "source": [
    "\n",
    "### Решение\n",
    "\n",
    "Для первого вопроса возьмем за нулевую гипотезу о том, что количество проданных экземпляров обуви имеет распределение Пуассона, тогда первая будет ее отрицанием\n",
    "\n",
    "\\begin{gather}\n",
    "    H_0 = \\text{количество проданных экземпляров обуви имеет распределение Пуассона} \\\\\n",
    "    H_1 = \\neg{H_0}\n",
    "\\end{gather}\n",
    "\n",
    "Используем критерий согласия хи-квадрат, соответствующая статистика имеет вид\n",
    "\n",
    "\\begin{equation}\n",
    "    \\chi^2 = N\\sum{\\frac{(O_i - E_i)^2}{E_i}}\n",
    "\\end{equation}\n",
    "\n",
    "где\n",
    "* $O_i$ - наблюдаемая частота,\n",
    "* $E_i$ - ожидаемая при истинности нулевой гипотезы частота $i$-го наблюдения\n"
   ]
  },
  {
   "cell_type": "code",
   "execution_count": 59,
   "metadata": {
    "ExecuteTime": {
     "end_time": "2023-05-06T22:43:11.755648Z",
     "start_time": "2023-05-06T22:43:11.398407Z"
    },
    "collapsed": false
   },
   "outputs": [
    {
     "data": {
      "text/html": [
       "<div>\n",
       "<style scoped>\n",
       "    .dataframe tbody tr th:only-of-type {\n",
       "        vertical-align: middle;\n",
       "    }\n",
       "\n",
       "    .dataframe tbody tr th {\n",
       "        vertical-align: top;\n",
       "    }\n",
       "\n",
       "    .dataframe thead th {\n",
       "        text-align: right;\n",
       "    }\n",
       "</style>\n",
       "<table border=\"1\" class=\"dataframe\">\n",
       "  <thead>\n",
       "    <tr style=\"text-align: right;\">\n",
       "      <th></th>\n",
       "      <th>x</th>\n",
       "      <th>n</th>\n",
       "      <th>n_exp</th>\n",
       "    </tr>\n",
       "  </thead>\n",
       "  <tbody>\n",
       "    <tr>\n",
       "      <th>0</th>\n",
       "      <td>2</td>\n",
       "      <td>399</td>\n",
       "      <td>0.000000e+00</td>\n",
       "    </tr>\n",
       "    <tr>\n",
       "      <th>1</th>\n",
       "      <td>7</td>\n",
       "      <td>399</td>\n",
       "      <td>0.000000e+00</td>\n",
       "    </tr>\n",
       "    <tr>\n",
       "      <th>2</th>\n",
       "      <td>12</td>\n",
       "      <td>399</td>\n",
       "      <td>0.000000e+00</td>\n",
       "    </tr>\n",
       "    <tr>\n",
       "      <th>3</th>\n",
       "      <td>49</td>\n",
       "      <td>399</td>\n",
       "      <td>0.000000e+00</td>\n",
       "    </tr>\n",
       "    <tr>\n",
       "      <th>4</th>\n",
       "      <td>60</td>\n",
       "      <td>399</td>\n",
       "      <td>0.000000e+00</td>\n",
       "    </tr>\n",
       "    <tr>\n",
       "      <th>5</th>\n",
       "      <td>63</td>\n",
       "      <td>399</td>\n",
       "      <td>0.000000e+00</td>\n",
       "    </tr>\n",
       "    <tr>\n",
       "      <th>6</th>\n",
       "      <td>83</td>\n",
       "      <td>399</td>\n",
       "      <td>0.000000e+00</td>\n",
       "    </tr>\n",
       "    <tr>\n",
       "      <th>7</th>\n",
       "      <td>84</td>\n",
       "      <td>399</td>\n",
       "      <td>0.000000e+00</td>\n",
       "    </tr>\n",
       "    <tr>\n",
       "      <th>8</th>\n",
       "      <td>102</td>\n",
       "      <td>399</td>\n",
       "      <td>0.000000e+00</td>\n",
       "    </tr>\n",
       "    <tr>\n",
       "      <th>9</th>\n",
       "      <td>112</td>\n",
       "      <td>798</td>\n",
       "      <td>0.000000e+00</td>\n",
       "    </tr>\n",
       "    <tr>\n",
       "      <th>10</th>\n",
       "      <td>116</td>\n",
       "      <td>399</td>\n",
       "      <td>0.000000e+00</td>\n",
       "    </tr>\n",
       "    <tr>\n",
       "      <th>11</th>\n",
       "      <td>135</td>\n",
       "      <td>399</td>\n",
       "      <td>0.000000e+00</td>\n",
       "    </tr>\n",
       "    <tr>\n",
       "      <th>12</th>\n",
       "      <td>146</td>\n",
       "      <td>399</td>\n",
       "      <td>0.000000e+00</td>\n",
       "    </tr>\n",
       "    <tr>\n",
       "      <th>13</th>\n",
       "      <td>165</td>\n",
       "      <td>399</td>\n",
       "      <td>0.000000e+00</td>\n",
       "    </tr>\n",
       "    <tr>\n",
       "      <th>14</th>\n",
       "      <td>173</td>\n",
       "      <td>399</td>\n",
       "      <td>0.000000e+00</td>\n",
       "    </tr>\n",
       "    <tr>\n",
       "      <th>15</th>\n",
       "      <td>198</td>\n",
       "      <td>399</td>\n",
       "      <td>0.000000e+00</td>\n",
       "    </tr>\n",
       "    <tr>\n",
       "      <th>16</th>\n",
       "      <td>206</td>\n",
       "      <td>399</td>\n",
       "      <td>0.000000e+00</td>\n",
       "    </tr>\n",
       "    <tr>\n",
       "      <th>17</th>\n",
       "      <td>216</td>\n",
       "      <td>399</td>\n",
       "      <td>0.000000e+00</td>\n",
       "    </tr>\n",
       "    <tr>\n",
       "      <th>18</th>\n",
       "      <td>240</td>\n",
       "      <td>1197</td>\n",
       "      <td>0.000000e+00</td>\n",
       "    </tr>\n",
       "    <tr>\n",
       "      <th>19</th>\n",
       "      <td>245</td>\n",
       "      <td>399</td>\n",
       "      <td>0.000000e+00</td>\n",
       "    </tr>\n",
       "    <tr>\n",
       "      <th>20</th>\n",
       "      <td>277</td>\n",
       "      <td>399</td>\n",
       "      <td>0.000000e+00</td>\n",
       "    </tr>\n",
       "    <tr>\n",
       "      <th>21</th>\n",
       "      <td>307</td>\n",
       "      <td>399</td>\n",
       "      <td>0.000000e+00</td>\n",
       "    </tr>\n",
       "    <tr>\n",
       "      <th>22</th>\n",
       "      <td>309</td>\n",
       "      <td>399</td>\n",
       "      <td>0.000000e+00</td>\n",
       "    </tr>\n",
       "    <tr>\n",
       "      <th>23</th>\n",
       "      <td>317</td>\n",
       "      <td>399</td>\n",
       "      <td>0.000000e+00</td>\n",
       "    </tr>\n",
       "    <tr>\n",
       "      <th>24</th>\n",
       "      <td>350</td>\n",
       "      <td>399</td>\n",
       "      <td>0.000000e+00</td>\n",
       "    </tr>\n",
       "    <tr>\n",
       "      <th>25</th>\n",
       "      <td>382</td>\n",
       "      <td>399</td>\n",
       "      <td>0.000000e+00</td>\n",
       "    </tr>\n",
       "    <tr>\n",
       "      <th>26</th>\n",
       "      <td>392</td>\n",
       "      <td>399</td>\n",
       "      <td>0.000000e+00</td>\n",
       "    </tr>\n",
       "    <tr>\n",
       "      <th>27</th>\n",
       "      <td>421</td>\n",
       "      <td>399</td>\n",
       "      <td>0.000000e+00</td>\n",
       "    </tr>\n",
       "    <tr>\n",
       "      <th>28</th>\n",
       "      <td>455</td>\n",
       "      <td>399</td>\n",
       "      <td>0.000000e+00</td>\n",
       "    </tr>\n",
       "    <tr>\n",
       "      <th>29</th>\n",
       "      <td>557</td>\n",
       "      <td>399</td>\n",
       "      <td>0.000000e+00</td>\n",
       "    </tr>\n",
       "    <tr>\n",
       "      <th>30</th>\n",
       "      <td>658</td>\n",
       "      <td>399</td>\n",
       "      <td>0.000000e+00</td>\n",
       "    </tr>\n",
       "    <tr>\n",
       "      <th>31</th>\n",
       "      <td>682</td>\n",
       "      <td>399</td>\n",
       "      <td>0.000000e+00</td>\n",
       "    </tr>\n",
       "    <tr>\n",
       "      <th>32</th>\n",
       "      <td>706</td>\n",
       "      <td>399</td>\n",
       "      <td>0.000000e+00</td>\n",
       "    </tr>\n",
       "    <tr>\n",
       "      <th>33</th>\n",
       "      <td>812</td>\n",
       "      <td>399</td>\n",
       "      <td>0.000000e+00</td>\n",
       "    </tr>\n",
       "    <tr>\n",
       "      <th>34</th>\n",
       "      <td>843</td>\n",
       "      <td>399</td>\n",
       "      <td>0.000000e+00</td>\n",
       "    </tr>\n",
       "    <tr>\n",
       "      <th>35</th>\n",
       "      <td>860</td>\n",
       "      <td>399</td>\n",
       "      <td>0.000000e+00</td>\n",
       "    </tr>\n",
       "    <tr>\n",
       "      <th>36</th>\n",
       "      <td>954</td>\n",
       "      <td>399</td>\n",
       "      <td>0.000000e+00</td>\n",
       "    </tr>\n",
       "    <tr>\n",
       "      <th>37</th>\n",
       "      <td>998</td>\n",
       "      <td>399</td>\n",
       "      <td>0.000000e+00</td>\n",
       "    </tr>\n",
       "    <tr>\n",
       "      <th>38</th>\n",
       "      <td>1060</td>\n",
       "      <td>399</td>\n",
       "      <td>0.000000e+00</td>\n",
       "    </tr>\n",
       "    <tr>\n",
       "      <th>39</th>\n",
       "      <td>1072</td>\n",
       "      <td>399</td>\n",
       "      <td>0.000000e+00</td>\n",
       "    </tr>\n",
       "    <tr>\n",
       "      <th>40</th>\n",
       "      <td>1490</td>\n",
       "      <td>399</td>\n",
       "      <td>6.387083e-318</td>\n",
       "    </tr>\n",
       "    <tr>\n",
       "      <th>41</th>\n",
       "      <td>1685</td>\n",
       "      <td>399</td>\n",
       "      <td>5.160108e-251</td>\n",
       "    </tr>\n",
       "    <tr>\n",
       "      <th>42</th>\n",
       "      <td>1795</td>\n",
       "      <td>399</td>\n",
       "      <td>1.132729e-217</td>\n",
       "    </tr>\n",
       "    <tr>\n",
       "      <th>43</th>\n",
       "      <td>2076</td>\n",
       "      <td>399</td>\n",
       "      <td>2.100843e-145</td>\n",
       "    </tr>\n",
       "    <tr>\n",
       "      <th>44</th>\n",
       "      <td>2144</td>\n",
       "      <td>399</td>\n",
       "      <td>1.727720e-130</td>\n",
       "    </tr>\n",
       "    <tr>\n",
       "      <th>45</th>\n",
       "      <td>2242</td>\n",
       "      <td>399</td>\n",
       "      <td>1.237972e-110</td>\n",
       "    </tr>\n",
       "    <tr>\n",
       "      <th>46</th>\n",
       "      <td>3448</td>\n",
       "      <td>399</td>\n",
       "      <td>1.150643e+02</td>\n",
       "    </tr>\n",
       "    <tr>\n",
       "      <th>47</th>\n",
       "      <td>3532</td>\n",
       "      <td>399</td>\n",
       "      <td>1.350707e+02</td>\n",
       "    </tr>\n",
       "    <tr>\n",
       "      <th>48</th>\n",
       "      <td>4583</td>\n",
       "      <td>399</td>\n",
       "      <td>3.249261e-65</td>\n",
       "    </tr>\n",
       "    <tr>\n",
       "      <th>49</th>\n",
       "      <td>4992</td>\n",
       "      <td>399</td>\n",
       "      <td>5.734840e-121</td>\n",
       "    </tr>\n",
       "    <tr>\n",
       "      <th>50</th>\n",
       "      <td>5690</td>\n",
       "      <td>399</td>\n",
       "      <td>3.735233e-249</td>\n",
       "    </tr>\n",
       "    <tr>\n",
       "      <th>51</th>\n",
       "      <td>6159</td>\n",
       "      <td>399</td>\n",
       "      <td>0.000000e+00</td>\n",
       "    </tr>\n",
       "    <tr>\n",
       "      <th>52</th>\n",
       "      <td>7712</td>\n",
       "      <td>399</td>\n",
       "      <td>0.000000e+00</td>\n",
       "    </tr>\n",
       "    <tr>\n",
       "      <th>53</th>\n",
       "      <td>16662</td>\n",
       "      <td>399</td>\n",
       "      <td>0.000000e+00</td>\n",
       "    </tr>\n",
       "    <tr>\n",
       "      <th>54</th>\n",
       "      <td>18747</td>\n",
       "      <td>399</td>\n",
       "      <td>0.000000e+00</td>\n",
       "    </tr>\n",
       "    <tr>\n",
       "      <th>55</th>\n",
       "      <td>38839</td>\n",
       "      <td>399</td>\n",
       "      <td>0.000000e+00</td>\n",
       "    </tr>\n",
       "    <tr>\n",
       "      <th>56</th>\n",
       "      <td>72611</td>\n",
       "      <td>399</td>\n",
       "      <td>0.000000e+00</td>\n",
       "    </tr>\n",
       "  </tbody>\n",
       "</table>\n",
       "</div>"
      ],
      "text/plain": [
       "        x     n          n_exp\n",
       "0       2   399   0.000000e+00\n",
       "1       7   399   0.000000e+00\n",
       "2      12   399   0.000000e+00\n",
       "3      49   399   0.000000e+00\n",
       "4      60   399   0.000000e+00\n",
       "5      63   399   0.000000e+00\n",
       "6      83   399   0.000000e+00\n",
       "7      84   399   0.000000e+00\n",
       "8     102   399   0.000000e+00\n",
       "9     112   798   0.000000e+00\n",
       "10    116   399   0.000000e+00\n",
       "11    135   399   0.000000e+00\n",
       "12    146   399   0.000000e+00\n",
       "13    165   399   0.000000e+00\n",
       "14    173   399   0.000000e+00\n",
       "15    198   399   0.000000e+00\n",
       "16    206   399   0.000000e+00\n",
       "17    216   399   0.000000e+00\n",
       "18    240  1197   0.000000e+00\n",
       "19    245   399   0.000000e+00\n",
       "20    277   399   0.000000e+00\n",
       "21    307   399   0.000000e+00\n",
       "22    309   399   0.000000e+00\n",
       "23    317   399   0.000000e+00\n",
       "24    350   399   0.000000e+00\n",
       "25    382   399   0.000000e+00\n",
       "26    392   399   0.000000e+00\n",
       "27    421   399   0.000000e+00\n",
       "28    455   399   0.000000e+00\n",
       "29    557   399   0.000000e+00\n",
       "30    658   399   0.000000e+00\n",
       "31    682   399   0.000000e+00\n",
       "32    706   399   0.000000e+00\n",
       "33    812   399   0.000000e+00\n",
       "34    843   399   0.000000e+00\n",
       "35    860   399   0.000000e+00\n",
       "36    954   399   0.000000e+00\n",
       "37    998   399   0.000000e+00\n",
       "38   1060   399   0.000000e+00\n",
       "39   1072   399   0.000000e+00\n",
       "40   1490   399  6.387083e-318\n",
       "41   1685   399  5.160108e-251\n",
       "42   1795   399  1.132729e-217\n",
       "43   2076   399  2.100843e-145\n",
       "44   2144   399  1.727720e-130\n",
       "45   2242   399  1.237972e-110\n",
       "46   3448   399   1.150643e+02\n",
       "47   3532   399   1.350707e+02\n",
       "48   4583   399   3.249261e-65\n",
       "49   4992   399  5.734840e-121\n",
       "50   5690   399  3.735233e-249\n",
       "51   6159   399   0.000000e+00\n",
       "52   7712   399   0.000000e+00\n",
       "53  16662   399   0.000000e+00\n",
       "54  18747   399   0.000000e+00\n",
       "55  38839   399   0.000000e+00\n",
       "56  72611   399   0.000000e+00"
      ]
     },
     "execution_count": 59,
     "metadata": {},
     "output_type": "execute_result"
    }
   ],
   "source": [
    "sold_ser = data.How_Many_Sold\n",
    "sold_mean = sold_ser.mean()\n",
    "x_tmp, counts_tmp = np.unique(sold_ser, return_counts=True)\n",
    "\n",
    "chi2_sold_df = pd.DataFrame({'x': x_tmp, 'n': counts_tmp})\n",
    "chi2_sold_df['n_exp'] = len(data) * scp.stats.poisson.pmf(k=chi2_sold_df.x, mu=sold_mean)\n",
    "chi2_sold_df"
   ]
  },
  {
   "cell_type": "code",
   "execution_count": 60,
   "metadata": {
    "ExecuteTime": {
     "end_time": "2023-05-06T22:43:11.759170Z",
     "start_time": "2023-05-06T22:43:11.438209Z"
    },
    "collapsed": false
   },
   "outputs": [
    {
     "name": "stdout",
     "output_type": "stream",
     "text": [
      "Вычисленная статистика: inf\n"
     ]
    }
   ],
   "source": [
    "stat = np.sum(((chi2_sold_df.n - chi2_sold_df.n_exp)**2) / chi2_sold_df.n_exp)\n",
    "print(f'Вычисленная статистика: {stat}')"
   ]
  },
  {
   "cell_type": "markdown",
   "metadata": {
    "collapsed": false
   },
   "source": [
    "Распределение Пуассона зависит от одного параметра, поэтому статистика имеет распределение хи-квадрат с $N - 2$ степенями свободы. Для вычисления критического значения статистики используется квантиль $1 - \\alpha$ (как и для остальных критериев)"
   ]
  },
  {
   "cell_type": "code",
   "execution_count": 61,
   "metadata": {
    "ExecuteTime": {
     "end_time": "2023-05-06T22:43:11.760172Z",
     "start_time": "2023-05-06T22:43:11.450261Z"
    },
    "collapsed": false
   },
   "outputs": [
    {
     "name": "stdout",
     "output_type": "stream",
     "text": [
      "Критическое значение: 73.31149302908324\n"
     ]
    }
   ],
   "source": [
    "print(f'Критическое значение: {scp.stats.chi2.isf(alpha, len(chi2_sold_df) - 2)}')"
   ]
  },
  {
   "cell_type": "markdown",
   "metadata": {
    "collapsed": false
   },
   "source": [
    "Вычисленная статистика больше критического значения при уровне значимости $\\alpha$, а значит нулевая гипотеза при выбранном уровне значимости отвергается. Следовательно, аппроксимировать количество проданной обуви распределением Пуассона нельзя"
   ]
  },
  {
   "cell_type": "markdown",
   "metadata": {
    "collapsed": false
   },
   "source": [
    "Для второго вопроса возьмем за нулевую гипотезу предположение о том, что рейтинг имеет нормальное распределение с параметрами, вычисленными методом максимального правдоподобия\n",
    "\n",
    "\\begin{gather}\n",
    "    H_0 = \\text{рейтинг имеет нормальное распределение} \\\\\n",
    "    H_1 = \\neg{H_0}\n",
    "\\end{gather}\n",
    "\n",
    "Используем критерий Колмогорова-Симпсона-Лиллиефорса\n",
    "Статистика критерия вычисляется аналогично статистике критерия Колмогорова-Смирнова:\n",
    "\n",
    "\\begin{equation}\n",
    "    D_n = \\max{\\left(\\max{\\left(\\frac{i}{N} - \\Phi\\left(\\frac{X_{(i)} - \\bar{X}}{s^2}\\right)\\right)}, \\max{\\left(\\Phi\\left(\\frac{X_{(i)} - \\bar{X}}{s^2}\\right) - \\frac{i - 1}{N}\\right)}\\right)}\n",
    "\\end{equation}\n",
    "\n",
    "для всех $1 \\leq i \\leq N$, где\n",
    "* $\\bar{X}$ - выборочная медиана,\n",
    "* $s^2$ - выборочная несмещенная дисперсия,\n",
    "* $X_{(i)}$ - $i$-ый элемент вариационного ряда"
   ]
  },
  {
   "cell_type": "code",
   "execution_count": 62,
   "metadata": {
    "ExecuteTime": {
     "end_time": "2023-05-06T22:43:17.843563Z",
     "start_time": "2023-05-06T22:43:11.473177Z"
    },
    "collapsed": false
   },
   "outputs": [
    {
     "name": "stdout",
     "output_type": "stream",
     "text": [
      "Вычисленная статистика: 0.23791404729168092\n"
     ]
    }
   ],
   "source": [
    "rating_arr = data['RATING'].values\n",
    "rating_mean = rating_arr.mean()\n",
    "rating_var = rating_arr.var()\n",
    "\n",
    "rating_arr.sort()\n",
    "stat = max([max(abs((i + 1) / count) - scp.stats.norm.cdf((rating_arr[i] - rating_mean) / np.sqrt(rating_var)), scp.stats.norm.cdf((rating_arr[i] - rating_mean) / np.sqrt(rating_var)) - i / count) for i in range(count)])\n",
    "\n",
    "print(f'Вычисленная статистика: {stat}')"
   ]
  },
  {
   "cell_type": "markdown",
   "metadata": {
    "collapsed": false
   },
   "source": [
    "Критическое значение вычисляется по таблице"
   ]
  },
  {
   "cell_type": "code",
   "execution_count": 63,
   "metadata": {
    "ExecuteTime": {
     "end_time": "2023-05-06T22:43:17.853883Z",
     "start_time": "2023-05-06T22:43:17.846557Z"
    },
    "collapsed": false
   },
   "outputs": [
    {
     "name": "stdout",
     "output_type": "stream",
     "text": [
      "Критическое значение: 0.005784608536943777\n"
     ]
    }
   ],
   "source": [
    "print(f'Критическое значение: {0.895/((0.83 + count) / np.sqrt(count) - 0.01)}')"
   ]
  },
  {
   "cell_type": "markdown",
   "metadata": {
    "collapsed": false
   },
   "source": [
    "Критическое значение меньше вычисленного значения статистики, а значит нулевая гипотеза отвергается и рейтинг не имеет нормального распределения"
   ]
  },
  {
   "cell_type": "markdown",
   "metadata": {
    "collapsed": false
   },
   "source": [
    "\n",
    "## Задача 2\n",
    "\n",
    "### Условие\n",
    "\n",
    "Верно ли что распределения количества проданных экземпляров существенно не отличаются в зависимости от бренда? Тот же вопрос для цены (по одному тесту на утверждение).\n"
   ]
  },
  {
   "cell_type": "markdown",
   "metadata": {
    "collapsed": false
   },
   "source": [
    "\n",
    "### Решение\n",
    "\n",
    "Нулевой гипотезой в первом вопросе будет гипотеза, что распределение количества проданной обуви одинаково для всех брендов\n",
    "\n",
    "\\begin{gather}\n",
    "    H_0 = \\text{распределение продаж одинаково для всех брендов} \\\\\n",
    "    H_1 = \\neg{H_0}\n",
    "\\end{gather}\n",
    "\n",
    "Используем критерий Крускала-Уоллеса\n",
    "\n",
    "Сначала необходимо проранжировать все данные вместе (каждому значению присвоить ранг по всей выборке), затем разбить данные с рангами по группам и вычислить статистику\n",
    "\n",
    "\\begin{equation}\n",
    "    H = (N - 1)\\frac{\\sum_{i=1}^g{n_i\\left(\\bar{r_i} - \\bar{r}\\right)^2}}{\\sum_{i=1}^{g}{\\sum_{j=1}^{n_i}{\\left(r_{ij} - \\bar{r}\\right)^2}}}\n",
    "\\end{equation}\n",
    "\n",
    "где\n",
    "* $N$ - суммарный объем выборок,\n",
    "* $g$ - число групп,\n",
    "* $n_i$ - число наблюдений в $i$-ой группе,\n",
    "* $r_{ij}$ - ранг $j$-ого наблюдения в $i$-ой группе,\n",
    "* $\\bar{R_i}$ - средний ранг в группе $i$,\n",
    "* $\\bar{r}$ - средний ранг из всех наблюдений"
   ]
  },
  {
   "cell_type": "code",
   "execution_count": 64,
   "metadata": {
    "ExecuteTime": {
     "end_time": "2023-05-06T22:43:20.604601Z",
     "start_time": "2023-05-06T22:43:17.863075Z"
    },
    "collapsed": false
   },
   "outputs": [
    {
     "name": "stdout",
     "output_type": "stream",
     "text": [
      "Вычисленная статистика: 7904.696328668118\n"
     ]
    }
   ],
   "source": [
    "sold_ranks = scp.stats.rankdata(data.How_Many_Sold)\n",
    "data_sold_ranks = data.assign(rank_sold=sold_ranks)\n",
    "unique_brands_ranked_df_arr = [data_sold_ranks[data_sold_ranks['Brand_Name'] == name] for name in data_sold_ranks['Brand_Name'].unique()]\n",
    "dividend = divisor = 0\n",
    "for i in range(len(unique_brands_ranked_df_arr)):\n",
    "    brand_df = unique_brands_ranked_df_arr[i]\n",
    "    dividend += len(brand_df) * ((brand_df.rank_sold.mean() - (len(data_sold_ranks) - 1) / 2)**2)\n",
    "    for j in range(len(brand_df)):\n",
    "        divisor += (brand_df.iloc[i].rank_sold - (len(data_sold_ranks) - 1) / 2)**2\n",
    "stat = (len(data_sold_ranks) - 1) * dividend / divisor\n",
    "print(f'Вычисленная статистика: {stat}')"
   ]
  },
  {
   "cell_type": "markdown",
   "metadata": {
    "collapsed": false
   },
   "source": [
    "Статистика $H$ подчиняется распределению хи-квадрат с $g - 1$ степенями свободы"
   ]
  },
  {
   "cell_type": "code",
   "execution_count": 65,
   "metadata": {
    "ExecuteTime": {
     "end_time": "2023-05-06T22:43:20.661959Z",
     "start_time": "2023-05-06T22:43:20.610450Z"
    },
    "collapsed": false
   },
   "outputs": [
    {
     "name": "stdout",
     "output_type": "stream",
     "text": [
      "Критическое значение: 31.41043284423092\n"
     ]
    }
   ],
   "source": [
    "print(f'Критическое значение: {scp.stats.chi2.isf(alpha, df=(len(unique_brands_ranked_df_arr) - 1))}')"
   ]
  },
  {
   "cell_type": "markdown",
   "metadata": {
    "collapsed": false
   },
   "source": [
    "Критическое значение меньше вычисленного значения, поэтому нулевая гипотеза отвергается: распределение продаж от бренда к бренду различается"
   ]
  },
  {
   "cell_type": "markdown",
   "metadata": {
    "collapsed": false
   },
   "source": [
    "Во втором вопросе нулевой будет гипотеза, что распределение цены одинаково для всех брендов\n",
    "\n",
    "\\begin{gather}\n",
    "    H_0 = \\text{распределение цен одинаково для всех брендов} \\\\\n",
    "    H_1 = \\neg{H_0}\n",
    "\\end{gather}\n",
    "\n",
    "Используем критерий хи-квадрат со статистикой\n",
    "\n",
    "\\begin{equation}\n",
    "    \\chi^2 = \\sum_{i=1}^{g}{\\sum_{j=S_1}^{S_l}{\\frac{\\left(\\nu_{ij} - n_i p^{(j)}\\right)^2}{n_{i} p^{(j)}}}}\n",
    "\\end{equation}\n",
    "\n",
    "где\n",
    "* $N$ - суммарный объем выборки\n",
    "* $S$ - набор полученных значений размером $l$,\n",
    "* $g$ - число групп,\n",
    "* $\\nu_{ij}$ - частота значения $j$ в $i$-ой группе,\n",
    "* $n_i$ - объем $i$-ой группы\n",
    "* $p^{(j)} = \\frac{\\sum_{i=1}^{g}{\\nu_{ij}}}{N}$ - вероятность значения $j$ среди всей выборки"
   ]
  },
  {
   "cell_type": "code",
   "execution_count": 66,
   "metadata": {
    "ExecuteTime": {
     "end_time": "2023-05-06T22:43:22.071082Z",
     "start_time": "2023-05-06T22:43:20.628458Z"
    },
    "collapsed": false
   },
   "outputs": [
    {
     "name": "stdout",
     "output_type": "stream",
     "text": [
      "Значение статистики: 413915.0000000054\n"
     ]
    }
   ],
   "source": [
    "unique_brands_df_arr = [data[data['Brand_Name'] == name] for name in data['Brand_Name'].unique()]\n",
    "price_freq_df_arr = [pd.DataFrame(np.unique(unique_brands_df_arr[i].Current_Price, return_counts=True)).transpose().rename(columns={0: 'price', 1: 'freq'}) for i in range(len(unique_brands_df_arr))]\n",
    "stat = 0\n",
    "for i in range(len(price_freq_df_arr)):\n",
    "    brand_df = price_freq_df_arr[i]\n",
    "    for price in data['Current_Price'].unique():\n",
    "        if not np.isnan(price):\n",
    "            stat += (np.sum(brand_df[brand_df.price == price].freq) - brand_df.freq.sum() * (len(data[data.Current_Price == price]) / len(data)))**2 / (brand_df.freq.sum() * (len(data[data.Current_Price == price]) / len(data)))\n",
    "        else:\n",
    "            stat += (np.sum(brand_df[brand_df.price.isna()].freq) - brand_df.freq.sum() * (len(data[data.Current_Price.isna()]) / len(data)))**2 / (brand_df.freq.sum() * (len(data[data.Current_Price.isna()]) / len(data)))\n",
    "print(f'Значение статистики: {stat}')"
   ]
  },
  {
   "cell_type": "markdown",
   "metadata": {
    "collapsed": false
   },
   "source": [
    "Статистика подчиняется распределению хи-квадрат с $(N - 1)(g - 1)$ степенями свободы"
   ]
  },
  {
   "cell_type": "code",
   "execution_count": 67,
   "metadata": {
    "ExecuteTime": {
     "end_time": "2023-05-06T22:43:22.187986Z",
     "start_time": "2023-05-06T22:43:22.080647Z"
    },
    "collapsed": false
   },
   "outputs": [
    {
     "name": "stdout",
     "output_type": "stream",
     "text": [
      "Критическое значение: 1082.9731737565853\n"
     ]
    }
   ],
   "source": [
    "print(f'Критическое значение: {scp.stats.chi2.isf(alpha, df=((len(data.Current_Price.unique()) - 1) * len(price_freq_df_arr)))}')"
   ]
  },
  {
   "cell_type": "markdown",
   "metadata": {
    "collapsed": false
   },
   "source": [
    "Статистика больше критического значения, поэтому гипотеза, что распределение цен для всех брендов одинаково отвергается"
   ]
  },
  {
   "cell_type": "markdown",
   "metadata": {
    "collapsed": false
   },
   "source": [
    "\n",
    "## Задача 3\n",
    "\n",
    "### Условие\n",
    "\n",
    "Есть подозрение, что рейтинг зависит от цены. Проверить данное предположение"
   ]
  },
  {
   "cell_type": "markdown",
   "metadata": {
    "collapsed": false
   },
   "source": [
    "\n",
    "### Решение\n",
    "\n",
    "За нулевую гипотезу возьму предположение, что рейтинг и цена независимы, альтернативой будет обратное - что они зависимы\n",
    "\n",
    " \\begin{gather}\n",
    "    H_0 = \\text{рейтинг не зависит от цены} \\\\\n",
    "    H_1 = \\neg{H_0}\n",
    "\\end{gather}\n",
    "\n",
    "Для корректности работы критериев буду оценивать независимость только тех данных, в которых нет NaN-значений, отклонив $798$ строк (около $3\\%$ значений)"
   ]
  },
  {
   "cell_type": "code",
   "execution_count": 68,
   "metadata": {
    "ExecuteTime": {
     "end_time": "2023-05-06T22:43:22.187986Z",
     "start_time": "2023-05-06T22:43:22.120075Z"
    },
    "collapsed": false
   },
   "outputs": [],
   "source": [
    "rating_ser = data[~data['Current_Price'].isna()].RATING #type: pd.Series\n",
    "sold_ser = data[~data['Current_Price'].isna()].Current_Price #type: pd.Series\n",
    "\n",
    "rating_ser_mean = rating_ser.mean()\n",
    "sold_ser_mean = sold_ser.mean()\n",
    "\n",
    "rating_ser_var = rating_ser.var()\n",
    "sold_ser_var = sold_ser.var()"
   ]
  },
  {
   "cell_type": "markdown",
   "metadata": {
    "collapsed": false
   },
   "source": [
    "Первым критерием будет критерий, основанный на коэффициенте корреляции Пирсона\n",
    "\n",
    "\\begin{equation}\n",
    "    \\rho = \\frac{1}{N - 1} \\frac{\\sum_{i=1}^{N}{\\left(x_i - \\bar{x}\\right)\\left(y_i - \\bar{y}\\right)}}{\\sqrt{s^2_x s^2_y}}\n",
    "\\end{equation}\n",
    "\n",
    "где\n",
    "* $x$, $y$ - выборки размером $N$\n",
    "* $\\bar{x}$, $s^2_x$ и $\\bar{y}$, $s^2_y$ - медиана и среднее соответственно $x$ и $y$"
   ]
  },
  {
   "cell_type": "code",
   "execution_count": 69,
   "metadata": {
    "ExecuteTime": {
     "end_time": "2023-05-06T22:43:22.187986Z",
     "start_time": "2023-05-06T22:43:22.159397Z"
    },
    "collapsed": false
   },
   "outputs": [
    {
     "name": "stdout",
     "output_type": "stream",
     "text": [
      "Коэффициент корреляции: 0.0006683352822727228\n"
     ]
    }
   ],
   "source": [
    "pearson_corr = (1 / (len(rating_ser) - 1) * np.sum((rating_ser - rating_ser_mean) * (sold_ser - sold_ser_mean))) / np.sqrt(rating_ser_var * sold_ser_var)\n",
    "print(f'Коэффициент корреляции: {pearson_corr}')"
   ]
  },
  {
   "cell_type": "markdown",
   "metadata": {
    "collapsed": false
   },
   "source": [
    "Статистика вычисляется по формуле\n",
    "\n",
    "\\begin{equation}\n",
    "    t = \\frac{\\rho\\sqrt{N - 2}}{\\sqrt{1 - \\rho^2}}\n",
    "\\end{equation}"
   ]
  },
  {
   "cell_type": "code",
   "execution_count": 70,
   "metadata": {
    "ExecuteTime": {
     "end_time": "2023-05-06T22:43:22.187986Z",
     "start_time": "2023-05-06T22:43:22.171466Z"
    },
    "collapsed": false
   },
   "outputs": [
    {
     "name": "stdout",
     "output_type": "stream",
     "text": [
      "Статистика: 0.10166609977242959\n"
     ]
    }
   ],
   "source": [
    "print(f'Статистика: {(pearson_corr * np.sqrt(len(rating_ser) - 2)) / np.sqrt(1 - pearson_corr**2)}')"
   ]
  },
  {
   "cell_type": "markdown",
   "metadata": {
    "collapsed": false
   },
   "source": [
    "Данная статистика подчиняется распределению Стьюдента с $N - 2$ степенями свободы"
   ]
  },
  {
   "cell_type": "code",
   "execution_count": 71,
   "metadata": {
    "ExecuteTime": {
     "end_time": "2023-05-06T22:43:22.303868Z",
     "start_time": "2023-05-06T22:43:22.187986Z"
    },
    "collapsed": false
   },
   "outputs": [
    {
     "name": "stdout",
     "output_type": "stream",
     "text": [
      "Критическое значение: 1.6449194796102362\n"
     ]
    }
   ],
   "source": [
    "print(f'Критическое значение: {scp.stats.t.isf(0.05, df=(len(rating_ser) - 2))}')"
   ]
  },
  {
   "cell_type": "markdown",
   "metadata": {
    "collapsed": false
   },
   "source": [
    "Статистика меньше критического значения, значит нет оснований для отклонения нулевой гипотезы"
   ]
  },
  {
   "cell_type": "markdown",
   "metadata": {
    "collapsed": false
   },
   "source": [
    "Вторым будет критерий Спирмена, статистика которого вычисляется аналогично предыдущей, но между рангами соответствующих векторов данных\n",
    "\n",
    "\\begin{equation}\n",
    "    \\rho = \\frac{1}{N - 1} \\frac{\\sum_{i=1}^{N}{\\left(R_i - \\bar{R}\\right)\\left(S_i - \\bar{S}\\right)}}{\\sqrt{s^2_R s^2_S}}\n",
    "\\end{equation}\n",
    "\n",
    "где\n",
    "* $R$, $S$ - ранги выборок $x$, $y$ размером $N$\n",
    "* $\\bar{R}$, $s^2_R$ и $\\bar{S}$, $s^2_S$ - медиана и среднее соответственно $R$ и $S$"
   ]
  },
  {
   "cell_type": "code",
   "execution_count": 72,
   "metadata": {
    "ExecuteTime": {
     "end_time": "2023-05-06T22:43:22.327314Z",
     "start_time": "2023-05-06T22:43:22.212382Z"
    },
    "collapsed": false
   },
   "outputs": [
    {
     "name": "stdout",
     "output_type": "stream",
     "text": [
      "Коэффициент корреляции: 0.00047479636526410985\n"
     ]
    }
   ],
   "source": [
    "rating_ranks = scp.stats.rankdata(rating_ser)\n",
    "sold_ranks = scp.stats.rankdata(sold_ser)\n",
    "\n",
    "rating_ranks_mean = rating_ranks.mean()\n",
    "sold_ranks_mean = sold_ranks.mean()\n",
    "\n",
    "rating_ranks_var = rating_ranks.var()\n",
    "sold_ranks_var = sold_ranks.var()\n",
    "\n",
    "spearman_corr = (1 / (len(rating_ranks) - 1) * np.sum((rating_ranks - rating_ranks_mean) * (sold_ranks - sold_ranks_mean))) / np.sqrt(rating_ranks_var * sold_ranks_var)\n",
    "print(f'Коэффициент корреляции: {spearman_corr}')"
   ]
  },
  {
   "cell_type": "markdown",
   "metadata": {
    "collapsed": false
   },
   "source": [
    "Статистика и критическое значение вычисляются аналогично"
   ]
  },
  {
   "cell_type": "code",
   "execution_count": 73,
   "metadata": {
    "ExecuteTime": {
     "end_time": "2023-05-06T22:43:22.327314Z",
     "start_time": "2023-05-06T22:43:22.221259Z"
    },
    "collapsed": false
   },
   "outputs": [
    {
     "name": "stdout",
     "output_type": "stream",
     "text": [
      "Статистика: 0.07222525966108365\n"
     ]
    }
   ],
   "source": [
    "print(f'Статистика: {(spearman_corr * np.sqrt(len(rating_ranks) - 2)) / np.sqrt(1 - spearman_corr**2)}')"
   ]
  },
  {
   "cell_type": "code",
   "execution_count": 74,
   "metadata": {
    "ExecuteTime": {
     "end_time": "2023-05-06T22:43:22.327314Z",
     "start_time": "2023-05-06T22:43:22.244376Z"
    },
    "collapsed": false
   },
   "outputs": [
    {
     "name": "stdout",
     "output_type": "stream",
     "text": [
      "Критическое значение: 1.6449194796102362\n"
     ]
    }
   ],
   "source": [
    "print(f'Критическое значение: {scp.stats.t.isf(0.05, df=(len(rating_ranks) - 2))}')"
   ]
  },
  {
   "cell_type": "markdown",
   "metadata": {
    "collapsed": false
   },
   "source": [
    "Снова, статистика меньше критического значения, поэтому нулевая гипотеза не отклоняется"
   ]
  },
  {
   "cell_type": "markdown",
   "metadata": {
    "collapsed": false
   },
   "source": [
    "Исходя из результатов используемых критериев, нулевая гипотеза принимается: рейтинг не зависит от цены"
   ]
  }
 ],
 "metadata": {
  "kernelspec": {
   "display_name": "Python 3",
   "language": "python",
   "name": "python3"
  },
  "language_info": {
   "codemirror_mode": {
    "name": "ipython",
    "version": 2
   },
   "file_extension": ".py",
   "mimetype": "text/x-python",
   "name": "python",
   "nbconvert_exporter": "python",
   "pygments_lexer": "ipython2",
   "version": "3.11.5"
  }
 },
 "nbformat": 4,
 "nbformat_minor": 0
}
