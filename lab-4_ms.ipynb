{
 "cells": [
  {
   "cell_type": "markdown",
   "source": [
    "\n",
    "# Лабораторная работа 4\n",
    "\n",
    "## Выполнил: Морозов Алексей, М32071\n",
    "\n",
    "## Вариант: 9, задание: 5\n"
   ],
   "metadata": {
    "collapsed": false
   }
  },
  {
   "cell_type": "code",
   "execution_count": 1,
   "outputs": [],
   "source": [
    "import numpy as np\n",
    "import scipy as scp\n",
    "import matplotlib as mlt\n",
    "import matplotlib.pyplot as plt\n",
    "import pandas as pd\n",
    "\n",
    "import matplotlib.axes._axes as axes\n",
    "import matplotlib.figure as figure"
   ],
   "metadata": {
    "collapsed": false,
    "ExecuteTime": {
     "start_time": "2023-05-06T16:04:57.528862Z",
     "end_time": "2023-05-06T16:05:00.630431Z"
    }
   }
  },
  {
   "cell_type": "markdown",
   "source": [
    "В файле $MEN\\_SHOES.csv$ приведены данные о продажах мужской обуви. Для каждого вопроса требуется формализовать задачу и проверить статистическую гипотезу двумя критериями, если не сказано иное"
   ],
   "metadata": {
    "collapsed": false
   }
  },
  {
   "cell_type": "code",
   "execution_count": 2,
   "outputs": [
    {
     "data": {
      "text/plain": "      Brand_Name  How_Many_Sold  Current_Price  \\\n0          ASIAN           2242         1098.0   \n1          ASIAN            240          674.0   \n2          ASIAN          16662          588.0   \n3          ASIAN            135          599.0   \n4         Reebok            240          982.0   \n...          ...            ...            ...   \n23935     Campus            198          623.0   \n23936  Wakefield             49          399.0   \n23937       URJO            557          839.0   \n23938    FEETEES             63          349.0   \n23939       FURO              2         1299.0   \n\n                                         Product_details  RATING  \n0      Oxygen-01 Sports Running,Walking & Gym Shoes w...     3.8  \n1      Men's Express-08 Sports Running,Walking,Gym,Tr...     4.0  \n2      Men's Cosko Sports Running,Walking,Gym,Trainin...     3.8  \n3      Wind-03 Sports Running,Walking & Gym Shoes wit...     4.0  \n4                Men's Velocity Runner Lp Running Shoe       4.0  \n...                                                  ...     ...  \n23935                   Men's HARVEL PRO Running Shoes       4.0  \n23936        Stylish Running Sports Shoes for MEN-2010       3.4  \n23937                               Mens Running Shoes       4.2  \n23938  Nexon Men's Casual Eva Socks Knitted Running S...     3.6  \n23939  Low Ankle Running Sports Shoes for Men (O-5033)       3.0  \n\n[23940 rows x 5 columns]",
      "text/html": "<div>\n<style scoped>\n    .dataframe tbody tr th:only-of-type {\n        vertical-align: middle;\n    }\n\n    .dataframe tbody tr th {\n        vertical-align: top;\n    }\n\n    .dataframe thead th {\n        text-align: right;\n    }\n</style>\n<table border=\"1\" class=\"dataframe\">\n  <thead>\n    <tr style=\"text-align: right;\">\n      <th></th>\n      <th>Brand_Name</th>\n      <th>How_Many_Sold</th>\n      <th>Current_Price</th>\n      <th>Product_details</th>\n      <th>RATING</th>\n    </tr>\n  </thead>\n  <tbody>\n    <tr>\n      <th>0</th>\n      <td>ASIAN</td>\n      <td>2242</td>\n      <td>1098.0</td>\n      <td>Oxygen-01 Sports Running,Walking &amp; Gym Shoes w...</td>\n      <td>3.8</td>\n    </tr>\n    <tr>\n      <th>1</th>\n      <td>ASIAN</td>\n      <td>240</td>\n      <td>674.0</td>\n      <td>Men's Express-08 Sports Running,Walking,Gym,Tr...</td>\n      <td>4.0</td>\n    </tr>\n    <tr>\n      <th>2</th>\n      <td>ASIAN</td>\n      <td>16662</td>\n      <td>588.0</td>\n      <td>Men's Cosko Sports Running,Walking,Gym,Trainin...</td>\n      <td>3.8</td>\n    </tr>\n    <tr>\n      <th>3</th>\n      <td>ASIAN</td>\n      <td>135</td>\n      <td>599.0</td>\n      <td>Wind-03 Sports Running,Walking &amp; Gym Shoes wit...</td>\n      <td>4.0</td>\n    </tr>\n    <tr>\n      <th>4</th>\n      <td>Reebok</td>\n      <td>240</td>\n      <td>982.0</td>\n      <td>Men's Velocity Runner Lp Running Shoe</td>\n      <td>4.0</td>\n    </tr>\n    <tr>\n      <th>...</th>\n      <td>...</td>\n      <td>...</td>\n      <td>...</td>\n      <td>...</td>\n      <td>...</td>\n    </tr>\n    <tr>\n      <th>23935</th>\n      <td>Campus</td>\n      <td>198</td>\n      <td>623.0</td>\n      <td>Men's HARVEL PRO Running Shoes</td>\n      <td>4.0</td>\n    </tr>\n    <tr>\n      <th>23936</th>\n      <td>Wakefield</td>\n      <td>49</td>\n      <td>399.0</td>\n      <td>Stylish Running Sports Shoes for MEN-2010</td>\n      <td>3.4</td>\n    </tr>\n    <tr>\n      <th>23937</th>\n      <td>URJO</td>\n      <td>557</td>\n      <td>839.0</td>\n      <td>Mens Running Shoes</td>\n      <td>4.2</td>\n    </tr>\n    <tr>\n      <th>23938</th>\n      <td>FEETEES</td>\n      <td>63</td>\n      <td>349.0</td>\n      <td>Nexon Men's Casual Eva Socks Knitted Running S...</td>\n      <td>3.6</td>\n    </tr>\n    <tr>\n      <th>23939</th>\n      <td>FURO</td>\n      <td>2</td>\n      <td>1299.0</td>\n      <td>Low Ankle Running Sports Shoes for Men (O-5033)</td>\n      <td>3.0</td>\n    </tr>\n  </tbody>\n</table>\n<p>23940 rows × 5 columns</p>\n</div>"
     },
     "execution_count": 2,
     "metadata": {},
     "output_type": "execute_result"
    }
   ],
   "source": [
    "data = pd.read_csv('MEN_SHOES.csv', thousands=',')\n",
    "data['Current_Price'] = data['Current_Price'].str.replace('₹', '', regex=True).replace(',', '', regex=True).astype(float)\n",
    "count = len(data)\n",
    "data"
   ],
   "metadata": {
    "collapsed": false,
    "ExecuteTime": {
     "start_time": "2023-05-06T16:05:00.630431Z",
     "end_time": "2023-05-06T16:05:00.802317Z"
    }
   }
  },
  {
   "cell_type": "markdown",
   "source": [
    "Для проверки гипотез буду использовать уровень значимости $\\alpha = 0.05$"
   ],
   "metadata": {
    "collapsed": false
   }
  },
  {
   "cell_type": "code",
   "execution_count": 3,
   "outputs": [],
   "source": [
    "alpha = 0.05"
   ],
   "metadata": {
    "collapsed": false,
    "ExecuteTime": {
     "start_time": "2023-05-06T16:05:00.802317Z",
     "end_time": "2023-05-06T16:05:00.817940Z"
    }
   }
  },
  {
   "cell_type": "markdown",
   "source": [
    "\n",
    "##  Задача 1\n",
    "\n",
    "### Условие\n",
    "\n",
    "Разумно ли количество проданных экземпляров обуви аппроксимировать распределением Пуассона, а рейтинг – нормальным распределением (по 1 тесту на каждый вопрос)?\n"
   ],
   "metadata": {
    "collapsed": false
   }
  },
  {
   "cell_type": "markdown",
   "source": [
    "\n",
    "### Решение\n",
    "\n",
    "Для первого вопроса возьмем за нулевую гипотезу о том, что количество проданных экземпляров обуви имеет распределение Пуассона, тогда первая будет ее отрицанием\n",
    "\n",
    "\\begin{gather}\n",
    "    H_0 = \\text{количество проданных экземпляров обуви имеет распределение Пуассона} \\\\\n",
    "    H_1 = \\neg{H_0}\n",
    "\\end{gather}\n",
    "\n",
    "Используем критерий согласия хи-квадрат, соответствующая статистика имеет вид\n",
    "\n",
    "\\begin{equation}\n",
    "    \\chi^2 = N\\sum{\\frac{(O_i - E_i)^2}{E_i}}\n",
    "\\end{equation}\n",
    "\n",
    "где $O_i$ - наблюдаемая частота, $E_i$ - ожидаемая частота наблюдения при истинности нулевой гипотезы $i$-го наблюдения\n"
   ],
   "metadata": {
    "collapsed": false
   }
  },
  {
   "cell_type": "code",
   "execution_count": 4,
   "outputs": [
    {
     "data": {
      "text/plain": "        x     n          n_exp\n0       2   399   0.000000e+00\n1       7   399   0.000000e+00\n2      12   399   0.000000e+00\n3      49   399   0.000000e+00\n4      60   399   0.000000e+00\n5      63   399   0.000000e+00\n6      83   399   0.000000e+00\n7      84   399   0.000000e+00\n8     102   399   0.000000e+00\n9     112   798   0.000000e+00\n10    116   399   0.000000e+00\n11    135   399   0.000000e+00\n12    146   399   0.000000e+00\n13    165   399   0.000000e+00\n14    173   399   0.000000e+00\n15    198   399   0.000000e+00\n16    206   399   0.000000e+00\n17    216   399   0.000000e+00\n18    240  1197   0.000000e+00\n19    245   399   0.000000e+00\n20    277   399   0.000000e+00\n21    307   399   0.000000e+00\n22    309   399   0.000000e+00\n23    317   399   0.000000e+00\n24    350   399   0.000000e+00\n25    382   399   0.000000e+00\n26    392   399   0.000000e+00\n27    421   399   0.000000e+00\n28    455   399   0.000000e+00\n29    557   399   0.000000e+00\n30    658   399   0.000000e+00\n31    682   399   0.000000e+00\n32    706   399   0.000000e+00\n33    812   399   0.000000e+00\n34    843   399   0.000000e+00\n35    860   399   0.000000e+00\n36    954   399   0.000000e+00\n37    998   399   0.000000e+00\n38   1060   399   0.000000e+00\n39   1072   399   0.000000e+00\n40   1490   399  6.387083e-318\n41   1685   399  5.160108e-251\n42   1795   399  1.132729e-217\n43   2076   399  2.100843e-145\n44   2144   399  1.727720e-130\n45   2242   399  1.237972e-110\n46   3448   399   1.150643e+02\n47   3532   399   1.350707e+02\n48   4583   399   3.249261e-65\n49   4992   399  5.734840e-121\n50   5690   399  3.735233e-249\n51   6159   399   0.000000e+00\n52   7712   399   0.000000e+00\n53  16662   399   0.000000e+00\n54  18747   399   0.000000e+00\n55  38839   399   0.000000e+00\n56  72611   399   0.000000e+00",
      "text/html": "<div>\n<style scoped>\n    .dataframe tbody tr th:only-of-type {\n        vertical-align: middle;\n    }\n\n    .dataframe tbody tr th {\n        vertical-align: top;\n    }\n\n    .dataframe thead th {\n        text-align: right;\n    }\n</style>\n<table border=\"1\" class=\"dataframe\">\n  <thead>\n    <tr style=\"text-align: right;\">\n      <th></th>\n      <th>x</th>\n      <th>n</th>\n      <th>n_exp</th>\n    </tr>\n  </thead>\n  <tbody>\n    <tr>\n      <th>0</th>\n      <td>2</td>\n      <td>399</td>\n      <td>0.000000e+00</td>\n    </tr>\n    <tr>\n      <th>1</th>\n      <td>7</td>\n      <td>399</td>\n      <td>0.000000e+00</td>\n    </tr>\n    <tr>\n      <th>2</th>\n      <td>12</td>\n      <td>399</td>\n      <td>0.000000e+00</td>\n    </tr>\n    <tr>\n      <th>3</th>\n      <td>49</td>\n      <td>399</td>\n      <td>0.000000e+00</td>\n    </tr>\n    <tr>\n      <th>4</th>\n      <td>60</td>\n      <td>399</td>\n      <td>0.000000e+00</td>\n    </tr>\n    <tr>\n      <th>5</th>\n      <td>63</td>\n      <td>399</td>\n      <td>0.000000e+00</td>\n    </tr>\n    <tr>\n      <th>6</th>\n      <td>83</td>\n      <td>399</td>\n      <td>0.000000e+00</td>\n    </tr>\n    <tr>\n      <th>7</th>\n      <td>84</td>\n      <td>399</td>\n      <td>0.000000e+00</td>\n    </tr>\n    <tr>\n      <th>8</th>\n      <td>102</td>\n      <td>399</td>\n      <td>0.000000e+00</td>\n    </tr>\n    <tr>\n      <th>9</th>\n      <td>112</td>\n      <td>798</td>\n      <td>0.000000e+00</td>\n    </tr>\n    <tr>\n      <th>10</th>\n      <td>116</td>\n      <td>399</td>\n      <td>0.000000e+00</td>\n    </tr>\n    <tr>\n      <th>11</th>\n      <td>135</td>\n      <td>399</td>\n      <td>0.000000e+00</td>\n    </tr>\n    <tr>\n      <th>12</th>\n      <td>146</td>\n      <td>399</td>\n      <td>0.000000e+00</td>\n    </tr>\n    <tr>\n      <th>13</th>\n      <td>165</td>\n      <td>399</td>\n      <td>0.000000e+00</td>\n    </tr>\n    <tr>\n      <th>14</th>\n      <td>173</td>\n      <td>399</td>\n      <td>0.000000e+00</td>\n    </tr>\n    <tr>\n      <th>15</th>\n      <td>198</td>\n      <td>399</td>\n      <td>0.000000e+00</td>\n    </tr>\n    <tr>\n      <th>16</th>\n      <td>206</td>\n      <td>399</td>\n      <td>0.000000e+00</td>\n    </tr>\n    <tr>\n      <th>17</th>\n      <td>216</td>\n      <td>399</td>\n      <td>0.000000e+00</td>\n    </tr>\n    <tr>\n      <th>18</th>\n      <td>240</td>\n      <td>1197</td>\n      <td>0.000000e+00</td>\n    </tr>\n    <tr>\n      <th>19</th>\n      <td>245</td>\n      <td>399</td>\n      <td>0.000000e+00</td>\n    </tr>\n    <tr>\n      <th>20</th>\n      <td>277</td>\n      <td>399</td>\n      <td>0.000000e+00</td>\n    </tr>\n    <tr>\n      <th>21</th>\n      <td>307</td>\n      <td>399</td>\n      <td>0.000000e+00</td>\n    </tr>\n    <tr>\n      <th>22</th>\n      <td>309</td>\n      <td>399</td>\n      <td>0.000000e+00</td>\n    </tr>\n    <tr>\n      <th>23</th>\n      <td>317</td>\n      <td>399</td>\n      <td>0.000000e+00</td>\n    </tr>\n    <tr>\n      <th>24</th>\n      <td>350</td>\n      <td>399</td>\n      <td>0.000000e+00</td>\n    </tr>\n    <tr>\n      <th>25</th>\n      <td>382</td>\n      <td>399</td>\n      <td>0.000000e+00</td>\n    </tr>\n    <tr>\n      <th>26</th>\n      <td>392</td>\n      <td>399</td>\n      <td>0.000000e+00</td>\n    </tr>\n    <tr>\n      <th>27</th>\n      <td>421</td>\n      <td>399</td>\n      <td>0.000000e+00</td>\n    </tr>\n    <tr>\n      <th>28</th>\n      <td>455</td>\n      <td>399</td>\n      <td>0.000000e+00</td>\n    </tr>\n    <tr>\n      <th>29</th>\n      <td>557</td>\n      <td>399</td>\n      <td>0.000000e+00</td>\n    </tr>\n    <tr>\n      <th>30</th>\n      <td>658</td>\n      <td>399</td>\n      <td>0.000000e+00</td>\n    </tr>\n    <tr>\n      <th>31</th>\n      <td>682</td>\n      <td>399</td>\n      <td>0.000000e+00</td>\n    </tr>\n    <tr>\n      <th>32</th>\n      <td>706</td>\n      <td>399</td>\n      <td>0.000000e+00</td>\n    </tr>\n    <tr>\n      <th>33</th>\n      <td>812</td>\n      <td>399</td>\n      <td>0.000000e+00</td>\n    </tr>\n    <tr>\n      <th>34</th>\n      <td>843</td>\n      <td>399</td>\n      <td>0.000000e+00</td>\n    </tr>\n    <tr>\n      <th>35</th>\n      <td>860</td>\n      <td>399</td>\n      <td>0.000000e+00</td>\n    </tr>\n    <tr>\n      <th>36</th>\n      <td>954</td>\n      <td>399</td>\n      <td>0.000000e+00</td>\n    </tr>\n    <tr>\n      <th>37</th>\n      <td>998</td>\n      <td>399</td>\n      <td>0.000000e+00</td>\n    </tr>\n    <tr>\n      <th>38</th>\n      <td>1060</td>\n      <td>399</td>\n      <td>0.000000e+00</td>\n    </tr>\n    <tr>\n      <th>39</th>\n      <td>1072</td>\n      <td>399</td>\n      <td>0.000000e+00</td>\n    </tr>\n    <tr>\n      <th>40</th>\n      <td>1490</td>\n      <td>399</td>\n      <td>6.387083e-318</td>\n    </tr>\n    <tr>\n      <th>41</th>\n      <td>1685</td>\n      <td>399</td>\n      <td>5.160108e-251</td>\n    </tr>\n    <tr>\n      <th>42</th>\n      <td>1795</td>\n      <td>399</td>\n      <td>1.132729e-217</td>\n    </tr>\n    <tr>\n      <th>43</th>\n      <td>2076</td>\n      <td>399</td>\n      <td>2.100843e-145</td>\n    </tr>\n    <tr>\n      <th>44</th>\n      <td>2144</td>\n      <td>399</td>\n      <td>1.727720e-130</td>\n    </tr>\n    <tr>\n      <th>45</th>\n      <td>2242</td>\n      <td>399</td>\n      <td>1.237972e-110</td>\n    </tr>\n    <tr>\n      <th>46</th>\n      <td>3448</td>\n      <td>399</td>\n      <td>1.150643e+02</td>\n    </tr>\n    <tr>\n      <th>47</th>\n      <td>3532</td>\n      <td>399</td>\n      <td>1.350707e+02</td>\n    </tr>\n    <tr>\n      <th>48</th>\n      <td>4583</td>\n      <td>399</td>\n      <td>3.249261e-65</td>\n    </tr>\n    <tr>\n      <th>49</th>\n      <td>4992</td>\n      <td>399</td>\n      <td>5.734840e-121</td>\n    </tr>\n    <tr>\n      <th>50</th>\n      <td>5690</td>\n      <td>399</td>\n      <td>3.735233e-249</td>\n    </tr>\n    <tr>\n      <th>51</th>\n      <td>6159</td>\n      <td>399</td>\n      <td>0.000000e+00</td>\n    </tr>\n    <tr>\n      <th>52</th>\n      <td>7712</td>\n      <td>399</td>\n      <td>0.000000e+00</td>\n    </tr>\n    <tr>\n      <th>53</th>\n      <td>16662</td>\n      <td>399</td>\n      <td>0.000000e+00</td>\n    </tr>\n    <tr>\n      <th>54</th>\n      <td>18747</td>\n      <td>399</td>\n      <td>0.000000e+00</td>\n    </tr>\n    <tr>\n      <th>55</th>\n      <td>38839</td>\n      <td>399</td>\n      <td>0.000000e+00</td>\n    </tr>\n    <tr>\n      <th>56</th>\n      <td>72611</td>\n      <td>399</td>\n      <td>0.000000e+00</td>\n    </tr>\n  </tbody>\n</table>\n</div>"
     },
     "execution_count": 4,
     "metadata": {},
     "output_type": "execute_result"
    }
   ],
   "source": [
    "sold_ser = data.How_Many_Sold\n",
    "sold_mean = sold_ser.mean()\n",
    "x_tmp, counts_tmp = np.unique(sold_ser, return_counts=True)\n",
    "\n",
    "chi2_sold_df = pd.DataFrame({'x': x_tmp, 'n': counts_tmp})\n",
    "chi2_sold_df['n_exp'] = len(data) * scp.stats.poisson.pmf(k=chi2_sold_df.x, mu=sold_mean)\n",
    "chi2_sold_df"
   ],
   "metadata": {
    "collapsed": false,
    "ExecuteTime": {
     "start_time": "2023-05-06T16:05:00.817940Z",
     "end_time": "2023-05-06T16:05:02.684513Z"
    }
   }
  },
  {
   "cell_type": "markdown",
   "source": [
    "Распределение Пуассона зависит от одного параметра, поэтому статистика имеет распределение хи-квадрат с $N - 2$ степенями свободы. Для вычисления критического значения статистики используется квантиль $1 - \\alpha$ (как и для остальных критериев)"
   ],
   "metadata": {
    "collapsed": false
   }
  },
  {
   "cell_type": "code",
   "execution_count": 5,
   "outputs": [
    {
     "data": {
      "text/plain": "(inf, 73.31149302908324)"
     },
     "execution_count": 5,
     "metadata": {},
     "output_type": "execute_result"
    }
   ],
   "source": [
    "np.sum(((chi2_sold_df.n - chi2_sold_df.n_exp)**2) / chi2_sold_df.n_exp), scp.stats.chi2.isf(alpha, len(chi2_sold_df) - 2)"
   ],
   "metadata": {
    "collapsed": false,
    "ExecuteTime": {
     "start_time": "2023-05-06T16:05:02.684513Z",
     "end_time": "2023-05-06T16:05:02.762846Z"
    }
   }
  },
  {
   "cell_type": "markdown",
   "source": [
    "Вычисленная статистика больше критического значения при уровне значимости $\\alpha$, а значит нулевая гипотеза при выбранном уровне значимости отвергается. Следовательно, аппроксимировать количество проданной обуви распределением Пуассона нельзя"
   ],
   "metadata": {
    "collapsed": false
   }
  },
  {
   "cell_type": "markdown",
   "source": [
    "Для второго вопроса возьмем за нулевую гипотезу предположение о том, что рейтинг имеет нормальное распределение с параметрами, вычисленными методом максимального правдоподобия\n",
    "\n",
    "\\begin{gather}\n",
    "    H_0 = \\text{рейтинг имеет нормальное распределение} \\\\\n",
    "    H_1 = \\neg{H_0}\n",
    "\\end{gather}\n",
    "\n",
    "Используем критерий Колмогорова-Симпсона-Лиллиефорса\n",
    "Статистика критерия вычисляется аналогично статистике критерия Колмогорова-Смирнова:\n",
    "\n",
    "\\begin{equation}\n",
    "    D_n = \\max{\\left(\\max{\\left(\\frac{i}{N} - \\Phi\\left(\\frac{X_{(i)} - \\bar{X}}{s^2_N}\\right)\\right)}, \\max{\\left(\\Phi\\left(\\frac{X_{(i)} - \\bar{X}}{s^2_N}\\right) - \\frac{i - 1}{N}\\right)}\\right)}\n",
    "\\end{equation}\n",
    "\n",
    "для всех $1 \\leq i \\leq N$, где $\\bar{X}$ - выборочная медиана, $s^2_N$ - выборочная несмещенная дисперсия, $X_{(i)}$ - $i$-ый элемент вариационного ряда"
   ],
   "metadata": {
    "collapsed": false
   }
  },
  {
   "cell_type": "code",
   "execution_count": 15,
   "outputs": [
    {
     "data": {
      "text/plain": "(0.23791404729168014, 0.005784608536943777)"
     },
     "execution_count": 15,
     "metadata": {},
     "output_type": "execute_result"
    }
   ],
   "source": [
    "rating_arr = data['RATING'].values\n",
    "rating_mean = rating_arr.mean()\n",
    "rating_var = rating_arr.var()\n",
    "\n",
    "rating_arr.sort()\n",
    "max([max(abs((i + 1) / count) - scp.stats.norm.cdf((rating_arr[i] - rating_mean) / np.sqrt(rating_var)), scp.stats.norm.cdf((rating_arr[i] - rating_mean) / np.sqrt(rating_var)) - i / count) for i in range(count)]), 0.895/((0.83 + count) / np.sqrt(count) - 0.01)"
   ],
   "metadata": {
    "collapsed": false,
    "ExecuteTime": {
     "start_time": "2023-05-06T16:08:37.430981Z",
     "end_time": "2023-05-06T16:08:48.276508Z"
    }
   }
  },
  {
   "cell_type": "markdown",
   "source": [
    "Критическое значение меньше вычисленного значения статистики, а значит нулевая гипотеза отвергается и рейтинг не имеет нормального распределения"
   ],
   "metadata": {
    "collapsed": false
   }
  },
  {
   "cell_type": "markdown",
   "source": [
    "\n",
    "## Задача 2\n",
    "\n",
    "### Условие\n",
    "\n",
    "Верно ли что распределения количества проданных экземпляров существенно не отличаются в зависимости от бренда? Тот же вопрос для цены (по одному тесту на утверждение).\n"
   ],
   "metadata": {
    "collapsed": false
   }
  },
  {
   "cell_type": "markdown",
   "source": [
    "\n",
    "### Решение\n",
    "\n",
    "Нулевой гипотезой в первом вопросе будет гипотеза, что распределение количества проданной обуви одинаково для всех брендов\n",
    "\n",
    "\\begin{gather}\n",
    "    H_0 = \\text{распределение продаж одинаково для всех брендов} \\\\\n",
    "    H_1 = \\neg{H_0}\n",
    "\\end{gather}\n",
    "\n",
    "Используем критерий Крускала-Уоллеса\n"
   ],
   "metadata": {
    "collapsed": false
   }
  },
  {
   "cell_type": "code",
   "execution_count": 7,
   "outputs": [
    {
     "data": {
      "text/plain": "(7904.696328668118, 31.41043284423092)"
     },
     "execution_count": 7,
     "metadata": {},
     "output_type": "execute_result"
    }
   ],
   "source": [
    "sold_ranks = scp.stats.rankdata(data.How_Many_Sold)\n",
    "data_sold_ranks = data.assign(rank_sold=sold_ranks)\n",
    "unique_brands_ranked_df_arr = [data_sold_ranks[data_sold_ranks['Brand_Name'] == name] for name in data_sold_ranks['Brand_Name'].unique()]\n",
    "dividend = divisor = 0\n",
    "for i in range(len(unique_brands_ranked_df_arr)):\n",
    "    brand_df = unique_brands_ranked_df_arr[i]\n",
    "    dividend += len(brand_df) * ((brand_df.rank_sold.mean() - (len(data_sold_ranks) - 1) / 2)**2)\n",
    "    for j in range(len(brand_df)):\n",
    "        divisor += (brand_df.iloc[i].rank_sold - (len(data_sold_ranks) - 1) / 2)**2\n",
    "(len(data_sold_ranks) - 1) * dividend / divisor, scp.stats.chi2.isf(alpha, df=(len(unique_brands_ranked_df_arr) - 1))"
   ],
   "metadata": {
    "collapsed": false,
    "ExecuteTime": {
     "start_time": "2023-05-06T16:05:12.522413Z",
     "end_time": "2023-05-06T16:05:16.891270Z"
    }
   }
  },
  {
   "cell_type": "markdown",
   "source": [
    "Критическое значение меньше вычисленного значения, поэтому нулевая гипотеза отвергается: распределение продаж от бренда к бренду различается"
   ],
   "metadata": {
    "collapsed": false
   }
  },
  {
   "cell_type": "markdown",
   "source": [
    "Во втором вопросе нулевой будет гипотеза, что распределение цены одинаково для всех брендов\n",
    "\n",
    "\\begin{gather}\n",
    "    H_0 = \\text{распределение цен одинаково для всех брендов} \\\\\n",
    "    H_1 = \\neg{H_0}\n",
    "\\end{gather}\n",
    "\n",
    "Используем критерий хи-квадрат"
   ],
   "metadata": {
    "collapsed": false
   }
  },
  {
   "cell_type": "code",
   "execution_count": 8,
   "outputs": [
    {
     "data": {
      "text/plain": "(413915.0000000054, 1082.9731737565853)"
     },
     "execution_count": 8,
     "metadata": {},
     "output_type": "execute_result"
    }
   ],
   "source": [
    "unique_brands_df_arr = [data[data['Brand_Name'] == name] for name in data['Brand_Name'].unique()]\n",
    "price_freq_df_arr = [pd.DataFrame(np.unique(unique_brands_df_arr[i].Current_Price, return_counts=True)).transpose().rename(columns={0: 'price', 1: 'freq'}) for i in range(len(unique_brands_df_arr))]\n",
    "stat = 0\n",
    "for i in range(len(price_freq_df_arr)):\n",
    "    brand_df = price_freq_df_arr[i]\n",
    "    for price in data['Current_Price'].unique():\n",
    "        if not np.isnan(price):\n",
    "            stat += (np.sum(brand_df[brand_df.price == price].freq) - brand_df.freq.sum() * (len(data[data.Current_Price == price]) / len(data)))**2 / (brand_df.freq.sum() * (len(data[data.Current_Price == price]) / len(data)))\n",
    "        else:\n",
    "            stat += (np.sum(brand_df[brand_df.price.isna()].freq) - brand_df.freq.sum() * (len(data[data.Current_Price.isna()]) / len(data)))**2 / (brand_df.freq.sum() * (len(data[data.Current_Price.isna()]) / len(data)))\n",
    "stat, scp.stats.chi2.isf(alpha, df=((len(data['Current_Price'].unique()) - 1) * len(price_freq_df_arr)))"
   ],
   "metadata": {
    "collapsed": false,
    "ExecuteTime": {
     "start_time": "2023-05-06T16:05:16.906896Z",
     "end_time": "2023-05-06T16:05:18.879953Z"
    }
   }
  },
  {
   "cell_type": "markdown",
   "source": [
    "Статистика больше критического значения, поэтому гипотеза, что распределение цен для всех брендов одинаково отвергается"
   ],
   "metadata": {
    "collapsed": false
   }
  },
  {
   "cell_type": "markdown",
   "source": [
    "\n",
    "## Задача 3\n",
    "\n",
    "### Условие\n",
    "\n",
    "Есть подозрение, что рейтинг зависит от цены. Проверить данное предположение"
   ],
   "metadata": {
    "collapsed": false
   }
  },
  {
   "cell_type": "markdown",
   "source": [
    "\n",
    "### Решение\n",
    "\n",
    "За нулевую гипотезу возьму предположение, что рейтинг и цена независимы, альтернативой будет обратное - что они зависимы\n",
    "\n",
    " \\begin{gather}\n",
    "    H_0 = \\text{рейтинг не зависит от цены} \\\\\n",
    "    H_1 = \\neg{H_0}\n",
    "\\end{gather}\n",
    "\n",
    "Для корректности работы критериев буду оценивать независимость только тех данных, в которых нет NaN-значений, отклонив $798$ строк (около $3\\%$ значений)"
   ],
   "metadata": {
    "collapsed": false
   }
  },
  {
   "cell_type": "code",
   "execution_count": 9,
   "outputs": [],
   "source": [
    "rating_ser = data[~data['Current_Price'].isna()].RATING #type: pd.Series\n",
    "sold_ser = data[~data['Current_Price'].isna()].Current_Price #type: pd.Series\n",
    "\n",
    "rating_ser_mean = rating_ser.mean()\n",
    "sold_ser_mean = sold_ser.mean()\n",
    "\n",
    "rating_ser_var = rating_ser.var()\n",
    "sold_ser_var = sold_ser.var()"
   ],
   "metadata": {
    "collapsed": false,
    "ExecuteTime": {
     "start_time": "2023-05-06T16:05:18.879953Z",
     "end_time": "2023-05-06T16:05:18.974974Z"
    }
   }
  },
  {
   "cell_type": "markdown",
   "source": [
    "Первым критерием будет критерий, основанный на коэффициенте корреляции Пирсона"
   ],
   "metadata": {
    "collapsed": false
   }
  },
  {
   "cell_type": "code",
   "execution_count": 10,
   "outputs": [
    {
     "data": {
      "text/plain": "0.0006683352822727228"
     },
     "execution_count": 10,
     "metadata": {},
     "output_type": "execute_result"
    }
   ],
   "source": [
    "pearson_corr = (1 / (len(rating_ser) - 1) * np.sum((rating_ser - rating_ser_mean) * (sold_ser - sold_ser_mean))) / np.sqrt(rating_ser_var * sold_ser_var)\n",
    "pearson_corr"
   ],
   "metadata": {
    "collapsed": false,
    "ExecuteTime": {
     "start_time": "2023-05-06T16:05:18.912250Z",
     "end_time": "2023-05-06T16:05:18.974974Z"
    }
   }
  },
  {
   "cell_type": "code",
   "execution_count": 11,
   "outputs": [
    {
     "data": {
      "text/plain": "(0.10166609977242959, 1.6449194796102362)"
     },
     "execution_count": 11,
     "metadata": {},
     "output_type": "execute_result"
    }
   ],
   "source": [
    "(pearson_corr * np.sqrt(len(rating_ser) - 2)) / np.sqrt(1 - pearson_corr**2), scp.stats.t.isf(0.05, df=(len(rating_ser) - 2))"
   ],
   "metadata": {
    "collapsed": false,
    "ExecuteTime": {
     "start_time": "2023-05-06T16:05:18.959461Z",
     "end_time": "2023-05-06T16:05:18.990512Z"
    }
   }
  },
  {
   "cell_type": "markdown",
   "source": [
    "Статистика меньше критического значения, значит нет оснований для отклонения нулевой гипотезы"
   ],
   "metadata": {
    "collapsed": false
   }
  },
  {
   "cell_type": "markdown",
   "source": [
    "Вторым будет критерий Спирмена"
   ],
   "metadata": {
    "collapsed": false
   }
  },
  {
   "cell_type": "code",
   "execution_count": 12,
   "outputs": [
    {
     "data": {
      "text/plain": "0.00047479636526410985"
     },
     "execution_count": 12,
     "metadata": {},
     "output_type": "execute_result"
    }
   ],
   "source": [
    "rating_ranks = scp.stats.rankdata(rating_ser)\n",
    "sold_ranks = scp.stats.rankdata(sold_ser)\n",
    "\n",
    "rating_ranks_mean = rating_ranks.mean()\n",
    "sold_ranks_mean = sold_ranks.mean()\n",
    "\n",
    "rating_ranks_var = rating_ranks.var()\n",
    "sold_ranks_var = sold_ranks.var()\n",
    "\n",
    "spearman_corr = (1 / (len(rating_ranks) - 1) * np.sum((rating_ranks - rating_ranks_mean) * (sold_ranks - sold_ranks_mean))) / np.sqrt(rating_ranks_var * sold_ranks_var)\n",
    "spearman_corr"
   ],
   "metadata": {
    "collapsed": false,
    "ExecuteTime": {
     "start_time": "2023-05-06T16:05:18.974974Z",
     "end_time": "2023-05-06T16:05:19.100094Z"
    }
   }
  },
  {
   "cell_type": "code",
   "execution_count": 13,
   "outputs": [
    {
     "data": {
      "text/plain": "(0.07222525966108365, 1.6449194796102362)"
     },
     "execution_count": 13,
     "metadata": {},
     "output_type": "execute_result"
    }
   ],
   "source": [
    "(spearman_corr * np.sqrt(len(rating_ranks) - 2)) / np.sqrt(1 - spearman_corr**2), scp.stats.t.isf(0.05, df=(len(rating_ranks) - 2))"
   ],
   "metadata": {
    "collapsed": false,
    "ExecuteTime": {
     "start_time": "2023-05-06T16:05:19.006374Z",
     "end_time": "2023-05-06T16:05:19.115521Z"
    }
   }
  },
  {
   "cell_type": "markdown",
   "source": [
    "Снова, статистика меньше критического значения, поэтому нулевая гипотеза не отклоняется"
   ],
   "metadata": {
    "collapsed": false
   }
  },
  {
   "cell_type": "markdown",
   "source": [
    "Исходя из результатов используемых критериев, нулевая гипотеза принимается"
   ],
   "metadata": {
    "collapsed": false
   }
  }
 ],
 "metadata": {
  "kernelspec": {
   "display_name": "Python 3",
   "language": "python",
   "name": "python3"
  },
  "language_info": {
   "codemirror_mode": {
    "name": "ipython",
    "version": 2
   },
   "file_extension": ".py",
   "mimetype": "text/x-python",
   "name": "python",
   "nbconvert_exporter": "python",
   "pygments_lexer": "ipython2",
   "version": "2.7.6"
  }
 },
 "nbformat": 4,
 "nbformat_minor": 0
}
