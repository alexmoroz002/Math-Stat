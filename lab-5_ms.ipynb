{
 "cells": [
  {
   "cell_type": "markdown",
   "metadata": {
    "collapsed": false
   },
   "source": [
    "\n",
    "# Лабораторная работа 5\n",
    "\n",
    "## Выполнил: Морозов Алексей, М32071\n",
    "\n",
    "## Вариант: 9, задание: 2\n"
   ]
  },
  {
   "cell_type": "code",
   "execution_count": 1,
   "metadata": {
    "ExecuteTime": {
     "end_time": "2023-05-29T18:19:41.072438600Z",
     "start_time": "2023-05-29T18:19:39.331767Z"
    },
    "collapsed": true
   },
   "outputs": [],
   "source": [
    "import numpy as np\n",
    "import scipy as scp\n",
    "import matplotlib as mlt\n",
    "import matplotlib.pyplot as plt\n",
    "import pandas as pd\n",
    "\n",
    "import sklearn.linear_model as lm\n",
    "\n",
    "import matplotlib.axes._axes as axes\n",
    "import matplotlib.figure as figure"
   ]
  },
  {
   "cell_type": "markdown",
   "metadata": {
    "collapsed": false
   },
   "source": [
    "\n",
    "## Условие\n",
    "\n",
    "В файле $mobile\\_phones.cvs$ представлены данные о мобильных телефонах\n",
    "\n",
    "1. Построить линейную модель, где в качестве независимых переменных выступают высота, ширина экрана (атрибуты $sc\\_h$ и $sc\\_w$) и емкость аккумулятора (вместе со свободным коэффициентом), зависимой – масса телефона, вычислить оценки коэффициентов модели и остаточной дисперсии, построить для них доверительные интервалы, вычислить коэффициент детерминации\n",
    "2. Проверить следующие подозрения:\n",
    "    * Чем больше высота экрана, тем больше масса\n",
    "    * Чем больше ширина экрана, тем больше масса\n",
    "    * Масса зависит и от ширины экрана, и от емкости аккумулятора"
   ]
  },
  {
   "cell_type": "markdown",
   "metadata": {
    "collapsed": false
   },
   "source": [
    "\n",
    "## Решение\n",
    "\n",
    "### Построение модели\n"
   ]
  },
  {
   "cell_type": "markdown",
   "metadata": {
    "collapsed": false
   },
   "source": [
    "Введем константу $u = 1$"
   ]
  },
  {
   "cell_type": "code",
   "execution_count": 2,
   "metadata": {
    "ExecuteTime": {
     "end_time": "2023-05-29T18:19:41.116275600Z",
     "start_time": "2023-05-29T18:19:41.073846100Z"
    },
    "collapsed": false
   },
   "outputs": [
    {
     "data": {
      "text/html": [
       "<div>\n",
       "<style scoped>\n",
       "    .dataframe tbody tr th:only-of-type {\n",
       "        vertical-align: middle;\n",
       "    }\n",
       "\n",
       "    .dataframe tbody tr th {\n",
       "        vertical-align: top;\n",
       "    }\n",
       "\n",
       "    .dataframe thead th {\n",
       "        text-align: right;\n",
       "    }\n",
       "</style>\n",
       "<table border=\"1\" class=\"dataframe\">\n",
       "  <thead>\n",
       "    <tr style=\"text-align: right;\">\n",
       "      <th></th>\n",
       "      <th>sc_h</th>\n",
       "      <th>sc_w</th>\n",
       "      <th>battery_power</th>\n",
       "      <th>mobile_wt</th>\n",
       "      <th>u</th>\n",
       "    </tr>\n",
       "  </thead>\n",
       "  <tbody>\n",
       "    <tr>\n",
       "      <th>0</th>\n",
       "      <td>9</td>\n",
       "      <td>7</td>\n",
       "      <td>842</td>\n",
       "      <td>188</td>\n",
       "      <td>1</td>\n",
       "    </tr>\n",
       "    <tr>\n",
       "      <th>1</th>\n",
       "      <td>17</td>\n",
       "      <td>3</td>\n",
       "      <td>1021</td>\n",
       "      <td>136</td>\n",
       "      <td>1</td>\n",
       "    </tr>\n",
       "    <tr>\n",
       "      <th>2</th>\n",
       "      <td>11</td>\n",
       "      <td>2</td>\n",
       "      <td>563</td>\n",
       "      <td>145</td>\n",
       "      <td>1</td>\n",
       "    </tr>\n",
       "    <tr>\n",
       "      <th>3</th>\n",
       "      <td>16</td>\n",
       "      <td>8</td>\n",
       "      <td>615</td>\n",
       "      <td>131</td>\n",
       "      <td>1</td>\n",
       "    </tr>\n",
       "    <tr>\n",
       "      <th>4</th>\n",
       "      <td>8</td>\n",
       "      <td>2</td>\n",
       "      <td>1821</td>\n",
       "      <td>141</td>\n",
       "      <td>1</td>\n",
       "    </tr>\n",
       "    <tr>\n",
       "      <th>...</th>\n",
       "      <td>...</td>\n",
       "      <td>...</td>\n",
       "      <td>...</td>\n",
       "      <td>...</td>\n",
       "      <td>...</td>\n",
       "    </tr>\n",
       "    <tr>\n",
       "      <th>1995</th>\n",
       "      <td>13</td>\n",
       "      <td>4</td>\n",
       "      <td>794</td>\n",
       "      <td>106</td>\n",
       "      <td>1</td>\n",
       "    </tr>\n",
       "    <tr>\n",
       "      <th>1996</th>\n",
       "      <td>11</td>\n",
       "      <td>10</td>\n",
       "      <td>1965</td>\n",
       "      <td>187</td>\n",
       "      <td>1</td>\n",
       "    </tr>\n",
       "    <tr>\n",
       "      <th>1997</th>\n",
       "      <td>9</td>\n",
       "      <td>1</td>\n",
       "      <td>1911</td>\n",
       "      <td>108</td>\n",
       "      <td>1</td>\n",
       "    </tr>\n",
       "    <tr>\n",
       "      <th>1998</th>\n",
       "      <td>18</td>\n",
       "      <td>10</td>\n",
       "      <td>1512</td>\n",
       "      <td>145</td>\n",
       "      <td>1</td>\n",
       "    </tr>\n",
       "    <tr>\n",
       "      <th>1999</th>\n",
       "      <td>19</td>\n",
       "      <td>4</td>\n",
       "      <td>510</td>\n",
       "      <td>168</td>\n",
       "      <td>1</td>\n",
       "    </tr>\n",
       "  </tbody>\n",
       "</table>\n",
       "<p>2000 rows × 5 columns</p>\n",
       "</div>"
      ],
      "text/plain": [
       "      sc_h  sc_w  battery_power  mobile_wt  u\n",
       "0        9     7            842        188  1\n",
       "1       17     3           1021        136  1\n",
       "2       11     2            563        145  1\n",
       "3       16     8            615        131  1\n",
       "4        8     2           1821        141  1\n",
       "...    ...   ...            ...        ... ..\n",
       "1995    13     4            794        106  1\n",
       "1996    11    10           1965        187  1\n",
       "1997     9     1           1911        108  1\n",
       "1998    18    10           1512        145  1\n",
       "1999    19     4            510        168  1\n",
       "\n",
       "[2000 rows x 5 columns]"
      ]
     },
     "execution_count": 2,
     "metadata": {},
     "output_type": "execute_result"
    }
   ],
   "source": [
    "df_all = pd.read_csv('mobile_phones.csv')[['sc_h', 'sc_w', 'battery_power', 'mobile_wt']]\n",
    "df_all['u'] = 1\n",
    "df_all"
   ]
  },
  {
   "cell_type": "markdown",
   "metadata": {
    "collapsed": false
   },
   "source": [
    "Уравнение регрессии $4$ параметров имеет вид\n",
    "\\begin{equation}\n",
    "    f = ax + by + cz + du = ax + by + cz + d\n",
    "\\end{equation}\n",
    "Найдем коэффициенты методом наименьших квадратов"
   ]
  },
  {
   "cell_type": "code",
   "execution_count": 3,
   "metadata": {
    "ExecuteTime": {
     "end_time": "2023-05-29T18:19:41.194590700Z",
     "start_time": "2023-05-29T18:19:41.107299600Z"
    },
    "collapsed": false
   },
   "outputs": [
    {
     "data": {
      "text/plain": [
       "array([-2.63548169e-01, -3.95486159e-02,  6.44803879e-05,  1.43640572e+02])"
      ]
     },
     "execution_count": 3,
     "metadata": {},
     "output_type": "execute_result"
    }
   ],
   "source": [
    "x_data = df_all[['sc_h', 'sc_w', 'battery_power', 'u']]\n",
    "y_data = df_all['mobile_wt']\n",
    "coef = scp.optimize.lsq_linear(x_data, y_data).x\n",
    "coef"
   ]
  },
  {
   "cell_type": "markdown",
   "metadata": {
    "collapsed": false
   },
   "source": [
    "Полученное уравнение"
   ]
  },
  {
   "cell_type": "code",
   "execution_count": 4,
   "metadata": {
    "ExecuteTime": {
     "end_time": "2023-05-29T18:19:41.242463300Z",
     "start_time": "2023-05-29T18:19:41.135225200Z"
    },
    "collapsed": false
   },
   "outputs": [
    {
     "name": "stdout",
     "output_type": "stream",
     "text": [
      "f = -0.2635481693123999x + -0.03954861594447834y + 6.448038790873476e-05z + 143.64057226048243\n"
     ]
    }
   ],
   "source": [
    "print(f'f = {coef[0]}x + {coef[1]}y + {coef[2]}z + {coef[3]}')"
   ]
  },
  {
   "cell_type": "code",
   "execution_count": 5,
   "metadata": {
    "ExecuteTime": {
     "end_time": "2023-05-29T18:19:41.254431700Z",
     "start_time": "2023-05-29T18:19:41.204562600Z"
    },
    "collapsed": false
   },
   "outputs": [],
   "source": [
    "fred_deg = len(x_data) - len(coef)"
   ]
  },
  {
   "cell_type": "code",
   "execution_count": 6,
   "metadata": {
    "ExecuteTime": {
     "end_time": "2023-05-29T18:19:41.271891100Z",
     "start_time": "2023-05-29T18:19:41.211543300Z"
    },
    "collapsed": false
   },
   "outputs": [
    {
     "name": "stdout",
     "output_type": "stream",
     "text": [
      "Остаточная дисперсия 1253.557630585452\n"
     ]
    }
   ],
   "source": [
    "ssr = np.sum((y_data - x_data @ coef)**2)\n",
    "var_resid = ssr / fred_deg\n",
    "print('Остаточная дисперсия', var_resid)"
   ]
  },
  {
   "cell_type": "code",
   "execution_count": 7,
   "metadata": {
    "ExecuteTime": {
     "end_time": "2023-05-29T18:19:41.271891100Z",
     "start_time": "2023-05-29T18:19:41.227500500Z"
    },
    "collapsed": false
   },
   "outputs": [
    {
     "name": "stdout",
     "output_type": "stream",
     "text": [
      "Коэффициент детерминации -0.0003368061790351984\n"
     ]
    }
   ],
   "source": [
    "r_sq = 1 - var_resid / y_data.var()\n",
    "print('Коэффициент детерминации', r_sq)"
   ]
  },
  {
   "cell_type": "markdown",
   "metadata": {
    "collapsed": false
   },
   "source": [
    "Для получения дисперсий коэффициентов и построения для них доверительных интервалов построим матрицу ковариаций, диагональные элементы которой равны дисперсии $i$-ого коэффициента"
   ]
  },
  {
   "cell_type": "code",
   "execution_count": 8,
   "metadata": {
    "ExecuteTime": {
     "end_time": "2023-05-29T18:19:41.273886600Z",
     "start_time": "2023-05-29T18:19:41.243460400Z"
    },
    "collapsed": false
   },
   "outputs": [
    {
     "data": {
      "text/plain": [
       "array([[ 4.75165494e-02, -2.32411013e-02,  8.71347946e-06,\n",
       "        -4.61522790e-01],\n",
       "       [-2.32411013e-02,  4.44255349e-02,  2.75853091e-06,\n",
       "         2.63980615e-02],\n",
       "       [ 8.71347946e-06,  2.75853091e-06,  3.25078512e-06,\n",
       "        -4.14929839e-03],\n",
       "       [-4.61522790e-01,  2.63980615e-02, -4.14929839e-03,\n",
       "         1.12932542e+01]])"
      ]
     },
     "execution_count": 8,
     "metadata": {},
     "output_type": "execute_result"
    }
   ],
   "source": [
    "cov_mat = var_resid * np.linalg.inv(x_data.T @ x_data)\n",
    "cov_mat"
   ]
  },
  {
   "cell_type": "code",
   "execution_count": 9,
   "metadata": {
    "ExecuteTime": {
     "end_time": "2023-05-29T18:19:41.346389500Z",
     "start_time": "2023-05-29T18:19:41.256928800Z"
    },
    "collapsed": false
   },
   "outputs": [
    {
     "name": "stdout",
     "output_type": "stream",
     "text": [
      "Доверительные интервалы коэффициентов\n",
      "0: -0.6910460538769582 < -0.2635481693123999 < 0.1639497152521584\n",
      "1: -0.45290805116435595 < -0.03954861594447834 < 0.3738108192753993\n",
      "2: -0.003471465855209316 < 6.448038790873476e-05 < 0.0036004266310267854\n",
      "3: 137.05003112925993 < 143.64057226048243 < 150.23111339170492\n"
     ]
    }
   ],
   "source": [
    "print('Доверительные интервалы коэффициентов')\n",
    "for i in range(len(coef)):\n",
    "    print(f'{i}: {coef[i] - scp.stats.t.isf(0.05 / 2, fred_deg) * np.sqrt(cov_mat[i][i])} < {coef[i]} < {coef[i] + scp.stats.t.isf(0.05 / 2, fred_deg) * np.sqrt(cov_mat[i][i])}')"
   ]
  },
  {
   "cell_type": "code",
   "execution_count": 10,
   "metadata": {
    "ExecuteTime": {
     "end_time": "2023-05-29T18:19:41.367348Z",
     "start_time": "2023-05-29T18:19:41.272888700Z"
    },
    "collapsed": false
   },
   "outputs": [
    {
     "name": "stdout",
     "output_type": "stream",
     "text": [
      "Доверительный интервал остаточной дисперсии\n",
      "1179.2805226501582 < 1253.557630585452 < 1335.1160518152021\n"
     ]
    }
   ],
   "source": [
    "print('Доверительный интервал остаточной дисперсии')\n",
    "print(f'{ssr / scp.stats.chi2.isf(0.05 / 2, fred_deg)} < {var_resid} < {ssr / scp.stats.chi2.ppf(0.05 / 2, fred_deg)}')"
   ]
  },
  {
   "cell_type": "markdown",
   "metadata": {
    "collapsed": false
   },
   "source": [
    "\n",
    "### Проверка гипотез\n"
   ]
  },
  {
   "cell_type": "markdown",
   "metadata": {
    "collapsed": false
   },
   "source": [
    "Используем $F$-критерий"
   ]
  },
  {
   "cell_type": "markdown",
   "metadata": {
    "collapsed": false
   },
   "source": [
    "\\begin{gather}\n",
    "    H_0: \\text{a=0, масса не зависит от высоты экрана} \\\\\n",
    "    H_1: \\neg{H_0}\n",
    "\\end{gather}"
   ]
  },
  {
   "cell_type": "code",
   "execution_count": 20,
   "metadata": {
    "ExecuteTime": {
     "end_time": "2023-05-29T18:31:31.603877200Z",
     "start_time": "2023-05-29T18:31:31.556000800Z"
    },
    "collapsed": false
   },
   "outputs": [
    {
     "name": "stdout",
     "output_type": "stream",
     "text": [
      "p-value 0.22679400279494932\n"
     ]
    }
   ],
   "source": [
    "x_data_r = df_all[['sc_w', 'battery_power', 'u']]\n",
    "res_r = scp.optimize.lsq_linear(x_data_r, y_data)\n",
    "coef_r = res_r.x\n",
    "\n",
    "ssr_r = np.sum((y_data - x_data_r @ coef_r)**2)\n",
    "f = ((ssr_r - ssr) / ssr) * fred_deg / 1\n",
    "p = 1 - scp.stats.f.cdf(f, 1, fred_deg)\n",
    "print('p-value', p)"
   ]
  },
  {
   "cell_type": "markdown",
   "metadata": {
    "collapsed": false
   },
   "source": [
    "\\begin{gather}\n",
    "    H_0: \\text{b=0, масса не зависит от ширины экрана} \\\\\n",
    "    H_1: \\neg{H_0}\n",
    "\\end{gather}"
   ]
  },
  {
   "cell_type": "code",
   "execution_count": 21,
   "metadata": {
    "ExecuteTime": {
     "end_time": "2023-05-29T18:31:33.793226600Z",
     "start_time": "2023-05-29T18:31:33.770285900Z"
    },
    "collapsed": false
   },
   "outputs": [
    {
     "name": "stdout",
     "output_type": "stream",
     "text": [
      "p-value 0.851181484918942\n"
     ]
    }
   ],
   "source": [
    "x_data_r = df_all[['sc_h', 'battery_power', 'u']]\n",
    "res_r = scp.optimize.lsq_linear(x_data_r, y_data)\n",
    "coef_r = res_r.x\n",
    "\n",
    "ssr_r = np.sum((y_data - x_data_r @ coef_r) ** 2)\n",
    "f = ((ssr_r - ssr) / ssr) * fred_deg / 1\n",
    "p = 1 - scp.stats.f.cdf(f, 1, fred_deg)\n",
    "print('p-value', p)"
   ]
  },
  {
   "cell_type": "markdown",
   "metadata": {
    "collapsed": false
   },
   "source": [
    "\\begin{gather}\n",
    "    H_0: \\text{b=c=0, масса не зависит от ширины и емкости аккумулятора} \\\\\n",
    "    H_1: \\neg{H_0}\n",
    "\\end{gather}"
   ]
  },
  {
   "cell_type": "code",
   "execution_count": 22,
   "metadata": {
    "ExecuteTime": {
     "end_time": "2023-05-29T18:31:36.120678100Z",
     "start_time": "2023-05-29T18:31:36.110704100Z"
    },
    "collapsed": false
   },
   "outputs": [
    {
     "name": "stdout",
     "output_type": "stream",
     "text": [
      "p-value 0.9818737559869272\n"
     ]
    }
   ],
   "source": [
    "x_data_r = df_all[['sc_h', 'u']]\n",
    "res_r = scp.optimize.lsq_linear(x_data_r, y_data)\n",
    "coef_r = res_r.x\n",
    "\n",
    "ssr_r = np.sum((y_data - x_data_r @ coef_r) ** 2)\n",
    "f = ((ssr_r - ssr) / ssr) * fred_deg / 2\n",
    "p = 1 - scp.stats.f.cdf(f, 2, fred_deg)\n",
    "print('p-value', p)"
   ]
  },
  {
   "cell_type": "markdown",
   "metadata": {
    "collapsed": false
   },
   "source": [
    "Во всех случаях значение $p-value$ больше уровня значимости $\\alpha=0.05$, поэтому все три гипотезы принимаются"
   ]
  },
  {
   "cell_type": "code",
   "execution_count": 23,
   "metadata": {
    "ExecuteTime": {
     "end_time": "2023-05-29T18:31:37.813479700Z",
     "start_time": "2023-05-29T18:31:37.793026700Z"
    },
    "collapsed": false
   },
   "outputs": [
    {
     "name": "stdout",
     "output_type": "stream",
     "text": [
      "p-value 0.851181484918942\n"
     ]
    }
   ],
   "source": [
    "x_data_r1 = df_all[['sc_h', 'battery_power', 'u']]\n",
    "coef_r1 = scp.optimize.lsq_linear(x_data_r1, y_data).x\n",
    "\n",
    "ssr_r1 = np.sum((y_data - x_data_r1 @ coef_r1) ** 2)\n",
    "f1 = ((ssr_r1 - ssr) / ssr) * fred_deg / 1\n",
    "p1 = 1 - scp.stats.f.cdf(f1, 1, fred_deg)\n",
    "\n",
    "x_data_r2 = df_all[['sc_h', 'sc_w', 'u']]\n",
    "coef_r2 = scp.optimize.lsq_linear(x_data_r2, y_data).x\n",
    "\n",
    "ssr_r2 = np.sum((y_data - x_data_r2 @ coef_r2) ** 2)\n",
    "f2 = ((ssr_r2 - ssr) / ssr) * fred_deg / 1\n",
    "p2 = 1 - scp.stats.f.cdf(f2, 1, fred_deg)\n",
    "\n",
    "print('p-value', min(p1, p2))"
   ]
  },
  {
   "cell_type": "markdown",
   "metadata": {
    "collapsed": false
   },
   "source": []
  }
 ],
 "metadata": {
  "kernelspec": {
   "display_name": "Python 3",
   "language": "python",
   "name": "python3"
  },
  "language_info": {
   "codemirror_mode": {
    "name": "ipython",
    "version": 2
   },
   "file_extension": ".py",
   "mimetype": "text/x-python",
   "name": "python",
   "nbconvert_exporter": "python",
   "pygments_lexer": "ipython2",
   "version": "3.11.3"
  }
 },
 "nbformat": 4,
 "nbformat_minor": 0
}
