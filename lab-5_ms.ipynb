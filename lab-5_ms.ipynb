{
 "cells": [
  {
   "cell_type": "markdown",
   "source": [
    "\n",
    "# Лабораторная работа 5\n",
    "\n",
    "## Выполнил: Морозов Алексей, М32071\n",
    "\n",
    "## Вариант: 9, задание: 2\n"
   ],
   "metadata": {
    "collapsed": false
   }
  },
  {
   "cell_type": "code",
   "execution_count": null,
   "metadata": {
    "collapsed": true
   },
   "outputs": [],
   "source": [
    "import numpy as np\n",
    "import scipy as scp\n",
    "import matplotlib as mlt\n",
    "import matplotlib.pyplot as plt\n",
    "import pandas as pd\n",
    "\n",
    "import matplotlib.axes._axes as axes\n",
    "import matplotlib.figure as figure"
   ]
  },
  {
   "cell_type": "markdown",
   "source": [
    "\n",
    "## Условие\n",
    "\n",
    "В файле $mobile\\_phones.cvs$ представлены данные о мобильных телефонах\n",
    "\n",
    "1. Построить линейную модель, где в качестве независимых переменных выступают высота, ширина экрана (атрибуты $sc\\_h$ и $sc\\_w$) и емкость аккумулятора (вместе со свободным коэффициентом), зависимой – масса телефона, вычислить оценки коэффициентов модели и остаточной дисперсии, построить для них доверительные интервалы, вычислить коэффициент детерминации\n",
    "2. Проверить следующие подозрения:\n",
    "    * Чем больше высота экрана, тем больше масса\n",
    "    * Чем больше ширина экрана, тем больше масса\n",
    "    * Масса зависит и от ширины экрана, и от емкости аккумулятора"
   ],
   "metadata": {
    "collapsed": false
   }
  },
  {
   "cell_type": "markdown",
   "source": [
    "\n",
    "## Решение\n",
    "\n",
    "### Задача 1\n"
   ],
   "metadata": {
    "collapsed": false
   }
  }
 ],
 "metadata": {
  "kernelspec": {
   "display_name": "Python 3",
   "language": "python",
   "name": "python3"
  },
  "language_info": {
   "codemirror_mode": {
    "name": "ipython",
    "version": 2
   },
   "file_extension": ".py",
   "mimetype": "text/x-python",
   "name": "python",
   "nbconvert_exporter": "python",
   "pygments_lexer": "ipython2",
   "version": "2.7.6"
  }
 },
 "nbformat": 4,
 "nbformat_minor": 0
}
