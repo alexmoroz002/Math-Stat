{
 "cells": [
  {
   "cell_type": "markdown",
   "metadata": {},
   "source": [
    "\n",
    "# Лабораторная работа 2\n",
    "\n",
    "## Выполнил: Морозов Алексей, группа М32071\n",
    "\n",
    "## Вариант: 9, задачи 3, 5\n"
   ]
  },
  {
   "cell_type": "code",
   "execution_count": 12,
   "metadata": {
    "ExecuteTime": {
     "end_time": "2023-03-29T03:39:41.276652Z",
     "start_time": "2023-03-29T03:39:41.255936Z"
    }
   },
   "outputs": [],
   "source": [
    "import numpy as np\n",
    "import plotly.express as px\n",
    "import pandas as pd\n",
    "import scipy.stats as stats\n",
    "import plotly\n",
    "import plotly.graph_objs as go\n",
    "from plotly.subplots import make_subplots\n",
    "\n",
    "theme = 'plotly_dark'"
   ]
  },
  {
   "cell_type": "markdown",
   "metadata": {},
   "source": [
    "\n",
    "## Задача 1\n",
    "\n",
    "### Условие\n",
    "\n",
    "Методом максимального правдоподобия найти оценку параметра $\\theta$ биномиального распределения $Bin(n, \\theta)$, считая $n$ известным. Найти смещение оценки, дисперсию, среднеквадратическую ошибку. Является ли найденная оценка эффективной? Эксперимент при $n = 4$, $\\theta = \\frac{1}{5}$\n",
    "\n",
    "Сгенерируйте $500$ выборок объема $50$ с указанным значением параметра $\\theta$. Сколько раз оценка отклонится от истинного значения параметра более чем на $0.01$? То же самое сделать для объемов выборки $100$, $500$, $1000$, $2500$. Визуализируйте результат. Как объяснить полученный результат?"
   ]
  },
  {
   "cell_type": "code",
   "execution_count": 13,
   "metadata": {
    "ExecuteTime": {
     "end_time": "2023-03-29T03:39:41.319248Z",
     "start_time": "2023-03-29T03:39:41.261965Z"
    }
   },
   "outputs": [],
   "source": [
    "n1 = 4\n",
    "theta1 = 1/5\n",
    "gen_count = 500\n",
    "eps = 0.01"
   ]
  },
  {
   "cell_type": "markdown",
   "metadata": {},
   "source": [
    "\n",
    "### Решение\n",
    "\n",
    "Функция вероятности для биномиального распределения имеет вид\n",
    "\\begin{equation}\n",
    "    p_Y\\left(y\\right) = P\\left(Y = y\\right) = \\binom{n}{y}\\theta^{y}\\left(1-\\theta\\right)^{n-y}\n",
    "\\end{equation}\n",
    "\n",
    "Пусть в результате $k$ испытаний при некотором значении параметра $\\theta$ была получена выборка $X=\\left(X_1,...,X_k\\right)$. Так как распределение дискретно, вероятность, что величина $X$ примет значение $x_i$ при данном значении параметра равна $p_Y\\left(x_i,\\theta\\right)=P_\\theta\\left(Y=x_i\\right)$\n",
    "\n",
    "Тогда можно ввести функцию правдоподобия $f\\left(X,\\theta\\right)$ такую, что\n",
    "\\begin{equation}\n",
    "    f\\left(X,\\theta\\right)=\\prod_{i=1}^{k}p_Y\\left(x_i,\\theta\\right)\n",
    "\\end{equation}\n",
    "и ее логарифмический аналог\n",
    "\\begin{equation}\n",
    "    L\\left(X,\\theta\\right)=\\ln f\\left(X,\\theta\\right)\n",
    "\\end{equation}\n",
    "\n",
    "Оценка $\\hat{\\theta}$ параметра $\\theta$ будет равна точке максимума функций $f\\left(X,\\theta\\right)$ и $L\\left(X,\\theta\\right)$ (так как их максимумы из-за монотонности $\\ln$ совпадают)"
   ]
  },
  {
   "cell_type": "markdown",
   "metadata": {},
   "source": [
    "Найдем логарифмическую функцию правдоподобия для данного распределения\n",
    "\\begin{equation}\n",
    "    L\\left(X,\\theta\\right) = \\ln\\left(\\prod_{i=1}^{k}\\binom{n}{x_i}\\theta^{x_i}\\left(1-\\theta\\right)^{n-x_i}\\right) = \\ln\\prod_{i=1}^{k}\\binom{n}{x_i} + \\ln\\left(\\theta^{\\sum_{i=1}^{k}x_i}\\left(1-\\theta\\right)^{\\sum_{i=1}^{k}n-x_i}\\right) = \\\\ = \\ln\\prod_{i=1}^{k}\\binom{n}{x_i} + \\ln\\left(\\theta^{S_k}\\left(1-\\theta\\right)^{kn-S_k}\\right) = \\ln\\prod_{i=1}^{k}\\binom{n}{x_i} + S_k\\ln\\theta + \\left(kn-S_k\\right)\\ln\\left(1-\\theta\\right)\n",
    "\\end{equation}\n",
    "\n",
    "Максимум найдем, приравняв к $0$ производную по $\\theta$\n",
    "\\begin{gather}\n",
    "    \\frac{\\partial}{\\partial\\theta}L\\left(X,\\theta\\right) = \\frac{S_k}{\\theta} - \\frac{kn-S_k}{1-\\theta} \\\\\n",
    "    \\frac{\\partial}{\\partial\\theta}L\\left(X,\\theta\\right) = 0 \\\\\n",
    "    \\frac{S_k}{\\theta} - \\frac{kn-S_k}{1-\\theta} = 0 \\\\\n",
    "    \\frac{S_k}{\\theta} = \\frac{kn-S_k}{1-\\theta} \\\\\n",
    "    S_k - \\theta S_k = \\theta kn - \\theta S_k \\\\\n",
    "    \\theta = \\frac{S_k}{nk} = \\frac{\\bar{X_k}}{n}\n",
    "\\end{gather}\n",
    "\n",
    "Итого, оценка методом максимального правдоподобия параметра $\\theta$ равна\n",
    "\\begin{equation}\n",
    "    \\hat{\\theta} = \\frac{\\bar{X_k}}{n}\n",
    "\\end{equation}"
   ]
  },
  {
   "cell_type": "markdown",
   "metadata": {},
   "source": [
    "\\begin{equation}\n",
    "    \\lim_{k\\rightarrow\\infty}{P\\left(\\left|\\hat{\\theta} - \\theta\\right| > \\epsilon \\right)} = \\lim_{k\\rightarrow\\infty}{P\\left(\\left|\\frac{\\bar{X_k}}{n} - \\theta\\right| > \\epsilon \\right)}\n",
    "\\end{equation}\n",
    "\n",
    "Из закона больших чисел следует, что $\\bar{X_k}\\xrightarrow{k\\rightarrow\\infty} EX = n\\theta$, тогда $\\frac{\\bar{X_k}}{n} - \\theta \\xrightarrow{k\\rightarrow\\infty} 0$ и\n",
    "\n",
    "\\begin{equation}\n",
    "    \\lim_{k\\rightarrow\\infty}{P\\left(\\left|\\hat{\\theta} - \\theta\\right| > \\epsilon \\right)} = 0\n",
    "\\end{equation}\n",
    "\n",
    "Оценка состоятельная\n",
    "\n",
    "\\begin{equation}\n",
    "    E\\hat{\\theta} = E\\left(\\frac{\\bar{X_k}}{n}\\right) = \\frac{E\\bar{X_k}}{n} = \\frac{n\\theta}{n} = \\theta\n",
    "\\end{equation}\n",
    "\n",
    "Оценка несмещенная, ее смещение равно $B\\left(\\hat{\\theta}\\right) = \\theta - E\\hat{\\theta} = 0$\n",
    "\n",
    "\\begin{equation}\n",
    "    D\\left(\\hat{\\theta}\\right) = E\\hat{\\theta}^2 - \\left(E\\hat{\\theta}\\right)^2 = \\frac{1}{n^2}E\\left(\\overline{X}^2\\right) - \\theta^2 = \\frac{1}{n^2}\\left(n^2\\theta^2 + \\frac{n\\theta\\left(1-\\theta\\right)}{k}\\right) - \\theta^2 = \\frac{\\theta\\left(1-\\theta\\right)}{nk}\n",
    "\\end{equation}\n",
    "\n",
    "\\begin{equation}\n",
    "    MSE\\left(\\hat{\\theta}\\right) = D\\left(\\hat{\\theta}\\right) + \\left(B\\left(\\hat{\\theta}\\right)\\right)^2 = \\frac{\\theta\\left(1-\\theta\\right)}{nk}\n",
    "\\end{equation}"
   ]
  },
  {
   "cell_type": "markdown",
   "metadata": {},
   "source": [
    "Эффективность оценки $\\hat{\\theta}$ можно проверить используя неравенство Рао-Крамера, которое, учитывая что оценка несмещенная и элементы выборки распределены одинаково, имеет вид\n",
    "\\begin{equation}\n",
    "    D\\left(\\hat{\\theta}\\right) \\geq \\frac{1}{kI\\left(\\theta\\right)}\n",
    "\\end{equation}\n",
    "Если оценка такова, что в неравенстве достигается равенство, то данная оценка эффективна\n",
    "\\begin{equation}\n",
    "    D\\left(\\hat{\\theta}\\right) = \\frac{1}{kI\\left(\\theta\\right)}\n",
    "\\end{equation}\n",
    "Найдем информацию Фишера $I\\left(\\theta\\right)$ в одном наблюдении\n",
    "\\begin{equation}\n",
    "    I\\left(\\theta\\right) = E_\\theta\\left(\\frac{\\partial}{\\partial\\theta}L\\left(x,\\theta\\right)\\right)^2 = E_\\theta\\left(\\frac{x^2-2nx\\theta+n^2\\theta^2}{\\theta^2\\left(1-\\theta\\right)^2}\\right) = \\frac{n\\theta-n\\theta^2+n^2\\theta^2-2n^2\\theta^2+n^2\\theta^2}{\\theta^2\\left(1-\\theta\\right)^2} = \\frac{n}{\\theta\\left(1-\\theta\\right)}\n",
    "\\end{equation}\n",
    "\n",
    "Подставляя $D\\left(\\hat{\\theta}\\right)$ и $I\\left(\\theta\\right)$ получаем\n",
    "\\begin{equation}\n",
    "    \\frac{\\theta\\left(1-\\theta\\right)}{kn} = \\frac{\\theta\\left(1-\\theta\\right)}{kn}\n",
    "\\end{equation}\n",
    "Значит, полученная оценка эффективна"
   ]
  },
  {
   "cell_type": "markdown",
   "metadata": {},
   "source": [
    "Итого, имеем что оценка $\\hat{\\theta}$ параметра $\\theta$ состоятельна, не смещена и эффективна, а ее параметры равны\n",
    "Смещение $B\\left(\\hat{\\theta}\\right) = 0$\n",
    "Дисперсия $D\\left(\\hat{\\theta}\\right) = \\frac{\\theta\\left(1-\\theta\\right)}{nk}$\n",
    "СКО $MSE\\left(\\hat{\\theta}\\right) = \\frac{\\theta\\left(1-\\theta\\right)}{nk}$"
   ]
  },
  {
   "cell_type": "markdown",
   "metadata": {},
   "source": [
    "### Эксперимент"
   ]
  },
  {
   "cell_type": "code",
   "execution_count": 14,
   "metadata": {
    "ExecuteTime": {
     "end_time": "2023-03-29T03:39:41.334738Z",
     "start_time": "2023-03-29T03:39:41.293664Z"
    }
   },
   "outputs": [],
   "source": [
    "def count_diff_binom(size : int):\n",
    "    c = 0\n",
    "    for _ in range(gen_count):\n",
    "        gen_arr_binom = stats.binom.rvs(n=n1, p=theta1, size=size)\n",
    "        p_est = gen_arr_binom.mean() / n1\n",
    "        if abs(p_est - theta1) > eps:\n",
    "            c += 1\n",
    "    return c"
   ]
  },
  {
   "cell_type": "code",
   "execution_count": 15,
   "metadata": {
    "ExecuteTime": {
     "end_time": "2023-03-29T03:39:41.598927Z",
     "start_time": "2023-03-29T03:39:41.309774Z"
    }
   },
   "outputs": [
    {
     "data": {
      "text/html": [
       "<div>\n",
       "<style scoped>\n",
       "    .dataframe tbody tr th:only-of-type {\n",
       "        vertical-align: middle;\n",
       "    }\n",
       "\n",
       "    .dataframe tbody tr th {\n",
       "        vertical-align: top;\n",
       "    }\n",
       "\n",
       "    .dataframe thead th {\n",
       "        text-align: right;\n",
       "    }\n",
       "</style>\n",
       "<table border=\"1\" class=\"dataframe\">\n",
       "  <thead>\n",
       "    <tr style=\"text-align: right;\">\n",
       "      <th></th>\n",
       "      <th>gen_size</th>\n",
       "      <th>diff_count</th>\n",
       "    </tr>\n",
       "  </thead>\n",
       "  <tbody>\n",
       "    <tr>\n",
       "      <th>0</th>\n",
       "      <td>50</td>\n",
       "      <td>358</td>\n",
       "    </tr>\n",
       "    <tr>\n",
       "      <th>1</th>\n",
       "      <td>100</td>\n",
       "      <td>293</td>\n",
       "    </tr>\n",
       "    <tr>\n",
       "      <th>2</th>\n",
       "      <td>500</td>\n",
       "      <td>134</td>\n",
       "    </tr>\n",
       "    <tr>\n",
       "      <th>3</th>\n",
       "      <td>1000</td>\n",
       "      <td>60</td>\n",
       "    </tr>\n",
       "    <tr>\n",
       "      <th>4</th>\n",
       "      <td>2500</td>\n",
       "      <td>5</td>\n",
       "    </tr>\n",
       "  </tbody>\n",
       "</table>\n",
       "</div>"
      ],
      "text/plain": [
       "   gen_size  diff_count\n",
       "0        50         358\n",
       "1       100         293\n",
       "2       500         134\n",
       "3      1000          60\n",
       "4      2500           5"
      ]
     },
     "execution_count": 15,
     "metadata": {},
     "output_type": "execute_result"
    }
   ],
   "source": [
    "diff_count = pd.DataFrame({'gen_size': [], 'diff_count': []})\n",
    "gen_sizes = [50, 100, 500, 1000, 2500]\n",
    "for gen_size in gen_sizes:\n",
    "    diff_count.loc[len(diff_count.index)] = [gen_size, count_diff_binom(gen_size)]\n",
    "diff_count"
   ]
  },
  {
   "cell_type": "code",
   "execution_count": 16,
   "metadata": {
    "ExecuteTime": {
     "end_time": "2023-03-29T03:39:41.862180Z",
     "start_time": "2023-03-29T03:39:41.599928Z"
    }
   },
   "outputs": [
    {
     "data": {
      "application/vnd.plotly.v1+json": {
       "config": {
        "plotlyServerURL": "https://plot.ly"
       },
       "data": [
        {
         "hovertemplate": "Объем выборки=%{x}<br>Количество отклонений=%{y}<extra></extra>",
         "legendgroup": "",
         "line": {
          "color": "#636efa",
          "dash": "solid"
         },
         "marker": {
          "symbol": "circle"
         },
         "mode": "markers+lines",
         "name": "",
         "orientation": "v",
         "showlegend": false,
         "type": "scatter",
         "x": [
          50,
          100,
          500,
          1000,
          2500
         ],
         "xaxis": "x",
         "y": [
          358,
          293,
          134,
          60,
          5
         ],
         "yaxis": "y"
        }
       ],
       "layout": {
        "legend": {
         "tracegroupgap": 0
        },
        "margin": {
         "b": 10,
         "l": 70,
         "r": 20,
         "t": 50
        },
        "template": {
         "data": {
          "bar": [
           {
            "error_x": {
             "color": "#f2f5fa"
            },
            "error_y": {
             "color": "#f2f5fa"
            },
            "marker": {
             "line": {
              "color": "rgb(17,17,17)",
              "width": 0.5
             },
             "pattern": {
              "fillmode": "overlay",
              "size": 10,
              "solidity": 0.2
             }
            },
            "type": "bar"
           }
          ],
          "barpolar": [
           {
            "marker": {
             "line": {
              "color": "rgb(17,17,17)",
              "width": 0.5
             },
             "pattern": {
              "fillmode": "overlay",
              "size": 10,
              "solidity": 0.2
             }
            },
            "type": "barpolar"
           }
          ],
          "carpet": [
           {
            "aaxis": {
             "endlinecolor": "#A2B1C6",
             "gridcolor": "#506784",
             "linecolor": "#506784",
             "minorgridcolor": "#506784",
             "startlinecolor": "#A2B1C6"
            },
            "baxis": {
             "endlinecolor": "#A2B1C6",
             "gridcolor": "#506784",
             "linecolor": "#506784",
             "minorgridcolor": "#506784",
             "startlinecolor": "#A2B1C6"
            },
            "type": "carpet"
           }
          ],
          "choropleth": [
           {
            "colorbar": {
             "outlinewidth": 0,
             "ticks": ""
            },
            "type": "choropleth"
           }
          ],
          "contour": [
           {
            "colorbar": {
             "outlinewidth": 0,
             "ticks": ""
            },
            "colorscale": [
             [
              0,
              "#0d0887"
             ],
             [
              0.1111111111111111,
              "#46039f"
             ],
             [
              0.2222222222222222,
              "#7201a8"
             ],
             [
              0.3333333333333333,
              "#9c179e"
             ],
             [
              0.4444444444444444,
              "#bd3786"
             ],
             [
              0.5555555555555556,
              "#d8576b"
             ],
             [
              0.6666666666666666,
              "#ed7953"
             ],
             [
              0.7777777777777778,
              "#fb9f3a"
             ],
             [
              0.8888888888888888,
              "#fdca26"
             ],
             [
              1,
              "#f0f921"
             ]
            ],
            "type": "contour"
           }
          ],
          "contourcarpet": [
           {
            "colorbar": {
             "outlinewidth": 0,
             "ticks": ""
            },
            "type": "contourcarpet"
           }
          ],
          "heatmap": [
           {
            "colorbar": {
             "outlinewidth": 0,
             "ticks": ""
            },
            "colorscale": [
             [
              0,
              "#0d0887"
             ],
             [
              0.1111111111111111,
              "#46039f"
             ],
             [
              0.2222222222222222,
              "#7201a8"
             ],
             [
              0.3333333333333333,
              "#9c179e"
             ],
             [
              0.4444444444444444,
              "#bd3786"
             ],
             [
              0.5555555555555556,
              "#d8576b"
             ],
             [
              0.6666666666666666,
              "#ed7953"
             ],
             [
              0.7777777777777778,
              "#fb9f3a"
             ],
             [
              0.8888888888888888,
              "#fdca26"
             ],
             [
              1,
              "#f0f921"
             ]
            ],
            "type": "heatmap"
           }
          ],
          "heatmapgl": [
           {
            "colorbar": {
             "outlinewidth": 0,
             "ticks": ""
            },
            "colorscale": [
             [
              0,
              "#0d0887"
             ],
             [
              0.1111111111111111,
              "#46039f"
             ],
             [
              0.2222222222222222,
              "#7201a8"
             ],
             [
              0.3333333333333333,
              "#9c179e"
             ],
             [
              0.4444444444444444,
              "#bd3786"
             ],
             [
              0.5555555555555556,
              "#d8576b"
             ],
             [
              0.6666666666666666,
              "#ed7953"
             ],
             [
              0.7777777777777778,
              "#fb9f3a"
             ],
             [
              0.8888888888888888,
              "#fdca26"
             ],
             [
              1,
              "#f0f921"
             ]
            ],
            "type": "heatmapgl"
           }
          ],
          "histogram": [
           {
            "marker": {
             "pattern": {
              "fillmode": "overlay",
              "size": 10,
              "solidity": 0.2
             }
            },
            "type": "histogram"
           }
          ],
          "histogram2d": [
           {
            "colorbar": {
             "outlinewidth": 0,
             "ticks": ""
            },
            "colorscale": [
             [
              0,
              "#0d0887"
             ],
             [
              0.1111111111111111,
              "#46039f"
             ],
             [
              0.2222222222222222,
              "#7201a8"
             ],
             [
              0.3333333333333333,
              "#9c179e"
             ],
             [
              0.4444444444444444,
              "#bd3786"
             ],
             [
              0.5555555555555556,
              "#d8576b"
             ],
             [
              0.6666666666666666,
              "#ed7953"
             ],
             [
              0.7777777777777778,
              "#fb9f3a"
             ],
             [
              0.8888888888888888,
              "#fdca26"
             ],
             [
              1,
              "#f0f921"
             ]
            ],
            "type": "histogram2d"
           }
          ],
          "histogram2dcontour": [
           {
            "colorbar": {
             "outlinewidth": 0,
             "ticks": ""
            },
            "colorscale": [
             [
              0,
              "#0d0887"
             ],
             [
              0.1111111111111111,
              "#46039f"
             ],
             [
              0.2222222222222222,
              "#7201a8"
             ],
             [
              0.3333333333333333,
              "#9c179e"
             ],
             [
              0.4444444444444444,
              "#bd3786"
             ],
             [
              0.5555555555555556,
              "#d8576b"
             ],
             [
              0.6666666666666666,
              "#ed7953"
             ],
             [
              0.7777777777777778,
              "#fb9f3a"
             ],
             [
              0.8888888888888888,
              "#fdca26"
             ],
             [
              1,
              "#f0f921"
             ]
            ],
            "type": "histogram2dcontour"
           }
          ],
          "mesh3d": [
           {
            "colorbar": {
             "outlinewidth": 0,
             "ticks": ""
            },
            "type": "mesh3d"
           }
          ],
          "parcoords": [
           {
            "line": {
             "colorbar": {
              "outlinewidth": 0,
              "ticks": ""
             }
            },
            "type": "parcoords"
           }
          ],
          "pie": [
           {
            "automargin": true,
            "type": "pie"
           }
          ],
          "scatter": [
           {
            "marker": {
             "line": {
              "color": "#283442"
             }
            },
            "type": "scatter"
           }
          ],
          "scatter3d": [
           {
            "line": {
             "colorbar": {
              "outlinewidth": 0,
              "ticks": ""
             }
            },
            "marker": {
             "colorbar": {
              "outlinewidth": 0,
              "ticks": ""
             }
            },
            "type": "scatter3d"
           }
          ],
          "scattercarpet": [
           {
            "marker": {
             "colorbar": {
              "outlinewidth": 0,
              "ticks": ""
             }
            },
            "type": "scattercarpet"
           }
          ],
          "scattergeo": [
           {
            "marker": {
             "colorbar": {
              "outlinewidth": 0,
              "ticks": ""
             }
            },
            "type": "scattergeo"
           }
          ],
          "scattergl": [
           {
            "marker": {
             "line": {
              "color": "#283442"
             }
            },
            "type": "scattergl"
           }
          ],
          "scattermapbox": [
           {
            "marker": {
             "colorbar": {
              "outlinewidth": 0,
              "ticks": ""
             }
            },
            "type": "scattermapbox"
           }
          ],
          "scatterpolar": [
           {
            "marker": {
             "colorbar": {
              "outlinewidth": 0,
              "ticks": ""
             }
            },
            "type": "scatterpolar"
           }
          ],
          "scatterpolargl": [
           {
            "marker": {
             "colorbar": {
              "outlinewidth": 0,
              "ticks": ""
             }
            },
            "type": "scatterpolargl"
           }
          ],
          "scatterternary": [
           {
            "marker": {
             "colorbar": {
              "outlinewidth": 0,
              "ticks": ""
             }
            },
            "type": "scatterternary"
           }
          ],
          "surface": [
           {
            "colorbar": {
             "outlinewidth": 0,
             "ticks": ""
            },
            "colorscale": [
             [
              0,
              "#0d0887"
             ],
             [
              0.1111111111111111,
              "#46039f"
             ],
             [
              0.2222222222222222,
              "#7201a8"
             ],
             [
              0.3333333333333333,
              "#9c179e"
             ],
             [
              0.4444444444444444,
              "#bd3786"
             ],
             [
              0.5555555555555556,
              "#d8576b"
             ],
             [
              0.6666666666666666,
              "#ed7953"
             ],
             [
              0.7777777777777778,
              "#fb9f3a"
             ],
             [
              0.8888888888888888,
              "#fdca26"
             ],
             [
              1,
              "#f0f921"
             ]
            ],
            "type": "surface"
           }
          ],
          "table": [
           {
            "cells": {
             "fill": {
              "color": "#506784"
             },
             "line": {
              "color": "rgb(17,17,17)"
             }
            },
            "header": {
             "fill": {
              "color": "#2a3f5f"
             },
             "line": {
              "color": "rgb(17,17,17)"
             }
            },
            "type": "table"
           }
          ]
         },
         "layout": {
          "annotationdefaults": {
           "arrowcolor": "#f2f5fa",
           "arrowhead": 0,
           "arrowwidth": 1
          },
          "autotypenumbers": "strict",
          "coloraxis": {
           "colorbar": {
            "outlinewidth": 0,
            "ticks": ""
           }
          },
          "colorscale": {
           "diverging": [
            [
             0,
             "#8e0152"
            ],
            [
             0.1,
             "#c51b7d"
            ],
            [
             0.2,
             "#de77ae"
            ],
            [
             0.3,
             "#f1b6da"
            ],
            [
             0.4,
             "#fde0ef"
            ],
            [
             0.5,
             "#f7f7f7"
            ],
            [
             0.6,
             "#e6f5d0"
            ],
            [
             0.7,
             "#b8e186"
            ],
            [
             0.8,
             "#7fbc41"
            ],
            [
             0.9,
             "#4d9221"
            ],
            [
             1,
             "#276419"
            ]
           ],
           "sequential": [
            [
             0,
             "#0d0887"
            ],
            [
             0.1111111111111111,
             "#46039f"
            ],
            [
             0.2222222222222222,
             "#7201a8"
            ],
            [
             0.3333333333333333,
             "#9c179e"
            ],
            [
             0.4444444444444444,
             "#bd3786"
            ],
            [
             0.5555555555555556,
             "#d8576b"
            ],
            [
             0.6666666666666666,
             "#ed7953"
            ],
            [
             0.7777777777777778,
             "#fb9f3a"
            ],
            [
             0.8888888888888888,
             "#fdca26"
            ],
            [
             1,
             "#f0f921"
            ]
           ],
           "sequentialminus": [
            [
             0,
             "#0d0887"
            ],
            [
             0.1111111111111111,
             "#46039f"
            ],
            [
             0.2222222222222222,
             "#7201a8"
            ],
            [
             0.3333333333333333,
             "#9c179e"
            ],
            [
             0.4444444444444444,
             "#bd3786"
            ],
            [
             0.5555555555555556,
             "#d8576b"
            ],
            [
             0.6666666666666666,
             "#ed7953"
            ],
            [
             0.7777777777777778,
             "#fb9f3a"
            ],
            [
             0.8888888888888888,
             "#fdca26"
            ],
            [
             1,
             "#f0f921"
            ]
           ]
          },
          "colorway": [
           "#636efa",
           "#EF553B",
           "#00cc96",
           "#ab63fa",
           "#FFA15A",
           "#19d3f3",
           "#FF6692",
           "#B6E880",
           "#FF97FF",
           "#FECB52"
          ],
          "font": {
           "color": "#f2f5fa"
          },
          "geo": {
           "bgcolor": "rgb(17,17,17)",
           "lakecolor": "rgb(17,17,17)",
           "landcolor": "rgb(17,17,17)",
           "showlakes": true,
           "showland": true,
           "subunitcolor": "#506784"
          },
          "hoverlabel": {
           "align": "left"
          },
          "hovermode": "closest",
          "mapbox": {
           "style": "dark"
          },
          "paper_bgcolor": "rgb(17,17,17)",
          "plot_bgcolor": "rgb(17,17,17)",
          "polar": {
           "angularaxis": {
            "gridcolor": "#506784",
            "linecolor": "#506784",
            "ticks": ""
           },
           "bgcolor": "rgb(17,17,17)",
           "radialaxis": {
            "gridcolor": "#506784",
            "linecolor": "#506784",
            "ticks": ""
           }
          },
          "scene": {
           "xaxis": {
            "backgroundcolor": "rgb(17,17,17)",
            "gridcolor": "#506784",
            "gridwidth": 2,
            "linecolor": "#506784",
            "showbackground": true,
            "ticks": "",
            "zerolinecolor": "#C8D4E3"
           },
           "yaxis": {
            "backgroundcolor": "rgb(17,17,17)",
            "gridcolor": "#506784",
            "gridwidth": 2,
            "linecolor": "#506784",
            "showbackground": true,
            "ticks": "",
            "zerolinecolor": "#C8D4E3"
           },
           "zaxis": {
            "backgroundcolor": "rgb(17,17,17)",
            "gridcolor": "#506784",
            "gridwidth": 2,
            "linecolor": "#506784",
            "showbackground": true,
            "ticks": "",
            "zerolinecolor": "#C8D4E3"
           }
          },
          "shapedefaults": {
           "line": {
            "color": "#f2f5fa"
           }
          },
          "sliderdefaults": {
           "bgcolor": "#C8D4E3",
           "bordercolor": "rgb(17,17,17)",
           "borderwidth": 1,
           "tickwidth": 0
          },
          "ternary": {
           "aaxis": {
            "gridcolor": "#506784",
            "linecolor": "#506784",
            "ticks": ""
           },
           "baxis": {
            "gridcolor": "#506784",
            "linecolor": "#506784",
            "ticks": ""
           },
           "bgcolor": "rgb(17,17,17)",
           "caxis": {
            "gridcolor": "#506784",
            "linecolor": "#506784",
            "ticks": ""
           }
          },
          "title": {
           "x": 0.05
          },
          "updatemenudefaults": {
           "bgcolor": "#506784",
           "borderwidth": 0
          },
          "xaxis": {
           "automargin": true,
           "gridcolor": "#283442",
           "linecolor": "#506784",
           "ticks": "",
           "title": {
            "standoff": 15
           },
           "zerolinecolor": "#283442",
           "zerolinewidth": 2
          },
          "yaxis": {
           "automargin": true,
           "gridcolor": "#283442",
           "linecolor": "#506784",
           "ticks": "",
           "title": {
            "standoff": 15
           },
           "zerolinecolor": "#283442",
           "zerolinewidth": 2
          }
         }
        },
        "title": {
         "text": "Зависимость количества отклонений от объема выборки"
        },
        "width": 650,
        "xaxis": {
         "anchor": "y",
         "domain": [
          0,
          1
         ],
         "title": {
          "text": "Объем выборки"
         }
        },
        "yaxis": {
         "anchor": "x",
         "domain": [
          0,
          1
         ],
         "title": {
          "text": "Количество отклонений"
         }
        }
       }
      }
     },
     "metadata": {},
     "output_type": "display_data"
    }
   ],
   "source": [
    "fig = px.line(diff_count, x='gen_size', y='diff_count',\n",
    "              labels={\n",
    "                  'gen_size': 'Объем выборки',\n",
    "                  'diff_count': 'Количество отклонений'\n",
    "              },\n",
    "              title='Зависимость количества отклонений от объема выборки',\n",
    "              width=650,\n",
    "              template=theme,\n",
    "              markers='o')\n",
    "fig.update_layout(margin=dict(l=70, r=20, b=10, t=50))\n",
    "fig.show()"
   ]
  },
  {
   "cell_type": "markdown",
   "metadata": {},
   "source": [
    "Нетрудно заметить, что с ростом объема выборки оценка все реже отклоняется от параметра. Объясняется это законом больших чисел, а конкретно - состоятельностью полученной оценки: при стремлении объема к бесконечности, оценка параметра стремится к самому параметру по вероятности\n",
    "\\begin{equation}\n",
    "    \\hat{\\theta} \\xrightarrow{P} \\theta \\text{  при } n\\rightarrow\\infty\n",
    "\\end{equation}"
   ]
  },
  {
   "cell_type": "markdown",
   "metadata": {},
   "source": [
    "\n",
    "## Задача 2\n",
    "\n",
    "### Условие\n",
    "\n",
    "Найти оценку максимального правдоподобия параметра $\\theta$ для распределения с плотностью\n",
    "\\begin{equation}\n",
    "    f_\\theta\\left(x\\right) = \\frac{3x^2}{\\sqrt{2\\pi}}\\exp{\\left(-\\frac{\\left(\\theta-x^3\\right)^2}{2}\\right)}\n",
    "\\end{equation}\n",
    "Найти её смещение, дисперсию и среднеквадратическую ошибку. Какими свойствами\n",
    "обладает данная оценка? Эксперимент при $\\theta=5$\n",
    "\n",
    "Сгенерируйте $500$ выборок объема $50$ с указанным значением параметра $\\theta$. Сколько раз оценка отклонится от истинного значения параметра более чем на $0.01$? То же самое сделать для объемов выборки $100$, $500$, $1000$, $2500$. Визуализируйте результат. Как объяснить полученный результат?"
   ]
  },
  {
   "cell_type": "code",
   "execution_count": 17,
   "metadata": {
    "ExecuteTime": {
     "end_time": "2023-03-29T03:39:41.878915Z",
     "start_time": "2023-03-29T03:39:41.864530Z"
    }
   },
   "outputs": [],
   "source": [
    "theta2 = 5"
   ]
  },
  {
   "cell_type": "markdown",
   "metadata": {},
   "source": [
    "\n",
    "### Решение\n",
    "\n",
    "Также введем функцию правдоподобия $f\\left(X,\\theta\\right)$ такую, что\n",
    "\\begin{equation}\n",
    "    f\\left(X,\\theta\\right) = \\prod_{i=1}^{k}f_\\theta\\left(x_i\\right)\n",
    "\\end{equation}\n",
    "и ее логарифмический аналог\n",
    "\\begin{equation}\n",
    "    L\\left(X,\\theta\\right) = \\ln f\\left(X,\\theta\\right)\n",
    "\\end{equation}\n",
    "\n",
    "Оценка $\\hat{\\theta}$ параметра $\\theta$ будет равна точке максимума функций $f\\left(X,\\theta\\right)$ и $L\\left(X,\\theta\\right)$"
   ]
  },
  {
   "cell_type": "markdown",
   "metadata": {},
   "source": [
    "Найдем логарифмическую функцию правдоподобия\n",
    "\\begin{equation}\n",
    "    L\\left(X,\\theta\\right) = \\ln\\left(\\prod_{i=1}^{n}\\frac{3x_i^2}{\\sqrt{2\\pi}}\\exp{\\left(-\\frac{\\left(\\theta-x_i^3\\right)^2}{2}\\right)}\\right) = \\sum_{i=1}^n\\ln\\frac{3x_i^2}{\\sqrt{2\\pi}} - \\sum_{i=1}^n\\frac{\\left(\\theta-x_i^3\\right)^2}{2}\n",
    "\\end{equation}\n",
    "\n",
    "Максимум найдем, приравняв к $0$ производную по $\\theta$\n",
    "\\begin{gather}\n",
    "    \\frac{\\partial}{\\partial\\theta}L\\left(X,\\theta\\right) = - \\sum_{i=1}^n\\theta - x_i^3 = -\\left(n\\theta - \\sum_{i=1}^n x_i^3\\right) \\\\\n",
    "    \\frac{\\partial}{\\partial\\theta}L\\left(X,\\theta\\right) = 0 \\\\\n",
    "    n\\theta - \\sum_{i=1}^n x_i^3 = 0 \\\\\n",
    "    \\theta = \\frac{\\sum_{i=1}^n x_i^3}{n}\n",
    "\\end{gather}\n",
    "\n",
    "Итого, оценка методом моментов параметра $\\theta$ равна\n",
    "\\begin{equation}\n",
    "    \\hat{\\theta} = \\frac{\\sum_{i=1}^n x_i^3}{n}\n",
    "\\end{equation}"
   ]
  },
  {
   "cell_type": "markdown",
   "metadata": {},
   "source": [
    "Вычислим $EX^3$ и $EX^6$, которые позже понадобятся для определения свойств оценки\n",
    "\\begin{gather}\n",
    "    EX^6 = \\int_{-\\infty}^{+\\infty}x_i^6 f_\\theta(x)dx = \\theta^2 + 1 \\\\\n",
    "    EX^3 = \\int_{-\\infty}^{+\\infty}x_i^3 f_\\theta(x)dx = \\theta\n",
    "\\end{gather}\n",
    "Оба интеграла были посчитаны методом численного интегрирования при разных $\\theta$, а результат был проверен с помощью WolframAlpha\n",
    "\\begin{equation}\n",
    "    DX^3 = EX^6 - \\left(EX^3\\right)^2 = \\theta^2 + 1 - \\theta^2 = 1\n",
    "\\end{equation}"
   ]
  },
  {
   "cell_type": "markdown",
   "metadata": {},
   "source": [
    "\\begin{equation}\n",
    "    \\lim_{k\\rightarrow\\infty}{P\\left(\\left|\\hat{\\theta} - \\theta\\right| > \\epsilon \\right)} = \\lim_{k\\rightarrow\\infty}{P\\left(\\left|\\frac{\\sum_{i=1}^n x_i^3}{n} - \\theta\\right| > \\epsilon \\right)}\n",
    "\\end{equation}\n",
    "\n",
    "Из закона больших чисел следует, что $\\frac{\\sum_{i=1}^n x_i^3}{n} \\xrightarrow{n\\rightarrow\\infty} EX^3 = \\theta$, тогда $\\frac{\\sum_{i=1}^n x_i^3}{n} - \\theta \\xrightarrow{n\\rightarrow\\infty} 0$ и\n",
    "\n",
    "\\begin{equation}\n",
    "    \\lim_{k\\rightarrow\\infty}{P\\left(\\left|\\hat{\\theta} - \\theta\\right| > \\epsilon \\right)} = 0\n",
    "\\end{equation}\n",
    "\n",
    "Оценка состоятельная\n",
    "\n",
    "\\begin{equation}\n",
    "    E\\hat{\\theta} = E\\left(\\frac{\\sum_{i=1}^n x_i^3}{n}\\right) = \\frac{E\\left(\\sum_{i=1}^n x_i^3\\right)}{n} = \\frac{n\\left(EX^3\\right)}{n} = \\frac{n\\theta}{n} = \\theta\n",
    "\\end{equation}\n",
    "\n",
    "Оценка несмещенная, ее смещение равно $B\\left(\\hat{\\theta}\\right) = \\theta - E\\hat{\\theta} = 0$\n",
    "\n",
    "\\begin{equation}\n",
    "    D\\left(\\hat{\\theta}\\right) = E\\hat{\\theta}^2 - \\left(E\\hat{\\theta}\\right)^2 = \\frac{1}{n^2}\\left(E\\left(\\sum_{i=1}^n x_i^6\\right) - E\\left(\\sum_{i=1}^n x_i^3\\right)^2\\right) = \\frac{1}{n}\\left(EX^6 - \\left(EX^3\\right)^2\\right) = \\frac{1}{n}\\left(\\theta^2 + 1 - \\theta^2\\right) = \\frac{1}{n}\n",
    "\\end{equation}\n",
    "\n",
    "\\begin{equation}\n",
    "    MSE\\left(\\hat{\\theta}\\right) = D\\left(\\hat{\\theta}\\right) + \\left(B\\left(\\hat{\\theta}\\right)\\right)^2 = \\frac{1}{n}\n",
    "\\end{equation}"
   ]
  },
  {
   "cell_type": "markdown",
   "metadata": {},
   "source": [
    "Эффективность оценки $\\hat{\\theta}$ можно проверить используя неравенство Рао-Крамера, которое, учитывая что оценка несмещенная и элементы выборки распределены одинаково, имеет вид\n",
    "\\begin{equation}\n",
    "    D\\left(\\hat{\\theta}\\right) \\geq \\frac{1}{nI\\left(\\theta\\right)}\n",
    "\\end{equation}\n",
    "Если оценка такова, что в неравенстве достигается равенство, то данная оценка эффективна\n",
    "\\begin{equation}\n",
    "    D\\left(\\hat{\\theta}\\right) = \\frac{1}{nI\\left(\\theta\\right)}\n",
    "\\end{equation}\n",
    "Найдем информацию Фишера $I\\left(\\theta\\right)$ в одном наблюдении\n",
    "\\begin{equation}\n",
    "    I\\left(\\theta\\right) = E_\\theta\\left(\\frac{\\partial}{\\partial\\theta}L\\left(x,\\theta\\right)\\right)^2 = E_\\theta\\left(-\\left(\\theta - x^3\\right)\\right)^2 = E_\\theta\\left(\\theta^2 - 2\\theta x^3 + x^6\\right) = \\theta^2 - 2\\theta^2 + \\theta + 1 = 1\n",
    "\\end{equation}\n",
    "\n",
    "Подставляя $D\\left(\\hat{\\theta}\\right)$ и $I\\left(\\theta\\right)$ получаем\n",
    "\\begin{equation}\n",
    "    \\frac{1}{n} = \\frac{1}{n}\n",
    "\\end{equation}\n",
    "Равенство достигнуто, значит, полученная оценка эффективна"
   ]
  },
  {
   "cell_type": "markdown",
   "metadata": {},
   "source": [
    "\\begin{equation}\n",
    "    \\sqrt n \\left(\\hat{\\theta} - \\theta\\right) = \\sqrt n \\left(\\frac{\\sum_{i=1}^n x_i^3}{n} - \\theta\\right) = \\frac{\\sum_{i=1}^n x_i^3 - n\\theta}{\\sqrt n} = \\frac{\\sum_{i=1}^n x_i^3 - nEX^3}{\\sqrt n} \\xrightarrow[n\\rightarrow\\infty]{\\text{ЦПТ}} N\\left(0, DX^3\\right) = N\\left(0, 1\\right)\n",
    "\\end{equation}\n",
    "Получаем, что оценка асимптотически нормальна"
   ]
  },
  {
   "cell_type": "markdown",
   "metadata": {},
   "source": [
    "Итого\n",
    "Оценка $\\hat{\\theta}$ параметра $\\theta$ состоятельная, не смещенная, эффективная и асимптотически нормальная\n",
    "Смещение $B\\hat{\\theta} = 0$\n",
    "Дисперсия $D\\hat{\\theta} = \\frac{1}{n}$\n",
    "СКО $MSE = \\frac{1}{n}$"
   ]
  },
  {
   "cell_type": "markdown",
   "metadata": {},
   "source": [
    "\n",
    "### Эксперимент\n",
    "\n",
    "В связи с тем, что данную функцию плотности вероятности невозможно задать с помощью scipy из-за ее нестандартного вида и невозможности привести ее к другой известной функции плотности, для генерации выборки буду использовать метод, основанный на Rejection sampling"
   ]
  },
  {
   "cell_type": "code",
   "execution_count": 18,
   "metadata": {
    "ExecuteTime": {
     "end_time": "2023-03-29T03:39:41.951525Z",
     "start_time": "2023-03-29T03:39:41.878915Z"
    }
   },
   "outputs": [],
   "source": [
    "import random\n",
    "\n",
    "def generate_sample():\n",
    "    domain_min = 1\n",
    "    domain_max = 2.5\n",
    "    upper_bound = 3.532\n",
    "    while True:\n",
    "        x = random.uniform(domain_min, domain_max)\n",
    "        y = random.uniform(0, upper_bound)\n",
    "        pdf = (3 * x**2)/np.sqrt(2 * np.pi) * np.exp(-((5 - x**3)**2)/2)\n",
    "        if y < pdf:\n",
    "            return x"
   ]
  },
  {
   "cell_type": "markdown",
   "metadata": {},
   "source": [
    "Проверю корректность генерации при размере выборки, равном $500$"
   ]
  },
  {
   "cell_type": "code",
   "execution_count": 19,
   "metadata": {
    "ExecuteTime": {
     "end_time": "2023-03-29T03:40:16.145123Z",
     "start_time": "2023-03-29T03:40:15.550414Z"
    }
   },
   "outputs": [
    {
     "data": {
      "application/vnd.plotly.v1+json": {
       "config": {
        "plotlyServerURL": "https://plot.ly"
       },
       "data": [
        {
         "histnorm": "probability density",
         "name": "Gen",
         "type": "histogram",
         "x": [
          1.8754372834417166,
          1.6193174929213219,
          1.6257751574884796,
          1.698496854558348,
          1.6466396964666195,
          1.8114536717270455,
          1.6165628381510198,
          1.572236266931246,
          1.7909036404530485,
          1.684142716543707,
          1.5807035443599573,
          1.786978175458951,
          1.6963269081130812,
          1.7473524731092738,
          1.8081718290935664,
          1.8651269820029615,
          1.8538678719923953,
          1.806455041399349,
          1.5775130521379108,
          1.562030853763399,
          1.6310926907560506,
          1.8112500698638834,
          1.7260057890681857,
          1.8045682312510183,
          1.6844694825603619,
          1.648055934899891,
          1.5666474778167507,
          1.8110316444789982,
          1.6644466817875587,
          1.600141078738349,
          1.7431491334784641,
          1.8680872726334325,
          1.5364600150159953,
          1.8582191557152499,
          1.3513356024469172,
          1.6947595078066449,
          1.7572339526363687,
          1.7810979165833807,
          1.6161484903014536,
          1.8666947977432546,
          1.7837416943319102,
          1.7275476872031428,
          1.7761917072509434,
          1.6706790271063827,
          1.7343360789186646,
          1.8311699562514647,
          1.762072823120514,
          1.6389583423120333,
          1.8690887710692592,
          1.8201847910807532,
          1.9186235804826457,
          1.7105770423339173,
          1.748170881452573,
          1.643207944977603,
          1.430418945805279,
          1.7201140445324776,
          1.8561201212938896,
          1.6904874770995606,
          1.6069534956103193,
          1.6439438349529305,
          1.65246417943172,
          1.5810489849729117,
          1.7529126342043089,
          1.615719000074153,
          1.6544058411313207,
          1.822163246766019,
          1.5432737860874526,
          1.7222877432926138,
          1.823214054076798,
          1.8208264566388743,
          1.7741424787965774,
          1.7271963068912743,
          1.5890452025394795,
          1.7094974480283869,
          1.8288361162502436,
          1.7031518835267438,
          1.7155794488930454,
          1.818672033590976,
          1.6878562883294546,
          1.8110183860532767,
          1.8367530442463877,
          1.6021770814110643,
          1.720935467981126,
          1.8744779334179378,
          1.7212698138070537,
          1.6687403744973943,
          1.8592015349059678,
          1.574082886485462,
          1.6518837189630198,
          1.7115793252646327,
          1.7052480683177573,
          1.853781643384983,
          1.762861568235715,
          1.5973939644255257,
          1.7306562723903545,
          1.8231145622797311,
          1.6972420545850506,
          1.85878517789687,
          1.5866442237140104,
          1.6519243842456324,
          1.575571594754899,
          1.7583567853615703,
          1.776362576949405,
          1.7430856678085265,
          1.6578327122116663,
          1.8610867899659993,
          1.7537519834247817,
          1.804939171913296,
          1.6683690868721537,
          1.7459473590575012,
          1.6972224159511549,
          1.5875610749477442,
          1.8504662380673698,
          1.6925518390735776,
          1.6160970849973504,
          1.7684150155699196,
          1.886832673844301,
          1.705815135670849,
          1.6949392453171024,
          1.6521823123840076,
          1.7425478284432925,
          1.7977433412890311,
          1.7477187049043126,
          1.6273607775207335,
          1.6439483796708902,
          1.6915925097068532,
          1.7322311697485848,
          1.692953669552802,
          1.5112494766768787,
          1.781264885100046,
          1.731502312357363,
          1.679054883634141,
          1.692278990253224,
          1.6017302779039042,
          1.7547906947414562,
          1.6963263643511566,
          1.8045789927169829,
          1.6563757444921379,
          1.7997107738115445,
          1.6946439133150326,
          1.92260376052444,
          1.775154076432816,
          1.7808073645249929,
          1.7427765951810437,
          1.7670558738013444,
          1.7903771711643535,
          1.6537594525322867,
          1.9956641031087359,
          1.7779101979339647,
          1.8688926349896502,
          1.8069859573032723,
          1.5919580529078918,
          1.4305513095132953,
          1.556586110199668,
          1.5370211124160766,
          1.5594358083874273,
          1.7381750385364292,
          1.7021005358157906,
          1.8668793523088825,
          1.5874278124873549,
          1.7345521266073383,
          1.642253049131082,
          1.4363162321081473,
          1.6864513937774643,
          1.63700561705691,
          1.9286270285494678,
          1.536090500363266,
          1.662540468341632,
          1.707822427740672,
          1.5194684542470434,
          1.5771874121905345,
          1.5129123768787331,
          1.4830030083455077,
          1.6424569263952526,
          1.6826410811033823,
          1.6445934117914829,
          1.6905878169713984,
          1.6755015526337136,
          1.451827960668991,
          1.5468198272209626,
          1.811679462141793,
          1.8508713644930117,
          1.7656770706612512,
          1.7526604351683184,
          1.7417635151613104,
          1.5653869828076843,
          1.6860248613518884,
          1.5509946193174606,
          1.7480249029539954,
          1.786635851013563,
          1.663132405691044,
          1.7925242513936208,
          1.9341597473101397,
          1.5910270473743775,
          1.6178236000633142,
          1.6759325445895634,
          1.8513971535194718,
          1.7540170277283458,
          1.7081009699622154,
          1.721652063912331,
          1.8138630203309454,
          1.6608928590234067,
          1.7438607460723807,
          1.7393979186852555,
          1.7835269457754448,
          1.547178907563699,
          1.7280447327931532,
          1.7666229851304318,
          1.6597457002084333,
          1.5543763076995705,
          1.4525624654741711,
          1.877207991284632,
          1.8175185026060108,
          1.768019385063879,
          1.6997493480380268,
          1.762817960819627,
          1.6312367079511247,
          1.7598280193502847,
          1.7419306032878499,
          1.7820938218491307,
          1.703918288977326,
          1.7730021195571535,
          1.5434920187682508,
          1.8110626858264263,
          1.5747483385216507,
          1.7090031675897315,
          1.7568576705211418,
          2.0024752920310487,
          1.6279414333170052,
          1.690221897362355,
          1.7425113946719133,
          1.6823582002270931,
          1.9117525096362131,
          1.5997583322209301,
          1.7259854263611976,
          1.7573545045184606,
          1.6813367619985282,
          1.7372059448803845,
          1.8075157490241416,
          1.7012985826951506,
          1.6472759672529356,
          1.5663791768195112,
          1.893720549718123,
          1.700147378699305,
          1.6370791353865284,
          1.7561793880976482,
          1.8854014579209641,
          1.7780944131810057,
          1.8194102119430915,
          1.6023070555214092,
          1.6457999787697828,
          1.6309936811512171,
          1.8772985712168848,
          1.821306591086086,
          1.7879738176689979,
          1.5065374455115914,
          1.4783770568292467,
          1.8240484748691763,
          1.6727983830470847,
          1.7012725740864783,
          1.905018766959064,
          1.7408362977401202,
          1.6767619928892183,
          1.784231505958829,
          1.8597795749240909,
          1.7003340521781456,
          1.7081786402079633,
          1.7760022700294977,
          1.7758288305711372,
          1.4291221067439834,
          1.776933389771309,
          1.672088535385656,
          1.5992832030454742,
          1.7038212227444087,
          1.713858854608463,
          1.7537383589697384,
          1.9035274606038846,
          1.4942466534193197,
          1.7540551819143892,
          1.6226210814957562,
          1.7159301021793236,
          1.7963640663998401,
          1.7790062759009349,
          1.6639293603200185,
          1.7452850304267762,
          1.7032063353104148,
          1.7628828578094597,
          1.7464437164568924,
          1.7152028862790667,
          1.8476824735791104,
          1.7779407799375573,
          1.8065725014561897,
          1.6471894572305796,
          1.6544805386782628,
          1.8449640334467896,
          1.8172468259164358,
          1.7378443948850797,
          1.7220748421048016,
          1.8862992024833496,
          1.765070276454483,
          1.8472756981035914,
          1.8333620305373683,
          1.6474064743092296,
          1.798612608819838,
          1.7337879772631881,
          1.808921646095405,
          1.5828570126452313,
          1.6956831278032838,
          1.618381429365253,
          1.6734804895145374,
          1.6282489285299344,
          1.9288582332866655,
          1.7237139165230864,
          1.8160760748402625,
          1.9252772784807415,
          1.7190023672525532,
          1.7954762755208868,
          1.5354733997206675,
          1.904037918186987,
          1.6831610578635114,
          1.443595978585428,
          1.8047871665336404,
          1.6860913149481138,
          1.6806002690696111,
          1.736169979617234,
          1.7094211982805465,
          1.4874703475706545,
          1.7831242199086959,
          1.605264101575574,
          1.7009668447191384,
          1.7907767973192896,
          1.5429685537674138,
          1.8740293079065078,
          1.7719611391320829,
          1.759591425284065,
          1.804733623689748,
          1.7528631208098417,
          1.7250960691847477,
          1.576918406672193,
          1.621995617712632,
          1.741080246768023,
          1.7211197431574543,
          1.682198964673032,
          1.6489928016830058,
          1.776327564238593,
          1.5439846767089596,
          1.5766132733664677,
          1.8673290982105777,
          1.8297219207404278,
          1.6152326033992583,
          1.8338079007905919,
          1.7910094574816564,
          1.9103410128328198,
          1.5419182391793194,
          1.7830754221584693,
          1.7019174890350441,
          1.6819563289804147,
          1.49361478900023,
          1.8107754582092936,
          1.4284417876443314,
          1.6087024645574561,
          1.824754755438064,
          1.920339336163547,
          1.76495517821749,
          1.401708688479239,
          1.7366631720105457,
          1.6890069463501887,
          1.7030662373471914,
          1.7289678486145976,
          1.560762627991748,
          1.8375939879480612,
          1.576511395412878,
          1.7603041977932992,
          1.8488321254217635,
          1.7632330277033992,
          1.5888613391242798,
          1.863332932254191,
          1.8593189755657245,
          1.7890182869593034,
          1.6862328079777542,
          1.651969449026394,
          1.859848806659669,
          1.7336271282099516,
          1.7050451875845116,
          1.5762036617920792,
          1.567482190605709,
          1.840789738987584,
          1.7468712102283752,
          1.6918030148056247,
          1.6264501308463326,
          1.6080229234528784,
          1.7039207827532008,
          1.6285572864939244,
          1.6356227251507809,
          1.6828916094334534,
          1.6904726147841922,
          1.5960410085551031,
          1.5523960608891638,
          1.6493062156528173,
          1.729010425139966,
          1.8622055573119587,
          1.7694967495289764,
          1.8008278507403612,
          1.7150454837712084,
          1.704182693133102,
          1.7035602793911222,
          1.6221270936577599,
          1.7471584851528301,
          1.772172266350301,
          1.7781564641882228,
          1.8375344529210453,
          1.6596630467555598,
          1.91589204968327,
          1.6143404109672401,
          1.6915896968930193,
          1.8886387378143947,
          1.7056364041404217,
          1.8491303197005613,
          1.7175899342167797,
          1.682840043943396,
          1.742255484150688,
          1.7047429375274208,
          1.8589290030895667,
          1.5713687549277084,
          1.6947736569445921,
          1.939439257804009,
          1.8196314108079727,
          1.7415934721808846,
          1.8934236137953886,
          1.6243290374897312,
          1.8847366948542774,
          1.8791918066141076,
          1.5630692009764824,
          1.840727540900458,
          1.9371324534902792,
          1.6419904937751821,
          1.8699609327037658,
          1.6401619952505198,
          1.8148174819396679,
          1.8152453762398024,
          1.7607746526647075,
          1.8680002518540566,
          1.7385133708095442,
          1.7920701039913793,
          1.85105653533487,
          1.8037250912682083,
          1.5473834193003622,
          1.7781128342481811,
          1.3096642133360188,
          1.6763272418367758,
          1.7216928269572143,
          1.7945468062097352,
          1.780774199783815,
          1.6725980576247115,
          1.9675439958044112,
          1.7264579897416663,
          2.0017511407378565,
          1.5205565986499832,
          1.695034461951908,
          1.6674510292915923,
          1.7144356004716361,
          1.611422624711777,
          1.8346200484156554,
          1.7792785597750345,
          1.750264988372929,
          1.7516566007602177,
          1.8252686724021618,
          1.7246839753373964,
          1.756613942084078,
          1.5944262114910628,
          1.7411891281649343,
          1.8015983919920127,
          1.5993328015986232,
          1.7682755399347962,
          1.5568200815427469,
          1.8923975757702518,
          1.6692511727165575,
          1.7997828650100718,
          1.6384410786125423,
          1.70595054732424,
          1.5238600781347296,
          1.5900895468811702,
          1.5556522925607623,
          1.7134185601753187,
          1.6470482446447146,
          1.8400927036609607,
          1.6674587923769262,
          1.8283646990711488,
          1.560864307071647,
          1.5573430434611324,
          1.6963079219258907,
          1.5945696328880645,
          1.5763182405894334,
          1.6898382129633487,
          1.815637314177187,
          1.7339852899728965,
          1.607368382347558,
          1.6433157693070668,
          1.6890869398259896,
          1.650323705210254
         ]
        },
        {
         "line": {
          "dash": "dash"
         },
         "name": "PDF",
         "type": "scatter",
         "x": [
          0.5,
          0.51,
          0.52,
          0.53,
          0.54,
          0.55,
          0.56,
          0.5700000000000001,
          0.5800000000000001,
          0.5900000000000001,
          0.6000000000000001,
          0.6100000000000001,
          0.6200000000000001,
          0.6300000000000001,
          0.6400000000000001,
          0.6500000000000001,
          0.6600000000000001,
          0.6700000000000002,
          0.6800000000000002,
          0.6900000000000002,
          0.7000000000000002,
          0.7100000000000002,
          0.7200000000000002,
          0.7300000000000002,
          0.7400000000000002,
          0.7500000000000002,
          0.7600000000000002,
          0.7700000000000002,
          0.7800000000000002,
          0.7900000000000003,
          0.8000000000000003,
          0.8100000000000003,
          0.8200000000000003,
          0.8300000000000003,
          0.8400000000000003,
          0.8500000000000003,
          0.8600000000000003,
          0.8700000000000003,
          0.8800000000000003,
          0.8900000000000003,
          0.9000000000000004,
          0.9100000000000004,
          0.9200000000000004,
          0.9300000000000004,
          0.9400000000000004,
          0.9500000000000004,
          0.9600000000000004,
          0.9700000000000004,
          0.9800000000000004,
          0.9900000000000004,
          1.0000000000000004,
          1.0100000000000005,
          1.0200000000000005,
          1.0300000000000005,
          1.0400000000000005,
          1.0500000000000005,
          1.0600000000000005,
          1.0700000000000005,
          1.0800000000000005,
          1.0900000000000005,
          1.1000000000000005,
          1.1100000000000005,
          1.1200000000000006,
          1.1300000000000006,
          1.1400000000000006,
          1.1500000000000006,
          1.1600000000000006,
          1.1700000000000006,
          1.1800000000000006,
          1.1900000000000006,
          1.2000000000000006,
          1.2100000000000006,
          1.2200000000000006,
          1.2300000000000006,
          1.2400000000000007,
          1.2500000000000007,
          1.2600000000000007,
          1.2700000000000007,
          1.2800000000000007,
          1.2900000000000007,
          1.3000000000000007,
          1.3100000000000007,
          1.3200000000000007,
          1.3300000000000007,
          1.3400000000000007,
          1.3500000000000008,
          1.3600000000000008,
          1.3700000000000008,
          1.3800000000000008,
          1.3900000000000008,
          1.4000000000000008,
          1.4100000000000008,
          1.4200000000000008,
          1.4300000000000008,
          1.4400000000000008,
          1.4500000000000008,
          1.4600000000000009,
          1.4700000000000009,
          1.4800000000000009,
          1.4900000000000009,
          1.5000000000000009,
          1.510000000000001,
          1.520000000000001,
          1.530000000000001,
          1.540000000000001,
          1.550000000000001,
          1.560000000000001,
          1.570000000000001,
          1.580000000000001,
          1.590000000000001,
          1.600000000000001,
          1.610000000000001,
          1.620000000000001,
          1.630000000000001,
          1.640000000000001,
          1.650000000000001,
          1.660000000000001,
          1.670000000000001,
          1.680000000000001,
          1.690000000000001,
          1.700000000000001,
          1.710000000000001,
          1.720000000000001,
          1.730000000000001,
          1.740000000000001,
          1.750000000000001,
          1.7600000000000011,
          1.7700000000000011,
          1.7800000000000011,
          1.7900000000000011,
          1.8000000000000012,
          1.8100000000000012,
          1.8200000000000012,
          1.8300000000000012,
          1.8400000000000012,
          1.8500000000000012,
          1.8600000000000012,
          1.8700000000000012,
          1.8800000000000012,
          1.8900000000000012,
          1.9000000000000012,
          1.9100000000000013,
          1.9200000000000013,
          1.9300000000000013,
          1.9400000000000013,
          1.9500000000000013,
          1.9600000000000013,
          1.9700000000000013,
          1.9800000000000013,
          1.9900000000000013,
          2.0000000000000013,
          2.0100000000000016,
          2.0200000000000014,
          2.030000000000001,
          2.0400000000000014,
          2.0500000000000016,
          2.0600000000000014,
          2.070000000000001,
          2.0800000000000014,
          2.0900000000000016,
          2.1000000000000014,
          2.110000000000001,
          2.1200000000000014,
          2.1300000000000017,
          2.1400000000000015,
          2.1500000000000012,
          2.1600000000000015,
          2.1700000000000017,
          2.1800000000000015,
          2.1900000000000013,
          2.2000000000000015,
          2.2100000000000017,
          2.2200000000000015,
          2.2300000000000013,
          2.2400000000000015,
          2.2500000000000018,
          2.2600000000000016,
          2.2700000000000014,
          2.2800000000000016,
          2.290000000000002,
          2.3000000000000016,
          2.3100000000000014,
          2.3200000000000016,
          2.330000000000002,
          2.3400000000000016,
          2.3500000000000014,
          2.3600000000000017,
          2.370000000000002,
          2.3800000000000017,
          2.3900000000000015,
          2.4000000000000017,
          2.410000000000002,
          2.4200000000000017,
          2.4300000000000015,
          2.4400000000000017,
          2.450000000000002,
          2.4600000000000017,
          2.4700000000000015,
          2.4800000000000018,
          2.490000000000002,
          2.5000000000000018,
          2.5100000000000016,
          2.520000000000002,
          2.530000000000002,
          2.540000000000002,
          2.5500000000000016,
          2.560000000000002,
          2.570000000000002,
          2.580000000000002,
          2.5900000000000016,
          2.600000000000002,
          2.610000000000002,
          2.620000000000002,
          2.6300000000000017,
          2.640000000000002,
          2.650000000000002,
          2.660000000000002,
          2.6700000000000017,
          2.680000000000002,
          2.690000000000002,
          2.700000000000002,
          2.7100000000000017,
          2.720000000000002,
          2.730000000000002,
          2.740000000000002,
          2.7500000000000018,
          2.760000000000002,
          2.7700000000000022,
          2.780000000000002,
          2.790000000000002,
          2.800000000000002,
          2.8100000000000023,
          2.820000000000002,
          2.830000000000002,
          2.840000000000002,
          2.8500000000000023,
          2.860000000000002,
          2.870000000000002,
          2.880000000000002,
          2.8900000000000023,
          2.900000000000002,
          2.910000000000002,
          2.920000000000002,
          2.9300000000000024,
          2.940000000000002,
          2.950000000000002,
          2.960000000000002,
          2.9700000000000024,
          2.980000000000002,
          2.990000000000002,
          3.000000000000002
         ],
         "y": [
          0.000002066956948162479,
          0.0000022321205725052766,
          0.0000024120718664115,
          0.0000026083832579192857,
          0.0000028228149010007954,
          0.000003057339188977394,
          0.000003314168733919294,
          0.000003595788334474474,
          0.000003904991537798869,
          0.000004244922498380505,
          0.000004619123949974963,
          0.000005031592239442613,
          0.000005486840526354565,
          0.000005989971433774516,
          0.000006546760648306968,
          0.0000071637532168575536,
          0.000007848374580114029,
          0.000008609058726262585,
          0.000009455396252048472,
          0.000010398305592810117,
          0.000011450231241382493,
          0.000012625373432977253,
          0.000013939954547299832,
          0.000015412528391598126,
          0.00001706433960432987,
          0.000018919741688666755,
          0.000021006683683652692,
          0.00002335727725061491,
          0.000026008458043330033,
          0.00002900275770163036,
          0.000032389205729722826,
          0.00003622438397553647,
          0.00004057366051425444,
          0.00004551263457422939,
          0.00005112882986439146,
          0.000057523680431800955,
          0.00006481486118836124,
          0.00007313902472372966,
          0.00008265501723447622,
          0.00009354765966228295,
          0.00010603219581649376,
          0.00012035952779288606,
          0.00013682238090006966,
          0.00015576256616240392,
          0.0001775795389779435,
          0.00020274048847947828,
          0.00023179223451333603,
          0.0002653752589982661,
          0.00030424025700401074,
          0.0003492676616289986,
          0.0004014906772946586,
          0.00046212245026781823,
          0.0005325881151679967,
          0.0006145625842601709,
          0.0007100150950806163,
          0.0008212617042552861,
          0.0009510271143496944,
          0.0011025174495487436,
          0.001279505858368106,
          0.0014864331209725858,
          0.0017285257784789285,
          0.0020119346850536366,
          0.002343897313373945,
          0.002732927621945506,
          0.003189037819412272,
          0.00372399693503225,
          0.004351631722014782,
          0.00508817607401202,
          0.005952675812718724,
          0.006967456388310405,
          0.008158661698866716,
          0.009556872845136188,
          0.011197816146667166,
          0.013123170094283999,
          0.015381481025560487,
          0.01802919708872254,
          0.021131829388999254,
          0.024765247948467874,
          0.029017118088570847,
          0.0339884798694556,
          0.039795469071314524,
          0.04657117263511162,
          0.05446760422975004,
          0.06365777640614147,
          0.07433783436566153,
          0.08672920246384941,
          0.10108067799167497,
          0.11767038741091096,
          0.13680749807713916,
          0.15883355375033703,
          0.18412327529175082,
          0.21308463960253307,
          0.24615802117353355,
          0.2838141531293415,
          0.3265506404124421,
          0.374886739367771,
          0.42935610862898765,
          0.49049723959980523,
          0.5588412951597781,
          0.6348971270099818,
          0.7191333098814573,
          0.8119571289422719,
          0.9136905886875494,
          1.0245436795776466,
          1.1445853428883948,
          1.2737128120849608,
          1.4116202744473172,
          1.5577680793781847,
          1.7113540048047222,
          1.871288360373586,
          2.036174930997392,
          2.2042999179901934,
          2.37363108621156,
          2.5418292426378963,
          2.7062739255180377,
          2.864104750932811,
          3.0122792327361316,
          3.147647064707337,
          3.267039850987657,
          3.3673741345993466,
          3.4457643687915005,
          3.4996412884617274,
          3.5268700730327542,
          3.5258618627092013,
          3.4956717124699175,
          3.4360760460491333,
          3.3476231832111156,
          3.2316515957076546,
          3.0902721866334244,
          2.9263130112839373,
          2.743227330915069,
          2.544968524845827,
          2.33583795114057,
          2.1203140925767143,
          1.9028730120673947,
          1.6878110679361171,
          1.4790808692231254,
          1.2801505389769336,
          1.0938945559046336,
          0.9225219202381559,
          0.7675443837582832,
          0.6297843015333155,
          0.5094186309873363,
          0.4060530295203902,
          0.31881813256913194,
          0.24647908617609293,
          0.18754930920857715,
          0.14040020692014474,
          0.10335998997326698,
          0.07479664361510269,
          0.05318218094325361,
          0.03713734911800692,
          0.025457725121058518,
          0.01712348947448474,
          0.011296028838260308,
          0.007304891833700586,
          0.004628567898720144,
          0.0028721785141034043,
          0.0017445841712863026,
          0.0010367368863711856,
          0.0006024462820016011,
          0.00034214868430733103,
          0.00018981404807862494,
          0.00010280765175503535,
          0.00005433370281149717,
          0.000028003966963121603,
          0.000014067995892144863,
          0.000006884299372384095,
          0.000003279826485116365,
          0.0000015203748537208727,
          6.853312603616628e-7,
          3.0021893139177604e-7,
          1.277312331077191e-7,
          5.274819952832904e-8,
          2.1129821803593412e-8,
          8.205101373300988e-9,
          3.086670912379913e-9,
          1.1241631598568936e-9,
          3.961059759046327e-10,
          1.3494065719506613e-10,
          4.441461656875244e-11,
          1.4114284617891138e-11,
          4.327486604538777e-12,
          1.2792233510175822e-12,
          3.643145170943729e-13,
          9.98866505775908e-14,
          2.63461061976022e-14,
          6.679996898576119e-15,
          1.6268794901518356e-15,
          3.8029260514911195e-16,
          8.525569385862779e-17,
          1.8315850850593976e-17,
          3.767729082653674e-18,
          7.415274464931843e-19,
          1.3951192697290381e-19,
          2.5070842051979396e-20,
          4.299641616295723e-21,
          7.031191579996376e-22,
          1.0954228418326794e-22,
          1.6244596254253738e-23,
          2.2909920905586815e-24,
          3.069970621781839e-25,
          3.905209583191156e-26,
          4.7114282290983295e-27,
          5.385829034483635e-28,
          5.828179720723257e-29,
          5.964544597923064e-30,
          5.767188374258564e-31,
          5.263405875556776e-32,
          4.529535653382598e-33,
          3.671872710700033e-34,
          2.801085960830505e-35,
          2.0087349017554027e-36,
          1.3527680649832789e-37,
          8.546147390349627e-39,
          5.059412829212633e-40,
          2.8037771582232763e-41,
          1.452867297997246e-42,
          7.031814313712122e-44,
          3.1752810130706695e-45,
          1.3362231361027656e-46,
          5.2343278276814953e-48,
          1.906449589983539e-49,
          6.448576105555523e-51,
          2.023309247841694e-52,
          5.881669897035518e-54,
          1.5821698690286243e-55,
          3.9335790542713677e-57,
          9.02749460331682e-59,
          1.9100619185298642e-60,
          3.7211633781523107e-62,
          6.666613200523289e-64,
          1.0968949056007053e-65,
          1.6553501159684143e-67,
          2.288260235152662e-69,
          2.893550265614211e-71,
          3.3425643120882965e-73,
          3.5225595309780247e-75,
          3.3819489647581884e-77,
          2.953927058519729e-79,
          2.3439259079175314e-81,
          1.6872531299751762e-83,
          1.1002291239836789e-85,
          6.489634277749137e-88,
          3.4574228230400916e-90,
          1.6612470932473207e-92,
          7.188081060964812e-95,
          2.796593934809307e-97,
          9.768265183905406e-100,
          3.058468625637102e-102,
          8.570560192616774e-105
         ]
        }
       ],
       "layout": {
        "hovermode": "x unified",
        "legend": {
         "x": 0.86,
         "y": 0.98
        },
        "margin": {
         "b": 10,
         "l": 70,
         "r": 10,
         "t": 50
        },
        "template": {
         "data": {
          "bar": [
           {
            "error_x": {
             "color": "#f2f5fa"
            },
            "error_y": {
             "color": "#f2f5fa"
            },
            "marker": {
             "line": {
              "color": "rgb(17,17,17)",
              "width": 0.5
             },
             "pattern": {
              "fillmode": "overlay",
              "size": 10,
              "solidity": 0.2
             }
            },
            "type": "bar"
           }
          ],
          "barpolar": [
           {
            "marker": {
             "line": {
              "color": "rgb(17,17,17)",
              "width": 0.5
             },
             "pattern": {
              "fillmode": "overlay",
              "size": 10,
              "solidity": 0.2
             }
            },
            "type": "barpolar"
           }
          ],
          "carpet": [
           {
            "aaxis": {
             "endlinecolor": "#A2B1C6",
             "gridcolor": "#506784",
             "linecolor": "#506784",
             "minorgridcolor": "#506784",
             "startlinecolor": "#A2B1C6"
            },
            "baxis": {
             "endlinecolor": "#A2B1C6",
             "gridcolor": "#506784",
             "linecolor": "#506784",
             "minorgridcolor": "#506784",
             "startlinecolor": "#A2B1C6"
            },
            "type": "carpet"
           }
          ],
          "choropleth": [
           {
            "colorbar": {
             "outlinewidth": 0,
             "ticks": ""
            },
            "type": "choropleth"
           }
          ],
          "contour": [
           {
            "colorbar": {
             "outlinewidth": 0,
             "ticks": ""
            },
            "colorscale": [
             [
              0,
              "#0d0887"
             ],
             [
              0.1111111111111111,
              "#46039f"
             ],
             [
              0.2222222222222222,
              "#7201a8"
             ],
             [
              0.3333333333333333,
              "#9c179e"
             ],
             [
              0.4444444444444444,
              "#bd3786"
             ],
             [
              0.5555555555555556,
              "#d8576b"
             ],
             [
              0.6666666666666666,
              "#ed7953"
             ],
             [
              0.7777777777777778,
              "#fb9f3a"
             ],
             [
              0.8888888888888888,
              "#fdca26"
             ],
             [
              1,
              "#f0f921"
             ]
            ],
            "type": "contour"
           }
          ],
          "contourcarpet": [
           {
            "colorbar": {
             "outlinewidth": 0,
             "ticks": ""
            },
            "type": "contourcarpet"
           }
          ],
          "heatmap": [
           {
            "colorbar": {
             "outlinewidth": 0,
             "ticks": ""
            },
            "colorscale": [
             [
              0,
              "#0d0887"
             ],
             [
              0.1111111111111111,
              "#46039f"
             ],
             [
              0.2222222222222222,
              "#7201a8"
             ],
             [
              0.3333333333333333,
              "#9c179e"
             ],
             [
              0.4444444444444444,
              "#bd3786"
             ],
             [
              0.5555555555555556,
              "#d8576b"
             ],
             [
              0.6666666666666666,
              "#ed7953"
             ],
             [
              0.7777777777777778,
              "#fb9f3a"
             ],
             [
              0.8888888888888888,
              "#fdca26"
             ],
             [
              1,
              "#f0f921"
             ]
            ],
            "type": "heatmap"
           }
          ],
          "heatmapgl": [
           {
            "colorbar": {
             "outlinewidth": 0,
             "ticks": ""
            },
            "colorscale": [
             [
              0,
              "#0d0887"
             ],
             [
              0.1111111111111111,
              "#46039f"
             ],
             [
              0.2222222222222222,
              "#7201a8"
             ],
             [
              0.3333333333333333,
              "#9c179e"
             ],
             [
              0.4444444444444444,
              "#bd3786"
             ],
             [
              0.5555555555555556,
              "#d8576b"
             ],
             [
              0.6666666666666666,
              "#ed7953"
             ],
             [
              0.7777777777777778,
              "#fb9f3a"
             ],
             [
              0.8888888888888888,
              "#fdca26"
             ],
             [
              1,
              "#f0f921"
             ]
            ],
            "type": "heatmapgl"
           }
          ],
          "histogram": [
           {
            "marker": {
             "pattern": {
              "fillmode": "overlay",
              "size": 10,
              "solidity": 0.2
             }
            },
            "type": "histogram"
           }
          ],
          "histogram2d": [
           {
            "colorbar": {
             "outlinewidth": 0,
             "ticks": ""
            },
            "colorscale": [
             [
              0,
              "#0d0887"
             ],
             [
              0.1111111111111111,
              "#46039f"
             ],
             [
              0.2222222222222222,
              "#7201a8"
             ],
             [
              0.3333333333333333,
              "#9c179e"
             ],
             [
              0.4444444444444444,
              "#bd3786"
             ],
             [
              0.5555555555555556,
              "#d8576b"
             ],
             [
              0.6666666666666666,
              "#ed7953"
             ],
             [
              0.7777777777777778,
              "#fb9f3a"
             ],
             [
              0.8888888888888888,
              "#fdca26"
             ],
             [
              1,
              "#f0f921"
             ]
            ],
            "type": "histogram2d"
           }
          ],
          "histogram2dcontour": [
           {
            "colorbar": {
             "outlinewidth": 0,
             "ticks": ""
            },
            "colorscale": [
             [
              0,
              "#0d0887"
             ],
             [
              0.1111111111111111,
              "#46039f"
             ],
             [
              0.2222222222222222,
              "#7201a8"
             ],
             [
              0.3333333333333333,
              "#9c179e"
             ],
             [
              0.4444444444444444,
              "#bd3786"
             ],
             [
              0.5555555555555556,
              "#d8576b"
             ],
             [
              0.6666666666666666,
              "#ed7953"
             ],
             [
              0.7777777777777778,
              "#fb9f3a"
             ],
             [
              0.8888888888888888,
              "#fdca26"
             ],
             [
              1,
              "#f0f921"
             ]
            ],
            "type": "histogram2dcontour"
           }
          ],
          "mesh3d": [
           {
            "colorbar": {
             "outlinewidth": 0,
             "ticks": ""
            },
            "type": "mesh3d"
           }
          ],
          "parcoords": [
           {
            "line": {
             "colorbar": {
              "outlinewidth": 0,
              "ticks": ""
             }
            },
            "type": "parcoords"
           }
          ],
          "pie": [
           {
            "automargin": true,
            "type": "pie"
           }
          ],
          "scatter": [
           {
            "marker": {
             "line": {
              "color": "#283442"
             }
            },
            "type": "scatter"
           }
          ],
          "scatter3d": [
           {
            "line": {
             "colorbar": {
              "outlinewidth": 0,
              "ticks": ""
             }
            },
            "marker": {
             "colorbar": {
              "outlinewidth": 0,
              "ticks": ""
             }
            },
            "type": "scatter3d"
           }
          ],
          "scattercarpet": [
           {
            "marker": {
             "colorbar": {
              "outlinewidth": 0,
              "ticks": ""
             }
            },
            "type": "scattercarpet"
           }
          ],
          "scattergeo": [
           {
            "marker": {
             "colorbar": {
              "outlinewidth": 0,
              "ticks": ""
             }
            },
            "type": "scattergeo"
           }
          ],
          "scattergl": [
           {
            "marker": {
             "line": {
              "color": "#283442"
             }
            },
            "type": "scattergl"
           }
          ],
          "scattermapbox": [
           {
            "marker": {
             "colorbar": {
              "outlinewidth": 0,
              "ticks": ""
             }
            },
            "type": "scattermapbox"
           }
          ],
          "scatterpolar": [
           {
            "marker": {
             "colorbar": {
              "outlinewidth": 0,
              "ticks": ""
             }
            },
            "type": "scatterpolar"
           }
          ],
          "scatterpolargl": [
           {
            "marker": {
             "colorbar": {
              "outlinewidth": 0,
              "ticks": ""
             }
            },
            "type": "scatterpolargl"
           }
          ],
          "scatterternary": [
           {
            "marker": {
             "colorbar": {
              "outlinewidth": 0,
              "ticks": ""
             }
            },
            "type": "scatterternary"
           }
          ],
          "surface": [
           {
            "colorbar": {
             "outlinewidth": 0,
             "ticks": ""
            },
            "colorscale": [
             [
              0,
              "#0d0887"
             ],
             [
              0.1111111111111111,
              "#46039f"
             ],
             [
              0.2222222222222222,
              "#7201a8"
             ],
             [
              0.3333333333333333,
              "#9c179e"
             ],
             [
              0.4444444444444444,
              "#bd3786"
             ],
             [
              0.5555555555555556,
              "#d8576b"
             ],
             [
              0.6666666666666666,
              "#ed7953"
             ],
             [
              0.7777777777777778,
              "#fb9f3a"
             ],
             [
              0.8888888888888888,
              "#fdca26"
             ],
             [
              1,
              "#f0f921"
             ]
            ],
            "type": "surface"
           }
          ],
          "table": [
           {
            "cells": {
             "fill": {
              "color": "#506784"
             },
             "line": {
              "color": "rgb(17,17,17)"
             }
            },
            "header": {
             "fill": {
              "color": "#2a3f5f"
             },
             "line": {
              "color": "rgb(17,17,17)"
             }
            },
            "type": "table"
           }
          ]
         },
         "layout": {
          "annotationdefaults": {
           "arrowcolor": "#f2f5fa",
           "arrowhead": 0,
           "arrowwidth": 1
          },
          "autotypenumbers": "strict",
          "coloraxis": {
           "colorbar": {
            "outlinewidth": 0,
            "ticks": ""
           }
          },
          "colorscale": {
           "diverging": [
            [
             0,
             "#8e0152"
            ],
            [
             0.1,
             "#c51b7d"
            ],
            [
             0.2,
             "#de77ae"
            ],
            [
             0.3,
             "#f1b6da"
            ],
            [
             0.4,
             "#fde0ef"
            ],
            [
             0.5,
             "#f7f7f7"
            ],
            [
             0.6,
             "#e6f5d0"
            ],
            [
             0.7,
             "#b8e186"
            ],
            [
             0.8,
             "#7fbc41"
            ],
            [
             0.9,
             "#4d9221"
            ],
            [
             1,
             "#276419"
            ]
           ],
           "sequential": [
            [
             0,
             "#0d0887"
            ],
            [
             0.1111111111111111,
             "#46039f"
            ],
            [
             0.2222222222222222,
             "#7201a8"
            ],
            [
             0.3333333333333333,
             "#9c179e"
            ],
            [
             0.4444444444444444,
             "#bd3786"
            ],
            [
             0.5555555555555556,
             "#d8576b"
            ],
            [
             0.6666666666666666,
             "#ed7953"
            ],
            [
             0.7777777777777778,
             "#fb9f3a"
            ],
            [
             0.8888888888888888,
             "#fdca26"
            ],
            [
             1,
             "#f0f921"
            ]
           ],
           "sequentialminus": [
            [
             0,
             "#0d0887"
            ],
            [
             0.1111111111111111,
             "#46039f"
            ],
            [
             0.2222222222222222,
             "#7201a8"
            ],
            [
             0.3333333333333333,
             "#9c179e"
            ],
            [
             0.4444444444444444,
             "#bd3786"
            ],
            [
             0.5555555555555556,
             "#d8576b"
            ],
            [
             0.6666666666666666,
             "#ed7953"
            ],
            [
             0.7777777777777778,
             "#fb9f3a"
            ],
            [
             0.8888888888888888,
             "#fdca26"
            ],
            [
             1,
             "#f0f921"
            ]
           ]
          },
          "colorway": [
           "#636efa",
           "#EF553B",
           "#00cc96",
           "#ab63fa",
           "#FFA15A",
           "#19d3f3",
           "#FF6692",
           "#B6E880",
           "#FF97FF",
           "#FECB52"
          ],
          "font": {
           "color": "#f2f5fa"
          },
          "geo": {
           "bgcolor": "rgb(17,17,17)",
           "lakecolor": "rgb(17,17,17)",
           "landcolor": "rgb(17,17,17)",
           "showlakes": true,
           "showland": true,
           "subunitcolor": "#506784"
          },
          "hoverlabel": {
           "align": "left"
          },
          "hovermode": "closest",
          "mapbox": {
           "style": "dark"
          },
          "paper_bgcolor": "rgb(17,17,17)",
          "plot_bgcolor": "rgb(17,17,17)",
          "polar": {
           "angularaxis": {
            "gridcolor": "#506784",
            "linecolor": "#506784",
            "ticks": ""
           },
           "bgcolor": "rgb(17,17,17)",
           "radialaxis": {
            "gridcolor": "#506784",
            "linecolor": "#506784",
            "ticks": ""
           }
          },
          "scene": {
           "xaxis": {
            "backgroundcolor": "rgb(17,17,17)",
            "gridcolor": "#506784",
            "gridwidth": 2,
            "linecolor": "#506784",
            "showbackground": true,
            "ticks": "",
            "zerolinecolor": "#C8D4E3"
           },
           "yaxis": {
            "backgroundcolor": "rgb(17,17,17)",
            "gridcolor": "#506784",
            "gridwidth": 2,
            "linecolor": "#506784",
            "showbackground": true,
            "ticks": "",
            "zerolinecolor": "#C8D4E3"
           },
           "zaxis": {
            "backgroundcolor": "rgb(17,17,17)",
            "gridcolor": "#506784",
            "gridwidth": 2,
            "linecolor": "#506784",
            "showbackground": true,
            "ticks": "",
            "zerolinecolor": "#C8D4E3"
           }
          },
          "shapedefaults": {
           "line": {
            "color": "#f2f5fa"
           }
          },
          "sliderdefaults": {
           "bgcolor": "#C8D4E3",
           "bordercolor": "rgb(17,17,17)",
           "borderwidth": 1,
           "tickwidth": 0
          },
          "ternary": {
           "aaxis": {
            "gridcolor": "#506784",
            "linecolor": "#506784",
            "ticks": ""
           },
           "baxis": {
            "gridcolor": "#506784",
            "linecolor": "#506784",
            "ticks": ""
           },
           "bgcolor": "rgb(17,17,17)",
           "caxis": {
            "gridcolor": "#506784",
            "linecolor": "#506784",
            "ticks": ""
           }
          },
          "title": {
           "x": 0.05
          },
          "updatemenudefaults": {
           "bgcolor": "#506784",
           "borderwidth": 0
          },
          "xaxis": {
           "automargin": true,
           "gridcolor": "#283442",
           "linecolor": "#506784",
           "ticks": "",
           "title": {
            "standoff": 15
           },
           "zerolinecolor": "#283442",
           "zerolinewidth": 2
          },
          "yaxis": {
           "automargin": true,
           "gridcolor": "#283442",
           "linecolor": "#506784",
           "ticks": "",
           "title": {
            "standoff": 15
           },
           "zerolinecolor": "#283442",
           "zerolinewidth": 2
          }
         }
        },
        "title": {
         "text": "Histogram of distribution"
        },
        "width": 650,
        "xaxis": {
         "title": {
          "text": "Samples"
         }
        },
        "yaxis": {
         "title": {
          "text": "Probability Density"
         }
        }
       }
      }
     },
     "metadata": {},
     "output_type": "display_data"
    }
   ],
   "source": [
    "gen = np.empty(500)\n",
    "for j in range(500):\n",
    "    gen[j] = generate_sample()\n",
    "\n",
    "x = np.arange(0.5, 3.01, 0.01)\n",
    "y = (3 * x**2)/np.sqrt(2 * np.pi) * np.exp(-((5 - x**3)**2)/2)\n",
    "\n",
    "fig = go.Figure()\n",
    "fig.add_histogram(x=gen, histnorm='probability density', name='Gen')\n",
    "fig.add_trace(go.Scatter(x=x, y=y, line=dict(dash='dash'), name='PDF'))\n",
    "\n",
    "fig.update_layout(legend=dict(x=.86, y=.98),\n",
    "                  margin=dict(l=70, r=10, t=50, b=10),\n",
    "                  title='Histogram of distribution',\n",
    "                  hovermode='x unified',\n",
    "                  xaxis_title_text='Samples',\n",
    "                  yaxis_title_text='Probability Density',\n",
    "                  template=theme,\n",
    "                  width=650)\n",
    "\n",
    "fig.show()"
   ]
  },
  {
   "cell_type": "markdown",
   "metadata": {},
   "source": [
    "Видно, что генерация происходит корректно, и построенная гистограмма достаточно близка к графику данной плотности. При еще большем объеме выборки гистограмма будет *практически* повторять его. Однако, при выборке меньшего объема, точность будет падать"
   ]
  },
  {
   "cell_type": "code",
   "execution_count": 20,
   "metadata": {
    "ExecuteTime": {
     "end_time": "2023-03-29T03:39:42.369024Z",
     "start_time": "2023-03-29T03:39:42.297659Z"
    }
   },
   "outputs": [],
   "source": [
    "def count_diff_sample(size):\n",
    "    c = 0\n",
    "    for i in range(gen_count):\n",
    "        gen_arr_sample = np.empty(size)\n",
    "        for j in range(size):\n",
    "            gen_arr_sample[j] = generate_sample()\n",
    "        p_est = np.sum(np.power(gen_arr_sample, 3)) / size\n",
    "        if abs(p_est - theta2) > eps:\n",
    "            c += 1\n",
    "    return c"
   ]
  },
  {
   "cell_type": "code",
   "execution_count": 21,
   "metadata": {
    "ExecuteTime": {
     "end_time": "2023-03-29T03:40:15.291282Z",
     "start_time": "2023-03-29T03:39:42.313645Z"
    }
   },
   "outputs": [
    {
     "data": {
      "text/html": [
       "<div>\n",
       "<style scoped>\n",
       "    .dataframe tbody tr th:only-of-type {\n",
       "        vertical-align: middle;\n",
       "    }\n",
       "\n",
       "    .dataframe tbody tr th {\n",
       "        vertical-align: top;\n",
       "    }\n",
       "\n",
       "    .dataframe thead th {\n",
       "        text-align: right;\n",
       "    }\n",
       "</style>\n",
       "<table border=\"1\" class=\"dataframe\">\n",
       "  <thead>\n",
       "    <tr style=\"text-align: right;\">\n",
       "      <th></th>\n",
       "      <th>gen_size</th>\n",
       "      <th>diff_count</th>\n",
       "    </tr>\n",
       "  </thead>\n",
       "  <tbody>\n",
       "    <tr>\n",
       "      <th>0</th>\n",
       "      <td>50</td>\n",
       "      <td>472</td>\n",
       "    </tr>\n",
       "    <tr>\n",
       "      <th>1</th>\n",
       "      <td>100</td>\n",
       "      <td>460</td>\n",
       "    </tr>\n",
       "    <tr>\n",
       "      <th>2</th>\n",
       "      <td>500</td>\n",
       "      <td>414</td>\n",
       "    </tr>\n",
       "    <tr>\n",
       "      <th>3</th>\n",
       "      <td>1000</td>\n",
       "      <td>369</td>\n",
       "    </tr>\n",
       "    <tr>\n",
       "      <th>4</th>\n",
       "      <td>2500</td>\n",
       "      <td>305</td>\n",
       "    </tr>\n",
       "  </tbody>\n",
       "</table>\n",
       "</div>"
      ],
      "text/plain": [
       "   gen_size  diff_count\n",
       "0        50         472\n",
       "1       100         460\n",
       "2       500         414\n",
       "3      1000         369\n",
       "4      2500         305"
      ]
     },
     "execution_count": 21,
     "metadata": {},
     "output_type": "execute_result"
    }
   ],
   "source": [
    "diff_cnt = pd.DataFrame({'gen_size':[], 'diff_count':[]})\n",
    "gen_sizes = [50, 100, 500, 1000, 2500]\n",
    "for gen_size in gen_sizes:\n",
    "    diff_cnt.loc[len(diff_cnt.index)] = [gen_size, count_diff_sample(gen_size)]\n",
    "diff_cnt"
   ]
  },
  {
   "cell_type": "code",
   "execution_count": 22,
   "metadata": {
    "ExecuteTime": {
     "end_time": "2023-03-29T03:40:15.524322Z",
     "start_time": "2023-03-29T03:40:15.293276Z"
    }
   },
   "outputs": [
    {
     "data": {
      "application/vnd.plotly.v1+json": {
       "config": {
        "plotlyServerURL": "https://plot.ly"
       },
       "data": [
        {
         "hovertemplate": "Объем выборки=%{x}<br>Количество отклонений=%{y}<extra></extra>",
         "legendgroup": "",
         "line": {
          "color": "#636efa",
          "dash": "solid"
         },
         "marker": {
          "symbol": "circle"
         },
         "mode": "markers+lines",
         "name": "",
         "orientation": "v",
         "showlegend": false,
         "type": "scatter",
         "x": [
          50,
          100,
          500,
          1000,
          2500
         ],
         "xaxis": "x",
         "y": [
          472,
          460,
          414,
          369,
          305
         ],
         "yaxis": "y"
        }
       ],
       "layout": {
        "legend": {
         "tracegroupgap": 0
        },
        "margin": {
         "b": 10,
         "l": 70,
         "r": 20,
         "t": 50
        },
        "template": {
         "data": {
          "bar": [
           {
            "error_x": {
             "color": "#f2f5fa"
            },
            "error_y": {
             "color": "#f2f5fa"
            },
            "marker": {
             "line": {
              "color": "rgb(17,17,17)",
              "width": 0.5
             },
             "pattern": {
              "fillmode": "overlay",
              "size": 10,
              "solidity": 0.2
             }
            },
            "type": "bar"
           }
          ],
          "barpolar": [
           {
            "marker": {
             "line": {
              "color": "rgb(17,17,17)",
              "width": 0.5
             },
             "pattern": {
              "fillmode": "overlay",
              "size": 10,
              "solidity": 0.2
             }
            },
            "type": "barpolar"
           }
          ],
          "carpet": [
           {
            "aaxis": {
             "endlinecolor": "#A2B1C6",
             "gridcolor": "#506784",
             "linecolor": "#506784",
             "minorgridcolor": "#506784",
             "startlinecolor": "#A2B1C6"
            },
            "baxis": {
             "endlinecolor": "#A2B1C6",
             "gridcolor": "#506784",
             "linecolor": "#506784",
             "minorgridcolor": "#506784",
             "startlinecolor": "#A2B1C6"
            },
            "type": "carpet"
           }
          ],
          "choropleth": [
           {
            "colorbar": {
             "outlinewidth": 0,
             "ticks": ""
            },
            "type": "choropleth"
           }
          ],
          "contour": [
           {
            "colorbar": {
             "outlinewidth": 0,
             "ticks": ""
            },
            "colorscale": [
             [
              0,
              "#0d0887"
             ],
             [
              0.1111111111111111,
              "#46039f"
             ],
             [
              0.2222222222222222,
              "#7201a8"
             ],
             [
              0.3333333333333333,
              "#9c179e"
             ],
             [
              0.4444444444444444,
              "#bd3786"
             ],
             [
              0.5555555555555556,
              "#d8576b"
             ],
             [
              0.6666666666666666,
              "#ed7953"
             ],
             [
              0.7777777777777778,
              "#fb9f3a"
             ],
             [
              0.8888888888888888,
              "#fdca26"
             ],
             [
              1,
              "#f0f921"
             ]
            ],
            "type": "contour"
           }
          ],
          "contourcarpet": [
           {
            "colorbar": {
             "outlinewidth": 0,
             "ticks": ""
            },
            "type": "contourcarpet"
           }
          ],
          "heatmap": [
           {
            "colorbar": {
             "outlinewidth": 0,
             "ticks": ""
            },
            "colorscale": [
             [
              0,
              "#0d0887"
             ],
             [
              0.1111111111111111,
              "#46039f"
             ],
             [
              0.2222222222222222,
              "#7201a8"
             ],
             [
              0.3333333333333333,
              "#9c179e"
             ],
             [
              0.4444444444444444,
              "#bd3786"
             ],
             [
              0.5555555555555556,
              "#d8576b"
             ],
             [
              0.6666666666666666,
              "#ed7953"
             ],
             [
              0.7777777777777778,
              "#fb9f3a"
             ],
             [
              0.8888888888888888,
              "#fdca26"
             ],
             [
              1,
              "#f0f921"
             ]
            ],
            "type": "heatmap"
           }
          ],
          "heatmapgl": [
           {
            "colorbar": {
             "outlinewidth": 0,
             "ticks": ""
            },
            "colorscale": [
             [
              0,
              "#0d0887"
             ],
             [
              0.1111111111111111,
              "#46039f"
             ],
             [
              0.2222222222222222,
              "#7201a8"
             ],
             [
              0.3333333333333333,
              "#9c179e"
             ],
             [
              0.4444444444444444,
              "#bd3786"
             ],
             [
              0.5555555555555556,
              "#d8576b"
             ],
             [
              0.6666666666666666,
              "#ed7953"
             ],
             [
              0.7777777777777778,
              "#fb9f3a"
             ],
             [
              0.8888888888888888,
              "#fdca26"
             ],
             [
              1,
              "#f0f921"
             ]
            ],
            "type": "heatmapgl"
           }
          ],
          "histogram": [
           {
            "marker": {
             "pattern": {
              "fillmode": "overlay",
              "size": 10,
              "solidity": 0.2
             }
            },
            "type": "histogram"
           }
          ],
          "histogram2d": [
           {
            "colorbar": {
             "outlinewidth": 0,
             "ticks": ""
            },
            "colorscale": [
             [
              0,
              "#0d0887"
             ],
             [
              0.1111111111111111,
              "#46039f"
             ],
             [
              0.2222222222222222,
              "#7201a8"
             ],
             [
              0.3333333333333333,
              "#9c179e"
             ],
             [
              0.4444444444444444,
              "#bd3786"
             ],
             [
              0.5555555555555556,
              "#d8576b"
             ],
             [
              0.6666666666666666,
              "#ed7953"
             ],
             [
              0.7777777777777778,
              "#fb9f3a"
             ],
             [
              0.8888888888888888,
              "#fdca26"
             ],
             [
              1,
              "#f0f921"
             ]
            ],
            "type": "histogram2d"
           }
          ],
          "histogram2dcontour": [
           {
            "colorbar": {
             "outlinewidth": 0,
             "ticks": ""
            },
            "colorscale": [
             [
              0,
              "#0d0887"
             ],
             [
              0.1111111111111111,
              "#46039f"
             ],
             [
              0.2222222222222222,
              "#7201a8"
             ],
             [
              0.3333333333333333,
              "#9c179e"
             ],
             [
              0.4444444444444444,
              "#bd3786"
             ],
             [
              0.5555555555555556,
              "#d8576b"
             ],
             [
              0.6666666666666666,
              "#ed7953"
             ],
             [
              0.7777777777777778,
              "#fb9f3a"
             ],
             [
              0.8888888888888888,
              "#fdca26"
             ],
             [
              1,
              "#f0f921"
             ]
            ],
            "type": "histogram2dcontour"
           }
          ],
          "mesh3d": [
           {
            "colorbar": {
             "outlinewidth": 0,
             "ticks": ""
            },
            "type": "mesh3d"
           }
          ],
          "parcoords": [
           {
            "line": {
             "colorbar": {
              "outlinewidth": 0,
              "ticks": ""
             }
            },
            "type": "parcoords"
           }
          ],
          "pie": [
           {
            "automargin": true,
            "type": "pie"
           }
          ],
          "scatter": [
           {
            "marker": {
             "line": {
              "color": "#283442"
             }
            },
            "type": "scatter"
           }
          ],
          "scatter3d": [
           {
            "line": {
             "colorbar": {
              "outlinewidth": 0,
              "ticks": ""
             }
            },
            "marker": {
             "colorbar": {
              "outlinewidth": 0,
              "ticks": ""
             }
            },
            "type": "scatter3d"
           }
          ],
          "scattercarpet": [
           {
            "marker": {
             "colorbar": {
              "outlinewidth": 0,
              "ticks": ""
             }
            },
            "type": "scattercarpet"
           }
          ],
          "scattergeo": [
           {
            "marker": {
             "colorbar": {
              "outlinewidth": 0,
              "ticks": ""
             }
            },
            "type": "scattergeo"
           }
          ],
          "scattergl": [
           {
            "marker": {
             "line": {
              "color": "#283442"
             }
            },
            "type": "scattergl"
           }
          ],
          "scattermapbox": [
           {
            "marker": {
             "colorbar": {
              "outlinewidth": 0,
              "ticks": ""
             }
            },
            "type": "scattermapbox"
           }
          ],
          "scatterpolar": [
           {
            "marker": {
             "colorbar": {
              "outlinewidth": 0,
              "ticks": ""
             }
            },
            "type": "scatterpolar"
           }
          ],
          "scatterpolargl": [
           {
            "marker": {
             "colorbar": {
              "outlinewidth": 0,
              "ticks": ""
             }
            },
            "type": "scatterpolargl"
           }
          ],
          "scatterternary": [
           {
            "marker": {
             "colorbar": {
              "outlinewidth": 0,
              "ticks": ""
             }
            },
            "type": "scatterternary"
           }
          ],
          "surface": [
           {
            "colorbar": {
             "outlinewidth": 0,
             "ticks": ""
            },
            "colorscale": [
             [
              0,
              "#0d0887"
             ],
             [
              0.1111111111111111,
              "#46039f"
             ],
             [
              0.2222222222222222,
              "#7201a8"
             ],
             [
              0.3333333333333333,
              "#9c179e"
             ],
             [
              0.4444444444444444,
              "#bd3786"
             ],
             [
              0.5555555555555556,
              "#d8576b"
             ],
             [
              0.6666666666666666,
              "#ed7953"
             ],
             [
              0.7777777777777778,
              "#fb9f3a"
             ],
             [
              0.8888888888888888,
              "#fdca26"
             ],
             [
              1,
              "#f0f921"
             ]
            ],
            "type": "surface"
           }
          ],
          "table": [
           {
            "cells": {
             "fill": {
              "color": "#506784"
             },
             "line": {
              "color": "rgb(17,17,17)"
             }
            },
            "header": {
             "fill": {
              "color": "#2a3f5f"
             },
             "line": {
              "color": "rgb(17,17,17)"
             }
            },
            "type": "table"
           }
          ]
         },
         "layout": {
          "annotationdefaults": {
           "arrowcolor": "#f2f5fa",
           "arrowhead": 0,
           "arrowwidth": 1
          },
          "autotypenumbers": "strict",
          "coloraxis": {
           "colorbar": {
            "outlinewidth": 0,
            "ticks": ""
           }
          },
          "colorscale": {
           "diverging": [
            [
             0,
             "#8e0152"
            ],
            [
             0.1,
             "#c51b7d"
            ],
            [
             0.2,
             "#de77ae"
            ],
            [
             0.3,
             "#f1b6da"
            ],
            [
             0.4,
             "#fde0ef"
            ],
            [
             0.5,
             "#f7f7f7"
            ],
            [
             0.6,
             "#e6f5d0"
            ],
            [
             0.7,
             "#b8e186"
            ],
            [
             0.8,
             "#7fbc41"
            ],
            [
             0.9,
             "#4d9221"
            ],
            [
             1,
             "#276419"
            ]
           ],
           "sequential": [
            [
             0,
             "#0d0887"
            ],
            [
             0.1111111111111111,
             "#46039f"
            ],
            [
             0.2222222222222222,
             "#7201a8"
            ],
            [
             0.3333333333333333,
             "#9c179e"
            ],
            [
             0.4444444444444444,
             "#bd3786"
            ],
            [
             0.5555555555555556,
             "#d8576b"
            ],
            [
             0.6666666666666666,
             "#ed7953"
            ],
            [
             0.7777777777777778,
             "#fb9f3a"
            ],
            [
             0.8888888888888888,
             "#fdca26"
            ],
            [
             1,
             "#f0f921"
            ]
           ],
           "sequentialminus": [
            [
             0,
             "#0d0887"
            ],
            [
             0.1111111111111111,
             "#46039f"
            ],
            [
             0.2222222222222222,
             "#7201a8"
            ],
            [
             0.3333333333333333,
             "#9c179e"
            ],
            [
             0.4444444444444444,
             "#bd3786"
            ],
            [
             0.5555555555555556,
             "#d8576b"
            ],
            [
             0.6666666666666666,
             "#ed7953"
            ],
            [
             0.7777777777777778,
             "#fb9f3a"
            ],
            [
             0.8888888888888888,
             "#fdca26"
            ],
            [
             1,
             "#f0f921"
            ]
           ]
          },
          "colorway": [
           "#636efa",
           "#EF553B",
           "#00cc96",
           "#ab63fa",
           "#FFA15A",
           "#19d3f3",
           "#FF6692",
           "#B6E880",
           "#FF97FF",
           "#FECB52"
          ],
          "font": {
           "color": "#f2f5fa"
          },
          "geo": {
           "bgcolor": "rgb(17,17,17)",
           "lakecolor": "rgb(17,17,17)",
           "landcolor": "rgb(17,17,17)",
           "showlakes": true,
           "showland": true,
           "subunitcolor": "#506784"
          },
          "hoverlabel": {
           "align": "left"
          },
          "hovermode": "closest",
          "mapbox": {
           "style": "dark"
          },
          "paper_bgcolor": "rgb(17,17,17)",
          "plot_bgcolor": "rgb(17,17,17)",
          "polar": {
           "angularaxis": {
            "gridcolor": "#506784",
            "linecolor": "#506784",
            "ticks": ""
           },
           "bgcolor": "rgb(17,17,17)",
           "radialaxis": {
            "gridcolor": "#506784",
            "linecolor": "#506784",
            "ticks": ""
           }
          },
          "scene": {
           "xaxis": {
            "backgroundcolor": "rgb(17,17,17)",
            "gridcolor": "#506784",
            "gridwidth": 2,
            "linecolor": "#506784",
            "showbackground": true,
            "ticks": "",
            "zerolinecolor": "#C8D4E3"
           },
           "yaxis": {
            "backgroundcolor": "rgb(17,17,17)",
            "gridcolor": "#506784",
            "gridwidth": 2,
            "linecolor": "#506784",
            "showbackground": true,
            "ticks": "",
            "zerolinecolor": "#C8D4E3"
           },
           "zaxis": {
            "backgroundcolor": "rgb(17,17,17)",
            "gridcolor": "#506784",
            "gridwidth": 2,
            "linecolor": "#506784",
            "showbackground": true,
            "ticks": "",
            "zerolinecolor": "#C8D4E3"
           }
          },
          "shapedefaults": {
           "line": {
            "color": "#f2f5fa"
           }
          },
          "sliderdefaults": {
           "bgcolor": "#C8D4E3",
           "bordercolor": "rgb(17,17,17)",
           "borderwidth": 1,
           "tickwidth": 0
          },
          "ternary": {
           "aaxis": {
            "gridcolor": "#506784",
            "linecolor": "#506784",
            "ticks": ""
           },
           "baxis": {
            "gridcolor": "#506784",
            "linecolor": "#506784",
            "ticks": ""
           },
           "bgcolor": "rgb(17,17,17)",
           "caxis": {
            "gridcolor": "#506784",
            "linecolor": "#506784",
            "ticks": ""
           }
          },
          "title": {
           "x": 0.05
          },
          "updatemenudefaults": {
           "bgcolor": "#506784",
           "borderwidth": 0
          },
          "xaxis": {
           "automargin": true,
           "gridcolor": "#283442",
           "linecolor": "#506784",
           "ticks": "",
           "title": {
            "standoff": 15
           },
           "zerolinecolor": "#283442",
           "zerolinewidth": 2
          },
          "yaxis": {
           "automargin": true,
           "gridcolor": "#283442",
           "linecolor": "#506784",
           "ticks": "",
           "title": {
            "standoff": 15
           },
           "zerolinecolor": "#283442",
           "zerolinewidth": 2
          }
         }
        },
        "title": {
         "text": "Зависимость числа отклонений от объема выборки"
        },
        "width": 650,
        "xaxis": {
         "anchor": "y",
         "domain": [
          0,
          1
         ],
         "title": {
          "text": "Объем выборки"
         }
        },
        "yaxis": {
         "anchor": "x",
         "domain": [
          0,
          1
         ],
         "title": {
          "text": "Количество отклонений"
         }
        }
       }
      }
     },
     "metadata": {},
     "output_type": "display_data"
    }
   ],
   "source": [
    "fig = px.line(diff_cnt, x='gen_size', y='diff_count',\n",
    "              labels={\n",
    "                  'gen_size': 'Объем выборки',\n",
    "                  'diff_count': 'Количество отклонений'\n",
    "              },\n",
    "              title='Зависимость числа отклонений от объема выборки',\n",
    "              width=650,\n",
    "              template=theme,\n",
    "              markers='o')\n",
    "fig.update_layout(margin=dict(l=70, r=20, b=10, t=50))\n",
    "fig.show()"
   ]
  },
  {
   "cell_type": "markdown",
   "metadata": {},
   "source": [
    "И снова, можно заметить, что с ростом объема выборки оценка все реже отклоняется от параметра. Объясняется это законом больших чисел, а конкретно - состоятельностью полученной оценки: при стремлении объема к бесконечности, оценка параметра стремится к самому параметру по вероятности\n",
    "\n",
    "\\begin{equation}\n",
    "    \\hat{\\theta} \\xrightarrow{P} \\theta \\text{  при } n\\rightarrow\\infty\n",
    "\\end{equation}"
   ]
  }
 ],
 "metadata": {
  "kernelspec": {
   "display_name": "Python 3 (ipykernel)",
   "language": "python",
   "name": "python3"
  },
  "language_info": {
   "codemirror_mode": {
    "name": "ipython",
    "version": 3
   },
   "file_extension": ".py",
   "mimetype": "text/x-python",
   "name": "python",
   "nbconvert_exporter": "python",
   "pygments_lexer": "ipython3",
   "version": "3.11.3"
  }
 },
 "nbformat": 4,
 "nbformat_minor": 1
}
