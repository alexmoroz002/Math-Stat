{
 "cells": [
  {
   "cell_type": "markdown",
   "metadata": {},
   "source": [
    "\n",
    "# Лабораторная работа 2\n",
    "\n",
    "## Выполнил: Морозов Алексей, группа М32071\n",
    "\n",
    "## Вариант: 9, задачи 3, 5\n"
   ]
  },
  {
   "cell_type": "code",
   "execution_count": 1,
   "metadata": {
    "ExecuteTime": {
     "end_time": "2023-03-29T03:39:41.276652Z",
     "start_time": "2023-03-29T03:39:41.255936Z"
    }
   },
   "outputs": [],
   "source": [
    "import numpy as np\n",
    "import plotly.express as px\n",
    "import pandas as pd\n",
    "import scipy.stats as stats\n",
    "import plotly\n",
    "import plotly.graph_objs as go\n",
    "from plotly.subplots import make_subplots\n",
    "\n",
    "theme = 'plotly_dark'"
   ]
  },
  {
   "cell_type": "markdown",
   "metadata": {},
   "source": [
    "\n",
    "## Задача 1\n",
    "\n",
    "### Условие\n",
    "\n",
    "Методом максимального правдоподобия найти оценку параметра $\\theta$ биномиального распределения $Bin(n, \\theta)$, считая $n$ известным. Найти смещение оценки, дисперсию, среднеквадратическую ошибку. Является ли найденная оценка эффективной? Эксперимент при $n = 4$, $\\theta = \\frac{1}{5}$\n",
    "\n",
    "Сгенерируйте $500$ выборок объема $50$ с указанным значением параметра $\\theta$. Сколько раз оценка отклонится от истинного значения параметра более чем на $0.01$? То же самое сделать для объемов выборки $100$, $500$, $1000$, $2500$. Визуализируйте результат. Как объяснить полученный результат?"
   ]
  },
  {
   "cell_type": "code",
   "execution_count": 2,
   "metadata": {
    "ExecuteTime": {
     "end_time": "2023-03-29T03:39:41.319248Z",
     "start_time": "2023-03-29T03:39:41.261965Z"
    }
   },
   "outputs": [],
   "source": [
    "n1 = 4\n",
    "theta1 = 1/5\n",
    "gen_count = 500\n",
    "eps = 0.01"
   ]
  },
  {
   "cell_type": "markdown",
   "metadata": {},
   "source": [
    "\n",
    "### Решение\n",
    "\n",
    "Функция вероятности для биномиального распределения имеет вид\n",
    "\\begin{equation}\n",
    "    p_Y\\left(y\\right) = P\\left(Y = y\\right) = \\binom{n}{y}\\theta^{y}\\left(1-\\theta\\right)^{n-y}\n",
    "\\end{equation}\n",
    "\n",
    "Пусть в результате $k$ испытаний при некотором значении параметра $\\theta$ была получена выборка $X=\\left(X_1,...,X_k\\right)$. Так как распределение дискретно, вероятность, что величина $X$ примет значение $x_i$ при данном значении параметра равна $p_Y\\left(x_i,\\theta\\right)=P_\\theta\\left(Y=x_i\\right)$\n",
    "\n",
    "Тогда можно ввести функцию правдоподобия $f\\left(X,\\theta\\right)$ такую, что\n",
    "\\begin{equation}\n",
    "    f\\left(X,\\theta\\right)=\\prod_{i=1}^{k}p_Y\\left(x_i,\\theta\\right)\n",
    "\\end{equation}\n",
    "и ее логарифмический аналог\n",
    "\\begin{equation}\n",
    "    L\\left(X,\\theta\\right)=\\ln f\\left(X,\\theta\\right)\n",
    "\\end{equation}\n",
    "\n",
    "Оценка $\\hat{\\theta}$ параметра $\\theta$ будет равна точке максимума функций $f\\left(X,\\theta\\right)$ и $L\\left(X,\\theta\\right)$ (так как их максимумы из-за монотонности $\\ln$ совпадают)"
   ]
  },
  {
   "cell_type": "markdown",
   "metadata": {},
   "source": [
    "Найдем логарифмическую функцию правдоподобия для данного распределения\n",
    "\\begin{equation}\n",
    "    L\\left(X,\\theta\\right) = \\ln\\left(\\prod_{i=1}^{k}\\binom{n}{x_i}\\theta^{x_i}\\left(1-\\theta\\right)^{n-x_i}\\right) = \\ln\\prod_{i=1}^{k}\\binom{n}{x_i} + \\ln\\left(\\theta^{\\sum_{i=1}^{k}x_i}\\left(1-\\theta\\right)^{\\sum_{i=1}^{k}n-x_i}\\right) = \\\\ = \\ln\\prod_{i=1}^{k}\\binom{n}{x_i} + \\ln\\left(\\theta^{S_k}\\left(1-\\theta\\right)^{kn-S_k}\\right) = \\ln\\prod_{i=1}^{k}\\binom{n}{x_i} + S_k\\ln\\theta + \\left(kn-S_k\\right)\\ln\\left(1-\\theta\\right)\n",
    "\\end{equation}\n",
    "\n",
    "Максимум найдем, приравняв к $0$ производную по $\\theta$\n",
    "\\begin{gather}\n",
    "    \\frac{\\partial}{\\partial\\theta}L\\left(X,\\theta\\right) = \\frac{S_k}{\\theta} - \\frac{kn-S_k}{1-\\theta} \\\\\n",
    "    \\frac{\\partial}{\\partial\\theta}L\\left(X,\\theta\\right) = 0 \\\\\n",
    "    \\frac{S_k}{\\theta} - \\frac{kn-S_k}{1-\\theta} = 0 \\\\\n",
    "    \\frac{S_k}{\\theta} = \\frac{kn-S_k}{1-\\theta} \\\\\n",
    "    S_k - \\theta S_k = \\theta kn - \\theta S_k \\\\\n",
    "    \\theta = \\frac{S_k}{nk} = \\frac{\\bar{X_k}}{n}\n",
    "\\end{gather}\n",
    "\n",
    "Итого, оценка методом максимального правдоподобия параметра $\\theta$ равна\n",
    "\\begin{equation}\n",
    "    \\hat{\\theta} = \\frac{\\bar{X_k}}{n}\n",
    "\\end{equation}"
   ]
  },
  {
   "cell_type": "markdown",
   "metadata": {},
   "source": [
    "\\begin{equation}\n",
    "    \\lim_{k\\rightarrow\\infty}{P\\left(\\left|\\hat{\\theta} - \\theta\\right| > \\epsilon \\right)} = \\lim_{k\\rightarrow\\infty}{P\\left(\\left|\\frac{\\bar{X_k}}{n} - \\theta\\right| > \\epsilon \\right)}\n",
    "\\end{equation}\n",
    "\n",
    "Из закона больших чисел следует, что $\\bar{X_k}\\xrightarrow{k\\rightarrow\\infty} EX = n\\theta$, тогда $\\frac{\\bar{X_k}}{n} - \\theta \\xrightarrow{k\\rightarrow\\infty} 0$ и\n",
    "\n",
    "\\begin{equation}\n",
    "    \\lim_{k\\rightarrow\\infty}{P\\left(\\left|\\hat{\\theta} - \\theta\\right| > \\epsilon \\right)} = 0\n",
    "\\end{equation}\n",
    "\n",
    "Оценка состоятельная\n",
    "\n",
    "\\begin{equation}\n",
    "    E\\hat{\\theta} = E\\left(\\frac{\\bar{X_k}}{n}\\right) = \\frac{E\\bar{X_k}}{n} = \\frac{n\\theta}{n} = \\theta\n",
    "\\end{equation}\n",
    "\n",
    "Оценка несмещенная, ее смещение равно $B\\left(\\hat{\\theta}\\right) = \\theta - E\\hat{\\theta} = 0$\n",
    "\n",
    "\\begin{equation}\n",
    "    D\\left(\\hat{\\theta}\\right) = E\\hat{\\theta}^2 - \\left(E\\hat{\\theta}\\right)^2 = \\frac{1}{n^2}E\\left(\\overline{X}^2\\right) - \\theta^2 = \\frac{1}{n^2}\\left(n^2\\theta^2 + \\frac{n\\theta\\left(1-\\theta\\right)}{k}\\right) - \\theta^2 = \\frac{\\theta\\left(1-\\theta\\right)}{nk}\n",
    "\\end{equation}\n",
    "\n",
    "\\begin{equation}\n",
    "    MSE\\left(\\hat{\\theta}\\right) = D\\left(\\hat{\\theta}\\right) + \\left(B\\left(\\hat{\\theta}\\right)\\right)^2 = \\frac{\\theta\\left(1-\\theta\\right)}{nk}\n",
    "\\end{equation}"
   ]
  },
  {
   "cell_type": "markdown",
   "metadata": {},
   "source": [
    "Эффективность оценки $\\hat{\\theta}$ можно проверить используя неравенство Рао-Крамера, которое, учитывая что оценка несмещенная и элементы выборки распределены одинаково, имеет вид\n",
    "\\begin{equation}\n",
    "    D\\left(\\hat{\\theta}\\right) \\geq \\frac{1}{kI\\left(\\theta\\right)}\n",
    "\\end{equation}\n",
    "Если оценка такова, что в неравенстве достигается равенство, то данная оценка эффективна\n",
    "\\begin{equation}\n",
    "    D\\left(\\hat{\\theta}\\right) = \\frac{1}{kI\\left(\\theta\\right)}\n",
    "\\end{equation}\n",
    "Найдем информацию Фишера $I\\left(\\theta\\right)$ в одном наблюдении\n",
    "\\begin{equation}\n",
    "    I\\left(\\theta\\right) = E_\\theta\\left(\\frac{\\partial}{\\partial\\theta}L\\left(x,\\theta\\right)\\right)^2 = E_\\theta\\left(\\frac{x^2-2nx\\theta+n^2\\theta^2}{\\theta^2\\left(1-\\theta\\right)^2}\\right) = \\frac{n\\theta-n\\theta^2+n^2\\theta^2-2n^2\\theta^2+n^2\\theta^2}{\\theta^2\\left(1-\\theta\\right)^2} = \\frac{n}{\\theta\\left(1-\\theta\\right)}\n",
    "\\end{equation}\n",
    "\n",
    "Подставляя $D\\left(\\hat{\\theta}\\right)$ и $I\\left(\\theta\\right)$ получаем\n",
    "\\begin{equation}\n",
    "    \\frac{\\theta\\left(1-\\theta\\right)}{kn} = \\frac{\\theta\\left(1-\\theta\\right)}{kn}\n",
    "\\end{equation}\n",
    "Значит, полученная оценка эффективна"
   ]
  },
  {
   "cell_type": "markdown",
   "metadata": {},
   "source": [
    "Итого, имеем что оценка $\\hat{\\theta}$ параметра $\\theta$ состоятельна, не смещена и эффективна, а ее параметры равны\n",
    "Смещение $B\\left(\\hat{\\theta}\\right) = 0$\n",
    "Дисперсия $D\\left(\\hat{\\theta}\\right) = \\frac{\\theta\\left(1-\\theta\\right)}{nk}$\n",
    "СКО $MSE\\left(\\hat{\\theta}\\right) = \\frac{\\theta\\left(1-\\theta\\right)}{nk}$"
   ]
  },
  {
   "cell_type": "markdown",
   "metadata": {},
   "source": [
    "### Эксперимент"
   ]
  },
  {
   "cell_type": "code",
   "execution_count": 3,
   "metadata": {
    "ExecuteTime": {
     "end_time": "2023-03-29T03:39:41.334738Z",
     "start_time": "2023-03-29T03:39:41.293664Z"
    }
   },
   "outputs": [],
   "source": [
    "def count_diff_binom(size : int):\n",
    "    c = 0\n",
    "    for _ in range(gen_count):\n",
    "        gen_arr_binom = stats.binom.rvs(n=n1, p=theta1, size=size)\n",
    "        p_est = gen_arr_binom.mean() / n1\n",
    "        if abs(p_est - theta1) > eps:\n",
    "            c += 1\n",
    "    return c"
   ]
  },
  {
   "cell_type": "code",
   "execution_count": 4,
   "metadata": {
    "ExecuteTime": {
     "end_time": "2023-03-29T03:39:41.598927Z",
     "start_time": "2023-03-29T03:39:41.309774Z"
    }
   },
   "outputs": [
    {
     "data": {
      "text/html": [
       "<div>\n",
       "<style scoped>\n",
       "    .dataframe tbody tr th:only-of-type {\n",
       "        vertical-align: middle;\n",
       "    }\n",
       "\n",
       "    .dataframe tbody tr th {\n",
       "        vertical-align: top;\n",
       "    }\n",
       "\n",
       "    .dataframe thead th {\n",
       "        text-align: right;\n",
       "    }\n",
       "</style>\n",
       "<table border=\"1\" class=\"dataframe\">\n",
       "  <thead>\n",
       "    <tr style=\"text-align: right;\">\n",
       "      <th></th>\n",
       "      <th>gen_size</th>\n",
       "      <th>diff_count</th>\n",
       "    </tr>\n",
       "  </thead>\n",
       "  <tbody>\n",
       "    <tr>\n",
       "      <th>0</th>\n",
       "      <td>50</td>\n",
       "      <td>348</td>\n",
       "    </tr>\n",
       "    <tr>\n",
       "      <th>1</th>\n",
       "      <td>100</td>\n",
       "      <td>320</td>\n",
       "    </tr>\n",
       "    <tr>\n",
       "      <th>2</th>\n",
       "      <td>500</td>\n",
       "      <td>133</td>\n",
       "    </tr>\n",
       "    <tr>\n",
       "      <th>3</th>\n",
       "      <td>1000</td>\n",
       "      <td>64</td>\n",
       "    </tr>\n",
       "    <tr>\n",
       "      <th>4</th>\n",
       "      <td>2500</td>\n",
       "      <td>6</td>\n",
       "    </tr>\n",
       "  </tbody>\n",
       "</table>\n",
       "</div>"
      ],
      "text/plain": [
       "   gen_size  diff_count\n",
       "0        50         348\n",
       "1       100         320\n",
       "2       500         133\n",
       "3      1000          64\n",
       "4      2500           6"
      ]
     },
     "execution_count": 4,
     "metadata": {},
     "output_type": "execute_result"
    }
   ],
   "source": [
    "diff_count = pd.DataFrame({'gen_size': [], 'diff_count': []})\n",
    "gen_sizes = [50, 100, 500, 1000, 2500]\n",
    "for gen_size in gen_sizes:\n",
    "    diff_count.loc[len(diff_count.index)] = [gen_size, count_diff_binom(gen_size)]\n",
    "diff_count"
   ]
  },
  {
   "cell_type": "code",
   "execution_count": 5,
   "metadata": {
    "ExecuteTime": {
     "end_time": "2023-03-29T03:39:41.862180Z",
     "start_time": "2023-03-29T03:39:41.599928Z"
    }
   },
   "outputs": [
    {
     "data": {
      "application/vnd.plotly.v1+json": {
       "config": {
        "plotlyServerURL": "https://plot.ly"
       },
       "data": [
        {
         "hovertemplate": "Объем выборки=%{x}<br>Количество отклонений=%{y}<extra></extra>",
         "legendgroup": "",
         "line": {
          "color": "#636efa",
          "dash": "solid"
         },
         "marker": {
          "symbol": "circle"
         },
         "mode": "lines+markers",
         "name": "",
         "orientation": "v",
         "showlegend": false,
         "type": "scatter",
         "x": [
          50,
          100,
          500,
          1000,
          2500
         ],
         "xaxis": "x",
         "y": [
          348,
          320,
          133,
          64,
          6
         ],
         "yaxis": "y"
        }
       ],
       "layout": {
        "legend": {
         "tracegroupgap": 0
        },
        "margin": {
         "b": 10,
         "l": 70,
         "r": 20,
         "t": 50
        },
        "template": {
         "data": {
          "bar": [
           {
            "error_x": {
             "color": "#f2f5fa"
            },
            "error_y": {
             "color": "#f2f5fa"
            },
            "marker": {
             "line": {
              "color": "rgb(17,17,17)",
              "width": 0.5
             },
             "pattern": {
              "fillmode": "overlay",
              "size": 10,
              "solidity": 0.2
             }
            },
            "type": "bar"
           }
          ],
          "barpolar": [
           {
            "marker": {
             "line": {
              "color": "rgb(17,17,17)",
              "width": 0.5
             },
             "pattern": {
              "fillmode": "overlay",
              "size": 10,
              "solidity": 0.2
             }
            },
            "type": "barpolar"
           }
          ],
          "carpet": [
           {
            "aaxis": {
             "endlinecolor": "#A2B1C6",
             "gridcolor": "#506784",
             "linecolor": "#506784",
             "minorgridcolor": "#506784",
             "startlinecolor": "#A2B1C6"
            },
            "baxis": {
             "endlinecolor": "#A2B1C6",
             "gridcolor": "#506784",
             "linecolor": "#506784",
             "minorgridcolor": "#506784",
             "startlinecolor": "#A2B1C6"
            },
            "type": "carpet"
           }
          ],
          "choropleth": [
           {
            "colorbar": {
             "outlinewidth": 0,
             "ticks": ""
            },
            "type": "choropleth"
           }
          ],
          "contour": [
           {
            "colorbar": {
             "outlinewidth": 0,
             "ticks": ""
            },
            "colorscale": [
             [
              0,
              "#0d0887"
             ],
             [
              0.1111111111111111,
              "#46039f"
             ],
             [
              0.2222222222222222,
              "#7201a8"
             ],
             [
              0.3333333333333333,
              "#9c179e"
             ],
             [
              0.4444444444444444,
              "#bd3786"
             ],
             [
              0.5555555555555556,
              "#d8576b"
             ],
             [
              0.6666666666666666,
              "#ed7953"
             ],
             [
              0.7777777777777778,
              "#fb9f3a"
             ],
             [
              0.8888888888888888,
              "#fdca26"
             ],
             [
              1,
              "#f0f921"
             ]
            ],
            "type": "contour"
           }
          ],
          "contourcarpet": [
           {
            "colorbar": {
             "outlinewidth": 0,
             "ticks": ""
            },
            "type": "contourcarpet"
           }
          ],
          "heatmap": [
           {
            "colorbar": {
             "outlinewidth": 0,
             "ticks": ""
            },
            "colorscale": [
             [
              0,
              "#0d0887"
             ],
             [
              0.1111111111111111,
              "#46039f"
             ],
             [
              0.2222222222222222,
              "#7201a8"
             ],
             [
              0.3333333333333333,
              "#9c179e"
             ],
             [
              0.4444444444444444,
              "#bd3786"
             ],
             [
              0.5555555555555556,
              "#d8576b"
             ],
             [
              0.6666666666666666,
              "#ed7953"
             ],
             [
              0.7777777777777778,
              "#fb9f3a"
             ],
             [
              0.8888888888888888,
              "#fdca26"
             ],
             [
              1,
              "#f0f921"
             ]
            ],
            "type": "heatmap"
           }
          ],
          "heatmapgl": [
           {
            "colorbar": {
             "outlinewidth": 0,
             "ticks": ""
            },
            "colorscale": [
             [
              0,
              "#0d0887"
             ],
             [
              0.1111111111111111,
              "#46039f"
             ],
             [
              0.2222222222222222,
              "#7201a8"
             ],
             [
              0.3333333333333333,
              "#9c179e"
             ],
             [
              0.4444444444444444,
              "#bd3786"
             ],
             [
              0.5555555555555556,
              "#d8576b"
             ],
             [
              0.6666666666666666,
              "#ed7953"
             ],
             [
              0.7777777777777778,
              "#fb9f3a"
             ],
             [
              0.8888888888888888,
              "#fdca26"
             ],
             [
              1,
              "#f0f921"
             ]
            ],
            "type": "heatmapgl"
           }
          ],
          "histogram": [
           {
            "marker": {
             "pattern": {
              "fillmode": "overlay",
              "size": 10,
              "solidity": 0.2
             }
            },
            "type": "histogram"
           }
          ],
          "histogram2d": [
           {
            "colorbar": {
             "outlinewidth": 0,
             "ticks": ""
            },
            "colorscale": [
             [
              0,
              "#0d0887"
             ],
             [
              0.1111111111111111,
              "#46039f"
             ],
             [
              0.2222222222222222,
              "#7201a8"
             ],
             [
              0.3333333333333333,
              "#9c179e"
             ],
             [
              0.4444444444444444,
              "#bd3786"
             ],
             [
              0.5555555555555556,
              "#d8576b"
             ],
             [
              0.6666666666666666,
              "#ed7953"
             ],
             [
              0.7777777777777778,
              "#fb9f3a"
             ],
             [
              0.8888888888888888,
              "#fdca26"
             ],
             [
              1,
              "#f0f921"
             ]
            ],
            "type": "histogram2d"
           }
          ],
          "histogram2dcontour": [
           {
            "colorbar": {
             "outlinewidth": 0,
             "ticks": ""
            },
            "colorscale": [
             [
              0,
              "#0d0887"
             ],
             [
              0.1111111111111111,
              "#46039f"
             ],
             [
              0.2222222222222222,
              "#7201a8"
             ],
             [
              0.3333333333333333,
              "#9c179e"
             ],
             [
              0.4444444444444444,
              "#bd3786"
             ],
             [
              0.5555555555555556,
              "#d8576b"
             ],
             [
              0.6666666666666666,
              "#ed7953"
             ],
             [
              0.7777777777777778,
              "#fb9f3a"
             ],
             [
              0.8888888888888888,
              "#fdca26"
             ],
             [
              1,
              "#f0f921"
             ]
            ],
            "type": "histogram2dcontour"
           }
          ],
          "mesh3d": [
           {
            "colorbar": {
             "outlinewidth": 0,
             "ticks": ""
            },
            "type": "mesh3d"
           }
          ],
          "parcoords": [
           {
            "line": {
             "colorbar": {
              "outlinewidth": 0,
              "ticks": ""
             }
            },
            "type": "parcoords"
           }
          ],
          "pie": [
           {
            "automargin": true,
            "type": "pie"
           }
          ],
          "scatter": [
           {
            "marker": {
             "line": {
              "color": "#283442"
             }
            },
            "type": "scatter"
           }
          ],
          "scatter3d": [
           {
            "line": {
             "colorbar": {
              "outlinewidth": 0,
              "ticks": ""
             }
            },
            "marker": {
             "colorbar": {
              "outlinewidth": 0,
              "ticks": ""
             }
            },
            "type": "scatter3d"
           }
          ],
          "scattercarpet": [
           {
            "marker": {
             "colorbar": {
              "outlinewidth": 0,
              "ticks": ""
             }
            },
            "type": "scattercarpet"
           }
          ],
          "scattergeo": [
           {
            "marker": {
             "colorbar": {
              "outlinewidth": 0,
              "ticks": ""
             }
            },
            "type": "scattergeo"
           }
          ],
          "scattergl": [
           {
            "marker": {
             "line": {
              "color": "#283442"
             }
            },
            "type": "scattergl"
           }
          ],
          "scattermapbox": [
           {
            "marker": {
             "colorbar": {
              "outlinewidth": 0,
              "ticks": ""
             }
            },
            "type": "scattermapbox"
           }
          ],
          "scatterpolar": [
           {
            "marker": {
             "colorbar": {
              "outlinewidth": 0,
              "ticks": ""
             }
            },
            "type": "scatterpolar"
           }
          ],
          "scatterpolargl": [
           {
            "marker": {
             "colorbar": {
              "outlinewidth": 0,
              "ticks": ""
             }
            },
            "type": "scatterpolargl"
           }
          ],
          "scatterternary": [
           {
            "marker": {
             "colorbar": {
              "outlinewidth": 0,
              "ticks": ""
             }
            },
            "type": "scatterternary"
           }
          ],
          "surface": [
           {
            "colorbar": {
             "outlinewidth": 0,
             "ticks": ""
            },
            "colorscale": [
             [
              0,
              "#0d0887"
             ],
             [
              0.1111111111111111,
              "#46039f"
             ],
             [
              0.2222222222222222,
              "#7201a8"
             ],
             [
              0.3333333333333333,
              "#9c179e"
             ],
             [
              0.4444444444444444,
              "#bd3786"
             ],
             [
              0.5555555555555556,
              "#d8576b"
             ],
             [
              0.6666666666666666,
              "#ed7953"
             ],
             [
              0.7777777777777778,
              "#fb9f3a"
             ],
             [
              0.8888888888888888,
              "#fdca26"
             ],
             [
              1,
              "#f0f921"
             ]
            ],
            "type": "surface"
           }
          ],
          "table": [
           {
            "cells": {
             "fill": {
              "color": "#506784"
             },
             "line": {
              "color": "rgb(17,17,17)"
             }
            },
            "header": {
             "fill": {
              "color": "#2a3f5f"
             },
             "line": {
              "color": "rgb(17,17,17)"
             }
            },
            "type": "table"
           }
          ]
         },
         "layout": {
          "annotationdefaults": {
           "arrowcolor": "#f2f5fa",
           "arrowhead": 0,
           "arrowwidth": 1
          },
          "autotypenumbers": "strict",
          "coloraxis": {
           "colorbar": {
            "outlinewidth": 0,
            "ticks": ""
           }
          },
          "colorscale": {
           "diverging": [
            [
             0,
             "#8e0152"
            ],
            [
             0.1,
             "#c51b7d"
            ],
            [
             0.2,
             "#de77ae"
            ],
            [
             0.3,
             "#f1b6da"
            ],
            [
             0.4,
             "#fde0ef"
            ],
            [
             0.5,
             "#f7f7f7"
            ],
            [
             0.6,
             "#e6f5d0"
            ],
            [
             0.7,
             "#b8e186"
            ],
            [
             0.8,
             "#7fbc41"
            ],
            [
             0.9,
             "#4d9221"
            ],
            [
             1,
             "#276419"
            ]
           ],
           "sequential": [
            [
             0,
             "#0d0887"
            ],
            [
             0.1111111111111111,
             "#46039f"
            ],
            [
             0.2222222222222222,
             "#7201a8"
            ],
            [
             0.3333333333333333,
             "#9c179e"
            ],
            [
             0.4444444444444444,
             "#bd3786"
            ],
            [
             0.5555555555555556,
             "#d8576b"
            ],
            [
             0.6666666666666666,
             "#ed7953"
            ],
            [
             0.7777777777777778,
             "#fb9f3a"
            ],
            [
             0.8888888888888888,
             "#fdca26"
            ],
            [
             1,
             "#f0f921"
            ]
           ],
           "sequentialminus": [
            [
             0,
             "#0d0887"
            ],
            [
             0.1111111111111111,
             "#46039f"
            ],
            [
             0.2222222222222222,
             "#7201a8"
            ],
            [
             0.3333333333333333,
             "#9c179e"
            ],
            [
             0.4444444444444444,
             "#bd3786"
            ],
            [
             0.5555555555555556,
             "#d8576b"
            ],
            [
             0.6666666666666666,
             "#ed7953"
            ],
            [
             0.7777777777777778,
             "#fb9f3a"
            ],
            [
             0.8888888888888888,
             "#fdca26"
            ],
            [
             1,
             "#f0f921"
            ]
           ]
          },
          "colorway": [
           "#636efa",
           "#EF553B",
           "#00cc96",
           "#ab63fa",
           "#FFA15A",
           "#19d3f3",
           "#FF6692",
           "#B6E880",
           "#FF97FF",
           "#FECB52"
          ],
          "font": {
           "color": "#f2f5fa"
          },
          "geo": {
           "bgcolor": "rgb(17,17,17)",
           "lakecolor": "rgb(17,17,17)",
           "landcolor": "rgb(17,17,17)",
           "showlakes": true,
           "showland": true,
           "subunitcolor": "#506784"
          },
          "hoverlabel": {
           "align": "left"
          },
          "hovermode": "closest",
          "mapbox": {
           "style": "dark"
          },
          "paper_bgcolor": "rgb(17,17,17)",
          "plot_bgcolor": "rgb(17,17,17)",
          "polar": {
           "angularaxis": {
            "gridcolor": "#506784",
            "linecolor": "#506784",
            "ticks": ""
           },
           "bgcolor": "rgb(17,17,17)",
           "radialaxis": {
            "gridcolor": "#506784",
            "linecolor": "#506784",
            "ticks": ""
           }
          },
          "scene": {
           "xaxis": {
            "backgroundcolor": "rgb(17,17,17)",
            "gridcolor": "#506784",
            "gridwidth": 2,
            "linecolor": "#506784",
            "showbackground": true,
            "ticks": "",
            "zerolinecolor": "#C8D4E3"
           },
           "yaxis": {
            "backgroundcolor": "rgb(17,17,17)",
            "gridcolor": "#506784",
            "gridwidth": 2,
            "linecolor": "#506784",
            "showbackground": true,
            "ticks": "",
            "zerolinecolor": "#C8D4E3"
           },
           "zaxis": {
            "backgroundcolor": "rgb(17,17,17)",
            "gridcolor": "#506784",
            "gridwidth": 2,
            "linecolor": "#506784",
            "showbackground": true,
            "ticks": "",
            "zerolinecolor": "#C8D4E3"
           }
          },
          "shapedefaults": {
           "line": {
            "color": "#f2f5fa"
           }
          },
          "sliderdefaults": {
           "bgcolor": "#C8D4E3",
           "bordercolor": "rgb(17,17,17)",
           "borderwidth": 1,
           "tickwidth": 0
          },
          "ternary": {
           "aaxis": {
            "gridcolor": "#506784",
            "linecolor": "#506784",
            "ticks": ""
           },
           "baxis": {
            "gridcolor": "#506784",
            "linecolor": "#506784",
            "ticks": ""
           },
           "bgcolor": "rgb(17,17,17)",
           "caxis": {
            "gridcolor": "#506784",
            "linecolor": "#506784",
            "ticks": ""
           }
          },
          "title": {
           "x": 0.05
          },
          "updatemenudefaults": {
           "bgcolor": "#506784",
           "borderwidth": 0
          },
          "xaxis": {
           "automargin": true,
           "gridcolor": "#283442",
           "linecolor": "#506784",
           "ticks": "",
           "title": {
            "standoff": 15
           },
           "zerolinecolor": "#283442",
           "zerolinewidth": 2
          },
          "yaxis": {
           "automargin": true,
           "gridcolor": "#283442",
           "linecolor": "#506784",
           "ticks": "",
           "title": {
            "standoff": 15
           },
           "zerolinecolor": "#283442",
           "zerolinewidth": 2
          }
         }
        },
        "title": {
         "text": "Зависимость количества отклонений от объема выборки"
        },
        "width": 650,
        "xaxis": {
         "anchor": "y",
         "domain": [
          0,
          1
         ],
         "title": {
          "text": "Объем выборки"
         }
        },
        "yaxis": {
         "anchor": "x",
         "domain": [
          0,
          1
         ],
         "title": {
          "text": "Количество отклонений"
         }
        }
       }
      }
     },
     "metadata": {},
     "output_type": "display_data"
    }
   ],
   "source": [
    "fig = px.line(diff_count, x='gen_size', y='diff_count',\n",
    "              labels={\n",
    "                  'gen_size': 'Объем выборки',\n",
    "                  'diff_count': 'Количество отклонений'\n",
    "              },\n",
    "              title='Зависимость количества отклонений от объема выборки',\n",
    "              width=650,\n",
    "              template=theme,\n",
    "              markers='o')\n",
    "fig.update_layout(margin=dict(l=70, r=20, b=10, t=50))\n",
    "fig.show()"
   ]
  },
  {
   "cell_type": "markdown",
   "metadata": {},
   "source": [
    "Нетрудно заметить, что с ростом объема выборки оценка все реже отклоняется от параметра. Объясняется это законом больших чисел, а конкретно - состоятельностью полученной оценки: при стремлении объема к бесконечности, оценка параметра стремится к самому параметру по вероятности\n",
    "\\begin{equation}\n",
    "    \\hat{\\theta} \\xrightarrow{P} \\theta \\text{  при } n\\rightarrow\\infty\n",
    "\\end{equation}"
   ]
  },
  {
   "cell_type": "markdown",
   "metadata": {},
   "source": [
    "\n",
    "## Задача 2\n",
    "\n",
    "### Условие\n",
    "\n",
    "Найти оценку максимального правдоподобия параметра $\\theta$ для распределения с плотностью\n",
    "\\begin{equation}\n",
    "    f_\\theta\\left(x\\right) = \\frac{3x^2}{\\sqrt{2\\pi}}\\exp{\\left(-\\frac{\\left(\\theta-x^3\\right)^2}{2}\\right)}\n",
    "\\end{equation}\n",
    "Найти её смещение, дисперсию и среднеквадратическую ошибку. Какими свойствами\n",
    "обладает данная оценка? Эксперимент при $\\theta=5$\n",
    "\n",
    "Сгенерируйте $500$ выборок объема $50$ с указанным значением параметра $\\theta$. Сколько раз оценка отклонится от истинного значения параметра более чем на $0.01$? То же самое сделать для объемов выборки $100$, $500$, $1000$, $2500$. Визуализируйте результат. Как объяснить полученный результат?"
   ]
  },
  {
   "cell_type": "code",
   "execution_count": 6,
   "metadata": {
    "ExecuteTime": {
     "end_time": "2023-03-29T03:39:41.878915Z",
     "start_time": "2023-03-29T03:39:41.864530Z"
    }
   },
   "outputs": [],
   "source": [
    "theta2 = 5"
   ]
  },
  {
   "cell_type": "markdown",
   "metadata": {},
   "source": [
    "\n",
    "### Решение\n",
    "\n",
    "Также введем функцию правдоподобия $f\\left(X,\\theta\\right)$ такую, что\n",
    "\\begin{equation}\n",
    "    f\\left(X,\\theta\\right) = \\prod_{i=1}^{k}f_\\theta\\left(x_i\\right)\n",
    "\\end{equation}\n",
    "и ее логарифмический аналог\n",
    "\\begin{equation}\n",
    "    L\\left(X,\\theta\\right) = \\ln f\\left(X,\\theta\\right)\n",
    "\\end{equation}\n",
    "\n",
    "Оценка $\\hat{\\theta}$ параметра $\\theta$ будет равна точке максимума функций $f\\left(X,\\theta\\right)$ и $L\\left(X,\\theta\\right)$"
   ]
  },
  {
   "cell_type": "markdown",
   "metadata": {},
   "source": [
    "Найдем логарифмическую функцию правдоподобия\n",
    "\\begin{equation}\n",
    "    L\\left(X,\\theta\\right) = \\ln\\left(\\prod_{i=1}^{n}\\frac{3x_i^2}{\\sqrt{2\\pi}}\\exp{\\left(-\\frac{\\left(\\theta-x_i^3\\right)^2}{2}\\right)}\\right) = \\sum_{i=1}^n\\ln\\frac{3x_i^2}{\\sqrt{2\\pi}} - \\sum_{i=1}^n\\frac{\\left(\\theta-x_i^3\\right)^2}{2}\n",
    "\\end{equation}\n",
    "\n",
    "Максимум найдем, приравняв к $0$ производную по $\\theta$\n",
    "\\begin{gather}\n",
    "    \\frac{\\partial}{\\partial\\theta}L\\left(X,\\theta\\right) = - \\sum_{i=1}^n\\theta - x_i^3 = -\\left(n\\theta - \\sum_{i=1}^n x_i^3\\right) \\\\\n",
    "    \\frac{\\partial}{\\partial\\theta}L\\left(X,\\theta\\right) = 0 \\\\\n",
    "    n\\theta - \\sum_{i=1}^n x_i^3 = 0 \\\\\n",
    "    \\theta = \\frac{\\sum_{i=1}^n x_i^3}{n}\n",
    "\\end{gather}\n",
    "\n",
    "Итого, оценка методом моментов параметра $\\theta$ равна\n",
    "\\begin{equation}\n",
    "    \\hat{\\theta} = \\frac{\\sum_{i=1}^n x_i^3}{n}\n",
    "\\end{equation}"
   ]
  },
  {
   "cell_type": "markdown",
   "metadata": {},
   "source": [
    "Вычислим $EX^3$ и $EX^6$, которые позже понадобятся для определения свойств оценки\n",
    "\\begin{gather}\n",
    "    EX^6 = \\int_{-\\infty}^{+\\infty}x_i^6 f_\\theta(x)dx = \\theta^2 + 1 \\\\\n",
    "    EX^3 = \\int_{-\\infty}^{+\\infty}x_i^3 f_\\theta(x)dx = \\theta\n",
    "\\end{gather}\n",
    "Оба интеграла были посчитаны методом численного интегрирования при разных $\\theta$, а результат был проверен с помощью WolframAlpha\n",
    "\\begin{equation}\n",
    "    DX^3 = EX^6 - \\left(EX^3\\right)^2 = \\theta^2 + 1 - \\theta^2 = 1\n",
    "\\end{equation}"
   ]
  },
  {
   "cell_type": "markdown",
   "metadata": {},
   "source": [
    "\\begin{equation}\n",
    "    \\lim_{k\\rightarrow\\infty}{P\\left(\\left|\\hat{\\theta} - \\theta\\right| > \\epsilon \\right)} = \\lim_{k\\rightarrow\\infty}{P\\left(\\left|\\frac{\\sum_{i=1}^n x_i^3}{n} - \\theta\\right| > \\epsilon \\right)}\n",
    "\\end{equation}\n",
    "\n",
    "Из закона больших чисел следует, что $\\frac{\\sum_{i=1}^n x_i^3}{n} \\xrightarrow{n\\rightarrow\\infty} EX^3 = \\theta$, тогда $\\frac{\\sum_{i=1}^n x_i^3}{n} - \\theta \\xrightarrow{n\\rightarrow\\infty} 0$ и\n",
    "\n",
    "\\begin{equation}\n",
    "    \\lim_{k\\rightarrow\\infty}{P\\left(\\left|\\hat{\\theta} - \\theta\\right| > \\epsilon \\right)} = 0\n",
    "\\end{equation}\n",
    "\n",
    "Оценка состоятельная\n",
    "\n",
    "\\begin{equation}\n",
    "    E\\hat{\\theta} = E\\left(\\frac{\\sum_{i=1}^n x_i^3}{n}\\right) = \\frac{E\\left(\\sum_{i=1}^n x_i^3\\right)}{n} = \\frac{n\\left(EX^3\\right)}{n} = \\frac{n\\theta}{n} = \\theta\n",
    "\\end{equation}\n",
    "\n",
    "Оценка несмещенная, ее смещение равно $B\\left(\\hat{\\theta}\\right) = \\theta - E\\hat{\\theta} = 0$\n",
    "\n",
    "\\begin{equation}\n",
    "    D\\left(\\hat{\\theta}\\right) = E\\hat{\\theta}^2 - \\left(E\\hat{\\theta}\\right)^2 = \\frac{1}{n^2}\\left(E\\left(\\sum_{i=1}^n x_i^6\\right) - E\\left(\\sum_{i=1}^n x_i^3\\right)^2\\right) = \\frac{1}{n}\\left(EX^6 - \\left(EX^3\\right)^2\\right) = \\frac{1}{n}\\left(\\theta^2 + 1 - \\theta^2\\right) = \\frac{1}{n}\n",
    "\\end{equation}\n",
    "\n",
    "\\begin{equation}\n",
    "    MSE\\left(\\hat{\\theta}\\right) = D\\left(\\hat{\\theta}\\right) + \\left(B\\left(\\hat{\\theta}\\right)\\right)^2 = \\frac{1}{n}\n",
    "\\end{equation}"
   ]
  },
  {
   "cell_type": "markdown",
   "metadata": {},
   "source": [
    "Эффективность оценки $\\hat{\\theta}$ можно проверить используя неравенство Рао-Крамера, которое, учитывая что оценка несмещенная и элементы выборки распределены одинаково, имеет вид\n",
    "\\begin{equation}\n",
    "    D\\left(\\hat{\\theta}\\right) \\geq \\frac{1}{nI\\left(\\theta\\right)}\n",
    "\\end{equation}\n",
    "Если оценка такова, что в неравенстве достигается равенство, то данная оценка эффективна\n",
    "\\begin{equation}\n",
    "    D\\left(\\hat{\\theta}\\right) = \\frac{1}{nI\\left(\\theta\\right)}\n",
    "\\end{equation}\n",
    "Найдем информацию Фишера $I\\left(\\theta\\right)$ в одном наблюдении\n",
    "\\begin{equation}\n",
    "    I\\left(\\theta\\right) = E_\\theta\\left(\\frac{\\partial}{\\partial\\theta}L\\left(x,\\theta\\right)\\right)^2 = E_\\theta\\left(-\\left(\\theta - x^3\\right)\\right)^2 = E_\\theta\\left(\\theta^2 - 2\\theta x^3 + x^6\\right) = \\theta^2 - 2\\theta^2 + \\theta + 1 = 1\n",
    "\\end{equation}\n",
    "\n",
    "Подставляя $D\\left(\\hat{\\theta}\\right)$ и $I\\left(\\theta\\right)$ получаем\n",
    "\\begin{equation}\n",
    "    \\frac{1}{n} = \\frac{1}{n}\n",
    "\\end{equation}\n",
    "Равенство достигнуто, значит, полученная оценка эффективна"
   ]
  },
  {
   "cell_type": "markdown",
   "metadata": {},
   "source": [
    "\\begin{equation}\n",
    "    \\sqrt n \\left(\\hat{\\theta} - \\theta\\right) = \\sqrt n \\left(\\frac{\\sum_{i=1}^n x_i^3}{n} - \\theta\\right) = \\frac{\\sum_{i=1}^n x_i^3 - n\\theta}{\\sqrt n} = \\frac{\\sum_{i=1}^n x_i^3 - nEX^3}{\\sqrt n} \\xrightarrow[n\\rightarrow\\infty]{\\text{ЦПТ}} N\\left(0, DX^3\\right) = N\\left(0, 1\\right)\n",
    "\\end{equation}\n",
    "Получаем, что оценка асимптотически нормальна"
   ]
  },
  {
   "cell_type": "markdown",
   "metadata": {},
   "source": [
    "Итого\n",
    "Оценка $\\hat{\\theta}$ параметра $\\theta$ состоятельная, не смещенная, эффективная и асимптотически нормальная\n",
    "Смещение $B\\hat{\\theta} = 0$\n",
    "Дисперсия $D\\hat{\\theta} = \\frac{1}{n}$\n",
    "СКО $MSE = \\frac{1}{n}$"
   ]
  },
  {
   "cell_type": "markdown",
   "metadata": {},
   "source": [
    "\n",
    "### Эксперимент\n",
    "\n",
    "В связи с тем, что данную функцию плотности вероятности невозможно задать с помощью scipy из-за ее нестандартного вида и невозможности привести ее к другой известной функции плотности, для генерации выборки буду использовать метод, основанный на Rejection sampling"
   ]
  },
  {
   "cell_type": "code",
   "execution_count": 7,
   "metadata": {
    "ExecuteTime": {
     "end_time": "2023-03-29T03:39:41.951525Z",
     "start_time": "2023-03-29T03:39:41.878915Z"
    }
   },
   "outputs": [],
   "source": [
    "import random\n",
    "\n",
    "def generate_sample():\n",
    "    domain_min = 1\n",
    "    domain_max = 2.5\n",
    "    upper_bound = 3.532\n",
    "    while True:\n",
    "        x = random.uniform(domain_min, domain_max)\n",
    "        y = random.uniform(0, upper_bound)\n",
    "        pdf = (3 * x**2)/np.sqrt(2 * np.pi) * np.exp(-((5 - x**3)**2)/2)\n",
    "        if y < pdf:\n",
    "            return x"
   ]
  },
  {
   "cell_type": "markdown",
   "metadata": {},
   "source": [
    "Проверю корректность генерации при размере выборки, равном $500$"
   ]
  },
  {
   "cell_type": "code",
   "execution_count": 8,
   "metadata": {
    "ExecuteTime": {
     "end_time": "2023-03-29T03:40:16.145123Z",
     "start_time": "2023-03-29T03:40:15.550414Z"
    }
   },
   "outputs": [
    {
     "data": {
      "application/vnd.plotly.v1+json": {
       "config": {
        "plotlyServerURL": "https://plot.ly"
       },
       "data": [
        {
         "histnorm": "probability density",
         "name": "Gen",
         "type": "histogram",
         "x": [
          1.6950806415637263,
          1.5073228335905031,
          1.6977043107982739,
          1.7759673366873991,
          1.618653205648556,
          1.7533228671473715,
          1.6828845803753525,
          1.7498652982940308,
          1.6988246296316014,
          1.6444675527372925,
          1.6907455589966665,
          1.7549067588897083,
          1.7847621600987615,
          1.5678535096760065,
          1.7689317523530517,
          1.771021901149227,
          1.5544562061016571,
          1.7079018642458894,
          1.8252882500192906,
          1.8851095006509417,
          1.7119322796542593,
          1.869823932169554,
          1.9555756877720691,
          1.709552121914687,
          1.503155814672243,
          1.771825599146932,
          1.8678976042680147,
          1.7853313435237705,
          1.5468092490842043,
          1.6915334940481226,
          1.8217202310749765,
          1.4738361414542571,
          1.6836475136933726,
          1.5930378070817794,
          1.4940501428075366,
          1.5772100176446031,
          1.5547223924763025,
          1.6015126115471592,
          1.5940447828218485,
          1.6072701844688269,
          1.671238360149329,
          1.6525862286742594,
          1.706304038546322,
          1.625741737049526,
          1.7996048161136167,
          1.7196928167393533,
          1.6750455185516029,
          1.4783333253673128,
          1.7235749733778303,
          1.5112121794353208,
          1.665867027200527,
          1.704648906522059,
          1.6596172644225398,
          1.7915502431436263,
          1.751472077096773,
          1.4501674232409298,
          1.693143530095115,
          1.847356110300351,
          1.7128105409890604,
          1.6536346584552062,
          1.5977599231135324,
          1.632272511732289,
          1.5977575357979994,
          1.6103858613750641,
          1.906267989169311,
          1.6788635741622158,
          1.5665494586169493,
          1.791855483490226,
          1.7500791735383665,
          1.6942031233303187,
          1.6929569014113288,
          1.7402418201778802,
          1.5071233460837186,
          1.616726983945188,
          1.7052739978687557,
          1.8389526837123964,
          1.6848637042806254,
          1.6462654950858173,
          1.4879890588449007,
          1.7008353048957185,
          1.737873627337408,
          1.6027046334349495,
          1.6033444367602543,
          1.7623388116975007,
          1.9437376119763785,
          1.8213111049264419,
          1.6722157979805354,
          1.9175842894824344,
          1.7884321050497083,
          1.7193788940696884,
          1.7058316051884783,
          1.7112112146964584,
          1.5942252687728895,
          1.6019922583140311,
          1.7376551164971878,
          1.5578044628929182,
          1.6744508958962854,
          1.7069126015492597,
          1.6287957705219256,
          1.7235819655522486,
          1.6316526815975476,
          1.7581097250057909,
          1.5851110664112165,
          1.561597555789727,
          1.655494897159075,
          1.8561297201241342,
          1.8349494669441202,
          1.842705059222511,
          1.712483725863599,
          1.765792361522251,
          1.873123991758988,
          1.5387901464370213,
          1.495310204212288,
          1.748308211143072,
          1.6391918542316737,
          1.4882465637130629,
          1.8049279980256046,
          1.825784426540414,
          1.8238615217012952,
          1.8303108502356693,
          1.4560809944684137,
          1.6728319614789968,
          1.6254948810217855,
          1.600215159037965,
          1.7178826864272099,
          1.8136591864886649,
          1.7915797173147576,
          1.774516585960285,
          1.8191055329621166,
          1.6826385038904168,
          1.5939806274505277,
          1.664261275916728,
          1.7043782557059282,
          1.748330106067808,
          1.6042389067204903,
          1.448081764489731,
          1.8492464143102034,
          1.651375915632338,
          1.7185277475422125,
          1.5744207791425855,
          1.7912317894842906,
          1.6151891546547361,
          1.8393092868381216,
          1.72067165696115,
          1.5993174803964885,
          1.7068251209670295,
          1.6006696460108998,
          1.7316322346512,
          1.5624338485917035,
          1.743257380090359,
          1.7674020702756708,
          1.6071592327764825,
          1.64393729410864,
          1.604061075355062,
          1.550407461798911,
          1.7285622221008343,
          1.6604841851729693,
          1.7817423558897225,
          1.6723481333973387,
          1.515732840617124,
          1.8267659441799788,
          1.7758630429130253,
          1.650615696008924,
          1.7284466329546193,
          1.706992343899505,
          1.5306662332623218,
          1.7321657298088335,
          1.6339984746060172,
          1.7075234530697119,
          1.7361314032434478,
          1.777807158708935,
          1.8352643382544265,
          1.744273911004749,
          1.7894926960811375,
          1.77240349008362,
          1.6323637348141236,
          1.5920706405274148,
          1.5304725635895333,
          1.7643109698943689,
          1.5425574131602167,
          1.6288235371558293,
          1.8144893995892095,
          1.7369322923748562,
          1.8131609795074302,
          1.6236172474336261,
          1.5751851010403646,
          1.8467801736149738,
          1.7590756072533082,
          1.6389523371022852,
          1.5926116625533324,
          1.6190416133127397,
          1.7603262442829677,
          1.7505211160539855,
          1.7999700326376005,
          1.7792191219797626,
          1.5121142283813116,
          1.811516067348402,
          1.739653342998925,
          1.5479989594938974,
          1.7992524122125804,
          1.4974299349416416,
          1.6182818808155963,
          1.5356483974278028,
          1.7360421085802646,
          1.8592489073428466,
          1.5977710902155975,
          1.6931879459161892,
          1.6699635331078717,
          1.8702079241301193,
          1.5930703847041081,
          1.5347622264222835,
          1.4527995706020114,
          1.691883160535683,
          1.6602227655061361,
          1.7241674549668,
          1.765642003696159,
          1.6833037553975265,
          1.387012029586589,
          1.72376615281294,
          1.8197055560375475,
          1.6531029645288922,
          1.8462437459381014,
          1.654439803122409,
          1.602622774329488,
          1.6641911069076782,
          1.6599929960204158,
          1.706645392514069,
          1.4280775911573478,
          1.7062219097396536,
          1.6142087300368113,
          1.6648316266853729,
          1.7817976552946238,
          1.7621335657480806,
          1.6104423671798282,
          1.7513728628192993,
          1.7679051588417867,
          1.6261195125219874,
          1.8861401843029373,
          1.7617542619170323,
          1.72326832239676,
          1.736003010110826,
          1.6574576687451281,
          1.6378179429854436,
          1.9031840957617598,
          1.642137811254047,
          1.8242615352706062,
          1.8077393961916668,
          1.5948358566453549,
          1.6346355132185577,
          1.8241950299354075,
          1.731339472293421,
          1.7736736313755084,
          1.7154714256076986,
          1.7805794002056368,
          1.6445006996309437,
          1.8346770673498158,
          1.808561814974086,
          1.7571925758358737,
          1.811263564819142,
          1.542189945493799,
          1.6962841455935846,
          1.549141155633532,
          1.69637039780496,
          1.5789784310060373,
          1.7328012584654207,
          1.8478729716783944,
          1.9347511468190128,
          1.8700793224249095,
          1.6854203502148415,
          1.728418842939452,
          1.5540859845266572,
          1.8077946667845732,
          1.6369934591417843,
          1.8322430610442042,
          1.8902813274372736,
          1.7909466817825055,
          1.7269637662865365,
          1.7591337069462474,
          1.613778530445855,
          1.594602398991642,
          1.7536867909807419,
          1.7877954467446184,
          1.5747179274025223,
          1.6711546233268968,
          1.6348923352176385,
          1.8146093012233606,
          1.730975255228582,
          1.6947646219058048,
          1.8774050257176478,
          1.941016735478581,
          1.6141933552968941,
          1.777733465631796,
          1.4739183006188623,
          1.6853241693065988,
          1.766737902098415,
          1.8525213462454655,
          1.6617410233863648,
          1.7182436525598443,
          1.782986826626419,
          1.7234944208748746,
          1.6184287059528166,
          1.5629019154178077,
          1.6002534736456928,
          1.668501771601955,
          1.7958174904087283,
          1.8827575322699173,
          1.7817204036430758,
          1.7896353082014906,
          1.5738361364389857,
          1.8897987168584667,
          1.585683826162188,
          1.6197593665871937,
          1.693125027114822,
          1.5962387696770373,
          1.668467323867716,
          1.7403424865323347,
          1.6577446302306476,
          1.6594969863256837,
          1.7557097972225681,
          1.4016512680159936,
          1.5000846325969968,
          1.7244470843402961,
          1.5751980436258024,
          1.744718886436348,
          1.8082391320812656,
          1.9665895457912912,
          1.8015308774988517,
          1.8855609809304235,
          1.723719461938011,
          1.6908278944284545,
          1.7532703161917942,
          1.8240138602609686,
          1.6777200827518313,
          1.642250387702496,
          1.6996872880814404,
          1.829638531458362,
          1.7246666915194235,
          1.6353006690723282,
          1.586448838260711,
          1.7710261521722885,
          1.7531253143052958,
          1.7441989908587092,
          1.7226925593532851,
          1.6434642401889834,
          1.5324133581371693,
          1.7677621684658704,
          1.681141290702575,
          1.5829571239927278,
          1.8947736514024522,
          1.7639598045256204,
          1.867022427872993,
          1.922080572475229,
          1.6284995915249272,
          1.8694560755865934,
          1.5737569811988736,
          1.6818184355823182,
          1.6075599231782989,
          1.9070812013145133,
          1.7041635639876558,
          1.8209448429219752,
          1.8393614797929068,
          1.3740705107831013,
          1.7536191471687663,
          1.8249210023737492,
          1.643101791512506,
          1.6221912384840396,
          1.6714200661959966,
          1.7035442081839933,
          1.6657078879112868,
          1.8337476887234845,
          1.7649278148095398,
          1.8147237985831808,
          1.559040051947683,
          1.6313363270869679,
          1.7367570992779324,
          1.7074811838710362,
          1.7765431047690414,
          1.6051505180129768,
          1.6059962773447838,
          1.6731009965655317,
          1.48579815473388,
          1.8452005667934754,
          1.5030740351633674,
          1.7992040305620716,
          1.7602327465288676,
          1.817210761523992,
          1.8033379073508455,
          1.5544530758589141,
          1.3112961894030546,
          1.7204674504451234,
          1.566159279460202,
          1.5690599967424799,
          1.578649422844855,
          1.8222365323319825,
          1.873112447927229,
          1.6806207154690904,
          1.6123822089713058,
          1.6187375902053405,
          1.7456332875097023,
          1.8827437753467986,
          1.7999841961259335,
          1.7562170533405097,
          1.6093509170205074,
          1.6453004737203956,
          1.6758528605992074,
          1.757212005682267,
          1.5801373468973154,
          1.7121615412473281,
          1.7776609636906295,
          1.7039865585650569,
          1.5753606263100384,
          1.7366922441392805,
          1.628521619003414,
          1.4877497946317373,
          1.511235234772388,
          1.4553210890943473,
          1.7348217806208843,
          1.7319951244279062,
          1.6349979540234498,
          1.5511239755591868,
          1.7977183213879986,
          1.6451248472559272,
          1.812267231195791,
          1.6081681766270668,
          1.7318031024094158,
          1.624698002697662,
          1.4548538972086125,
          1.9171058381388992,
          1.674831378160511,
          1.6848622622108171,
          1.3557984152245148,
          1.8909341694543031,
          1.87977159951113,
          1.8984602102898087,
          1.8483345150877635,
          1.7463064065554355,
          1.7437791711118147,
          1.8283032452192798,
          1.7513863581659899,
          1.6352270187390643,
          1.7296376261295072,
          1.6171093597766633,
          1.6929920208800768,
          1.8238292045371494,
          1.531862502186316,
          1.6144473483275381,
          1.76098396163182,
          1.400866174023732,
          1.895987478802478,
          1.51014848907655,
          1.6794649020752612,
          1.8349844659318193,
          1.7756133268280334,
          1.6353615136445359,
          1.8260264385741534,
          1.7940720808814206,
          1.7883026181534043,
          2.0150538743459023,
          1.7609389396767605,
          1.6043635521390314,
          1.5514438700752262,
          1.6615011044950747,
          1.9059880219825693,
          1.291440617513742,
          1.5085366163086622,
          1.53267309011356,
          1.6032414367915409,
          1.8677892423806957,
          1.5814899838984595,
          1.8794405148602928,
          1.7224504869144606,
          1.714135052192061,
          1.6013044917844519,
          1.750702374866501,
          1.8066963425964015,
          1.7170719744505862,
          1.6267872853562202,
          1.6879350722667597,
          1.4800702371183243,
          1.4873714993332088,
          1.7988818365726433,
          1.6118382421647488,
          1.5608654882983193,
          1.7082096847928692,
          1.8392015458513111,
          1.8064393095121347,
          1.6584698728901344,
          1.6108562873062962,
          1.6342485218301228,
          1.5582918168281141,
          1.7860763353459561,
          1.5986719262777438,
          1.6563932152102288,
          1.8887575732145074,
          1.834527676950835,
          1.6535694610192886,
          1.7618126753474235,
          1.8125002300104367,
          1.823929606752842,
          1.7172388605981415
         ]
        },
        {
         "line": {
          "dash": "dash"
         },
         "name": "PDF",
         "type": "scatter",
         "x": [
          0.5,
          0.51,
          0.52,
          0.53,
          0.54,
          0.55,
          0.56,
          0.5700000000000001,
          0.5800000000000001,
          0.5900000000000001,
          0.6000000000000001,
          0.6100000000000001,
          0.6200000000000001,
          0.6300000000000001,
          0.6400000000000001,
          0.6500000000000001,
          0.6600000000000001,
          0.6700000000000002,
          0.6800000000000002,
          0.6900000000000002,
          0.7000000000000002,
          0.7100000000000002,
          0.7200000000000002,
          0.7300000000000002,
          0.7400000000000002,
          0.7500000000000002,
          0.7600000000000002,
          0.7700000000000002,
          0.7800000000000002,
          0.7900000000000003,
          0.8000000000000003,
          0.8100000000000003,
          0.8200000000000003,
          0.8300000000000003,
          0.8400000000000003,
          0.8500000000000003,
          0.8600000000000003,
          0.8700000000000003,
          0.8800000000000003,
          0.8900000000000003,
          0.9000000000000004,
          0.9100000000000004,
          0.9200000000000004,
          0.9300000000000004,
          0.9400000000000004,
          0.9500000000000004,
          0.9600000000000004,
          0.9700000000000004,
          0.9800000000000004,
          0.9900000000000004,
          1.0000000000000004,
          1.0100000000000005,
          1.0200000000000005,
          1.0300000000000005,
          1.0400000000000005,
          1.0500000000000005,
          1.0600000000000005,
          1.0700000000000005,
          1.0800000000000005,
          1.0900000000000005,
          1.1000000000000005,
          1.1100000000000005,
          1.1200000000000006,
          1.1300000000000006,
          1.1400000000000006,
          1.1500000000000006,
          1.1600000000000006,
          1.1700000000000006,
          1.1800000000000006,
          1.1900000000000006,
          1.2000000000000006,
          1.2100000000000006,
          1.2200000000000006,
          1.2300000000000006,
          1.2400000000000007,
          1.2500000000000007,
          1.2600000000000007,
          1.2700000000000007,
          1.2800000000000007,
          1.2900000000000007,
          1.3000000000000007,
          1.3100000000000007,
          1.3200000000000007,
          1.3300000000000007,
          1.3400000000000007,
          1.3500000000000008,
          1.3600000000000008,
          1.3700000000000008,
          1.3800000000000008,
          1.3900000000000008,
          1.4000000000000008,
          1.4100000000000008,
          1.4200000000000008,
          1.4300000000000008,
          1.4400000000000008,
          1.4500000000000008,
          1.4600000000000009,
          1.4700000000000009,
          1.4800000000000009,
          1.4900000000000009,
          1.5000000000000009,
          1.510000000000001,
          1.520000000000001,
          1.530000000000001,
          1.540000000000001,
          1.550000000000001,
          1.560000000000001,
          1.570000000000001,
          1.580000000000001,
          1.590000000000001,
          1.600000000000001,
          1.610000000000001,
          1.620000000000001,
          1.630000000000001,
          1.640000000000001,
          1.650000000000001,
          1.660000000000001,
          1.670000000000001,
          1.680000000000001,
          1.690000000000001,
          1.700000000000001,
          1.710000000000001,
          1.720000000000001,
          1.730000000000001,
          1.740000000000001,
          1.750000000000001,
          1.7600000000000011,
          1.7700000000000011,
          1.7800000000000011,
          1.7900000000000011,
          1.8000000000000012,
          1.8100000000000012,
          1.8200000000000012,
          1.8300000000000012,
          1.8400000000000012,
          1.8500000000000012,
          1.8600000000000012,
          1.8700000000000012,
          1.8800000000000012,
          1.8900000000000012,
          1.9000000000000012,
          1.9100000000000013,
          1.9200000000000013,
          1.9300000000000013,
          1.9400000000000013,
          1.9500000000000013,
          1.9600000000000013,
          1.9700000000000013,
          1.9800000000000013,
          1.9900000000000013,
          2.0000000000000013,
          2.0100000000000016,
          2.0200000000000014,
          2.030000000000001,
          2.0400000000000014,
          2.0500000000000016,
          2.0600000000000014,
          2.070000000000001,
          2.0800000000000014,
          2.0900000000000016,
          2.1000000000000014,
          2.110000000000001,
          2.1200000000000014,
          2.1300000000000017,
          2.1400000000000015,
          2.1500000000000012,
          2.1600000000000015,
          2.1700000000000017,
          2.1800000000000015,
          2.1900000000000013,
          2.2000000000000015,
          2.2100000000000017,
          2.2200000000000015,
          2.2300000000000013,
          2.2400000000000015,
          2.2500000000000018,
          2.2600000000000016,
          2.2700000000000014,
          2.2800000000000016,
          2.290000000000002,
          2.3000000000000016,
          2.3100000000000014,
          2.3200000000000016,
          2.330000000000002,
          2.3400000000000016,
          2.3500000000000014,
          2.3600000000000017,
          2.370000000000002,
          2.3800000000000017,
          2.3900000000000015,
          2.4000000000000017,
          2.410000000000002,
          2.4200000000000017,
          2.4300000000000015,
          2.4400000000000017,
          2.450000000000002,
          2.4600000000000017,
          2.4700000000000015,
          2.4800000000000018,
          2.490000000000002,
          2.5000000000000018,
          2.5100000000000016,
          2.520000000000002,
          2.530000000000002,
          2.540000000000002,
          2.5500000000000016,
          2.560000000000002,
          2.570000000000002,
          2.580000000000002,
          2.5900000000000016,
          2.600000000000002,
          2.610000000000002,
          2.620000000000002,
          2.6300000000000017,
          2.640000000000002,
          2.650000000000002,
          2.660000000000002,
          2.6700000000000017,
          2.680000000000002,
          2.690000000000002,
          2.700000000000002,
          2.7100000000000017,
          2.720000000000002,
          2.730000000000002,
          2.740000000000002,
          2.7500000000000018,
          2.760000000000002,
          2.7700000000000022,
          2.780000000000002,
          2.790000000000002,
          2.800000000000002,
          2.8100000000000023,
          2.820000000000002,
          2.830000000000002,
          2.840000000000002,
          2.8500000000000023,
          2.860000000000002,
          2.870000000000002,
          2.880000000000002,
          2.8900000000000023,
          2.900000000000002,
          2.910000000000002,
          2.920000000000002,
          2.9300000000000024,
          2.940000000000002,
          2.950000000000002,
          2.960000000000002,
          2.9700000000000024,
          2.980000000000002,
          2.990000000000002,
          3.000000000000002
         ],
         "y": [
          0.000002066956948162479,
          0.0000022321205725052766,
          0.0000024120718664115,
          0.0000026083832579192857,
          0.0000028228149010007954,
          0.000003057339188977394,
          0.000003314168733919294,
          0.000003595788334474474,
          0.000003904991537798869,
          0.000004244922498380505,
          0.000004619123949974963,
          0.000005031592239442613,
          0.000005486840526354565,
          0.000005989971433774516,
          0.000006546760648306968,
          0.0000071637532168575536,
          0.000007848374580114029,
          0.000008609058726262585,
          0.000009455396252048472,
          0.000010398305592810117,
          0.000011450231241382493,
          0.000012625373432977253,
          0.000013939954547299832,
          0.000015412528391598126,
          0.00001706433960432987,
          0.000018919741688666755,
          0.000021006683683652692,
          0.00002335727725061491,
          0.000026008458043330033,
          0.00002900275770163036,
          0.000032389205729722826,
          0.00003622438397553647,
          0.00004057366051425444,
          0.00004551263457422939,
          0.00005112882986439146,
          0.000057523680431800955,
          0.00006481486118836124,
          0.00007313902472372966,
          0.00008265501723447622,
          0.00009354765966228295,
          0.00010603219581649376,
          0.00012035952779288606,
          0.00013682238090006966,
          0.00015576256616240392,
          0.0001775795389779435,
          0.00020274048847947828,
          0.00023179223451333603,
          0.0002653752589982661,
          0.00030424025700401074,
          0.0003492676616289986,
          0.0004014906772946586,
          0.00046212245026781823,
          0.0005325881151679967,
          0.0006145625842601709,
          0.0007100150950806163,
          0.0008212617042552861,
          0.0009510271143496944,
          0.0011025174495487436,
          0.001279505858368106,
          0.0014864331209725858,
          0.0017285257784789285,
          0.0020119346850536366,
          0.002343897313373945,
          0.002732927621945506,
          0.003189037819412272,
          0.00372399693503225,
          0.004351631722014782,
          0.00508817607401202,
          0.005952675812718724,
          0.006967456388310405,
          0.008158661698866716,
          0.009556872845136188,
          0.011197816146667166,
          0.013123170094283999,
          0.015381481025560487,
          0.01802919708872254,
          0.021131829388999254,
          0.024765247948467874,
          0.029017118088570847,
          0.0339884798694556,
          0.039795469071314524,
          0.04657117263511162,
          0.05446760422975004,
          0.06365777640614147,
          0.07433783436566153,
          0.08672920246384941,
          0.10108067799167497,
          0.11767038741091096,
          0.13680749807713916,
          0.15883355375033703,
          0.18412327529175082,
          0.21308463960253307,
          0.24615802117353355,
          0.2838141531293415,
          0.3265506404124421,
          0.374886739367771,
          0.42935610862898765,
          0.49049723959980523,
          0.5588412951597781,
          0.6348971270099818,
          0.7191333098814573,
          0.8119571289422719,
          0.9136905886875494,
          1.0245436795776466,
          1.1445853428883948,
          1.2737128120849608,
          1.4116202744473172,
          1.5577680793781847,
          1.7113540048047222,
          1.871288360373586,
          2.036174930997392,
          2.2042999179901934,
          2.37363108621156,
          2.5418292426378963,
          2.7062739255180377,
          2.864104750932811,
          3.0122792327361316,
          3.147647064707337,
          3.267039850987657,
          3.3673741345993466,
          3.4457643687915005,
          3.4996412884617274,
          3.5268700730327542,
          3.5258618627092013,
          3.4956717124699175,
          3.4360760460491333,
          3.3476231832111156,
          3.2316515957076546,
          3.0902721866334244,
          2.9263130112839373,
          2.743227330915069,
          2.544968524845827,
          2.33583795114057,
          2.1203140925767143,
          1.9028730120673947,
          1.6878110679361171,
          1.4790808692231254,
          1.2801505389769336,
          1.0938945559046336,
          0.9225219202381559,
          0.7675443837582832,
          0.6297843015333155,
          0.5094186309873363,
          0.4060530295203902,
          0.31881813256913194,
          0.24647908617609293,
          0.18754930920857715,
          0.14040020692014474,
          0.10335998997326698,
          0.07479664361510269,
          0.05318218094325361,
          0.03713734911800692,
          0.025457725121058518,
          0.01712348947448474,
          0.011296028838260308,
          0.007304891833700586,
          0.004628567898720144,
          0.0028721785141034043,
          0.0017445841712863026,
          0.0010367368863711856,
          0.0006024462820016011,
          0.00034214868430733103,
          0.00018981404807862494,
          0.00010280765175503535,
          0.00005433370281149717,
          0.000028003966963121603,
          0.000014067995892144863,
          0.000006884299372384095,
          0.000003279826485116365,
          0.0000015203748537208727,
          6.853312603616628e-7,
          3.0021893139177604e-7,
          1.277312331077191e-7,
          5.274819952832904e-8,
          2.1129821803593412e-8,
          8.205101373300988e-9,
          3.086670912379913e-9,
          1.1241631598568936e-9,
          3.961059759046327e-10,
          1.3494065719506613e-10,
          4.441461656875244e-11,
          1.4114284617891138e-11,
          4.327486604538777e-12,
          1.2792233510175822e-12,
          3.643145170943729e-13,
          9.98866505775908e-14,
          2.63461061976022e-14,
          6.679996898576119e-15,
          1.6268794901518356e-15,
          3.8029260514911195e-16,
          8.525569385862779e-17,
          1.8315850850593976e-17,
          3.767729082653674e-18,
          7.415274464931843e-19,
          1.3951192697290381e-19,
          2.5070842051979396e-20,
          4.299641616295723e-21,
          7.031191579996376e-22,
          1.0954228418326794e-22,
          1.6244596254253738e-23,
          2.2909920905586815e-24,
          3.069970621781839e-25,
          3.905209583191156e-26,
          4.7114282290983295e-27,
          5.385829034483635e-28,
          5.828179720723257e-29,
          5.964544597923064e-30,
          5.767188374258564e-31,
          5.263405875556776e-32,
          4.529535653382598e-33,
          3.671872710700033e-34,
          2.801085960830505e-35,
          2.0087349017554027e-36,
          1.3527680649832789e-37,
          8.546147390349627e-39,
          5.059412829212633e-40,
          2.8037771582232763e-41,
          1.452867297997246e-42,
          7.031814313712122e-44,
          3.1752810130706695e-45,
          1.3362231361027656e-46,
          5.2343278276814953e-48,
          1.906449589983539e-49,
          6.448576105555523e-51,
          2.023309247841694e-52,
          5.881669897035518e-54,
          1.5821698690286243e-55,
          3.9335790542713677e-57,
          9.02749460331682e-59,
          1.9100619185298642e-60,
          3.7211633781523107e-62,
          6.666613200523289e-64,
          1.0968949056007053e-65,
          1.6553501159684143e-67,
          2.288260235152662e-69,
          2.893550265614211e-71,
          3.3425643120882965e-73,
          3.5225595309780247e-75,
          3.3819489647581884e-77,
          2.953927058519729e-79,
          2.3439259079175314e-81,
          1.6872531299751762e-83,
          1.1002291239836789e-85,
          6.489634277749137e-88,
          3.4574228230400916e-90,
          1.6612470932473207e-92,
          7.188081060964812e-95,
          2.796593934809307e-97,
          9.768265183905406e-100,
          3.058468625637102e-102,
          8.570560192616774e-105
         ]
        }
       ],
       "layout": {
        "hovermode": "x unified",
        "legend": {
         "x": 0.86,
         "y": 0.98
        },
        "margin": {
         "b": 10,
         "l": 70,
         "r": 10,
         "t": 50
        },
        "template": {
         "data": {
          "bar": [
           {
            "error_x": {
             "color": "#f2f5fa"
            },
            "error_y": {
             "color": "#f2f5fa"
            },
            "marker": {
             "line": {
              "color": "rgb(17,17,17)",
              "width": 0.5
             },
             "pattern": {
              "fillmode": "overlay",
              "size": 10,
              "solidity": 0.2
             }
            },
            "type": "bar"
           }
          ],
          "barpolar": [
           {
            "marker": {
             "line": {
              "color": "rgb(17,17,17)",
              "width": 0.5
             },
             "pattern": {
              "fillmode": "overlay",
              "size": 10,
              "solidity": 0.2
             }
            },
            "type": "barpolar"
           }
          ],
          "carpet": [
           {
            "aaxis": {
             "endlinecolor": "#A2B1C6",
             "gridcolor": "#506784",
             "linecolor": "#506784",
             "minorgridcolor": "#506784",
             "startlinecolor": "#A2B1C6"
            },
            "baxis": {
             "endlinecolor": "#A2B1C6",
             "gridcolor": "#506784",
             "linecolor": "#506784",
             "minorgridcolor": "#506784",
             "startlinecolor": "#A2B1C6"
            },
            "type": "carpet"
           }
          ],
          "choropleth": [
           {
            "colorbar": {
             "outlinewidth": 0,
             "ticks": ""
            },
            "type": "choropleth"
           }
          ],
          "contour": [
           {
            "colorbar": {
             "outlinewidth": 0,
             "ticks": ""
            },
            "colorscale": [
             [
              0,
              "#0d0887"
             ],
             [
              0.1111111111111111,
              "#46039f"
             ],
             [
              0.2222222222222222,
              "#7201a8"
             ],
             [
              0.3333333333333333,
              "#9c179e"
             ],
             [
              0.4444444444444444,
              "#bd3786"
             ],
             [
              0.5555555555555556,
              "#d8576b"
             ],
             [
              0.6666666666666666,
              "#ed7953"
             ],
             [
              0.7777777777777778,
              "#fb9f3a"
             ],
             [
              0.8888888888888888,
              "#fdca26"
             ],
             [
              1,
              "#f0f921"
             ]
            ],
            "type": "contour"
           }
          ],
          "contourcarpet": [
           {
            "colorbar": {
             "outlinewidth": 0,
             "ticks": ""
            },
            "type": "contourcarpet"
           }
          ],
          "heatmap": [
           {
            "colorbar": {
             "outlinewidth": 0,
             "ticks": ""
            },
            "colorscale": [
             [
              0,
              "#0d0887"
             ],
             [
              0.1111111111111111,
              "#46039f"
             ],
             [
              0.2222222222222222,
              "#7201a8"
             ],
             [
              0.3333333333333333,
              "#9c179e"
             ],
             [
              0.4444444444444444,
              "#bd3786"
             ],
             [
              0.5555555555555556,
              "#d8576b"
             ],
             [
              0.6666666666666666,
              "#ed7953"
             ],
             [
              0.7777777777777778,
              "#fb9f3a"
             ],
             [
              0.8888888888888888,
              "#fdca26"
             ],
             [
              1,
              "#f0f921"
             ]
            ],
            "type": "heatmap"
           }
          ],
          "heatmapgl": [
           {
            "colorbar": {
             "outlinewidth": 0,
             "ticks": ""
            },
            "colorscale": [
             [
              0,
              "#0d0887"
             ],
             [
              0.1111111111111111,
              "#46039f"
             ],
             [
              0.2222222222222222,
              "#7201a8"
             ],
             [
              0.3333333333333333,
              "#9c179e"
             ],
             [
              0.4444444444444444,
              "#bd3786"
             ],
             [
              0.5555555555555556,
              "#d8576b"
             ],
             [
              0.6666666666666666,
              "#ed7953"
             ],
             [
              0.7777777777777778,
              "#fb9f3a"
             ],
             [
              0.8888888888888888,
              "#fdca26"
             ],
             [
              1,
              "#f0f921"
             ]
            ],
            "type": "heatmapgl"
           }
          ],
          "histogram": [
           {
            "marker": {
             "pattern": {
              "fillmode": "overlay",
              "size": 10,
              "solidity": 0.2
             }
            },
            "type": "histogram"
           }
          ],
          "histogram2d": [
           {
            "colorbar": {
             "outlinewidth": 0,
             "ticks": ""
            },
            "colorscale": [
             [
              0,
              "#0d0887"
             ],
             [
              0.1111111111111111,
              "#46039f"
             ],
             [
              0.2222222222222222,
              "#7201a8"
             ],
             [
              0.3333333333333333,
              "#9c179e"
             ],
             [
              0.4444444444444444,
              "#bd3786"
             ],
             [
              0.5555555555555556,
              "#d8576b"
             ],
             [
              0.6666666666666666,
              "#ed7953"
             ],
             [
              0.7777777777777778,
              "#fb9f3a"
             ],
             [
              0.8888888888888888,
              "#fdca26"
             ],
             [
              1,
              "#f0f921"
             ]
            ],
            "type": "histogram2d"
           }
          ],
          "histogram2dcontour": [
           {
            "colorbar": {
             "outlinewidth": 0,
             "ticks": ""
            },
            "colorscale": [
             [
              0,
              "#0d0887"
             ],
             [
              0.1111111111111111,
              "#46039f"
             ],
             [
              0.2222222222222222,
              "#7201a8"
             ],
             [
              0.3333333333333333,
              "#9c179e"
             ],
             [
              0.4444444444444444,
              "#bd3786"
             ],
             [
              0.5555555555555556,
              "#d8576b"
             ],
             [
              0.6666666666666666,
              "#ed7953"
             ],
             [
              0.7777777777777778,
              "#fb9f3a"
             ],
             [
              0.8888888888888888,
              "#fdca26"
             ],
             [
              1,
              "#f0f921"
             ]
            ],
            "type": "histogram2dcontour"
           }
          ],
          "mesh3d": [
           {
            "colorbar": {
             "outlinewidth": 0,
             "ticks": ""
            },
            "type": "mesh3d"
           }
          ],
          "parcoords": [
           {
            "line": {
             "colorbar": {
              "outlinewidth": 0,
              "ticks": ""
             }
            },
            "type": "parcoords"
           }
          ],
          "pie": [
           {
            "automargin": true,
            "type": "pie"
           }
          ],
          "scatter": [
           {
            "marker": {
             "line": {
              "color": "#283442"
             }
            },
            "type": "scatter"
           }
          ],
          "scatter3d": [
           {
            "line": {
             "colorbar": {
              "outlinewidth": 0,
              "ticks": ""
             }
            },
            "marker": {
             "colorbar": {
              "outlinewidth": 0,
              "ticks": ""
             }
            },
            "type": "scatter3d"
           }
          ],
          "scattercarpet": [
           {
            "marker": {
             "colorbar": {
              "outlinewidth": 0,
              "ticks": ""
             }
            },
            "type": "scattercarpet"
           }
          ],
          "scattergeo": [
           {
            "marker": {
             "colorbar": {
              "outlinewidth": 0,
              "ticks": ""
             }
            },
            "type": "scattergeo"
           }
          ],
          "scattergl": [
           {
            "marker": {
             "line": {
              "color": "#283442"
             }
            },
            "type": "scattergl"
           }
          ],
          "scattermapbox": [
           {
            "marker": {
             "colorbar": {
              "outlinewidth": 0,
              "ticks": ""
             }
            },
            "type": "scattermapbox"
           }
          ],
          "scatterpolar": [
           {
            "marker": {
             "colorbar": {
              "outlinewidth": 0,
              "ticks": ""
             }
            },
            "type": "scatterpolar"
           }
          ],
          "scatterpolargl": [
           {
            "marker": {
             "colorbar": {
              "outlinewidth": 0,
              "ticks": ""
             }
            },
            "type": "scatterpolargl"
           }
          ],
          "scatterternary": [
           {
            "marker": {
             "colorbar": {
              "outlinewidth": 0,
              "ticks": ""
             }
            },
            "type": "scatterternary"
           }
          ],
          "surface": [
           {
            "colorbar": {
             "outlinewidth": 0,
             "ticks": ""
            },
            "colorscale": [
             [
              0,
              "#0d0887"
             ],
             [
              0.1111111111111111,
              "#46039f"
             ],
             [
              0.2222222222222222,
              "#7201a8"
             ],
             [
              0.3333333333333333,
              "#9c179e"
             ],
             [
              0.4444444444444444,
              "#bd3786"
             ],
             [
              0.5555555555555556,
              "#d8576b"
             ],
             [
              0.6666666666666666,
              "#ed7953"
             ],
             [
              0.7777777777777778,
              "#fb9f3a"
             ],
             [
              0.8888888888888888,
              "#fdca26"
             ],
             [
              1,
              "#f0f921"
             ]
            ],
            "type": "surface"
           }
          ],
          "table": [
           {
            "cells": {
             "fill": {
              "color": "#506784"
             },
             "line": {
              "color": "rgb(17,17,17)"
             }
            },
            "header": {
             "fill": {
              "color": "#2a3f5f"
             },
             "line": {
              "color": "rgb(17,17,17)"
             }
            },
            "type": "table"
           }
          ]
         },
         "layout": {
          "annotationdefaults": {
           "arrowcolor": "#f2f5fa",
           "arrowhead": 0,
           "arrowwidth": 1
          },
          "autotypenumbers": "strict",
          "coloraxis": {
           "colorbar": {
            "outlinewidth": 0,
            "ticks": ""
           }
          },
          "colorscale": {
           "diverging": [
            [
             0,
             "#8e0152"
            ],
            [
             0.1,
             "#c51b7d"
            ],
            [
             0.2,
             "#de77ae"
            ],
            [
             0.3,
             "#f1b6da"
            ],
            [
             0.4,
             "#fde0ef"
            ],
            [
             0.5,
             "#f7f7f7"
            ],
            [
             0.6,
             "#e6f5d0"
            ],
            [
             0.7,
             "#b8e186"
            ],
            [
             0.8,
             "#7fbc41"
            ],
            [
             0.9,
             "#4d9221"
            ],
            [
             1,
             "#276419"
            ]
           ],
           "sequential": [
            [
             0,
             "#0d0887"
            ],
            [
             0.1111111111111111,
             "#46039f"
            ],
            [
             0.2222222222222222,
             "#7201a8"
            ],
            [
             0.3333333333333333,
             "#9c179e"
            ],
            [
             0.4444444444444444,
             "#bd3786"
            ],
            [
             0.5555555555555556,
             "#d8576b"
            ],
            [
             0.6666666666666666,
             "#ed7953"
            ],
            [
             0.7777777777777778,
             "#fb9f3a"
            ],
            [
             0.8888888888888888,
             "#fdca26"
            ],
            [
             1,
             "#f0f921"
            ]
           ],
           "sequentialminus": [
            [
             0,
             "#0d0887"
            ],
            [
             0.1111111111111111,
             "#46039f"
            ],
            [
             0.2222222222222222,
             "#7201a8"
            ],
            [
             0.3333333333333333,
             "#9c179e"
            ],
            [
             0.4444444444444444,
             "#bd3786"
            ],
            [
             0.5555555555555556,
             "#d8576b"
            ],
            [
             0.6666666666666666,
             "#ed7953"
            ],
            [
             0.7777777777777778,
             "#fb9f3a"
            ],
            [
             0.8888888888888888,
             "#fdca26"
            ],
            [
             1,
             "#f0f921"
            ]
           ]
          },
          "colorway": [
           "#636efa",
           "#EF553B",
           "#00cc96",
           "#ab63fa",
           "#FFA15A",
           "#19d3f3",
           "#FF6692",
           "#B6E880",
           "#FF97FF",
           "#FECB52"
          ],
          "font": {
           "color": "#f2f5fa"
          },
          "geo": {
           "bgcolor": "rgb(17,17,17)",
           "lakecolor": "rgb(17,17,17)",
           "landcolor": "rgb(17,17,17)",
           "showlakes": true,
           "showland": true,
           "subunitcolor": "#506784"
          },
          "hoverlabel": {
           "align": "left"
          },
          "hovermode": "closest",
          "mapbox": {
           "style": "dark"
          },
          "paper_bgcolor": "rgb(17,17,17)",
          "plot_bgcolor": "rgb(17,17,17)",
          "polar": {
           "angularaxis": {
            "gridcolor": "#506784",
            "linecolor": "#506784",
            "ticks": ""
           },
           "bgcolor": "rgb(17,17,17)",
           "radialaxis": {
            "gridcolor": "#506784",
            "linecolor": "#506784",
            "ticks": ""
           }
          },
          "scene": {
           "xaxis": {
            "backgroundcolor": "rgb(17,17,17)",
            "gridcolor": "#506784",
            "gridwidth": 2,
            "linecolor": "#506784",
            "showbackground": true,
            "ticks": "",
            "zerolinecolor": "#C8D4E3"
           },
           "yaxis": {
            "backgroundcolor": "rgb(17,17,17)",
            "gridcolor": "#506784",
            "gridwidth": 2,
            "linecolor": "#506784",
            "showbackground": true,
            "ticks": "",
            "zerolinecolor": "#C8D4E3"
           },
           "zaxis": {
            "backgroundcolor": "rgb(17,17,17)",
            "gridcolor": "#506784",
            "gridwidth": 2,
            "linecolor": "#506784",
            "showbackground": true,
            "ticks": "",
            "zerolinecolor": "#C8D4E3"
           }
          },
          "shapedefaults": {
           "line": {
            "color": "#f2f5fa"
           }
          },
          "sliderdefaults": {
           "bgcolor": "#C8D4E3",
           "bordercolor": "rgb(17,17,17)",
           "borderwidth": 1,
           "tickwidth": 0
          },
          "ternary": {
           "aaxis": {
            "gridcolor": "#506784",
            "linecolor": "#506784",
            "ticks": ""
           },
           "baxis": {
            "gridcolor": "#506784",
            "linecolor": "#506784",
            "ticks": ""
           },
           "bgcolor": "rgb(17,17,17)",
           "caxis": {
            "gridcolor": "#506784",
            "linecolor": "#506784",
            "ticks": ""
           }
          },
          "title": {
           "x": 0.05
          },
          "updatemenudefaults": {
           "bgcolor": "#506784",
           "borderwidth": 0
          },
          "xaxis": {
           "automargin": true,
           "gridcolor": "#283442",
           "linecolor": "#506784",
           "ticks": "",
           "title": {
            "standoff": 15
           },
           "zerolinecolor": "#283442",
           "zerolinewidth": 2
          },
          "yaxis": {
           "automargin": true,
           "gridcolor": "#283442",
           "linecolor": "#506784",
           "ticks": "",
           "title": {
            "standoff": 15
           },
           "zerolinecolor": "#283442",
           "zerolinewidth": 2
          }
         }
        },
        "title": {
         "text": "Histogram of distribution"
        },
        "width": 650,
        "xaxis": {
         "title": {
          "text": "Samples"
         }
        },
        "yaxis": {
         "title": {
          "text": "Probability Density"
         }
        }
       }
      }
     },
     "metadata": {},
     "output_type": "display_data"
    }
   ],
   "source": [
    "gen = np.empty(500)\n",
    "for j in range(500):\n",
    "    gen[j] = generate_sample()\n",
    "\n",
    "x = np.arange(0.5, 3.01, 0.01)\n",
    "y = (3 * x**2)/np.sqrt(2 * np.pi) * np.exp(-((5 - x**3)**2)/2)\n",
    "\n",
    "fig = go.Figure()\n",
    "fig.add_histogram(x=gen, histnorm='probability density', name='Gen')\n",
    "fig.add_trace(go.Scatter(x=x, y=y, line=dict(dash='dash'), name='PDF'))\n",
    "\n",
    "fig.update_layout(legend=dict(x=.86, y=.98),\n",
    "                  margin=dict(l=70, r=10, t=50, b=10),\n",
    "                  title='Histogram of distribution',\n",
    "                  hovermode='x unified',\n",
    "                  xaxis_title_text='Samples',\n",
    "                  yaxis_title_text='Probability Density',\n",
    "                  template=theme,\n",
    "                  width=650)\n",
    "\n",
    "fig.show()"
   ]
  },
  {
   "cell_type": "markdown",
   "metadata": {},
   "source": [
    "Видно, что генерация происходит корректно, и построенная гистограмма достаточно близка к графику данной плотности. При еще большем объеме выборки гистограмма будет *практически* повторять его. Однако, при выборке меньшего объема, точность будет падать"
   ]
  },
  {
   "cell_type": "code",
   "execution_count": 9,
   "metadata": {
    "ExecuteTime": {
     "end_time": "2023-03-29T03:39:42.369024Z",
     "start_time": "2023-03-29T03:39:42.297659Z"
    }
   },
   "outputs": [],
   "source": [
    "def count_diff_sample(size):\n",
    "    c = 0\n",
    "    for i in range(gen_count):\n",
    "        gen_arr_sample = np.empty(size)\n",
    "        for j in range(size):\n",
    "            gen_arr_sample[j] = generate_sample()\n",
    "        p_est = np.sum(np.power(gen_arr_sample, 3)) / size\n",
    "        if abs(p_est - theta2) > eps:\n",
    "            c += 1\n",
    "    return c"
   ]
  },
  {
   "cell_type": "code",
   "execution_count": 10,
   "metadata": {
    "ExecuteTime": {
     "end_time": "2023-03-29T03:40:15.291282Z",
     "start_time": "2023-03-29T03:39:42.313645Z"
    }
   },
   "outputs": [
    {
     "data": {
      "text/html": [
       "<div>\n",
       "<style scoped>\n",
       "    .dataframe tbody tr th:only-of-type {\n",
       "        vertical-align: middle;\n",
       "    }\n",
       "\n",
       "    .dataframe tbody tr th {\n",
       "        vertical-align: top;\n",
       "    }\n",
       "\n",
       "    .dataframe thead th {\n",
       "        text-align: right;\n",
       "    }\n",
       "</style>\n",
       "<table border=\"1\" class=\"dataframe\">\n",
       "  <thead>\n",
       "    <tr style=\"text-align: right;\">\n",
       "      <th></th>\n",
       "      <th>gen_size</th>\n",
       "      <th>diff_count</th>\n",
       "    </tr>\n",
       "  </thead>\n",
       "  <tbody>\n",
       "    <tr>\n",
       "      <th>0</th>\n",
       "      <td>50</td>\n",
       "      <td>474</td>\n",
       "    </tr>\n",
       "    <tr>\n",
       "      <th>1</th>\n",
       "      <td>100</td>\n",
       "      <td>460</td>\n",
       "    </tr>\n",
       "    <tr>\n",
       "      <th>2</th>\n",
       "      <td>500</td>\n",
       "      <td>401</td>\n",
       "    </tr>\n",
       "    <tr>\n",
       "      <th>3</th>\n",
       "      <td>1000</td>\n",
       "      <td>388</td>\n",
       "    </tr>\n",
       "    <tr>\n",
       "      <th>4</th>\n",
       "      <td>2500</td>\n",
       "      <td>310</td>\n",
       "    </tr>\n",
       "  </tbody>\n",
       "</table>\n",
       "</div>"
      ],
      "text/plain": [
       "   gen_size  diff_count\n",
       "0        50         474\n",
       "1       100         460\n",
       "2       500         401\n",
       "3      1000         388\n",
       "4      2500         310"
      ]
     },
     "execution_count": 10,
     "metadata": {},
     "output_type": "execute_result"
    }
   ],
   "source": [
    "diff_cnt = pd.DataFrame({'gen_size':[], 'diff_count':[]})\n",
    "gen_sizes = [50, 100, 500, 1000, 2500]\n",
    "for gen_size in gen_sizes:\n",
    "    diff_cnt.loc[len(diff_cnt.index)] = [gen_size, count_diff_sample(gen_size)]\n",
    "diff_cnt"
   ]
  },
  {
   "cell_type": "code",
   "execution_count": 11,
   "metadata": {
    "ExecuteTime": {
     "end_time": "2023-03-29T03:40:15.524322Z",
     "start_time": "2023-03-29T03:40:15.293276Z"
    }
   },
   "outputs": [
    {
     "data": {
      "application/vnd.plotly.v1+json": {
       "config": {
        "plotlyServerURL": "https://plot.ly"
       },
       "data": [
        {
         "hovertemplate": "Объем выборки=%{x}<br>Количество отклонений=%{y}<extra></extra>",
         "legendgroup": "",
         "line": {
          "color": "#636efa",
          "dash": "solid"
         },
         "marker": {
          "symbol": "circle"
         },
         "mode": "lines+markers",
         "name": "",
         "orientation": "v",
         "showlegend": false,
         "type": "scatter",
         "x": [
          50,
          100,
          500,
          1000,
          2500
         ],
         "xaxis": "x",
         "y": [
          474,
          460,
          401,
          388,
          310
         ],
         "yaxis": "y"
        }
       ],
       "layout": {
        "legend": {
         "tracegroupgap": 0
        },
        "margin": {
         "b": 10,
         "l": 70,
         "r": 20,
         "t": 50
        },
        "template": {
         "data": {
          "bar": [
           {
            "error_x": {
             "color": "#f2f5fa"
            },
            "error_y": {
             "color": "#f2f5fa"
            },
            "marker": {
             "line": {
              "color": "rgb(17,17,17)",
              "width": 0.5
             },
             "pattern": {
              "fillmode": "overlay",
              "size": 10,
              "solidity": 0.2
             }
            },
            "type": "bar"
           }
          ],
          "barpolar": [
           {
            "marker": {
             "line": {
              "color": "rgb(17,17,17)",
              "width": 0.5
             },
             "pattern": {
              "fillmode": "overlay",
              "size": 10,
              "solidity": 0.2
             }
            },
            "type": "barpolar"
           }
          ],
          "carpet": [
           {
            "aaxis": {
             "endlinecolor": "#A2B1C6",
             "gridcolor": "#506784",
             "linecolor": "#506784",
             "minorgridcolor": "#506784",
             "startlinecolor": "#A2B1C6"
            },
            "baxis": {
             "endlinecolor": "#A2B1C6",
             "gridcolor": "#506784",
             "linecolor": "#506784",
             "minorgridcolor": "#506784",
             "startlinecolor": "#A2B1C6"
            },
            "type": "carpet"
           }
          ],
          "choropleth": [
           {
            "colorbar": {
             "outlinewidth": 0,
             "ticks": ""
            },
            "type": "choropleth"
           }
          ],
          "contour": [
           {
            "colorbar": {
             "outlinewidth": 0,
             "ticks": ""
            },
            "colorscale": [
             [
              0,
              "#0d0887"
             ],
             [
              0.1111111111111111,
              "#46039f"
             ],
             [
              0.2222222222222222,
              "#7201a8"
             ],
             [
              0.3333333333333333,
              "#9c179e"
             ],
             [
              0.4444444444444444,
              "#bd3786"
             ],
             [
              0.5555555555555556,
              "#d8576b"
             ],
             [
              0.6666666666666666,
              "#ed7953"
             ],
             [
              0.7777777777777778,
              "#fb9f3a"
             ],
             [
              0.8888888888888888,
              "#fdca26"
             ],
             [
              1,
              "#f0f921"
             ]
            ],
            "type": "contour"
           }
          ],
          "contourcarpet": [
           {
            "colorbar": {
             "outlinewidth": 0,
             "ticks": ""
            },
            "type": "contourcarpet"
           }
          ],
          "heatmap": [
           {
            "colorbar": {
             "outlinewidth": 0,
             "ticks": ""
            },
            "colorscale": [
             [
              0,
              "#0d0887"
             ],
             [
              0.1111111111111111,
              "#46039f"
             ],
             [
              0.2222222222222222,
              "#7201a8"
             ],
             [
              0.3333333333333333,
              "#9c179e"
             ],
             [
              0.4444444444444444,
              "#bd3786"
             ],
             [
              0.5555555555555556,
              "#d8576b"
             ],
             [
              0.6666666666666666,
              "#ed7953"
             ],
             [
              0.7777777777777778,
              "#fb9f3a"
             ],
             [
              0.8888888888888888,
              "#fdca26"
             ],
             [
              1,
              "#f0f921"
             ]
            ],
            "type": "heatmap"
           }
          ],
          "heatmapgl": [
           {
            "colorbar": {
             "outlinewidth": 0,
             "ticks": ""
            },
            "colorscale": [
             [
              0,
              "#0d0887"
             ],
             [
              0.1111111111111111,
              "#46039f"
             ],
             [
              0.2222222222222222,
              "#7201a8"
             ],
             [
              0.3333333333333333,
              "#9c179e"
             ],
             [
              0.4444444444444444,
              "#bd3786"
             ],
             [
              0.5555555555555556,
              "#d8576b"
             ],
             [
              0.6666666666666666,
              "#ed7953"
             ],
             [
              0.7777777777777778,
              "#fb9f3a"
             ],
             [
              0.8888888888888888,
              "#fdca26"
             ],
             [
              1,
              "#f0f921"
             ]
            ],
            "type": "heatmapgl"
           }
          ],
          "histogram": [
           {
            "marker": {
             "pattern": {
              "fillmode": "overlay",
              "size": 10,
              "solidity": 0.2
             }
            },
            "type": "histogram"
           }
          ],
          "histogram2d": [
           {
            "colorbar": {
             "outlinewidth": 0,
             "ticks": ""
            },
            "colorscale": [
             [
              0,
              "#0d0887"
             ],
             [
              0.1111111111111111,
              "#46039f"
             ],
             [
              0.2222222222222222,
              "#7201a8"
             ],
             [
              0.3333333333333333,
              "#9c179e"
             ],
             [
              0.4444444444444444,
              "#bd3786"
             ],
             [
              0.5555555555555556,
              "#d8576b"
             ],
             [
              0.6666666666666666,
              "#ed7953"
             ],
             [
              0.7777777777777778,
              "#fb9f3a"
             ],
             [
              0.8888888888888888,
              "#fdca26"
             ],
             [
              1,
              "#f0f921"
             ]
            ],
            "type": "histogram2d"
           }
          ],
          "histogram2dcontour": [
           {
            "colorbar": {
             "outlinewidth": 0,
             "ticks": ""
            },
            "colorscale": [
             [
              0,
              "#0d0887"
             ],
             [
              0.1111111111111111,
              "#46039f"
             ],
             [
              0.2222222222222222,
              "#7201a8"
             ],
             [
              0.3333333333333333,
              "#9c179e"
             ],
             [
              0.4444444444444444,
              "#bd3786"
             ],
             [
              0.5555555555555556,
              "#d8576b"
             ],
             [
              0.6666666666666666,
              "#ed7953"
             ],
             [
              0.7777777777777778,
              "#fb9f3a"
             ],
             [
              0.8888888888888888,
              "#fdca26"
             ],
             [
              1,
              "#f0f921"
             ]
            ],
            "type": "histogram2dcontour"
           }
          ],
          "mesh3d": [
           {
            "colorbar": {
             "outlinewidth": 0,
             "ticks": ""
            },
            "type": "mesh3d"
           }
          ],
          "parcoords": [
           {
            "line": {
             "colorbar": {
              "outlinewidth": 0,
              "ticks": ""
             }
            },
            "type": "parcoords"
           }
          ],
          "pie": [
           {
            "automargin": true,
            "type": "pie"
           }
          ],
          "scatter": [
           {
            "marker": {
             "line": {
              "color": "#283442"
             }
            },
            "type": "scatter"
           }
          ],
          "scatter3d": [
           {
            "line": {
             "colorbar": {
              "outlinewidth": 0,
              "ticks": ""
             }
            },
            "marker": {
             "colorbar": {
              "outlinewidth": 0,
              "ticks": ""
             }
            },
            "type": "scatter3d"
           }
          ],
          "scattercarpet": [
           {
            "marker": {
             "colorbar": {
              "outlinewidth": 0,
              "ticks": ""
             }
            },
            "type": "scattercarpet"
           }
          ],
          "scattergeo": [
           {
            "marker": {
             "colorbar": {
              "outlinewidth": 0,
              "ticks": ""
             }
            },
            "type": "scattergeo"
           }
          ],
          "scattergl": [
           {
            "marker": {
             "line": {
              "color": "#283442"
             }
            },
            "type": "scattergl"
           }
          ],
          "scattermapbox": [
           {
            "marker": {
             "colorbar": {
              "outlinewidth": 0,
              "ticks": ""
             }
            },
            "type": "scattermapbox"
           }
          ],
          "scatterpolar": [
           {
            "marker": {
             "colorbar": {
              "outlinewidth": 0,
              "ticks": ""
             }
            },
            "type": "scatterpolar"
           }
          ],
          "scatterpolargl": [
           {
            "marker": {
             "colorbar": {
              "outlinewidth": 0,
              "ticks": ""
             }
            },
            "type": "scatterpolargl"
           }
          ],
          "scatterternary": [
           {
            "marker": {
             "colorbar": {
              "outlinewidth": 0,
              "ticks": ""
             }
            },
            "type": "scatterternary"
           }
          ],
          "surface": [
           {
            "colorbar": {
             "outlinewidth": 0,
             "ticks": ""
            },
            "colorscale": [
             [
              0,
              "#0d0887"
             ],
             [
              0.1111111111111111,
              "#46039f"
             ],
             [
              0.2222222222222222,
              "#7201a8"
             ],
             [
              0.3333333333333333,
              "#9c179e"
             ],
             [
              0.4444444444444444,
              "#bd3786"
             ],
             [
              0.5555555555555556,
              "#d8576b"
             ],
             [
              0.6666666666666666,
              "#ed7953"
             ],
             [
              0.7777777777777778,
              "#fb9f3a"
             ],
             [
              0.8888888888888888,
              "#fdca26"
             ],
             [
              1,
              "#f0f921"
             ]
            ],
            "type": "surface"
           }
          ],
          "table": [
           {
            "cells": {
             "fill": {
              "color": "#506784"
             },
             "line": {
              "color": "rgb(17,17,17)"
             }
            },
            "header": {
             "fill": {
              "color": "#2a3f5f"
             },
             "line": {
              "color": "rgb(17,17,17)"
             }
            },
            "type": "table"
           }
          ]
         },
         "layout": {
          "annotationdefaults": {
           "arrowcolor": "#f2f5fa",
           "arrowhead": 0,
           "arrowwidth": 1
          },
          "autotypenumbers": "strict",
          "coloraxis": {
           "colorbar": {
            "outlinewidth": 0,
            "ticks": ""
           }
          },
          "colorscale": {
           "diverging": [
            [
             0,
             "#8e0152"
            ],
            [
             0.1,
             "#c51b7d"
            ],
            [
             0.2,
             "#de77ae"
            ],
            [
             0.3,
             "#f1b6da"
            ],
            [
             0.4,
             "#fde0ef"
            ],
            [
             0.5,
             "#f7f7f7"
            ],
            [
             0.6,
             "#e6f5d0"
            ],
            [
             0.7,
             "#b8e186"
            ],
            [
             0.8,
             "#7fbc41"
            ],
            [
             0.9,
             "#4d9221"
            ],
            [
             1,
             "#276419"
            ]
           ],
           "sequential": [
            [
             0,
             "#0d0887"
            ],
            [
             0.1111111111111111,
             "#46039f"
            ],
            [
             0.2222222222222222,
             "#7201a8"
            ],
            [
             0.3333333333333333,
             "#9c179e"
            ],
            [
             0.4444444444444444,
             "#bd3786"
            ],
            [
             0.5555555555555556,
             "#d8576b"
            ],
            [
             0.6666666666666666,
             "#ed7953"
            ],
            [
             0.7777777777777778,
             "#fb9f3a"
            ],
            [
             0.8888888888888888,
             "#fdca26"
            ],
            [
             1,
             "#f0f921"
            ]
           ],
           "sequentialminus": [
            [
             0,
             "#0d0887"
            ],
            [
             0.1111111111111111,
             "#46039f"
            ],
            [
             0.2222222222222222,
             "#7201a8"
            ],
            [
             0.3333333333333333,
             "#9c179e"
            ],
            [
             0.4444444444444444,
             "#bd3786"
            ],
            [
             0.5555555555555556,
             "#d8576b"
            ],
            [
             0.6666666666666666,
             "#ed7953"
            ],
            [
             0.7777777777777778,
             "#fb9f3a"
            ],
            [
             0.8888888888888888,
             "#fdca26"
            ],
            [
             1,
             "#f0f921"
            ]
           ]
          },
          "colorway": [
           "#636efa",
           "#EF553B",
           "#00cc96",
           "#ab63fa",
           "#FFA15A",
           "#19d3f3",
           "#FF6692",
           "#B6E880",
           "#FF97FF",
           "#FECB52"
          ],
          "font": {
           "color": "#f2f5fa"
          },
          "geo": {
           "bgcolor": "rgb(17,17,17)",
           "lakecolor": "rgb(17,17,17)",
           "landcolor": "rgb(17,17,17)",
           "showlakes": true,
           "showland": true,
           "subunitcolor": "#506784"
          },
          "hoverlabel": {
           "align": "left"
          },
          "hovermode": "closest",
          "mapbox": {
           "style": "dark"
          },
          "paper_bgcolor": "rgb(17,17,17)",
          "plot_bgcolor": "rgb(17,17,17)",
          "polar": {
           "angularaxis": {
            "gridcolor": "#506784",
            "linecolor": "#506784",
            "ticks": ""
           },
           "bgcolor": "rgb(17,17,17)",
           "radialaxis": {
            "gridcolor": "#506784",
            "linecolor": "#506784",
            "ticks": ""
           }
          },
          "scene": {
           "xaxis": {
            "backgroundcolor": "rgb(17,17,17)",
            "gridcolor": "#506784",
            "gridwidth": 2,
            "linecolor": "#506784",
            "showbackground": true,
            "ticks": "",
            "zerolinecolor": "#C8D4E3"
           },
           "yaxis": {
            "backgroundcolor": "rgb(17,17,17)",
            "gridcolor": "#506784",
            "gridwidth": 2,
            "linecolor": "#506784",
            "showbackground": true,
            "ticks": "",
            "zerolinecolor": "#C8D4E3"
           },
           "zaxis": {
            "backgroundcolor": "rgb(17,17,17)",
            "gridcolor": "#506784",
            "gridwidth": 2,
            "linecolor": "#506784",
            "showbackground": true,
            "ticks": "",
            "zerolinecolor": "#C8D4E3"
           }
          },
          "shapedefaults": {
           "line": {
            "color": "#f2f5fa"
           }
          },
          "sliderdefaults": {
           "bgcolor": "#C8D4E3",
           "bordercolor": "rgb(17,17,17)",
           "borderwidth": 1,
           "tickwidth": 0
          },
          "ternary": {
           "aaxis": {
            "gridcolor": "#506784",
            "linecolor": "#506784",
            "ticks": ""
           },
           "baxis": {
            "gridcolor": "#506784",
            "linecolor": "#506784",
            "ticks": ""
           },
           "bgcolor": "rgb(17,17,17)",
           "caxis": {
            "gridcolor": "#506784",
            "linecolor": "#506784",
            "ticks": ""
           }
          },
          "title": {
           "x": 0.05
          },
          "updatemenudefaults": {
           "bgcolor": "#506784",
           "borderwidth": 0
          },
          "xaxis": {
           "automargin": true,
           "gridcolor": "#283442",
           "linecolor": "#506784",
           "ticks": "",
           "title": {
            "standoff": 15
           },
           "zerolinecolor": "#283442",
           "zerolinewidth": 2
          },
          "yaxis": {
           "automargin": true,
           "gridcolor": "#283442",
           "linecolor": "#506784",
           "ticks": "",
           "title": {
            "standoff": 15
           },
           "zerolinecolor": "#283442",
           "zerolinewidth": 2
          }
         }
        },
        "title": {
         "text": "Зависимость числа отклонений от объема выборки"
        },
        "width": 650,
        "xaxis": {
         "anchor": "y",
         "domain": [
          0,
          1
         ],
         "title": {
          "text": "Объем выборки"
         }
        },
        "yaxis": {
         "anchor": "x",
         "domain": [
          0,
          1
         ],
         "title": {
          "text": "Количество отклонений"
         }
        }
       }
      }
     },
     "metadata": {},
     "output_type": "display_data"
    }
   ],
   "source": [
    "fig = px.line(diff_cnt, x='gen_size', y='diff_count',\n",
    "              labels={\n",
    "                  'gen_size': 'Объем выборки',\n",
    "                  'diff_count': 'Количество отклонений'\n",
    "              },\n",
    "              title='Зависимость числа отклонений от объема выборки',\n",
    "              width=650,\n",
    "              template=theme,\n",
    "              markers='o')\n",
    "fig.update_layout(margin=dict(l=70, r=20, b=10, t=50))\n",
    "fig.show()"
   ]
  },
  {
   "cell_type": "markdown",
   "metadata": {},
   "source": [
    "И снова, можно заметить, что с ростом объема выборки оценка все реже отклоняется от параметра. Объясняется это законом больших чисел, а конкретно - состоятельностью полученной оценки: при стремлении объема к бесконечности, оценка параметра стремится к самому параметру по вероятности\n",
    "\n",
    "\\begin{equation}\n",
    "    \\hat{\\theta} \\xrightarrow{P} \\theta \\text{  при } n\\rightarrow\\infty\n",
    "\\end{equation}"
   ]
  }
 ],
 "metadata": {
  "kernelspec": {
   "display_name": "Python 3 (ipykernel)",
   "language": "python",
   "name": "python3"
  },
  "language_info": {
   "codemirror_mode": {
    "name": "ipython",
    "version": 3
   },
   "file_extension": ".py",
   "mimetype": "text/x-python",
   "name": "python",
   "nbconvert_exporter": "python",
   "pygments_lexer": "ipython3",
   "version": "3.11.5"
  }
 },
 "nbformat": 4,
 "nbformat_minor": 1
}
