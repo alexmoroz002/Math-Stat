{
 "cells": [
  {
   "cell_type": "markdown",
   "source": [
    "\n",
    "# Лабораторная работа 2\n",
    "\n",
    "## Выполнил: Морозов Алексей, группа М32071\n",
    "\n",
    "## Вариант: 9, задачи 3, 5\n"
   ],
   "metadata": {
    "collapsed": false
   }
  },
  {
   "cell_type": "code",
   "execution_count": 2,
   "outputs": [],
   "source": [
    "import numpy as np\n",
    "import scipy as scp\n",
    "import matplotlib as mplt\n",
    "import matplotlib.pyplot as plt\n",
    "import pandas as pd\n",
    "from math import sqrt"
   ],
   "metadata": {
    "collapsed": false
   }
  },
  {
   "cell_type": "markdown",
   "source": [
    "\n",
    "## Задача 1\n",
    "\n",
    "### Условие\n",
    "\n",
    "Методом максимального правдоподобия найти оценку параметра $\\theta$ биномиального распределения $Bin(n, \\theta)$, считая $n$ известным. Найти смещение оценки, дисперсию, среднеквадратическую ошибку. Является ли найденная оценка эффективной? Эксперимент\n",
    "при $n = 4$, $\\theta = \\frac{1}{5}$\n",
    "\n",
    "Сгенерируйте $500$ выборок объема $50$ с указанным значением параметра $\\theta$. Сколько раз\n",
    "оценка отклонится от истинного значения параметра более чем на $0.01$? То же самое сделать для объемов выборки $100$, $500$, $1000$, $2500$. Визуализируйте результат. Как объяснить\n",
    "полученный результат?"
   ],
   "metadata": {
    "collapsed": false
   }
  },
  {
   "cell_type": "code",
   "execution_count": 3,
   "outputs": [],
   "source": [
    "n = 4\n",
    "theta = 1/5"
   ],
   "metadata": {
    "collapsed": false
   }
  },
  {
   "cell_type": "markdown",
   "source": [
    "\n",
    "### Решение\n",
    "\n",
    "Функция вероятности для биномиального распределения имеет вид\n",
    "\\begin{equation}\n",
    "    p_Y\\left(y\\right) = P\\left(Y = y\\right) = \\binom{n}{y}\\theta^{y}\\left(1-\\theta\\right)^{n-y}\n",
    "\\end{equation}\n",
    "\n",
    "Пусть в результате $k$ испытаний при некотором значении параметра $\\theta$ была получена выборка $X=\\left(X_1,...,X_k\\right)$. Так как распределение дискретно, вероятность, что величина $X$ примет значение $x_i$ при данном значении параметра равна $p_Y\\left(x_i,\\theta\\right)=P_\\theta\\left(Y=x_i\\right)$\n",
    "\n",
    "Тогда можно ввести функцию правдоподобия $f\\left(X,\\theta\\right)$ такую, что\n",
    "\\begin{equation}\n",
    "    f\\left(X,\\theta\\right)=\\prod_{i=1}^{k}p_Y\\left(x_i,\\theta\\right)\n",
    "\\end{equation}\n",
    "и ее логарифмический аналог\n",
    "\\begin{equation}\n",
    "    L\\left(X,\\theta\\right)=\\ln f\\left(X,\\theta\\right)=\\sum_{i=1}^{k}\\ln p_Y\\left(x_i,\\theta\\right)\n",
    "\\end{equation}\n",
    "\n",
    "Оценка $\\hat{\\theta}$ параметра $\\theta$ будет равна точке максимума функций $f\\left(X,\\theta\\right)$ и $L\\left(X,\\theta\\right)$ (так как их максимумы из-за монотонности $\\ln$ совпадают)"
   ],
   "metadata": {
    "collapsed": false
   }
  },
  {
   "cell_type": "markdown",
   "source": [
    "Найдем логарифмическую функцию правдоподобия для данного распределения\n",
    "\\begin{multiline}\n",
    "    L\\left(X,\\theta\\right)=\\sum_{i=1}^{k}\\ln\\left(\\binom{n}{x_i}\\theta^{x_i}\\left(1-\\theta\\right)^{n-x_i}\\right) = \\sum_{i=1}^{k}\\ln\\binom{n}{x_i} + \\sum_{i=1}^{k}\\ln\\theta^{x_i} + \\sum_{i=1}^{k}\\ln\\left(1-\\theta\\right)^{n-x_i} = \\\\\n",
    "     = \\sum_{i=1}^{k}\\ln\\binom{n}{x_i} + \\sum_{i=1}^{k}x_i\\ln\\theta + \\sum_{i=1}^{k}\\left(n-x_i\\right)\\ln\\left(1-\\theta\\right) = \\\\\n",
    "     = \\sum_{i=1}^{k}\\ln\\binom{n}{x_i} + \\sum_{i=1}^{k}x_i\\ln\\theta + \\sum_{i=1}^{k}\\left(n-x_i\\right)\\ln\\left(1-\\theta\\right) = \\\\\n",
    "     = \\sum_{i=1}^{k}\\ln\\binom{n}{x_i} + \\ln\\theta\\sum_{i=1}^{k}x_i + \\ln\\left(1-\\theta\\right)\\left(kn-\\sum_{i=1}^{k}x_i\\right)\n",
    "\\end{multiline}\n",
    "\n",
    "Максимум найдем, приравняв к $0$ производную по $\\theta$\n",
    "\\begin{gather}\n",
    "    \\frac{\\partial}{\\partial\\theta}L\\left(X,\\theta\\right) = \\frac{1}{\\theta}\\sum_{i=1}^{k}x_i - \\frac{1}{1-\\theta}\\left(kn-\\sum_{i=1}^{k}x_i\\right) \\\\\n",
    "    \\frac{\\partial}{\\partial\\theta}L\\left(X,\\theta\\right) = 0 \\\\\n",
    "    \\frac{1}{\\theta}\\sum_{i=1}^{k}x_i = \\frac{1}{1-\\theta}\\left(kn-\\sum_{i=1}^{k}x_i\\right) \\\\\n",
    "    \\sum_{i=1}^{k}x_i - \\theta\\sum_{i=1}^{k}x_i = nk\\theta - \\theta\\sum_{i=1}^{k}x_i \\\\\n",
    "    \\theta = \\frac{\\sum_{i=1}^{k}x_i}{nk} = \\frac{\\bar{X_k}}{n}\n",
    "\\end{gather}\n",
    "\n",
    "Итого, оценка методом моментов параметра $\\theta$ равна\n",
    "\\begin{equation}\n",
    "    \\hat{\\theta} = \\frac{\\bar{X_k}}{n}\n",
    "\\end{equation}"
   ],
   "metadata": {
    "collapsed": false
   }
  },
  {
   "cell_type": "markdown",
   "source": [
    "\\begin{equation}\n",
    "    \\lim_{k\\rightarrow\\infty}{P\\left(\\left|\\hat{\\theta} - \\theta\\right| > \\epsilon \\right)} = \\lim_{k\\rightarrow\\infty}{P\\left(\\left|\\frac{\\bar{X_k}}{n} - \\theta\\right| > \\epsilon \\right)}\n",
    "\\end{equation}\n",
    "\n",
    "Из закона больших чисел следует, что $\\bar{X_k}\\xrightarrow{k\\rightarrow\\infty} EX = n\\theta$, тогда $\\frac{\\bar{X_k}}{n} - \\theta \\xrightarrow{k\\rightarrow\\infty} 0$ и\n",
    "\n",
    "\\begin{equation}\n",
    "    \\lim_{k\\rightarrow\\infty}{P\\left(\\left|\\hat{\\theta} - \\theta\\right| > \\epsilon \\right)} = 0\n",
    "\\end{equation}\n",
    "\n",
    "Оценка состоятельная\n",
    "\n",
    "\\begin{equation}\n",
    "    E\\hat{\\theta} = E\\left(\\frac{\\bar{X_k}}{n}\\right) = \\frac{E\\bar{X_k}}{n} = \\frac{n\\theta}{n} = \\theta\n",
    "\\end{equation}\n",
    "\n",
    "Оценка несмещенная, ее смещение равно $0$"
   ],
   "metadata": {
    "collapsed": false
   }
  },
  {
   "cell_type": "code",
   "execution_count": 72,
   "outputs": [
    {
     "data": {
      "text/plain": "0.827"
     },
     "execution_count": 72,
     "metadata": {},
     "output_type": "execute_result"
    }
   ],
   "source": [
    "gen_arr = scp.stats.binom.rvs(n=4, p=0.2, size=1000)\n",
    "gen_arr.mean() / 4"
   ],
   "metadata": {
    "collapsed": false
   }
  }
 ],
 "metadata": {
  "kernelspec": {
   "display_name": "Python 3",
   "language": "python",
   "name": "python3"
  },
  "language_info": {
   "codemirror_mode": {
    "name": "ipython",
    "version": 2
   },
   "file_extension": ".py",
   "mimetype": "text/x-python",
   "name": "python",
   "nbconvert_exporter": "python",
   "pygments_lexer": "ipython2",
   "version": "2.7.6"
  }
 },
 "nbformat": 4,
 "nbformat_minor": 0
}
