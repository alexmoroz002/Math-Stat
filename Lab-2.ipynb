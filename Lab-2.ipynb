{
 "cells": [
  {
   "cell_type": "markdown",
   "source": [
    "\n",
    "# Лабораторная работа 2\n",
    "\n",
    "## Выполнил: Морозов Алексей, группа М32071\n",
    "\n",
    "## Вариант: 9, задачи 3, 5\n"
   ],
   "metadata": {
    "collapsed": false
   }
  },
  {
   "cell_type": "code",
   "execution_count": 146,
   "outputs": [],
   "source": [
    "import numpy as np\n",
    "import scipy as scp\n",
    "import matplotlib as mplt\n",
    "import matplotlib.pyplot as plt\n",
    "import pandas as pd\n",
    "from math import sqrt"
   ],
   "metadata": {
    "collapsed": false
   }
  },
  {
   "cell_type": "markdown",
   "source": [
    "\n",
    "## Задача 1\n",
    "\n",
    "### Условие\n",
    "\n",
    "Методом максимального правдоподобия найти оценку параметра $\\theta$ биномиального распределения $Bin(n, \\theta)$, считая $n$ известным. Найти смещение оценки, дисперсию, среднеквадратическую ошибку. Является ли найденная оценка эффективной? Эксперимент\n",
    "при $n = 4$, $\\theta = \\frac{1}{5}$\n",
    "\n",
    "Сгенерируйте $500$ выборок объема $50$ с указанным значением параметра $\\theta$. Сколько раз\n",
    "оценка отклонится от истинного значения параметра более чем на $0.01$? То же самое сделать для объемов выборки $100$, $500$, $1000$, $2500$. Визуализируйте результат. Как объяснить\n",
    "полученный результат?"
   ],
   "metadata": {
    "collapsed": false
   }
  },
  {
   "cell_type": "code",
   "execution_count": 147,
   "outputs": [],
   "source": [
    "n = 4\n",
    "theta = 1/5\n",
    "gen_count = 500\n",
    "eps = 0.01"
   ],
   "metadata": {
    "collapsed": false
   }
  },
  {
   "cell_type": "markdown",
   "source": [
    "\n",
    "### Решение\n",
    "\n",
    "Функция вероятности для биномиального распределения имеет вид\n",
    "\\begin{equation}\n",
    "    p_Y\\left(y\\right) = P\\left(Y = y\\right) = \\binom{n}{y}\\theta^{y}\\left(1-\\theta\\right)^{n-y}\n",
    "\\end{equation}\n",
    "\n",
    "Пусть в результате $k$ испытаний при некотором значении параметра $\\theta$ была получена выборка $X=\\left(X_1,...,X_k\\right)$. Так как распределение дискретно, вероятность, что величина $X$ примет значение $x_i$ при данном значении параметра равна $p_Y\\left(x_i,\\theta\\right)=P_\\theta\\left(Y=x_i\\right)$\n",
    "\n",
    "Тогда можно ввести функцию правдоподобия $f\\left(X,\\theta\\right)$ такую, что\n",
    "\\begin{equation}\n",
    "    f\\left(X,\\theta\\right)=\\prod_{i=1}^{k}p_Y\\left(x_i,\\theta\\right)\n",
    "\\end{equation}\n",
    "и ее логарифмический аналог\n",
    "\\begin{equation}\n",
    "    L\\left(X,\\theta\\right)=\\ln f\\left(X,\\theta\\right)\n",
    "\\end{equation}\n",
    "\n",
    "Оценка $\\hat{\\theta}$ параметра $\\theta$ будет равна точке максимума функций $f\\left(X,\\theta\\right)$ и $L\\left(X,\\theta\\right)$ (так как их максимумы из-за монотонности $\\ln$ совпадают)"
   ],
   "metadata": {
    "collapsed": false
   }
  },
  {
   "cell_type": "markdown",
   "source": [
    "Найдем логарифмическую функцию правдоподобия для данного распределения\n",
    "\\begin{multiline}\n",
    "    L\\left(X,\\theta\\right) = \\ln\\left(\\prod_{i=1}^{k}\\binom{n}{x_i}\\theta^{x_i}\\left(1-\\theta\\right)^{n-x_i}\\right) = \\ln\\prod_{i=1}^{k}\\binom{n}{x_i} + \\ln\\left(\\theta^{\\sum_{i=1}^{k}x_i}\\left(1-\\theta\\right)^{\\sum_{i=1}^{k}n-x_i}\\right) = \\\\ = \\ln\\prod_{i=1}^{k}\\binom{n}{x_i} + \\ln\\left(\\theta^{S_k}\\left(1-\\theta\\right)^{kn-S_k}\\right) = \\ln\\prod_{i=1}^{k}\\binom{n}{x_i} + S_k\\ln\\theta + \\left(kn-S_k\\right)\\ln\\left(1-\\theta\\right)\n",
    "\\end{multiline}\n",
    "\n",
    "Максимум найдем, приравняв к $0$ производную по $\\theta$\n",
    "\\begin{gather}\n",
    "    \\frac{\\partial}{\\partial\\theta}L\\left(X,\\theta\\right) = \\frac{S_k}{\\theta} - \\frac{kn-S_k}{1-\\theta} \\\\\n",
    "    \\frac{\\partial}{\\partial\\theta}L\\left(X,\\theta\\right) = 0 \\\\\n",
    "    \\frac{S_k}{\\theta} - \\frac{kn-S_k}{1-\\theta} = 0 \\\\\n",
    "    \\frac{S_k}{\\theta} = \\frac{kn-S_k}{1-\\theta} \\\\\n",
    "    S_k - \\theta S_k = \\theta kn - \\theta S_k \\\\\n",
    "    \\theta = \\frac{S_k}{nk} = \\frac{\\bar{X_k}}{n}\n",
    "\\end{gather}\n",
    "\n",
    "Итого, оценка методом моментов параметра $\\theta$ равна\n",
    "\\begin{equation}\n",
    "    \\hat{\\theta} = \\frac{\\bar{X_k}}{n}\n",
    "\\end{equation}"
   ],
   "metadata": {
    "collapsed": false
   }
  },
  {
   "cell_type": "markdown",
   "source": [
    "\\begin{equation}\n",
    "    \\lim_{k\\rightarrow\\infty}{P\\left(\\left|\\hat{\\theta} - \\theta\\right| > \\epsilon \\right)} = \\lim_{k\\rightarrow\\infty}{P\\left(\\left|\\frac{\\bar{X_k}}{n} - \\theta\\right| > \\epsilon \\right)}\n",
    "\\end{equation}\n",
    "\n",
    "Из закона больших чисел следует, что $\\bar{X_k}\\xrightarrow{k\\rightarrow\\infty} EX = n\\theta$, тогда $\\frac{\\bar{X_k}}{n} - \\theta \\xrightarrow{k\\rightarrow\\infty} 0$ и\n",
    "\n",
    "\\begin{equation}\n",
    "    \\lim_{k\\rightarrow\\infty}{P\\left(\\left|\\hat{\\theta} - \\theta\\right| > \\epsilon \\right)} = 0\n",
    "\\end{equation}\n",
    "\n",
    "Оценка состоятельная\n",
    "\n",
    "\\begin{equation}\n",
    "    E\\hat{\\theta} = E\\left(\\frac{\\bar{X_k}}{n}\\right) = \\frac{E\\bar{X_k}}{n} = \\frac{n\\theta}{n} = \\theta\n",
    "\\end{equation}\n",
    "\n",
    "Оценка несмещенная, ее смещение равно $B\\left(\\hat{\\theta}\\right) = \\theta - E\\hat{\\theta} = 0$\n",
    "\n",
    "\\begin{equation}\n",
    "    D\\left(\\hat{\\theta}\\right) = E\\hat{\\theta}^2 - \\left(E\\hat{\\theta}\\right)^2 = \\frac{1}{n^2}E\\left(\\overline{X}^2\\right) - \\theta^2 = \\frac{1}{n^2}\\left(n^2\\theta^2 + \\frac{n\\theta\\left(1-\\theta\\right)}{k}\\right) - \\theta^2 = \\frac{\\theta\\left(1-\\theta\\right)}{nk}\n",
    "\\end{equation}\n",
    "\n",
    "\\begin{equation}\n",
    "    MSE\\left(\\hat{\\theta}\\right) = D\\left(\\hat{\\theta}\\right) + \\left(B\\left(\\hat{\\theta}\\right)\\right)^2 = \\frac{\\theta\\left(1-\\theta\\right)}{nk}\n",
    "\\end{equation}"
   ],
   "metadata": {
    "collapsed": false
   }
  },
  {
   "cell_type": "markdown",
   "source": [
    "Эффективность оценки $\\hat{\\theta}$ можно проверить используя неравенство Рао-Крамера, которое, учитывая что оценка несмещенная и элементы выборки распределены одинаково, имеет вид\n",
    "\\begin{equation}\n",
    "    D\\left(\\hat{\\theta}\\right) \\geq \\frac{1}{kI\\left(\\theta\\right)}\n",
    "\\end{equation}\n",
    "Если оценка такова, что в неравенстве достигается равенство, то данная оценка эффективна\n",
    "\\begin{equation}\n",
    "    D\\left(\\hat{\\theta}\\right) = \\frac{1}{kI\\left(\\theta\\right)}\n",
    "\\end{equation}\n",
    "Найдем информацию Фишера $I\\left(\\theta\\right)$ в одном наблюдении\n",
    "\\begin{equation}\n",
    "    I\\left(\\theta\\right) = E_\\theta\\left(\\frac{\\partial}{\\partial\\theta}L\\left(x,\\theta\\right)\\right)^2 = E_\\theta\\left(\\frac{x^2-2nx\\theta+n^2\\theta^2}{\\theta^2\\left(1-\\theta\\right)^2}\\right) = \\frac{n\\theta-n\\theta^2+n^2\\theta^2-2n^2\\theta^2+n^2\\theta^2}{\\theta^2\\left(1-\\theta\\right)^2} = \\frac{n}{\\theta\\left(1-\\theta\\right)}\n",
    "\\end{equation}\n",
    "\n",
    "Подставляя $D\\left(\\hat{\\theta}\\right)$ и $I\\left(\\theta\\right)$ получаем\n",
    "\\begin{equation}\n",
    "    \\frac{\\theta\\left(1-\\theta\\right)}{kn} = \\frac{\\theta\\left(1-\\theta\\right)}{kn}\n",
    "\\end{equation}\n",
    "Значит, полученная оценка эффективна"
   ],
   "metadata": {
    "collapsed": false
   }
  },
  {
   "cell_type": "markdown",
   "source": [
    "Итого, имеем что оценка $\\hat{\\theta}$ параметра $\\theta$ состоятельна, не смещена и\n",
    "эффективна, а ее параметры равны\n",
    "Смещение $B\\left(\\hat{\\theta}\\right) = 0$\n",
    "Дисперсия $D\\left(\\hat{\\theta}\\right) = \\frac{\\theta\\left(1-\\theta\\right)}{nk}$\n",
    "СКО $MSE\\left(\\hat{\\theta}\\right) = \\frac{\\theta\\left(1-\\theta\\right)}{nk}$"
   ],
   "metadata": {
    "collapsed": false
   }
  },
  {
   "cell_type": "markdown",
   "source": [
    "### Эксперимент"
   ],
   "metadata": {
    "collapsed": false
   }
  },
  {
   "cell_type": "code",
   "execution_count": 148,
   "outputs": [],
   "source": [
    "def count_diff(size):\n",
    "    counter = 0\n",
    "    for i in range(gen_count):\n",
    "        gen_arr = scp.stats.binom.rvs(n=n, p=theta, size=size)\n",
    "        p_est = gen_arr.mean() / n\n",
    "        if abs(p_est - theta) > 0.01:\n",
    "            counter += 1\n",
    "    return counter"
   ],
   "metadata": {
    "collapsed": false
   }
  },
  {
   "cell_type": "code",
   "execution_count": 149,
   "outputs": [
    {
     "data": {
      "text/plain": "   gen_size  diff_count\n0        50         370\n1       100         303\n2       500         147\n3      1000          56\n4      2500           6",
      "text/html": "<div>\n<style scoped>\n    .dataframe tbody tr th:only-of-type {\n        vertical-align: middle;\n    }\n\n    .dataframe tbody tr th {\n        vertical-align: top;\n    }\n\n    .dataframe thead th {\n        text-align: right;\n    }\n</style>\n<table border=\"1\" class=\"dataframe\">\n  <thead>\n    <tr style=\"text-align: right;\">\n      <th></th>\n      <th>gen_size</th>\n      <th>diff_count</th>\n    </tr>\n  </thead>\n  <tbody>\n    <tr>\n      <th>0</th>\n      <td>50</td>\n      <td>370</td>\n    </tr>\n    <tr>\n      <th>1</th>\n      <td>100</td>\n      <td>303</td>\n    </tr>\n    <tr>\n      <th>2</th>\n      <td>500</td>\n      <td>147</td>\n    </tr>\n    <tr>\n      <th>3</th>\n      <td>1000</td>\n      <td>56</td>\n    </tr>\n    <tr>\n      <th>4</th>\n      <td>2500</td>\n      <td>6</td>\n    </tr>\n  </tbody>\n</table>\n</div>"
     },
     "execution_count": 149,
     "metadata": {},
     "output_type": "execute_result"
    }
   ],
   "source": [
    "diff_cnt = pd.DataFrame({'gen_size':[], 'diff_count':[]})\n",
    "gen_sizes = [50, 100, 500, 1000, 2500]\n",
    "for gen_size in gen_sizes:\n",
    "    diff_cnt.loc[len(diff_cnt.index)] = [gen_size, count_diff(gen_size)]\n",
    "diff_cnt"
   ],
   "metadata": {
    "collapsed": false
   }
  },
  {
   "cell_type": "code",
   "execution_count": 150,
   "outputs": [
    {
     "data": {
      "text/plain": "<Figure size 640x480 with 1 Axes>",
      "image/png": "[encoded data removed]"
     },
     "metadata": {},
     "output_type": "display_data"
    }
   ],
   "source": [
    "plt.plot(diff_cnt['gen_size'], diff_cnt['diff_count'], marker='o')\n",
    "plt.grid()\n",
    "plt.minorticks_on()\n",
    "plt.title(\"Зависимость количества отклонений оценки от объема выборки\")\n",
    "plt.xlabel(\"Объем выборки\")\n",
    "plt.ylabel(\"Количество отклонений\")\n",
    "plt.show()"
   ],
   "metadata": {
    "collapsed": false
   }
  },
  {
   "cell_type": "markdown",
   "source": [
    "Нетрудно заметить, что с ростом объема выборки оценка все реже отклоняется от параметра. Объясняется это законом больших чисел, а конкретно - состоятельностью полученной оценки: при стремлении объема к бесконечности, оценка параметра стремится к самому параметру по вероятности\n",
    "\\begin{equation}\n",
    "    \\hat{\\theta} \\xrightarrow{P} \\theta &\\text{при}& n\\rightarrow\\infty\n",
    "\\end{equation}"
   ],
   "metadata": {
    "collapsed": false
   }
  }
 ],
 "metadata": {
  "kernelspec": {
   "display_name": "Python 3",
   "language": "python",
   "name": "python3"
  },
  "language_info": {
   "codemirror_mode": {
    "name": "ipython",
    "version": 2
   },
   "file_extension": ".py",
   "mimetype": "text/x-python",
   "name": "python",
   "nbconvert_exporter": "python",
   "pygments_lexer": "ipython2",
   "version": "2.7.6"
  }
 },
 "nbformat": 4,
 "nbformat_minor": 0
}
