{
 "cells": [
  {
   "cell_type": "markdown",
   "source": [
    "\n",
    "# Лабораторная работа 2\n",
    "\n",
    "## Выполнил: Морозов Алексей, группа М32071\n",
    "\n",
    "## Вариант: 9, задачи 3, 5\n"
   ],
   "metadata": {
    "collapsed": false
   }
  },
  {
   "cell_type": "code",
   "execution_count": null,
   "outputs": [],
   "source": [
    "import numpy as np\n",
    "import scipy as scp\n",
    "import matplotlib as mplt\n",
    "import matplotlib.pyplot as plt\n",
    "import pandas as pd\n",
    "from math import sqrt"
   ],
   "metadata": {
    "collapsed": false
   }
  },
  {
   "cell_type": "markdown",
   "source": [
    "\n",
    "## Задача 1\n",
    "\n",
    "### Условие\n",
    "\n",
    "Методом максимального правдоподобия найти оценку параметра $\\theta$ биномиального распределения $Bin(n, \\theta)$, считая $n$ известным. Найти смещение оценки, дисперсию, среднеквадратическую ошибку. Является ли найденная оценка эффективной? Эксперимент\n",
    "при $n = 4$, $\\theta = \\frac{1}{5}$\n",
    "\n",
    "Сгенерируйте $500$ выборок объема $50$ с указанным значением параметра $\\theta$. Сколько раз\n",
    "оценка отклонится от истинного значения параметра более чем на $0.01$? То же самое сделать для объемов выборки $100$, $500$, $1000$, $2500$. Визуализируйте результат. Как объяснить\n",
    "полученный результат?"
   ],
   "metadata": {
    "collapsed": false
   }
  },
  {
   "cell_type": "code",
   "execution_count": null,
   "outputs": [],
   "source": [
    "n = 4\n",
    "theta = 1/5"
   ],
   "metadata": {
    "collapsed": false
   }
  },
  {
   "cell_type": "markdown",
   "source": [
    "\n",
    "### Решение\n",
    "\n",
    "Функция вероятности для биномиального распределения имеет вид\n",
    "\\begin{equation}\n",
    "    p_Y\\left(y\\right) = P\\left(Y = y\\right) = \\binom{n}{y}\\theta^{y}\\left(1-\\theta\\right)^{n-y}\n",
    "\\end{equation}\n",
    "\n",
    "Пусть в результате $k$ испытаний при некотором значении параметра $\\theta$ была получена выборка $X=\\left(X_1,...,X_k\\right)$. Так как распределение дискретно, вероятность, что величина $X$ примет значение $x_i$ при данном значении параметра равна $p_Y\\left(x_i,\\theta\\right)=P_\\theta\\left(Y=x_i\\right)$\n",
    "\n",
    "Тогда можно ввести функцию правдоподобия $f\\left(X,\\theta\\right)$ такую, что\n",
    "\\begin{equation}\n",
    "    f\\left(X,\\theta\\right)=\\prod_{i=1}^{k}p_Y\\left(x_i,\\theta\\right)\n",
    "\\end{equation}\n",
    "и ее логарифмический аналог\n",
    "\\begin{equation}\n",
    "    L\\left(X,\\theta\\right)=\\ln f\\left(X,\\theta\\right)=\\sum_{i=1}^{k}p_Y\\left(x_i,\\theta\\right)\n",
    "\\end{equation}\n",
    "\n",
    "Оценка $\\hat{\\theta}$ параметра $\\theta$ будет равна точке максимума функций $f\\left(X,\\theta\\right)$ и $L\\left(X,\\theta\\right)$ (так как их максимумы из-за монотонности $\\ln$ совпадают)"
   ],
   "metadata": {
    "collapsed": false
   }
  }
 ],
 "metadata": {
  "kernelspec": {
   "display_name": "Python 3",
   "language": "python",
   "name": "python3"
  },
  "language_info": {
   "codemirror_mode": {
    "name": "ipython",
    "version": 2
   },
   "file_extension": ".py",
   "mimetype": "text/x-python",
   "name": "python",
   "nbconvert_exporter": "python",
   "pygments_lexer": "ipython2",
   "version": "2.7.6"
  }
 },
 "nbformat": 4,
 "nbformat_minor": 0
}
