{
 "cells": [
  {
   "cell_type": "markdown",
   "metadata": {},
   "source": [
    "\n",
    "# Лабораторная работа 3\n",
    "\n",
    "## Выполнил: Морозов Алексей, М32071\n",
    "\n",
    "## Вариант: 9, задачи 2, 7\n"
   ]
  },
  {
   "cell_type": "code",
   "execution_count": 246,
   "metadata": {
    "collapsed": true,
    "ExecuteTime": {
     "start_time": "2023-03-30T21:05:19.835601Z",
     "end_time": "2023-03-30T21:05:19.950720Z"
    }
   },
   "outputs": [],
   "source": [
    "import numpy as np\n",
    "import scipy as scp\n",
    "#import matplotlib as mplt\n",
    "import matplotlib.pyplot as plt\n",
    "import pandas as pd\n",
    "#from numpy import sqrt, pi, exp"
   ]
  },
  {
   "cell_type": "markdown",
   "metadata": {},
   "source": [
    "\n",
    "## Задача 1\n",
    "\n",
    "### Условие\n",
    "\n",
    "Предъявите доверительный интервал уровня $1 − \\alpha$ для указанного параметра $\\tau$ при данных предположениях (с обоснованиями). Сгенерируйте $2$ выборки объёма $25$ и посчитайте доверительный интервал. Повторить $1000$ раз. Посчитайте, сколько раз $95-$процентный доверительный интервал покрывает реальное значение параметра. То же самое сделайте для объема выборки $10000$. Как изменился результат? Как объяснить?\n",
    "\n",
    "Даны две независимые выборки $X\\sim\\left(\\mu_1,\\sigma^2\\right)$, $Y\\sim\\left(\\mu_2, \\sigma^2\\right)$ объема $n$ и $m$ соответственно, $\\tau = \\mu_1 - \\mu_2$; $\\mu_1 = 2$, $\\mu_2 = 1$, $\\sigma^2 = 1$\n",
    "Использовать функцию\n",
    "\\begin{equation}\n",
    "    G\\left(X,Y,\\tau\\right) = \\sqrt{\\frac{mn\\left(m+n-2\\right)}{m+n}}\\frac{\\bar{X}-\\bar{Y}-\\tau}{\\sqrt{nS^2\\left(X\\right)+mS^2\\left(Y\\right)}}\n",
    "\\end{equation}\n",
    "где $S^2\\left(.\\right)$ - выборочная смещенная дисперсия\n"
   ]
  },
  {
   "cell_type": "code",
   "execution_count": 247,
   "metadata": {
    "ExecuteTime": {
     "start_time": "2023-03-30T21:05:19.856590Z",
     "end_time": "2023-03-30T21:05:19.950720Z"
    }
   },
   "outputs": [],
   "source": [
    "beta = 0.95\n",
    "alpha = 1 - beta\n",
    "mu1 = 2\n",
    "mu2 = 1\n",
    "tau = mu1 - mu2\n",
    "n1 = m1 = 25\n",
    "n2 = m2 = 10000\n",
    "sigma = 1\n",
    "gen_count = 1000"
   ]
  },
  {
   "cell_type": "markdown",
   "metadata": {},
   "source": [
    "\n",
    "### Решение\n",
    "\n",
    "Распределение случайной величины, имеющей распределение Стьюдента $T_k$ с $k$ степенями свободы, имеет вид\n",
    "\\begin{equation}\n",
    "    t_k = \\frac{\\xi_0}{\\sqrt{\\frac{H_k}{k}}}\n",
    "\\end{equation}\n",
    "где $\\xi_0 \\sim N\\left(0,1\\right)$, $H_k$ - распределение хи-квадрат с $k$ степенями свободы\n",
    "\n",
    "Согласно ЦПТ\n",
    "\\begin{gather*}\n",
    "    \\bar{X} \\sim N\\left(\\mu_1,\\frac{\\sigma^2}{n}\\right) \\Rightarrow \\bar{X}-\\mu_1 \\sim N\\left(0,\\frac{\\sigma^2}{n}\\right) \\\\\n",
    "    \\bar{Y} \\sim N\\left(\\mu_2,\\frac{\\sigma^2}{m}\\right) \\Rightarrow \\bar{Y}-\\mu_2 \\sim N\\left(0,\\frac{\\sigma^2}{m}\\right)\n",
    "\\end{gather*}\n",
    "\n",
    "Их разность $\\bar{X}-\\mu_1-\\bar{Y}+\\mu_2 = \\bar{X}-\\bar{Y}-\\tau$ также имеет нормальное распределение с параметрами\n",
    "\\begin{equation}\n",
    "    \\bar{X}-\\bar{Y}-\\tau \\sim N\\left(0,\\frac{\\sigma^2}{n}+\\frac{\\sigma^2}{m}\\right) = N\\left(0,\\sigma^2\\frac{m+n}{mn}\\right)\n",
    "\\end{equation}\n",
    "Нормируем\n",
    "\\begin{equation}\n",
    "    \\xi_0 = \\frac{\\bar{X}-\\bar{Y}-\\tau}{\\sigma}\\sqrt{\\frac{mn}{m+n}} \\sim N\\left(0,1\\right)\n",
    "\\end{equation}"
   ]
  },
  {
   "cell_type": "markdown",
   "metadata": {},
   "source": [
    "Из теоремы Фишера для исходных распределений следует, что\n",
    "\\begin{gather}\n",
    "    \\frac{\\left(n-1\\right)S_0^2\\left(X\\right)}{\\sigma^2} \\sim H_{n-1} \\\\\n",
    "    \\frac{\\left(m-1\\right)S_0^2\\left(Y\\right)}{\\sigma^2} \\sim H_{m-1}\n",
    "\\end{gather}\n",
    "где $S_0^2(.)$ - выборочная несмещенная дисперсия\n",
    "\n",
    "Тогда\n",
    "\\begin{equation}\n",
    "    \\frac{\\left(n-1\\right)S_0^2\\left(X\\right)}{\\sigma^2} + \\frac{\\left(m-1\\right)S_0^2\\left(Y\\right)}{\\sigma^2} = \\frac{1}{\\sigma^2}\\left((n-1)S_0^2\\left(X\\right)+(m-1)S_0^2\\left(Y\\right)\\right) \\sim H_{n+m-2}\n",
    "\\end{equation}\n",
    "Заменим несмещенную дисперсию смещенной\n",
    "\\begin{equation}\n",
    "    \\frac{1}{\\sigma^2}\\left(nS^2\\left(X\\right)+mS^2\\left(Y\\right)\\right) \\sim H_{n+m-2}\n",
    "\\end{equation}\n",
    "Подставим в формулу распределения Стьюдента\n",
    "\\begin{equation}\n",
    "    \\frac{\\xi_0}{\\sqrt{\\frac{H_{m+n-2}}{m+n-2}}} = \\sqrt{\\frac{mn\\left(m+n-2\\right)}{m+n}}\\frac{\\bar{X}-\\bar{Y}-\\tau}{\\sqrt{nS^2\\left(X\\right)+mS^2\\left(Y\\right)}} \\sim T_{n+m-2}\n",
    "\\end{equation}\n",
    "и получим, что функция $G\\left(X,Y,\\tau\\right)$ имеет распределение Стьюдента с $m+n-2$ степенями свободы"
   ]
  },
  {
   "cell_type": "markdown",
   "metadata": {},
   "source": [
    "Используем данную функцию $G\\left(X,Y,\\tau\\right)$ для определения доверительного интервала уровня $1 - \\alpha$\n",
    "\n",
    "\\begin{equation}\n",
    "    P_\\theta\\left(g_1 < G\\left(X,Y,\\tau\\right) < g_2\\right) = 1 - \\alpha\n",
    "\\end{equation}\n",
    "где $g_1$, $g_2$ - квантили распределения $G$ соответственно порядков $\\alpha/2$ и $1 - \\alpha/2$. Учитывая, что распределение Стьюдента симметрично, получаем, что $g_2 = -g_1 = -t_{\\alpha/2, m+n-2}$\n",
    "Выразим $\\tau$ из выражения выше\n",
    "\\begin{gather}\n",
    "    P_\\theta\\left(g_1 < \\sqrt{\\frac{mn\\left(m+n-2\\right)}{m+n}}\\frac{\\bar{X}-\\bar{Y}-\\tau}{\\sqrt{nS^2\\left(X\\right)+mS^2\\left(Y\\right)}} < -g_1\\right) = 1 - \\alpha \\\\\n",
    "    P_\\theta\\left(g_1\\sqrt{\\frac{m+n}{mn\\left(m+n-2\\right)}} < \\frac{\\bar{X}-\\bar{Y}-\\tau}{\\sqrt{nS^2\\left(X\\right)+mS^2\\left(Y\\right)}} < -g_1\\sqrt{\\frac{m+n}{mn\\left(m+n-2\\right)}}\\right) = 1 - \\alpha \\\\\n",
    "    P_\\theta\\left(g_1\\sqrt{\\frac{m+n}{mn\\left(m+n-2\\right)}\\left(nS^2\\left(X\\right)+mS^2\\left(Y\\right)\\right)}\\right) = 1 - \\alpha \\\\\n",
    "    P_\\theta\\left(g_1\\sqrt{\\frac{m+n}{mn\\left(m+n-2\\right)}\\left(nS^2\\left(X\\right)+mS^2\\left(Y\\right)\\right)} - \\bar{X} + \\bar{Y}\\right) = 1 - \\alpha \\\\\n",
    "    P_\\theta\\left(g_1\\sqrt{\\frac{m+n}{mn\\left(m+n-2\\right)}\\left(nS^2\\left(X\\right)+mS^2\\left(Y\\right)\\right)} + \\bar{X} - \\bar{Y} < \\tau < -g_1\\sqrt{\\frac{m+n}{mn\\left(m+n-2\\right)}\\left(nS^2\\left(X\\right)+mS^2\\left(Y\\right)\\right)} + \\bar{X} - \\bar{Y}\\right) = 1 - \\alpha\n",
    "\\end{gather}\n",
    "Итого, доверительный интервал уровня доверия $1 - \\alpha$ параметра $\\tau$ равен\n",
    "\\begin{equation}\n",
    "    \\tau \\in \\left(t_{\\alpha/2, m+n-2}\\sqrt{\\frac{m+n}{mn\\left(m+n-2\\right)}\\left(nS^2\\left(X\\right)+mS^2\\left(Y\\right)\\right)} + \\bar{X} - \\bar{Y}, -t_{\\alpha/2, m+n-2}\\sqrt{\\frac{m+n}{mn\\left(m+n-2\\right)}\\left(nS^2\\left(X\\right)+mS^2\\left(Y\\right)\\right)} + \\bar{X} - \\bar{Y}\\right)\n",
    "\\end{equation}"
   ]
  },
  {
   "cell_type": "markdown",
   "source": [
    "\n",
    "### Эксперимент\n"
   ],
   "metadata": {
    "collapsed": false
   }
  },
  {
   "cell_type": "code",
   "execution_count": 248,
   "outputs": [],
   "source": [
    "def count_diff_norm(t):\n",
    "    counter = 0\n",
    "    n, m = t\n",
    "    for i in range(gen_count):\n",
    "        gen_arr_x = scp.stats.norm.rvs(loc=mu1, scale=sigma, size=n)\n",
    "        gen_arr_y = scp.stats.norm.rvs(loc=mu2, scale=sigma, size=m)\n",
    "        mean_x = gen_arr_x.mean()\n",
    "        mean_y = gen_arr_y.mean()\n",
    "        var_x = gen_arr_x.var()\n",
    "        var_y = gen_arr_y.var()\n",
    "        res = scp.stats.t.ppf(alpha/2, m+n-2) * np.sqrt(((m+n)/(m*n*(m+n-2)))*(n*var_x+m*var_y))\n",
    "        left = res + mean_x - mean_y\n",
    "        right = -res + mean_x - mean_y\n",
    "        if left < tau < right :\n",
    "            counter += 1\n",
    "    return counter"
   ],
   "metadata": {
    "collapsed": false,
    "ExecuteTime": {
     "start_time": "2023-03-30T21:05:19.872216Z",
     "end_time": "2023-03-30T21:05:19.950720Z"
    }
   }
  },
  {
   "cell_type": "code",
   "execution_count": 261,
   "outputs": [
    {
     "data": {
      "text/plain": "         gen_size  diff_count  percentage\n0        [25, 25]         953       0.953\n1  [10000, 10000]         948       0.948",
      "text/html": "<div>\n<style scoped>\n    .dataframe tbody tr th:only-of-type {\n        vertical-align: middle;\n    }\n\n    .dataframe tbody tr th {\n        vertical-align: top;\n    }\n\n    .dataframe thead th {\n        text-align: right;\n    }\n</style>\n<table border=\"1\" class=\"dataframe\">\n  <thead>\n    <tr style=\"text-align: right;\">\n      <th></th>\n      <th>gen_size</th>\n      <th>diff_count</th>\n      <th>percentage</th>\n    </tr>\n  </thead>\n  <tbody>\n    <tr>\n      <th>0</th>\n      <td>[25, 25]</td>\n      <td>953</td>\n      <td>0.953</td>\n    </tr>\n    <tr>\n      <th>1</th>\n      <td>[10000, 10000]</td>\n      <td>948</td>\n      <td>0.948</td>\n    </tr>\n  </tbody>\n</table>\n</div>"
     },
     "execution_count": 261,
     "metadata": {},
     "output_type": "execute_result"
    }
   ],
   "source": [
    "np.warnings.filterwarnings(\"ignore\", category=np.VisibleDeprecationWarning)\n",
    "diff_cnt = pd.DataFrame({'gen_size':[], 'diff_count':[], 'percentage':[]})\n",
    "gen_sizes = np.array([(n1, m1), (n2, m2)], dtype=object)\n",
    "for gen_size in gen_sizes:\n",
    "    count = count_diff_norm(gen_size)\n",
    "    gen_size = np.asarray(gen_size, dtype=object)\n",
    "    diff_cnt.loc[len(diff_cnt.index)] = [gen_size, count, count/gen_count]\n",
    "diff_cnt"
   ],
   "metadata": {
    "collapsed": false,
    "ExecuteTime": {
     "start_time": "2023-03-30T21:26:02.018084Z",
     "end_time": "2023-03-30T21:26:03.321341Z"
    }
   }
  },
  {
   "cell_type": "markdown",
   "source": [
    "Итак, можно заметить, что $95-$процентный доверительный интервал покрывает значение параметра примерно в $95%$ случаев, причем и при объемах выборки $25$, и при $10000$, не завися таким образом от объемов. Объяснить это можно тем, что был получен **точный** доверительный интервал, так как при его построении использовалась функция $G\\left(X,Y,\\tau\\right)$, имеющая распределение Стьюдента $T_{m+n-2}$ при любых $n$ и $m$ (конечно, при условии, что $X$ и $Y$ имеют нормальное распределение), и соответственно интервал был вычислен используя квантили данного распределения. Благодаря этому полученный интервал и справедлив для любых объемов выборок из данных распределений при условии, что $m+n-2 \\neq 0$\n",
    "\n",
    "Для наглядности построю box-plot вероятностей, что интервал накрывает данное значение параметра"
   ],
   "metadata": {
    "collapsed": false
   }
  },
  {
   "cell_type": "code",
   "execution_count": 255,
   "outputs": [
    {
     "data": {
      "text/plain": "<Figure size 640x480 with 1 Axes>",
      "image/png": "[encoded data removed]"
     },
     "metadata": {},
     "output_type": "display_data"
    }
   ],
   "source": [
    "box_norm = pd.DataFrame({'(25, 25)':[], '(10000, 10000)':[]})\n",
    "for i in range(50):\n",
    "    count1 = count_diff_norm((n1, m1))\n",
    "    count2 = count_diff_norm((n2, m2))\n",
    "    box_norm.loc[len(box_norm.index)] = [count1 / gen_count, count2 / gen_count]\n",
    "box_norm.plot.box()\n",
    "plt.grid()\n",
    "plt.minorticks_on()\n",
    "plt.show()"
   ],
   "metadata": {
    "collapsed": false,
    "ExecuteTime": {
     "start_time": "2023-03-30T21:07:14.827752Z",
     "end_time": "2023-03-30T21:08:11.530253Z"
    }
   }
  },
  {
   "cell_type": "markdown",
   "source": [
    "Итак, среднее и при $25$, и при $10000$, практически не отличается, что подтверждает, что вероятность попадания в интервал не зависит от $n$ и $m$"
   ],
   "metadata": {
    "collapsed": false
   }
  },
  {
   "cell_type": "markdown",
   "source": [
    "\n",
    "## Задача 2\n",
    "\n",
    "### Условие\n",
    "\n",
    "Постройте асимптотический доверительный интервал уровня $1 - \\alpha$ для указанного параметра. Проведите эксперимент по схеме, аналогичной первой задаче\n",
    "\n",
    "Дано равномерное распределение\n",
    "\\begin{equation}\n",
    "    U\\left[-\\theta,0\\right]\n",
    "\\end{equation}\n",
    "Параметр $\\theta$, $\\theta = 3$. Использовать предельную теорему об асимптотическом поведении крайних членов вариационного ряда"
   ],
   "metadata": {
    "collapsed": false
   }
  },
  {
   "cell_type": "code",
   "execution_count": 251,
   "outputs": [],
   "source": [
    "beta = 0.95\n",
    "alpha = 1 - beta\n",
    "n1 = 25\n",
    "n2 = 10000\n",
    "theta = 3\n",
    "gen_count = 1000"
   ],
   "metadata": {
    "collapsed": false,
    "ExecuteTime": {
     "start_time": "2023-03-30T21:06:23.580451Z",
     "end_time": "2023-03-30T21:06:23.699129Z"
    }
   }
  },
  {
   "cell_type": "markdown",
   "source": [
    "\n",
    "### Решение\n",
    "\n",
    "Функция распределения данного равномерного распределения\n",
    "\\begin{equation}\n",
    "    F_\\theta\\left(x\\right) = \\frac{x+\\theta}{\\theta}, -\\theta<x<0\n",
    "\\end{equation}\n",
    "Используя предельную теорему об асимптотическом поведении крайних членов вариационного ряда\n",
    "\\begin{equation}\n",
    "    nF\\left(X_{(r)}\\right) \\xrightarrow{n\\rightarrow\\infty} \\Gamma\\left(r,1\\right)\n",
    "\\end{equation}\n",
    "и беря за $X_{(r)$ первый член вариационного рада (т.е $r = 1$) получаем\n",
    "\\begin{equation}\n",
    "    n\\frac{X_{(1)}+\\theta}{\\theta} \\rightarrow \\Gamma\\left(1,1\\right) = Exp(1)\n",
    "\\end{equation}\n",
    "Значит, используемая статистка $G\\left(X,\\theta\\right) = n\\frac{X_{(1)}+\\theta}{\\theta}$ имеет экспоненциальное распределение с параметром $1$"
   ],
   "metadata": {
    "collapsed": false
   }
  },
  {
   "cell_type": "markdown",
   "source": [
    "Подставим в формулу асимптотического ДИ и выразим $\\theta$\n",
    "\\begin{gather}\n",
    "    P_\\theta\\left(q_{\\alpha/2} < G\\left(X,\\theta\\right) < q_{1-\\alpha/2}\\right) \\rightarrow 1 - \\alpha \\\\\n",
    "    P_\\theta\\left(q_{\\alpha/2} < n\\frac{X_{(1)}+\\theta}{\\theta} < q_{1-\\alpha/2}\\right) \\rightarrow 1 - \\alpha \\\\\n",
    "\\end{gather}\n",
    "Учитывая, что $X \\sim [-\\theta,0]$, то есть не положительна, то\n",
    "\\begin{gather}\n",
    "    P_\\theta\\left(\\frac{q_{1-\\alpha/2}-n}{nX_{(1)}} < \\frac{1}{\\theta} < \\frac{q_{\\alpha/2}-n}{nX_{(1)}}\\right) \\rightarrow 1 - \\alpha \\\\\n",
    "    P_\\theta\\left(\\frac{nX_{(1)}}{q_{\\alpha/2}-n} < \\theta < \\frac{nX_{(1)}}{q_{1-\\alpha/2}-n}\\right) \\rightarrow 1 - \\alpha\n",
    "\\end{gather}\n",
    "\n",
    "Тогда асимптотический ДИ уровня $1 - \\alpha$ равен\n",
    "\\begin{equation}\n",
    "    \\theta \\in \\left[\\frac{nX_{(1)}}{q_{\\alpha/2}-n}, \\frac{nX_{(1)}}{q_{1-\\alpha/2}-n}\\right]\n",
    "\\end{equation}"
   ],
   "metadata": {
    "collapsed": false
   }
  },
  {
   "cell_type": "markdown",
   "source": [
    "\n",
    "### Эксперимент\n"
   ],
   "metadata": {
    "collapsed": false
   }
  },
  {
   "cell_type": "code",
   "execution_count": 252,
   "outputs": [],
   "source": [
    "def count_diff_uniform(n):\n",
    "    counter = 0\n",
    "    for i in range(gen_count):\n",
    "        gen_arr = scp.stats.uniform.rvs(loc=-theta, scale=theta, size=n)\n",
    "        left = (n * gen_arr.min()) / (scp.stats.expon.ppf(alpha / 2) - n)\n",
    "        right = (n * gen_arr.min()) / (scp.stats.expon.ppf(1 - (alpha / 2)) - n)\n",
    "        if left <= theta <= right :\n",
    "            counter += 1\n",
    "    return counter"
   ],
   "metadata": {
    "collapsed": false,
    "ExecuteTime": {
     "start_time": "2023-03-30T21:06:23.608562Z",
     "end_time": "2023-03-30T21:06:23.699129Z"
    }
   }
  },
  {
   "cell_type": "code",
   "execution_count": 257,
   "outputs": [
    {
     "data": {
      "text/plain": "   gen_size  diff_count  percentage\n0      25.0       969.0       0.969\n1   10000.0       952.0       0.952",
      "text/html": "<div>\n<style scoped>\n    .dataframe tbody tr th:only-of-type {\n        vertical-align: middle;\n    }\n\n    .dataframe tbody tr th {\n        vertical-align: top;\n    }\n\n    .dataframe thead th {\n        text-align: right;\n    }\n</style>\n<table border=\"1\" class=\"dataframe\">\n  <thead>\n    <tr style=\"text-align: right;\">\n      <th></th>\n      <th>gen_size</th>\n      <th>diff_count</th>\n      <th>percentage</th>\n    </tr>\n  </thead>\n  <tbody>\n    <tr>\n      <th>0</th>\n      <td>25.0</td>\n      <td>969.0</td>\n      <td>0.969</td>\n    </tr>\n    <tr>\n      <th>1</th>\n      <td>10000.0</td>\n      <td>952.0</td>\n      <td>0.952</td>\n    </tr>\n  </tbody>\n</table>\n</div>"
     },
     "execution_count": 257,
     "metadata": {},
     "output_type": "execute_result"
    }
   ],
   "source": [
    "diff_cnt = pd.DataFrame({'gen_size':[], 'diff_count':[], 'percentage':[]})\n",
    "gen_sizes = [25, 10000]\n",
    "for gen_size in gen_sizes:\n",
    "    count = count_diff_uniform(gen_size)\n",
    "    diff_cnt.loc[len(diff_cnt.index)] = [gen_size, count, count/gen_count]\n",
    "diff_cnt"
   ],
   "metadata": {
    "collapsed": false,
    "ExecuteTime": {
     "start_time": "2023-03-30T21:19:28.020733Z",
     "end_time": "2023-03-30T21:19:28.825986Z"
    }
   }
  },
  {
   "cell_type": "markdown",
   "source": [
    "При генерации было замечено, что вероятность накрытия параметра интервалом изменяется в зависимости от размеров выборки, что связано с использованием теоремы об асимптотическом поведении крайних членов вариационного ряда, которая становится тем точнее, чем больше объем используемой выборки. Поэтому построенный интервал и называется асимптотическим, так как $P_\\theta \\rightarrow 1 - \\alpha$ при $n \\rightarrow \\infty$\n",
    "\n",
    "Снова построю box-plot"
   ],
   "metadata": {
    "collapsed": false
   }
  },
  {
   "cell_type": "code",
   "execution_count": 254,
   "outputs": [
    {
     "data": {
      "text/plain": "<Figure size 640x480 with 1 Axes>",
      "image/png": "[encoded data removed]"
     },
     "metadata": {},
     "output_type": "display_data"
    }
   ],
   "source": [
    "box_uniform = pd.DataFrame({'25':[], '10000':[]})\n",
    "for i in range(50):\n",
    "    count1 = count_diff_uniform(25)\n",
    "    count2 = count_diff_uniform(10000)\n",
    "    box_uniform.loc[len(box_uniform.index)] = [count1 / gen_count, count2 / gen_count]\n",
    "box_uniform.plot.box()\n",
    "plt.grid()\n",
    "plt.minorticks_on()\n",
    "plt.show()"
   ],
   "metadata": {
    "collapsed": false,
    "ExecuteTime": {
     "start_time": "2023-03-30T21:06:24.799456Z",
     "end_time": "2023-03-30T21:07:04.211742Z"
    }
   }
  },
  {
   "cell_type": "markdown",
   "source": [
    "Нетрудно заметить, что в данном случае средние значения вероятностей отличаются друг от друга сильнее, чем в случае точного ДИ, причем при размере выборки $10000$ среднее ближе к ожидаемому значению в $95$ процентов, что доказывает зависимость точности асимптотического ДИ от размера выборки"
   ],
   "metadata": {
    "collapsed": false
   }
  }
 ],
 "metadata": {
  "kernelspec": {
   "display_name": "Python 3 (ipykernel)",
   "language": "python",
   "name": "python3"
  },
  "language_info": {
   "codemirror_mode": {
    "name": "ipython",
    "version": 3
   },
   "file_extension": ".py",
   "mimetype": "text/x-python",
   "name": "python",
   "nbconvert_exporter": "python",
   "pygments_lexer": "ipython3",
   "version": "3.9.13"
  }
 },
 "nbformat": 4,
 "nbformat_minor": 1
}
