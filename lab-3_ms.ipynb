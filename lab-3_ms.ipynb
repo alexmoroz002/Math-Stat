{
 "cells": [
  {
   "cell_type": "markdown",
   "metadata": {},
   "source": [
    "\n",
    "# Лабораторная работа 3\n",
    "\n",
    "## Выполнил: Морозов Алексей, М32071\n",
    "\n",
    "## Вариант: 9, задачи 2, 7\n"
   ]
  },
  {
   "cell_type": "code",
   "execution_count": null,
   "metadata": {
    "collapsed": true
   },
   "outputs": [],
   "source": [
    "import numpy as np\n",
    "import scipy as scp\n",
    "#import matplotlib as mplt\n",
    "import matplotlib.pyplot as plt\n",
    "import pandas as pd\n",
    "from numpy import sqrt, pi, exp"
   ]
  },
  {
   "cell_type": "markdown",
   "metadata": {},
   "source": [
    "\n",
    "## Задача 1\n",
    "\n",
    "### Условие\n",
    "\n",
    "Предъявите доверительный интервал уровня $1 − \\alpha$ для указанного параметра $\\tau$ при данных предположениях (с обоснованиями). Сгенерируйте $2$ выборки объёма $25$ и посчитайте доверительный интервал. Повторить $1000$ раз. Посчитайте, сколько раз $95-$процентный доверительный интервал покрывает реальное значение параметра. То же самое сделайте для объема выборки $10000$. Как изменился результат? Как объяснить?\n",
    "\n",
    "Даны две независимые выборки $X\\sim\\left(\\mu_1,\\sigma^2\\right)$, $Y\\sim\\left(\\mu_2, \\sigma^2\\right)$ объема $n$ и $m$ соответственно, $\\tau = \\mu_1 - \\mu_2$; $\\mu_1 = 2$, $\\mu_2 = 1$, $\\sigma^2 = 1$\n",
    "Использовать функцию\n",
    "\\begin{equation}\n",
    "    G\\left(\\bar{X},\\bar{Y},\\tau\\right) = \\sqrt{\\frac{mn\\left(m+n-2\\right)}{m+n}}\\frac{\\bar{X}-\\bar{Y}-\\tau}{\\sqrt{nS^2\\left(X\\right)+mS^2\\left(Y\\right)}}\n",
    "\\end{equation}\n",
    "где $S^2\\left(.\\right)$ - выборочная смещенная дисперсия\n"
   ]
  },
  {
   "cell_type": "code",
   "execution_count": 6,
   "metadata": {
    "ExecuteTime": {
     "end_time": "2023-03-29T02:31:45.736010Z",
     "start_time": "2023-03-29T02:31:45.718327Z"
    }
   },
   "outputs": [],
   "source": [
    "beta = 0.95\n",
    "mu1 = 2\n",
    "mu2 = 1\n",
    "n1 = m1 = 25\n",
    "n2 = m2 = 10000\n",
    "sigma = 1"
   ]
  },
  {
   "cell_type": "markdown",
   "metadata": {},
   "source": [
    "\n",
    "### Решение\n",
    "\n",
    "Распределение случайной величины, имеющей распределение Стьюдента $T_k$ с $k$ степенями свободы, имеет вид\n",
    "\\begin{equation}\n",
    "    t_k = \\frac{\\xi_0}{\\sqrt{\\frac{H_k}{k}}}\n",
    "\\end{equation}\n",
    "где $\\xi_0 \\sim N\\left(0,1\\right)$, $H_k$ - распределение хи-квадрат с $k$ степенями свободы\n",
    "\n",
    "Согласно ЦПТ\n",
    "\\begin{gather*}\n",
    "    \\bar{X} \\sim N\\left(\\mu_1,\\frac{\\sigma^2}{n}\\right) \\Rightarrow \\bar{X}-\\mu_1 \\sim N\\left(0,\\frac{\\sigma^2}{n}\\right) \\\\\n",
    "    \\bar{Y} \\sim N\\left(\\mu_2,\\frac{\\sigma^2}{m}\\right) \\Rightarrow \\bar{Y}-\\mu_2 \\sim N\\left(0,\\frac{\\sigma^2}{m}\\right)\n",
    "\\end{gather*}\n",
    "\n",
    "Их разность $\\bar{X}-\\mu_1-\\bar{Y}+\\mu_2 = \\bar{X}-\\bar{Y}-\\tau$ также имеет нормальное распределение с параметрами\n",
    "\\begin{equation}\n",
    "    \\bar{X}-\\bar{Y}-\\tau \\sim N\\left(0,\\frac{\\sigma^2}{n}+\\frac{\\sigma^2}{m}\\right) = N\\left(0,\\sigma^2\\frac{m+n}{mn}\\right)\n",
    "\\end{equation}\n",
    "Нормируем\n",
    "\\begin{equation}\n",
    "    \\xi_0 = \\frac{\\bar{X}-\\bar{Y}-\\tau}{\\sigma}\\sqrt{\\frac{mn}{m+n}} \\sim N\\left(0,1\\right)\n",
    "\\end{equation}"
   ]
  },
  {
   "cell_type": "markdown",
   "metadata": {},
   "source": [
    "Из теоремы Фишера для исходных распределений следует, что\n",
    "\\begin{gather}\n",
    "    \\frac{\\left(n-1\\right)S_0^2\\left(X\\right)}{\\sigma^2} \\sim H_{n-1} \\\\\n",
    "    \\frac{\\left(m-1\\right)S_0^2\\left(Y\\right)}{\\sigma^2} \\sim H_{m-1}\n",
    "\\end{gather}\n",
    "где $S_0^2(.)$ - выборочная несмещенная дисперсия\n",
    "\n",
    "Тогда\n",
    "\\begin{equation}\n",
    "    \\frac{\\left(n-1\\right)S_0^2\\left(X\\right)}{\\sigma^2} + \\frac{\\left(m-1\\right)S_0^2\\left(Y\\right)}{\\sigma^2} = \\frac{1}{\\sigma^2}\\left((n-1)S_0^2\\left(X\\right)+(m-1)S_0^2\\left(Y\\right)\\right) \\sim H_{n+m-2}\n",
    "\\end{equation}\n",
    "Заменим несмещенную дисперсию смещенной\n",
    "\\begin{equation}\n",
    "    \\frac{1}{\\sigma^2}\\left(nS^2\\left(X\\right)+mS^2\\left(Y\\right)\\right) \\sim H_{n+m-2}\n",
    "\\end{equation}\n",
    "Подставим в формулу распределения Стьюдента и сократим\n",
    "\\begin{equation}\n",
    "    \\frac{\\xi_0}{\\sqrt{\\frac{H_{m+n-2}}{m+n-2}}} = \\sqrt{\\frac{mn\\left(m+n-2\\right)}{m+n}}\\frac{\\bar{X}-\\bar{Y}-\\tau}{\\sqrt{nS^2\\left(X\\right)+mS^2\\left(Y\\right)}} \\sim T_{n+m-2}\n",
    "\\end{equation}\n",
    "и получим, что функция $G\\left(\\bar{X},\\bar{Y},\\tau\\right)$ имеет распределение Стьюдента с $m+n-2$ степенями свободы"
   ]
  },
  {
   "cell_type": "markdown",
   "metadata": {},
   "source": [
    "Используем данную функцию $G\\left(\\bar{X},\\bar{Y},\\tau\\right)$ для определения доверительного интервала уровня $1-\\alpha$\n",
    "\n"
   ]
  }
 ],
 "metadata": {
  "kernelspec": {
   "display_name": "Python 3 (ipykernel)",
   "language": "python",
   "name": "python3"
  },
  "language_info": {
   "codemirror_mode": {
    "name": "ipython",
    "version": 3
   },
   "file_extension": ".py",
   "mimetype": "text/x-python",
   "name": "python",
   "nbconvert_exporter": "python",
   "pygments_lexer": "ipython3",
   "version": "3.9.13"
  }
 },
 "nbformat": 4,
 "nbformat_minor": 1
}
