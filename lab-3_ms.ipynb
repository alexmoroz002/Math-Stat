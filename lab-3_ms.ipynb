{
 "cells": [
  {
   "cell_type": "markdown",
   "metadata": {},
   "source": [
    "\n",
    "# Лабораторная работа 3\n",
    "\n",
    "## Выполнил: Морозов Алексей, М32071\n",
    "\n",
    "## Вариант: 9, задачи 2, 7\n"
   ]
  },
  {
   "cell_type": "code",
   "execution_count": 17,
   "metadata": {
    "ExecuteTime": {
     "end_time": "2023-04-01T01:57:29.885933Z",
     "start_time": "2023-04-01T01:57:28.491270Z"
    },
    "collapsed": true
   },
   "outputs": [],
   "source": [
    "import numpy as np\n",
    "import plotly.express as px\n",
    "import pandas as pd\n",
    "import scipy.stats as stats\n",
    "import plotly\n",
    "import plotly.graph_objs as go\n",
    "from plotly.subplots import make_subplots\n",
    "\n",
    "theme = 'plotly_dark'"
   ]
  },
  {
   "cell_type": "markdown",
   "metadata": {},
   "source": [
    "\n",
    "## Задача 1\n",
    "\n",
    "### Условие\n",
    "\n",
    "Предъявите доверительный интервал уровня $1 − \\alpha$ для указанного параметра $\\tau$ при данных предположениях (с обоснованиями). Сгенерируйте $2$ выборки объёма $25$ и посчитайте доверительный интервал. Повторить $1000$ раз. Посчитайте, сколько раз $95-$процентный доверительный интервал покрывает реальное значение параметра. То же самое сделайте для объема выборки $10000$. Как изменился результат? Как объяснить?\n",
    "\n",
    "Даны две независимые выборки $X\\sim\\left(\\mu_1,\\sigma^2\\right)$, $Y\\sim\\left(\\mu_2, \\sigma^2\\right)$ объема $n$ и $m$ соответственно, $\\tau = \\mu_1 - \\mu_2$; $\\mu_1 = 2$, $\\mu_2 = 1$, $\\sigma^2 = 1$\n",
    "Использовать функцию\n",
    "\\begin{equation}\n",
    "    G\\left(X,Y,\\tau\\right) = \\sqrt{\\frac{mn\\left(m+n-2\\right)}{m+n}}\\frac{\\bar{X}-\\bar{Y}-\\tau}{\\sqrt{nS^2\\left(X\\right)+mS^2\\left(Y\\right)}}\n",
    "\\end{equation}\n",
    "где $S^2\\left(.\\right)$ - выборочная смещенная дисперсия\n"
   ]
  },
  {
   "cell_type": "code",
   "execution_count": 18,
   "metadata": {
    "ExecuteTime": {
     "end_time": "2023-04-01T01:57:29.901713Z",
     "start_time": "2023-04-01T01:57:29.885933Z"
    }
   },
   "outputs": [],
   "source": [
    "beta = 0.95\n",
    "alpha = 1 - beta\n",
    "mu1 = 2\n",
    "mu2 = 1\n",
    "tau = mu1 - mu2\n",
    "n1 = m1 = 25\n",
    "n2 = m2 = 10000\n",
    "sigma = 1\n",
    "gen_count = 1000"
   ]
  },
  {
   "cell_type": "markdown",
   "metadata": {},
   "source": [
    "\n",
    "### Решение\n",
    "\n",
    "Распределение случайной величины, имеющей распределение Стьюдента $T_k$ с $k$ степенями свободы, имеет вид\n",
    "\\begin{equation}\n",
    "    t_k = \\frac{\\xi_0}{\\sqrt{\\frac{H_k}{k}}}\n",
    "\\end{equation}\n",
    "где $\\xi_0 \\sim N\\left(0,1\\right)$, $H_k$ - распределение хи-квадрат с $k$ степенями свободы\n",
    "\n",
    "Согласно ЦПТ\n",
    "\\begin{gather*}\n",
    "    \\bar{X} \\sim N\\left(\\mu_1,\\frac{\\sigma^2}{n}\\right) \\Rightarrow \\bar{X}-\\mu_1 \\sim N\\left(0,\\frac{\\sigma^2}{n}\\right) \\\\\n",
    "    \\bar{Y} \\sim N\\left(\\mu_2,\\frac{\\sigma^2}{m}\\right) \\Rightarrow \\bar{Y}-\\mu_2 \\sim N\\left(0,\\frac{\\sigma^2}{m}\\right)\n",
    "\\end{gather*}\n",
    "\n",
    "Их разность $\\bar{X}-\\mu_1-\\bar{Y}+\\mu_2 = \\bar{X}-\\bar{Y}-\\tau$ также имеет нормальное распределение с параметрами\n",
    "\\begin{equation}\n",
    "    \\bar{X}-\\bar{Y}-\\tau \\sim N\\left(0,\\frac{\\sigma^2}{n}+\\frac{\\sigma^2}{m}\\right) = N\\left(0,\\sigma^2\\frac{m+n}{mn}\\right)\n",
    "\\end{equation}\n",
    "Нормируем\n",
    "\\begin{equation}\n",
    "    \\xi_0 = \\frac{\\bar{X}-\\bar{Y}-\\tau}{\\sigma}\\sqrt{\\frac{mn}{m+n}} \\sim N\\left(0,1\\right)\n",
    "\\end{equation}"
   ]
  },
  {
   "cell_type": "markdown",
   "metadata": {},
   "source": [
    "Из теоремы Фишера для исходных распределений следует, что\n",
    "\\begin{gather}\n",
    "    \\frac{\\left(n-1\\right)S_0^2\\left(X\\right)}{\\sigma^2} \\sim H_{n-1} \\\\\n",
    "    \\frac{\\left(m-1\\right)S_0^2\\left(Y\\right)}{\\sigma^2} \\sim H_{m-1}\n",
    "\\end{gather}\n",
    "где $S_0^2(.)$ - выборочная несмещенная дисперсия\n",
    "\n",
    "Тогда\n",
    "\\begin{equation}\n",
    "    \\frac{\\left(n-1\\right)S_0^2\\left(X\\right)}{\\sigma^2} + \\frac{\\left(m-1\\right)S_0^2\\left(Y\\right)}{\\sigma^2} = \\frac{1}{\\sigma^2}\\left((n-1)S_0^2\\left(X\\right)+(m-1)S_0^2\\left(Y\\right)\\right) \\sim H_{n+m-2}\n",
    "\\end{equation}\n",
    "Заменим несмещенную дисперсию смещенной\n",
    "\\begin{equation}\n",
    "    \\frac{1}{\\sigma^2}\\left(nS^2\\left(X\\right)+mS^2\\left(Y\\right)\\right) \\sim H_{n+m-2}\n",
    "\\end{equation}\n",
    "Подставим в формулу распределения Стьюдента\n",
    "\\begin{equation}\n",
    "    \\frac{\\xi_0}{\\sqrt{\\frac{H_{m+n-2}}{m+n-2}}} = \\sqrt{\\frac{mn\\left(m+n-2\\right)}{m+n}}\\frac{\\bar{X}-\\bar{Y}-\\tau}{\\sqrt{nS^2\\left(X\\right)+mS^2\\left(Y\\right)}} \\sim T_{n+m-2}\n",
    "\\end{equation}\n",
    "и получим, что функция $G\\left(X,Y,\\tau\\right)$ имеет распределение Стьюдента с $m+n-2$ степенями свободы"
   ]
  },
  {
   "cell_type": "markdown",
   "metadata": {},
   "source": [
    "Используем данную функцию $G\\left(X,Y,\\tau\\right)$ для определения доверительного интервала уровня $1 - \\alpha$\n",
    "\n",
    "\\begin{equation}\n",
    "    P_\\theta\\left(g_1 < G\\left(X,Y,\\tau\\right) < g_2\\right) = 1 - \\alpha\n",
    "\\end{equation}\n",
    "где $g_1$, $g_2$ - квантили распределения $G$ соответственно порядков $\\alpha/2$ и $1 - \\alpha/2$. Учитывая, что распределение Стьюдента симметрично, получаем, что $g_2 = -g_1 = -t_{\\alpha/2, m+n-2}$\n",
    "Выразим $\\tau$ из выражения выше\n",
    "\\begin{gather}\n",
    "    P_\\theta\\left(g_1 < \\sqrt{\\frac{mn\\left(m+n-2\\right)}{m+n}}\\frac{\\bar{X}-\\bar{Y}-\\tau}{\\sqrt{nS^2\\left(X\\right)+mS^2\\left(Y\\right)}} < -g_1\\right) = 1 - \\alpha \\\\\n",
    "    P_\\theta\\left(g_1\\sqrt{\\frac{m+n}{mn\\left(m+n-2\\right)}} < \\frac{\\bar{X}-\\bar{Y}-\\tau}{\\sqrt{nS^2\\left(X\\right)+mS^2\\left(Y\\right)}} < -g_1\\sqrt{\\frac{m+n}{mn\\left(m+n-2\\right)}}\\right) = 1 - \\alpha \\\\\n",
    "    P_\\theta\\left(g_1\\sqrt{\\frac{m+n}{mn\\left(m+n-2\\right)}\\left(nS^2\\left(X\\right)+mS^2\\left(Y\\right)\\right)}\\right) = 1 - \\alpha \\\\\n",
    "    P_\\theta\\left(g_1\\sqrt{\\frac{m+n}{mn\\left(m+n-2\\right)}\\left(nS^2\\left(X\\right)+mS^2\\left(Y\\right)\\right)} - \\bar{X} + \\bar{Y}\\right) = 1 - \\alpha \\\\\n",
    "    P_\\theta\\left(g_1\\sqrt{\\frac{m+n}{mn\\left(m+n-2\\right)}\\left(nS^2\\left(X\\right)+mS^2\\left(Y\\right)\\right)} + \\bar{X} - \\bar{Y} < \\tau < -g_1\\sqrt{\\frac{m+n}{mn\\left(m+n-2\\right)}\\left(nS^2\\left(X\\right)+mS^2\\left(Y\\right)\\right)} + \\bar{X} - \\bar{Y}\\right) = 1 - \\alpha\n",
    "\\end{gather}\n",
    "Итого, доверительный интервал уровня доверия $1 - \\alpha$ параметра $\\tau$ равен\n",
    "\\begin{equation}\n",
    "    \\tau \\in \\left(t_{\\alpha/2, m+n-2}\\sqrt{\\frac{m+n}{mn\\left(m+n-2\\right)}\\left(nS^2\\left(X\\right)+mS^2\\left(Y\\right)\\right)} + \\bar{X} - \\bar{Y}, -t_{\\alpha/2, m+n-2}\\sqrt{\\frac{m+n}{mn\\left(m+n-2\\right)}\\left(nS^2\\left(X\\right)+mS^2\\left(Y\\right)\\right)} + \\bar{X} - \\bar{Y}\\right)\n",
    "\\end{equation}"
   ]
  },
  {
   "cell_type": "markdown",
   "metadata": {
    "collapsed": false
   },
   "source": [
    "\n",
    "### Эксперимент\n"
   ]
  },
  {
   "cell_type": "code",
   "execution_count": 19,
   "metadata": {
    "ExecuteTime": {
     "end_time": "2023-04-01T01:57:29.923337Z",
     "start_time": "2023-04-01T01:57:29.901713Z"
    },
    "collapsed": false
   },
   "outputs": [],
   "source": [
    "def count_diff_norm(t):\n",
    "    counter = 0\n",
    "    n, m = t\n",
    "    for i in range(gen_count):\n",
    "        gen_arr_x = stats.norm.rvs(loc=mu1, scale=sigma, size=n)\n",
    "        gen_arr_y = stats.norm.rvs(loc=mu2, scale=sigma, size=m)\n",
    "        mean_x = gen_arr_x.mean()\n",
    "        mean_y = gen_arr_y.mean()\n",
    "        var_x = gen_arr_x.var()\n",
    "        var_y = gen_arr_y.var()\n",
    "        res = stats.t.ppf(alpha/2, m+n-2) * np.sqrt(((m+n)/(m*n*(m+n-2)))*(n*var_x+m*var_y))\n",
    "        left = res + mean_x - mean_y\n",
    "        right = -res + mean_x - mean_y\n",
    "        if left < tau < right :\n",
    "            counter += 1\n",
    "    return counter"
   ]
  },
  {
   "cell_type": "code",
   "execution_count": 20,
   "metadata": {
    "ExecuteTime": {
     "end_time": "2023-04-01T01:57:31.480766Z",
     "start_time": "2023-04-01T01:57:29.923337Z"
    },
    "collapsed": false
   },
   "outputs": [
    {
     "data": {
      "text/html": [
       "<div>\n",
       "<style scoped>\n",
       "    .dataframe tbody tr th:only-of-type {\n",
       "        vertical-align: middle;\n",
       "    }\n",
       "\n",
       "    .dataframe tbody tr th {\n",
       "        vertical-align: top;\n",
       "    }\n",
       "\n",
       "    .dataframe thead th {\n",
       "        text-align: right;\n",
       "    }\n",
       "</style>\n",
       "<table border=\"1\" class=\"dataframe\">\n",
       "  <thead>\n",
       "    <tr style=\"text-align: right;\">\n",
       "      <th></th>\n",
       "      <th>gen_size</th>\n",
       "      <th>diff_count</th>\n",
       "      <th>percentage</th>\n",
       "    </tr>\n",
       "  </thead>\n",
       "  <tbody>\n",
       "    <tr>\n",
       "      <th>0</th>\n",
       "      <td>[25, 25]</td>\n",
       "      <td>946</td>\n",
       "      <td>0.946</td>\n",
       "    </tr>\n",
       "    <tr>\n",
       "      <th>1</th>\n",
       "      <td>[10000, 10000]</td>\n",
       "      <td>950</td>\n",
       "      <td>0.950</td>\n",
       "    </tr>\n",
       "  </tbody>\n",
       "</table>\n",
       "</div>"
      ],
      "text/plain": [
       "         gen_size  diff_count  percentage\n",
       "0        [25, 25]         946       0.946\n",
       "1  [10000, 10000]         950       0.950"
      ]
     },
     "execution_count": 20,
     "metadata": {},
     "output_type": "execute_result"
    }
   ],
   "source": [
    "diff_cnt = pd.DataFrame({'gen_size':[], 'diff_count':[], 'percentage':[]}, dtype=object)\n",
    "gen_sizes = np.array([(n1, m1), (n2, m2)], dtype=object)\n",
    "for gen_size in gen_sizes:\n",
    "    count = count_diff_norm(gen_size)\n",
    "    diff_cnt.loc[len(diff_cnt.index)] = [gen_size, count, count/gen_count]\n",
    "diff_cnt"
   ]
  },
  {
   "cell_type": "markdown",
   "metadata": {
    "collapsed": false
   },
   "source": [
    "Итак, можно заметить, что $95-$процентный доверительный интервал покрывает значение параметра примерно в $95$ процентах случаев, причем и при объемах выборки $25$, и при $10000$, не завися таким образом от объемов. Объяснить это можно тем, что был получен **точный** доверительный интервал, так как при его построении использовалась функция $G\\left(X,Y,\\tau\\right)$, имеющая распределение Стьюдента $T_{m+n-2}$ при любых $n$ и $m$ (конечно, при условии, что $X$ и $Y$ имеют нормальное распределение), и соответственно интервал был вычислен используя квантили данного распределения. Благодаря этому полученный интервал и справедлив для любых объемов выборок из данных распределений при условии, что $m+n-2 \\neq 0$\n",
    "\n",
    "Для наглядности построю box-plot вероятностей, что интервал накрывает данное значение параметра"
   ]
  },
  {
   "cell_type": "code",
   "execution_count": 21,
   "metadata": {
    "ExecuteTime": {
     "end_time": "2023-04-01T02:02:21.413705Z",
     "start_time": "2023-04-01T02:01:53.036467Z"
    },
    "collapsed": false
   },
   "outputs": [],
   "source": [
    "box_norm = pd.DataFrame({'(25, 25)':[], '(10000, 10000)':[]})\n",
    "for i in range(30):\n",
    "    count1 = count_diff_norm((n1, m1))\n",
    "    count2 = count_diff_norm((n2, m2))\n",
    "    box_norm.loc[len(box_norm.index)] = [count1 / gen_count, count2 / gen_count]"
   ]
  },
  {
   "cell_type": "code",
   "execution_count": 22,
   "metadata": {},
   "outputs": [
    {
     "data": {
      "application/vnd.plotly.v1+json": {
       "config": {
        "plotlyServerURL": "https://plot.ly"
       },
       "data": [
        {
         "alignmentgroup": "True",
         "boxpoints": "all",
         "hovertemplate": "Объемы выборок n, m=%{x}<br>Вероятность отклонения=%{y}<extra></extra>",
         "legendgroup": "",
         "marker": {
          "color": "#636efa"
         },
         "name": "",
         "notched": false,
         "offsetgroup": "",
         "orientation": "v",
         "showlegend": false,
         "type": "box",
         "x": [
          "(25, 25)",
          "(25, 25)",
          "(25, 25)",
          "(25, 25)",
          "(25, 25)",
          "(25, 25)",
          "(25, 25)",
          "(25, 25)",
          "(25, 25)",
          "(25, 25)",
          "(25, 25)",
          "(25, 25)",
          "(25, 25)",
          "(25, 25)",
          "(25, 25)",
          "(25, 25)",
          "(25, 25)",
          "(25, 25)",
          "(25, 25)",
          "(25, 25)",
          "(25, 25)",
          "(25, 25)",
          "(25, 25)",
          "(25, 25)",
          "(25, 25)",
          "(25, 25)",
          "(25, 25)",
          "(25, 25)",
          "(25, 25)",
          "(25, 25)",
          "(10000, 10000)",
          "(10000, 10000)",
          "(10000, 10000)",
          "(10000, 10000)",
          "(10000, 10000)",
          "(10000, 10000)",
          "(10000, 10000)",
          "(10000, 10000)",
          "(10000, 10000)",
          "(10000, 10000)",
          "(10000, 10000)",
          "(10000, 10000)",
          "(10000, 10000)",
          "(10000, 10000)",
          "(10000, 10000)",
          "(10000, 10000)",
          "(10000, 10000)",
          "(10000, 10000)",
          "(10000, 10000)",
          "(10000, 10000)",
          "(10000, 10000)",
          "(10000, 10000)",
          "(10000, 10000)",
          "(10000, 10000)",
          "(10000, 10000)",
          "(10000, 10000)",
          "(10000, 10000)",
          "(10000, 10000)",
          "(10000, 10000)",
          "(10000, 10000)"
         ],
         "x0": " ",
         "xaxis": "x",
         "y": [
          0.956,
          0.963,
          0.962,
          0.95,
          0.945,
          0.95,
          0.95,
          0.956,
          0.948,
          0.956,
          0.929,
          0.95,
          0.947,
          0.953,
          0.955,
          0.945,
          0.949,
          0.956,
          0.948,
          0.952,
          0.961,
          0.946,
          0.947,
          0.956,
          0.948,
          0.956,
          0.953,
          0.935,
          0.962,
          0.95,
          0.951,
          0.951,
          0.959,
          0.946,
          0.953,
          0.945,
          0.93,
          0.955,
          0.957,
          0.948,
          0.943,
          0.956,
          0.948,
          0.956,
          0.947,
          0.943,
          0.942,
          0.95,
          0.957,
          0.952,
          0.946,
          0.929,
          0.945,
          0.946,
          0.954,
          0.94,
          0.951,
          0.949,
          0.949,
          0.948
         ],
         "y0": " ",
         "yaxis": "y"
        }
       ],
       "layout": {
        "boxgap": 0.5,
        "boxmode": "group",
        "legend": {
         "tracegroupgap": 0
        },
        "margin": {
         "b": 10,
         "l": 70,
         "r": 15,
         "t": 10
        },
        "template": {
         "data": {
          "bar": [
           {
            "error_x": {
             "color": "#2a3f5f"
            },
            "error_y": {
             "color": "#2a3f5f"
            },
            "marker": {
             "line": {
              "color": "#E5ECF6",
              "width": 0.5
             },
             "pattern": {
              "fillmode": "overlay",
              "size": 10,
              "solidity": 0.2
             }
            },
            "type": "bar"
           }
          ],
          "barpolar": [
           {
            "marker": {
             "line": {
              "color": "#E5ECF6",
              "width": 0.5
             },
             "pattern": {
              "fillmode": "overlay",
              "size": 10,
              "solidity": 0.2
             }
            },
            "type": "barpolar"
           }
          ],
          "carpet": [
           {
            "aaxis": {
             "endlinecolor": "#2a3f5f",
             "gridcolor": "white",
             "linecolor": "white",
             "minorgridcolor": "white",
             "startlinecolor": "#2a3f5f"
            },
            "baxis": {
             "endlinecolor": "#2a3f5f",
             "gridcolor": "white",
             "linecolor": "white",
             "minorgridcolor": "white",
             "startlinecolor": "#2a3f5f"
            },
            "type": "carpet"
           }
          ],
          "choropleth": [
           {
            "colorbar": {
             "outlinewidth": 0,
             "ticks": ""
            },
            "type": "choropleth"
           }
          ],
          "contour": [
           {
            "colorbar": {
             "outlinewidth": 0,
             "ticks": ""
            },
            "colorscale": [
             [
              0,
              "#0d0887"
             ],
             [
              0.1111111111111111,
              "#46039f"
             ],
             [
              0.2222222222222222,
              "#7201a8"
             ],
             [
              0.3333333333333333,
              "#9c179e"
             ],
             [
              0.4444444444444444,
              "#bd3786"
             ],
             [
              0.5555555555555556,
              "#d8576b"
             ],
             [
              0.6666666666666666,
              "#ed7953"
             ],
             [
              0.7777777777777778,
              "#fb9f3a"
             ],
             [
              0.8888888888888888,
              "#fdca26"
             ],
             [
              1,
              "#f0f921"
             ]
            ],
            "type": "contour"
           }
          ],
          "contourcarpet": [
           {
            "colorbar": {
             "outlinewidth": 0,
             "ticks": ""
            },
            "type": "contourcarpet"
           }
          ],
          "heatmap": [
           {
            "colorbar": {
             "outlinewidth": 0,
             "ticks": ""
            },
            "colorscale": [
             [
              0,
              "#0d0887"
             ],
             [
              0.1111111111111111,
              "#46039f"
             ],
             [
              0.2222222222222222,
              "#7201a8"
             ],
             [
              0.3333333333333333,
              "#9c179e"
             ],
             [
              0.4444444444444444,
              "#bd3786"
             ],
             [
              0.5555555555555556,
              "#d8576b"
             ],
             [
              0.6666666666666666,
              "#ed7953"
             ],
             [
              0.7777777777777778,
              "#fb9f3a"
             ],
             [
              0.8888888888888888,
              "#fdca26"
             ],
             [
              1,
              "#f0f921"
             ]
            ],
            "type": "heatmap"
           }
          ],
          "heatmapgl": [
           {
            "colorbar": {
             "outlinewidth": 0,
             "ticks": ""
            },
            "colorscale": [
             [
              0,
              "#0d0887"
             ],
             [
              0.1111111111111111,
              "#46039f"
             ],
             [
              0.2222222222222222,
              "#7201a8"
             ],
             [
              0.3333333333333333,
              "#9c179e"
             ],
             [
              0.4444444444444444,
              "#bd3786"
             ],
             [
              0.5555555555555556,
              "#d8576b"
             ],
             [
              0.6666666666666666,
              "#ed7953"
             ],
             [
              0.7777777777777778,
              "#fb9f3a"
             ],
             [
              0.8888888888888888,
              "#fdca26"
             ],
             [
              1,
              "#f0f921"
             ]
            ],
            "type": "heatmapgl"
           }
          ],
          "histogram": [
           {
            "marker": {
             "pattern": {
              "fillmode": "overlay",
              "size": 10,
              "solidity": 0.2
             }
            },
            "type": "histogram"
           }
          ],
          "histogram2d": [
           {
            "colorbar": {
             "outlinewidth": 0,
             "ticks": ""
            },
            "colorscale": [
             [
              0,
              "#0d0887"
             ],
             [
              0.1111111111111111,
              "#46039f"
             ],
             [
              0.2222222222222222,
              "#7201a8"
             ],
             [
              0.3333333333333333,
              "#9c179e"
             ],
             [
              0.4444444444444444,
              "#bd3786"
             ],
             [
              0.5555555555555556,
              "#d8576b"
             ],
             [
              0.6666666666666666,
              "#ed7953"
             ],
             [
              0.7777777777777778,
              "#fb9f3a"
             ],
             [
              0.8888888888888888,
              "#fdca26"
             ],
             [
              1,
              "#f0f921"
             ]
            ],
            "type": "histogram2d"
           }
          ],
          "histogram2dcontour": [
           {
            "colorbar": {
             "outlinewidth": 0,
             "ticks": ""
            },
            "colorscale": [
             [
              0,
              "#0d0887"
             ],
             [
              0.1111111111111111,
              "#46039f"
             ],
             [
              0.2222222222222222,
              "#7201a8"
             ],
             [
              0.3333333333333333,
              "#9c179e"
             ],
             [
              0.4444444444444444,
              "#bd3786"
             ],
             [
              0.5555555555555556,
              "#d8576b"
             ],
             [
              0.6666666666666666,
              "#ed7953"
             ],
             [
              0.7777777777777778,
              "#fb9f3a"
             ],
             [
              0.8888888888888888,
              "#fdca26"
             ],
             [
              1,
              "#f0f921"
             ]
            ],
            "type": "histogram2dcontour"
           }
          ],
          "mesh3d": [
           {
            "colorbar": {
             "outlinewidth": 0,
             "ticks": ""
            },
            "type": "mesh3d"
           }
          ],
          "parcoords": [
           {
            "line": {
             "colorbar": {
              "outlinewidth": 0,
              "ticks": ""
             }
            },
            "type": "parcoords"
           }
          ],
          "pie": [
           {
            "automargin": true,
            "type": "pie"
           }
          ],
          "scatter": [
           {
            "fillpattern": {
             "fillmode": "overlay",
             "size": 10,
             "solidity": 0.2
            },
            "type": "scatter"
           }
          ],
          "scatter3d": [
           {
            "line": {
             "colorbar": {
              "outlinewidth": 0,
              "ticks": ""
             }
            },
            "marker": {
             "colorbar": {
              "outlinewidth": 0,
              "ticks": ""
             }
            },
            "type": "scatter3d"
           }
          ],
          "scattercarpet": [
           {
            "marker": {
             "colorbar": {
              "outlinewidth": 0,
              "ticks": ""
             }
            },
            "type": "scattercarpet"
           }
          ],
          "scattergeo": [
           {
            "marker": {
             "colorbar": {
              "outlinewidth": 0,
              "ticks": ""
             }
            },
            "type": "scattergeo"
           }
          ],
          "scattergl": [
           {
            "marker": {
             "colorbar": {
              "outlinewidth": 0,
              "ticks": ""
             }
            },
            "type": "scattergl"
           }
          ],
          "scattermapbox": [
           {
            "marker": {
             "colorbar": {
              "outlinewidth": 0,
              "ticks": ""
             }
            },
            "type": "scattermapbox"
           }
          ],
          "scatterpolar": [
           {
            "marker": {
             "colorbar": {
              "outlinewidth": 0,
              "ticks": ""
             }
            },
            "type": "scatterpolar"
           }
          ],
          "scatterpolargl": [
           {
            "marker": {
             "colorbar": {
              "outlinewidth": 0,
              "ticks": ""
             }
            },
            "type": "scatterpolargl"
           }
          ],
          "scatterternary": [
           {
            "marker": {
             "colorbar": {
              "outlinewidth": 0,
              "ticks": ""
             }
            },
            "type": "scatterternary"
           }
          ],
          "surface": [
           {
            "colorbar": {
             "outlinewidth": 0,
             "ticks": ""
            },
            "colorscale": [
             [
              0,
              "#0d0887"
             ],
             [
              0.1111111111111111,
              "#46039f"
             ],
             [
              0.2222222222222222,
              "#7201a8"
             ],
             [
              0.3333333333333333,
              "#9c179e"
             ],
             [
              0.4444444444444444,
              "#bd3786"
             ],
             [
              0.5555555555555556,
              "#d8576b"
             ],
             [
              0.6666666666666666,
              "#ed7953"
             ],
             [
              0.7777777777777778,
              "#fb9f3a"
             ],
             [
              0.8888888888888888,
              "#fdca26"
             ],
             [
              1,
              "#f0f921"
             ]
            ],
            "type": "surface"
           }
          ],
          "table": [
           {
            "cells": {
             "fill": {
              "color": "#EBF0F8"
             },
             "line": {
              "color": "white"
             }
            },
            "header": {
             "fill": {
              "color": "#C8D4E3"
             },
             "line": {
              "color": "white"
             }
            },
            "type": "table"
           }
          ]
         },
         "layout": {
          "annotationdefaults": {
           "arrowcolor": "#2a3f5f",
           "arrowhead": 0,
           "arrowwidth": 1
          },
          "autotypenumbers": "strict",
          "coloraxis": {
           "colorbar": {
            "outlinewidth": 0,
            "ticks": ""
           }
          },
          "colorscale": {
           "diverging": [
            [
             0,
             "#8e0152"
            ],
            [
             0.1,
             "#c51b7d"
            ],
            [
             0.2,
             "#de77ae"
            ],
            [
             0.3,
             "#f1b6da"
            ],
            [
             0.4,
             "#fde0ef"
            ],
            [
             0.5,
             "#f7f7f7"
            ],
            [
             0.6,
             "#e6f5d0"
            ],
            [
             0.7,
             "#b8e186"
            ],
            [
             0.8,
             "#7fbc41"
            ],
            [
             0.9,
             "#4d9221"
            ],
            [
             1,
             "#276419"
            ]
           ],
           "sequential": [
            [
             0,
             "#0d0887"
            ],
            [
             0.1111111111111111,
             "#46039f"
            ],
            [
             0.2222222222222222,
             "#7201a8"
            ],
            [
             0.3333333333333333,
             "#9c179e"
            ],
            [
             0.4444444444444444,
             "#bd3786"
            ],
            [
             0.5555555555555556,
             "#d8576b"
            ],
            [
             0.6666666666666666,
             "#ed7953"
            ],
            [
             0.7777777777777778,
             "#fb9f3a"
            ],
            [
             0.8888888888888888,
             "#fdca26"
            ],
            [
             1,
             "#f0f921"
            ]
           ],
           "sequentialminus": [
            [
             0,
             "#0d0887"
            ],
            [
             0.1111111111111111,
             "#46039f"
            ],
            [
             0.2222222222222222,
             "#7201a8"
            ],
            [
             0.3333333333333333,
             "#9c179e"
            ],
            [
             0.4444444444444444,
             "#bd3786"
            ],
            [
             0.5555555555555556,
             "#d8576b"
            ],
            [
             0.6666666666666666,
             "#ed7953"
            ],
            [
             0.7777777777777778,
             "#fb9f3a"
            ],
            [
             0.8888888888888888,
             "#fdca26"
            ],
            [
             1,
             "#f0f921"
            ]
           ]
          },
          "colorway": [
           "#636efa",
           "#EF553B",
           "#00cc96",
           "#ab63fa",
           "#FFA15A",
           "#19d3f3",
           "#FF6692",
           "#B6E880",
           "#FF97FF",
           "#FECB52"
          ],
          "font": {
           "color": "#2a3f5f"
          },
          "geo": {
           "bgcolor": "white",
           "lakecolor": "white",
           "landcolor": "#E5ECF6",
           "showlakes": true,
           "showland": true,
           "subunitcolor": "white"
          },
          "hoverlabel": {
           "align": "left"
          },
          "hovermode": "closest",
          "mapbox": {
           "style": "light"
          },
          "paper_bgcolor": "white",
          "plot_bgcolor": "#E5ECF6",
          "polar": {
           "angularaxis": {
            "gridcolor": "white",
            "linecolor": "white",
            "ticks": ""
           },
           "bgcolor": "#E5ECF6",
           "radialaxis": {
            "gridcolor": "white",
            "linecolor": "white",
            "ticks": ""
           }
          },
          "scene": {
           "xaxis": {
            "backgroundcolor": "#E5ECF6",
            "gridcolor": "white",
            "gridwidth": 2,
            "linecolor": "white",
            "showbackground": true,
            "ticks": "",
            "zerolinecolor": "white"
           },
           "yaxis": {
            "backgroundcolor": "#E5ECF6",
            "gridcolor": "white",
            "gridwidth": 2,
            "linecolor": "white",
            "showbackground": true,
            "ticks": "",
            "zerolinecolor": "white"
           },
           "zaxis": {
            "backgroundcolor": "#E5ECF6",
            "gridcolor": "white",
            "gridwidth": 2,
            "linecolor": "white",
            "showbackground": true,
            "ticks": "",
            "zerolinecolor": "white"
           }
          },
          "shapedefaults": {
           "line": {
            "color": "#2a3f5f"
           }
          },
          "ternary": {
           "aaxis": {
            "gridcolor": "white",
            "linecolor": "white",
            "ticks": ""
           },
           "baxis": {
            "gridcolor": "white",
            "linecolor": "white",
            "ticks": ""
           },
           "bgcolor": "#E5ECF6",
           "caxis": {
            "gridcolor": "white",
            "linecolor": "white",
            "ticks": ""
           }
          },
          "title": {
           "x": 0.05
          },
          "xaxis": {
           "automargin": true,
           "gridcolor": "white",
           "linecolor": "white",
           "ticks": "",
           "title": {
            "standoff": 15
           },
           "zerolinecolor": "white",
           "zerolinewidth": 2
          },
          "yaxis": {
           "automargin": true,
           "gridcolor": "white",
           "linecolor": "white",
           "ticks": "",
           "title": {
            "standoff": 15
           },
           "zerolinecolor": "white",
           "zerolinewidth": 2
          }
         }
        },
        "width": 650,
        "xaxis": {
         "anchor": "y",
         "domain": [
          0,
          1
         ],
         "title": {
          "text": "Объемы выборок n, m"
         }
        },
        "yaxis": {
         "anchor": "x",
         "domain": [
          0,
          1
         ],
         "title": {
          "text": "Вероятность отклонения"
         }
        }
       }
      }
     },
     "metadata": {},
     "output_type": "display_data"
    }
   ],
   "source": [
    "fig = px.box(box_norm.melt(), x='variable', y='value',\n",
    "       labels={\n",
    "           'variable': 'Объемы выборок n, m',\n",
    "           'value': 'Вероятность отклонения'\n",
    "       },\n",
    "       points='all',\n",
    "       width=650)\n",
    "fig.update_layout(margin=dict(l=70, r=15, b=10, t=10), \n",
    "                  boxgap=0.5)\n",
    "fig.show()"
   ]
  },
  {
   "cell_type": "markdown",
   "metadata": {
    "collapsed": false
   },
   "source": [
    "Итак, медиана и при $25$, и при $10000$, практически не отличается, что подтверждает, что вероятность попадания в интервал не зависит от $n$ и $m$"
   ]
  },
  {
   "cell_type": "markdown",
   "metadata": {
    "collapsed": false
   },
   "source": [
    "\n",
    "## Задача 2\n",
    "\n",
    "### Условие\n",
    "\n",
    "Постройте асимптотический доверительный интервал уровня $1 - \\alpha$ для указанного параметра. Проведите эксперимент по схеме, аналогичной первой задаче\n",
    "\n",
    "Дано равномерное распределение\n",
    "\\begin{equation}\n",
    "    U\\left[-\\theta,0\\right]\n",
    "\\end{equation}\n",
    "Параметр $\\theta$, $\\theta = 3$. Использовать предельную теорему об асимптотическом поведении крайних членов вариационного ряда"
   ]
  },
  {
   "cell_type": "code",
   "execution_count": 23,
   "metadata": {
    "ExecuteTime": {
     "end_time": "2023-04-01T01:57:41.263720Z",
     "start_time": "2023-04-01T01:57:41.252502Z"
    },
    "collapsed": false
   },
   "outputs": [],
   "source": [
    "beta = 0.95\n",
    "alpha = 1 - beta\n",
    "n1 = 25\n",
    "n2 = 10000\n",
    "theta = 3\n",
    "gen_count = 1000"
   ]
  },
  {
   "attachments": {},
   "cell_type": "markdown",
   "metadata": {
    "collapsed": false
   },
   "source": [
    "\n",
    "### Решение\n",
    "\n",
    "Функция распределения данного равномерного распределения\n",
    "\\begin{equation}\n",
    "    F_\\theta\\left(x\\right) = \\frac{x+\\theta}{\\theta}, -\\theta<x<0\n",
    "\\end{equation}\n",
    "Используя предельную теорему об асимптотическом поведении крайних членов вариационного ряда\n",
    "\\begin{equation}\n",
    "    nF\\left(X_{(r)}\\right) \\xrightarrow{n\\rightarrow\\infty} \\Gamma\\left(r,1\\right)\n",
    "\\end{equation}\n",
    "и беря за $X_{(r)}$ первый член вариационного рада (т.е $r = 1$) получаем\n",
    "\\begin{equation}\n",
    "    n\\frac{X_{(1)}+\\theta}{\\theta} \\rightarrow \\Gamma\\left(1,1\\right) = Exp(1)\n",
    "\\end{equation}\n",
    "Значит, используемая статистка $G\\left(X,\\theta\\right) = n\\frac{X_{(1)}+\\theta}{\\theta}$ имеет экспоненциальное распределение с параметром $1$"
   ]
  },
  {
   "cell_type": "markdown",
   "metadata": {
    "collapsed": false
   },
   "source": [
    "Подставим в формулу асимптотического ДИ и выразим $\\theta$\n",
    "\\begin{gather}\n",
    "    P_\\theta\\left(q_{\\alpha/2} < G\\left(X,\\theta\\right) < q_{1-\\alpha/2}\\right) \\rightarrow 1 - \\alpha \\\\\n",
    "    P_\\theta\\left(q_{\\alpha/2} < n\\frac{X_{(1)}+\\theta}{\\theta} < q_{1-\\alpha/2}\\right) \\rightarrow 1 - \\alpha \\\\\n",
    "\\end{gather}\n",
    "Учитывая, что $X \\sim [-\\theta,0]$, то есть не положительна, то\n",
    "\\begin{gather}\n",
    "    P_\\theta\\left(\\frac{q_{1-\\alpha/2}-n}{nX_{(1)}} < \\frac{1}{\\theta} < \\frac{q_{\\alpha/2}-n}{nX_{(1)}}\\right) \\rightarrow 1 - \\alpha \\\\\n",
    "    P_\\theta\\left(\\frac{nX_{(1)}}{q_{\\alpha/2}-n} < \\theta < \\frac{nX_{(1)}}{q_{1-\\alpha/2}-n}\\right) \\rightarrow 1 - \\alpha\n",
    "\\end{gather}\n",
    "\n",
    "Тогда асимптотический ДИ уровня $1 - \\alpha$ равен\n",
    "\\begin{equation}\n",
    "    \\theta \\in \\left[\\frac{nX_{(1)}}{q_{\\alpha/2}-n}, \\frac{nX_{(1)}}{q_{1-\\alpha/2}-n}\\right]\n",
    "\\end{equation}"
   ]
  },
  {
   "cell_type": "markdown",
   "metadata": {
    "collapsed": false
   },
   "source": [
    "\n",
    "### Эксперимент\n"
   ]
  },
  {
   "cell_type": "code",
   "execution_count": 24,
   "metadata": {
    "ExecuteTime": {
     "end_time": "2023-04-01T01:57:41.369842Z",
     "start_time": "2023-04-01T01:57:41.270109Z"
    },
    "collapsed": false
   },
   "outputs": [],
   "source": [
    "def count_diff_uniform(n):\n",
    "    counter = 0\n",
    "    for i in range(gen_count):\n",
    "        gen_arr = stats.uniform.rvs(loc=-theta, scale=theta, size=n)\n",
    "        left = (n * gen_arr.min()) / (stats.expon.ppf(alpha / 2) - n)\n",
    "        right = (n * gen_arr.min()) / (stats.expon.ppf(1 - (alpha / 2)) - n)\n",
    "        if left <= theta <= right :\n",
    "            counter += 1\n",
    "    return counter"
   ]
  },
  {
   "cell_type": "code",
   "execution_count": 25,
   "metadata": {
    "ExecuteTime": {
     "end_time": "2023-04-01T01:57:41.949322Z",
     "start_time": "2023-04-01T01:57:41.280771Z"
    },
    "collapsed": false
   },
   "outputs": [
    {
     "data": {
      "text/html": [
       "<div>\n",
       "<style scoped>\n",
       "    .dataframe tbody tr th:only-of-type {\n",
       "        vertical-align: middle;\n",
       "    }\n",
       "\n",
       "    .dataframe tbody tr th {\n",
       "        vertical-align: top;\n",
       "    }\n",
       "\n",
       "    .dataframe thead th {\n",
       "        text-align: right;\n",
       "    }\n",
       "</style>\n",
       "<table border=\"1\" class=\"dataframe\">\n",
       "  <thead>\n",
       "    <tr style=\"text-align: right;\">\n",
       "      <th></th>\n",
       "      <th>gen_size</th>\n",
       "      <th>diff_count</th>\n",
       "      <th>percentage</th>\n",
       "    </tr>\n",
       "  </thead>\n",
       "  <tbody>\n",
       "    <tr>\n",
       "      <th>0</th>\n",
       "      <td>25.0</td>\n",
       "      <td>967.0</td>\n",
       "      <td>0.967</td>\n",
       "    </tr>\n",
       "    <tr>\n",
       "      <th>1</th>\n",
       "      <td>10000.0</td>\n",
       "      <td>964.0</td>\n",
       "      <td>0.964</td>\n",
       "    </tr>\n",
       "  </tbody>\n",
       "</table>\n",
       "</div>"
      ],
      "text/plain": [
       "   gen_size  diff_count  percentage\n",
       "0      25.0       967.0       0.967\n",
       "1   10000.0       964.0       0.964"
      ]
     },
     "execution_count": 25,
     "metadata": {},
     "output_type": "execute_result"
    }
   ],
   "source": [
    "diff_cnt = pd.DataFrame({'gen_size':[], 'diff_count':[], 'percentage':[]})\n",
    "gen_sizes = [25, 10000]\n",
    "for gen_size in gen_sizes:\n",
    "    count = count_diff_uniform(gen_size)\n",
    "    diff_cnt.loc[len(diff_cnt.index)] = [gen_size, count, count/gen_count]\n",
    "diff_cnt"
   ]
  },
  {
   "cell_type": "markdown",
   "metadata": {
    "collapsed": false
   },
   "source": [
    "При генерации было замечено, что вероятность накрытия параметра интервалом изменяется в зависимости от размеров выборки, что связано с использованием теоремы об асимптотическом поведении крайних членов вариационного ряда, которая становится тем точнее, чем больше объем используемой выборки. Поэтому построенный интервал и называется асимптотическим, так как $P_\\theta \\rightarrow 1 - \\alpha$ при $n \\rightarrow \\infty$\n",
    "\n",
    "Снова построю box-plot"
   ]
  },
  {
   "cell_type": "code",
   "execution_count": 26,
   "metadata": {
    "ExecuteTime": {
     "end_time": "2023-04-01T02:01:53.033114Z",
     "start_time": "2023-04-01T02:01:36.802076Z"
    },
    "collapsed": false
   },
   "outputs": [],
   "source": [
    "box_uniform = pd.DataFrame({'25':[], '10000':[]})\n",
    "for i in range(30):\n",
    "    count1 = count_diff_uniform(25)\n",
    "    count2 = count_diff_uniform(10000)\n",
    "    box_uniform.loc[len(box_uniform.index)] = [count1 / gen_count, count2 / gen_count]\n"
   ]
  },
  {
   "cell_type": "code",
   "execution_count": 27,
   "metadata": {},
   "outputs": [
    {
     "data": {
      "application/vnd.plotly.v1+json": {
       "config": {
        "plotlyServerURL": "https://plot.ly"
       },
       "data": [
        {
         "alignmentgroup": "True",
         "boxpoints": "all",
         "hovertemplate": "Объем выборки=%{x}<br>Вероятность отклонения=%{y}<extra></extra>",
         "legendgroup": "",
         "marker": {
          "color": "#636efa"
         },
         "name": "",
         "notched": false,
         "offsetgroup": "",
         "orientation": "v",
         "showlegend": false,
         "type": "box",
         "x": [
          "25",
          "25",
          "25",
          "25",
          "25",
          "25",
          "25",
          "25",
          "25",
          "25",
          "25",
          "25",
          "25",
          "25",
          "25",
          "25",
          "25",
          "25",
          "25",
          "25",
          "25",
          "25",
          "25",
          "25",
          "25",
          "25",
          "25",
          "25",
          "25",
          "25",
          "10000",
          "10000",
          "10000",
          "10000",
          "10000",
          "10000",
          "10000",
          "10000",
          "10000",
          "10000",
          "10000",
          "10000",
          "10000",
          "10000",
          "10000",
          "10000",
          "10000",
          "10000",
          "10000",
          "10000",
          "10000",
          "10000",
          "10000",
          "10000",
          "10000",
          "10000",
          "10000",
          "10000",
          "10000",
          "10000"
         ],
         "x0": " ",
         "xaxis": "x",
         "y": [
          0.966,
          0.951,
          0.961,
          0.961,
          0.953,
          0.945,
          0.948,
          0.961,
          0.972,
          0.962,
          0.948,
          0.951,
          0.963,
          0.965,
          0.963,
          0.962,
          0.948,
          0.949,
          0.962,
          0.964,
          0.973,
          0.957,
          0.951,
          0.949,
          0.956,
          0.953,
          0.959,
          0.961,
          0.967,
          0.962,
          0.958,
          0.949,
          0.942,
          0.943,
          0.954,
          0.95,
          0.942,
          0.961,
          0.939,
          0.951,
          0.932,
          0.943,
          0.946,
          0.947,
          0.948,
          0.941,
          0.951,
          0.947,
          0.955,
          0.954,
          0.941,
          0.934,
          0.943,
          0.948,
          0.958,
          0.945,
          0.939,
          0.928,
          0.951,
          0.94
         ],
         "y0": " ",
         "yaxis": "y"
        }
       ],
       "layout": {
        "boxgap": 0.5,
        "boxmode": "group",
        "legend": {
         "tracegroupgap": 0
        },
        "margin": {
         "b": 10,
         "l": 70,
         "r": 15,
         "t": 10
        },
        "template": {
         "data": {
          "bar": [
           {
            "error_x": {
             "color": "#2a3f5f"
            },
            "error_y": {
             "color": "#2a3f5f"
            },
            "marker": {
             "line": {
              "color": "#E5ECF6",
              "width": 0.5
             },
             "pattern": {
              "fillmode": "overlay",
              "size": 10,
              "solidity": 0.2
             }
            },
            "type": "bar"
           }
          ],
          "barpolar": [
           {
            "marker": {
             "line": {
              "color": "#E5ECF6",
              "width": 0.5
             },
             "pattern": {
              "fillmode": "overlay",
              "size": 10,
              "solidity": 0.2
             }
            },
            "type": "barpolar"
           }
          ],
          "carpet": [
           {
            "aaxis": {
             "endlinecolor": "#2a3f5f",
             "gridcolor": "white",
             "linecolor": "white",
             "minorgridcolor": "white",
             "startlinecolor": "#2a3f5f"
            },
            "baxis": {
             "endlinecolor": "#2a3f5f",
             "gridcolor": "white",
             "linecolor": "white",
             "minorgridcolor": "white",
             "startlinecolor": "#2a3f5f"
            },
            "type": "carpet"
           }
          ],
          "choropleth": [
           {
            "colorbar": {
             "outlinewidth": 0,
             "ticks": ""
            },
            "type": "choropleth"
           }
          ],
          "contour": [
           {
            "colorbar": {
             "outlinewidth": 0,
             "ticks": ""
            },
            "colorscale": [
             [
              0,
              "#0d0887"
             ],
             [
              0.1111111111111111,
              "#46039f"
             ],
             [
              0.2222222222222222,
              "#7201a8"
             ],
             [
              0.3333333333333333,
              "#9c179e"
             ],
             [
              0.4444444444444444,
              "#bd3786"
             ],
             [
              0.5555555555555556,
              "#d8576b"
             ],
             [
              0.6666666666666666,
              "#ed7953"
             ],
             [
              0.7777777777777778,
              "#fb9f3a"
             ],
             [
              0.8888888888888888,
              "#fdca26"
             ],
             [
              1,
              "#f0f921"
             ]
            ],
            "type": "contour"
           }
          ],
          "contourcarpet": [
           {
            "colorbar": {
             "outlinewidth": 0,
             "ticks": ""
            },
            "type": "contourcarpet"
           }
          ],
          "heatmap": [
           {
            "colorbar": {
             "outlinewidth": 0,
             "ticks": ""
            },
            "colorscale": [
             [
              0,
              "#0d0887"
             ],
             [
              0.1111111111111111,
              "#46039f"
             ],
             [
              0.2222222222222222,
              "#7201a8"
             ],
             [
              0.3333333333333333,
              "#9c179e"
             ],
             [
              0.4444444444444444,
              "#bd3786"
             ],
             [
              0.5555555555555556,
              "#d8576b"
             ],
             [
              0.6666666666666666,
              "#ed7953"
             ],
             [
              0.7777777777777778,
              "#fb9f3a"
             ],
             [
              0.8888888888888888,
              "#fdca26"
             ],
             [
              1,
              "#f0f921"
             ]
            ],
            "type": "heatmap"
           }
          ],
          "heatmapgl": [
           {
            "colorbar": {
             "outlinewidth": 0,
             "ticks": ""
            },
            "colorscale": [
             [
              0,
              "#0d0887"
             ],
             [
              0.1111111111111111,
              "#46039f"
             ],
             [
              0.2222222222222222,
              "#7201a8"
             ],
             [
              0.3333333333333333,
              "#9c179e"
             ],
             [
              0.4444444444444444,
              "#bd3786"
             ],
             [
              0.5555555555555556,
              "#d8576b"
             ],
             [
              0.6666666666666666,
              "#ed7953"
             ],
             [
              0.7777777777777778,
              "#fb9f3a"
             ],
             [
              0.8888888888888888,
              "#fdca26"
             ],
             [
              1,
              "#f0f921"
             ]
            ],
            "type": "heatmapgl"
           }
          ],
          "histogram": [
           {
            "marker": {
             "pattern": {
              "fillmode": "overlay",
              "size": 10,
              "solidity": 0.2
             }
            },
            "type": "histogram"
           }
          ],
          "histogram2d": [
           {
            "colorbar": {
             "outlinewidth": 0,
             "ticks": ""
            },
            "colorscale": [
             [
              0,
              "#0d0887"
             ],
             [
              0.1111111111111111,
              "#46039f"
             ],
             [
              0.2222222222222222,
              "#7201a8"
             ],
             [
              0.3333333333333333,
              "#9c179e"
             ],
             [
              0.4444444444444444,
              "#bd3786"
             ],
             [
              0.5555555555555556,
              "#d8576b"
             ],
             [
              0.6666666666666666,
              "#ed7953"
             ],
             [
              0.7777777777777778,
              "#fb9f3a"
             ],
             [
              0.8888888888888888,
              "#fdca26"
             ],
             [
              1,
              "#f0f921"
             ]
            ],
            "type": "histogram2d"
           }
          ],
          "histogram2dcontour": [
           {
            "colorbar": {
             "outlinewidth": 0,
             "ticks": ""
            },
            "colorscale": [
             [
              0,
              "#0d0887"
             ],
             [
              0.1111111111111111,
              "#46039f"
             ],
             [
              0.2222222222222222,
              "#7201a8"
             ],
             [
              0.3333333333333333,
              "#9c179e"
             ],
             [
              0.4444444444444444,
              "#bd3786"
             ],
             [
              0.5555555555555556,
              "#d8576b"
             ],
             [
              0.6666666666666666,
              "#ed7953"
             ],
             [
              0.7777777777777778,
              "#fb9f3a"
             ],
             [
              0.8888888888888888,
              "#fdca26"
             ],
             [
              1,
              "#f0f921"
             ]
            ],
            "type": "histogram2dcontour"
           }
          ],
          "mesh3d": [
           {
            "colorbar": {
             "outlinewidth": 0,
             "ticks": ""
            },
            "type": "mesh3d"
           }
          ],
          "parcoords": [
           {
            "line": {
             "colorbar": {
              "outlinewidth": 0,
              "ticks": ""
             }
            },
            "type": "parcoords"
           }
          ],
          "pie": [
           {
            "automargin": true,
            "type": "pie"
           }
          ],
          "scatter": [
           {
            "fillpattern": {
             "fillmode": "overlay",
             "size": 10,
             "solidity": 0.2
            },
            "type": "scatter"
           }
          ],
          "scatter3d": [
           {
            "line": {
             "colorbar": {
              "outlinewidth": 0,
              "ticks": ""
             }
            },
            "marker": {
             "colorbar": {
              "outlinewidth": 0,
              "ticks": ""
             }
            },
            "type": "scatter3d"
           }
          ],
          "scattercarpet": [
           {
            "marker": {
             "colorbar": {
              "outlinewidth": 0,
              "ticks": ""
             }
            },
            "type": "scattercarpet"
           }
          ],
          "scattergeo": [
           {
            "marker": {
             "colorbar": {
              "outlinewidth": 0,
              "ticks": ""
             }
            },
            "type": "scattergeo"
           }
          ],
          "scattergl": [
           {
            "marker": {
             "colorbar": {
              "outlinewidth": 0,
              "ticks": ""
             }
            },
            "type": "scattergl"
           }
          ],
          "scattermapbox": [
           {
            "marker": {
             "colorbar": {
              "outlinewidth": 0,
              "ticks": ""
             }
            },
            "type": "scattermapbox"
           }
          ],
          "scatterpolar": [
           {
            "marker": {
             "colorbar": {
              "outlinewidth": 0,
              "ticks": ""
             }
            },
            "type": "scatterpolar"
           }
          ],
          "scatterpolargl": [
           {
            "marker": {
             "colorbar": {
              "outlinewidth": 0,
              "ticks": ""
             }
            },
            "type": "scatterpolargl"
           }
          ],
          "scatterternary": [
           {
            "marker": {
             "colorbar": {
              "outlinewidth": 0,
              "ticks": ""
             }
            },
            "type": "scatterternary"
           }
          ],
          "surface": [
           {
            "colorbar": {
             "outlinewidth": 0,
             "ticks": ""
            },
            "colorscale": [
             [
              0,
              "#0d0887"
             ],
             [
              0.1111111111111111,
              "#46039f"
             ],
             [
              0.2222222222222222,
              "#7201a8"
             ],
             [
              0.3333333333333333,
              "#9c179e"
             ],
             [
              0.4444444444444444,
              "#bd3786"
             ],
             [
              0.5555555555555556,
              "#d8576b"
             ],
             [
              0.6666666666666666,
              "#ed7953"
             ],
             [
              0.7777777777777778,
              "#fb9f3a"
             ],
             [
              0.8888888888888888,
              "#fdca26"
             ],
             [
              1,
              "#f0f921"
             ]
            ],
            "type": "surface"
           }
          ],
          "table": [
           {
            "cells": {
             "fill": {
              "color": "#EBF0F8"
             },
             "line": {
              "color": "white"
             }
            },
            "header": {
             "fill": {
              "color": "#C8D4E3"
             },
             "line": {
              "color": "white"
             }
            },
            "type": "table"
           }
          ]
         },
         "layout": {
          "annotationdefaults": {
           "arrowcolor": "#2a3f5f",
           "arrowhead": 0,
           "arrowwidth": 1
          },
          "autotypenumbers": "strict",
          "coloraxis": {
           "colorbar": {
            "outlinewidth": 0,
            "ticks": ""
           }
          },
          "colorscale": {
           "diverging": [
            [
             0,
             "#8e0152"
            ],
            [
             0.1,
             "#c51b7d"
            ],
            [
             0.2,
             "#de77ae"
            ],
            [
             0.3,
             "#f1b6da"
            ],
            [
             0.4,
             "#fde0ef"
            ],
            [
             0.5,
             "#f7f7f7"
            ],
            [
             0.6,
             "#e6f5d0"
            ],
            [
             0.7,
             "#b8e186"
            ],
            [
             0.8,
             "#7fbc41"
            ],
            [
             0.9,
             "#4d9221"
            ],
            [
             1,
             "#276419"
            ]
           ],
           "sequential": [
            [
             0,
             "#0d0887"
            ],
            [
             0.1111111111111111,
             "#46039f"
            ],
            [
             0.2222222222222222,
             "#7201a8"
            ],
            [
             0.3333333333333333,
             "#9c179e"
            ],
            [
             0.4444444444444444,
             "#bd3786"
            ],
            [
             0.5555555555555556,
             "#d8576b"
            ],
            [
             0.6666666666666666,
             "#ed7953"
            ],
            [
             0.7777777777777778,
             "#fb9f3a"
            ],
            [
             0.8888888888888888,
             "#fdca26"
            ],
            [
             1,
             "#f0f921"
            ]
           ],
           "sequentialminus": [
            [
             0,
             "#0d0887"
            ],
            [
             0.1111111111111111,
             "#46039f"
            ],
            [
             0.2222222222222222,
             "#7201a8"
            ],
            [
             0.3333333333333333,
             "#9c179e"
            ],
            [
             0.4444444444444444,
             "#bd3786"
            ],
            [
             0.5555555555555556,
             "#d8576b"
            ],
            [
             0.6666666666666666,
             "#ed7953"
            ],
            [
             0.7777777777777778,
             "#fb9f3a"
            ],
            [
             0.8888888888888888,
             "#fdca26"
            ],
            [
             1,
             "#f0f921"
            ]
           ]
          },
          "colorway": [
           "#636efa",
           "#EF553B",
           "#00cc96",
           "#ab63fa",
           "#FFA15A",
           "#19d3f3",
           "#FF6692",
           "#B6E880",
           "#FF97FF",
           "#FECB52"
          ],
          "font": {
           "color": "#2a3f5f"
          },
          "geo": {
           "bgcolor": "white",
           "lakecolor": "white",
           "landcolor": "#E5ECF6",
           "showlakes": true,
           "showland": true,
           "subunitcolor": "white"
          },
          "hoverlabel": {
           "align": "left"
          },
          "hovermode": "closest",
          "mapbox": {
           "style": "light"
          },
          "paper_bgcolor": "white",
          "plot_bgcolor": "#E5ECF6",
          "polar": {
           "angularaxis": {
            "gridcolor": "white",
            "linecolor": "white",
            "ticks": ""
           },
           "bgcolor": "#E5ECF6",
           "radialaxis": {
            "gridcolor": "white",
            "linecolor": "white",
            "ticks": ""
           }
          },
          "scene": {
           "xaxis": {
            "backgroundcolor": "#E5ECF6",
            "gridcolor": "white",
            "gridwidth": 2,
            "linecolor": "white",
            "showbackground": true,
            "ticks": "",
            "zerolinecolor": "white"
           },
           "yaxis": {
            "backgroundcolor": "#E5ECF6",
            "gridcolor": "white",
            "gridwidth": 2,
            "linecolor": "white",
            "showbackground": true,
            "ticks": "",
            "zerolinecolor": "white"
           },
           "zaxis": {
            "backgroundcolor": "#E5ECF6",
            "gridcolor": "white",
            "gridwidth": 2,
            "linecolor": "white",
            "showbackground": true,
            "ticks": "",
            "zerolinecolor": "white"
           }
          },
          "shapedefaults": {
           "line": {
            "color": "#2a3f5f"
           }
          },
          "ternary": {
           "aaxis": {
            "gridcolor": "white",
            "linecolor": "white",
            "ticks": ""
           },
           "baxis": {
            "gridcolor": "white",
            "linecolor": "white",
            "ticks": ""
           },
           "bgcolor": "#E5ECF6",
           "caxis": {
            "gridcolor": "white",
            "linecolor": "white",
            "ticks": ""
           }
          },
          "title": {
           "x": 0.05
          },
          "xaxis": {
           "automargin": true,
           "gridcolor": "white",
           "linecolor": "white",
           "ticks": "",
           "title": {
            "standoff": 15
           },
           "zerolinecolor": "white",
           "zerolinewidth": 2
          },
          "yaxis": {
           "automargin": true,
           "gridcolor": "white",
           "linecolor": "white",
           "ticks": "",
           "title": {
            "standoff": 15
           },
           "zerolinecolor": "white",
           "zerolinewidth": 2
          }
         }
        },
        "width": 650,
        "xaxis": {
         "anchor": "y",
         "domain": [
          0,
          1
         ],
         "title": {
          "text": "Объем выборки"
         }
        },
        "yaxis": {
         "anchor": "x",
         "domain": [
          0,
          1
         ],
         "title": {
          "text": "Вероятность отклонения"
         }
        }
       }
      }
     },
     "metadata": {},
     "output_type": "display_data"
    }
   ],
   "source": [
    "fig = px.box(box_uniform.melt(), x='variable', y='value',\n",
    "       labels={\n",
    "           'variable': 'Объем выборки',\n",
    "           'value': 'Вероятность отклонения'\n",
    "       },\n",
    "       points='all',\n",
    "       width=650)\n",
    "fig.update_layout(margin=dict(l=70, r=15, b=10, t=10), \n",
    "                  boxgap=0.5)\n",
    "fig.show()"
   ]
  },
  {
   "cell_type": "markdown",
   "metadata": {
    "collapsed": false
   },
   "source": [
    "Нетрудно заметить, что в данном случае медианы значения вероятностей отличаются друг от друга сильнее, чем в случае точного ДИ, причем при размере выборки $10000$ медиана ближе к ожидаемому значению в $95$ процентов, что доказывает зависимость точности асимптотического ДИ от размера выборки"
   ]
  }
 ],
 "metadata": {
  "kernelspec": {
   "display_name": "Python 3 (ipykernel)",
   "language": "python",
   "name": "python3"
  },
  "language_info": {
   "codemirror_mode": {
    "name": "ipython",
    "version": 3
   },
   "file_extension": ".py",
   "mimetype": "text/x-python",
   "name": "python",
   "nbconvert_exporter": "python",
   "pygments_lexer": "ipython3",
   "version": "3.11.3"
  }
 },
 "nbformat": 4,
 "nbformat_minor": 1
}
